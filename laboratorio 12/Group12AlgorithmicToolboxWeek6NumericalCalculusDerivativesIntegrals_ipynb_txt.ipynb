{
  "nbformat": 4,
  "nbformat_minor": 0,
  "metadata": {
    "kernelspec": {
      "display_name": "Python 3",
      "language": "python",
      "name": "python3"
    },
    "language_info": {
      "codemirror_mode": {
        "name": "ipython",
        "version": 3
      },
      "file_extension": ".py",
      "mimetype": "text/x-python",
      "name": "python",
      "nbconvert_exporter": "python",
      "pygments_lexer": "ipython3",
      "version": "3.5.2"
    },
    "colab": {
      "name": "Group12AlgorithmicToolboxWeek6NumericalCalculusDerivativesIntegrals.ipynb.txt",
      "provenance": [],
      "collapsed_sections": []
    }
  },
  "cells": [
    {
      "cell_type": "markdown",
      "metadata": {
        "id": "FGWNZNLZnDH4"
      },
      "source": [
        "# ***Part I. One-sided finite differences***"
      ]
    },
    {
      "cell_type": "markdown",
      "metadata": {
        "id": "4acS7bdQnDH7"
      },
      "source": [
        "Write a function, `deriv`, which computes a derivative of its argument at a given point, $x$, using a one-sided finite difference rule with a given step side $h$, with the approximation order of $O(h^2)$. "
      ]
    },
    {
      "cell_type": "code",
      "metadata": {
        "collapsed": true,
        "id": "9wcI0HD9nDH8"
      },
      "source": [
        "#Python 3\n",
        "\n",
        "import numpy as np \n",
        "import math \n",
        "import matplotlib.pyplot as plt \n",
        "\n",
        "%matplotlib inline \n",
        "\n",
        "#Compute a derivative of `f` at point `x` with step size `h`.\n",
        "    \n",
        "   #Compute the derivative using the one-sided rule of the approximation order of $O(h^2)$.\n",
        "    \n",
        "    #Parameters\n",
        "    #----------\n",
        "    #f : callable\n",
        "        #The function to differentiate\n",
        "    #x : float\n",
        "        #The point to compute the derivative at.\n",
        "    #h : float\n",
        "        #The step size for the finite different rule.\n",
        "        \n",
        "    #Returns\n",
        "    #-------\n",
        "    #fder : derivative of f(x) at point x using the step size h.\n",
        "\n",
        "def deriv(f, x, h):\n",
        "\n",
        "  dev_1 = (f(x + 0.5 * h) - f(x)) / (0.5 * h)\n",
        "  dev_2 = (f(x + h) - f(x)) / h\n",
        "    \n",
        "  return 2 * dev_1 - dev_2\n",
        "\n"
      ],
      "execution_count": 3,
      "outputs": []
    },
    {
      "cell_type": "markdown",
      "metadata": {
        "id": "6_NXMM6DnDH9"
      },
      "source": [
        "#### Test I.1\n",
        "\n",
        "Test your function on a simple test case: differentiate $f(x) = x^3$ at $x=0$. Comment on whether your results are consistent with the expected value of $f'(x) = 0$ and on an expected scaling with $h\\to 0$.\n",
        "\n",
        " (10% of the total grade)"
      ]
    },
    {
      "cell_type": "code",
      "metadata": {
        "colab": {
          "base_uri": "https://localhost:8080/"
        },
        "id": "7Xb__WzsnDH9",
        "outputId": "7c457fb8-fe4a-4ea6-fa91-9619c711c991"
      },
      "source": [
        "x = 1\n",
        "for h in [1e-2, 1e-3, 1e-4, 1e-5]:\n",
        "    err = deriv(lambda x: x**3, x, h)\n",
        "    print(\"%5f -- %7.4g\" % (h, err))"
      ],
      "execution_count": 4,
      "outputs": [
        {
          "output_type": "stream",
          "name": "stdout",
          "text": [
            "0.010000 --       3\n",
            "0.001000 --       3\n",
            "0.000100 --       3\n",
            "0.000010 --       3\n"
          ]
        }
      ]
    },
    {
      "cell_type": "markdown",
      "metadata": {
        "id": "skvWMphCnDH-"
      },
      "source": [
        "This just follows rule accordingly, h is near 0 as it got smaller each time."
      ]
    },
    {
      "cell_type": "markdown",
      "metadata": {
        "id": "ZVoxJEDOnDH-"
      },
      "source": [
        "### Test I.2\n",
        "\n",
        "Now use a slightly more complicated function, $f(x) = x^2 \\log{x}$, evaluate the derivative at $x=1$ using your one-sided rule and a two-point one-sided rule. Roughly estimate the value of $h$ where the error stops decreasing, for these two schemes. \n",
        "(15% of the total grade)"
      ]
    },
    {
      "cell_type": "code",
      "metadata": {
        "collapsed": true,
        "id": "q1RZ8_9rnDH_"
      },
      "source": [
        "from math import log\n",
        "\n",
        "def f(x):\n",
        "    return x**2 * log(x)\n",
        "    \n",
        "def fder(x):\n",
        "    return x * (2.*log(x) + 1)"
      ],
      "execution_count": null,
      "outputs": []
    },
    {
      "cell_type": "code",
      "metadata": {
        "colab": {
          "base_uri": "https://localhost:8080/",
          "height": 283
        },
        "id": "77Ax5cIZnDH_",
        "outputId": "7baa4b9e-f6dc-46d0-92a6-b71e9abb04da"
      },
      "source": [
        "def two_point_deriv(f, x, h): \n",
        "    f_plus = f(x + h)\n",
        "    f0 = f(x)\n",
        "    \n",
        "    return (f_plus - f0) / h\n",
        "\n",
        "x = 1\n",
        "point_1, point_2 = [], [] \n",
        "for h in [1e-2, 1e-3, 1e-4, 1e-5, 1e-6, 1e-7, 1e-8, 1e-9, 1e-10]:\n",
        "    point_2.append(two_point_deriv(f, x, h))\n",
        "    point_1.append(deriv(f, x, h))\n",
        "    \n",
        "\n",
        "nb = len(point_1)\n",
        "plt.plot(np.arange(nb), np.array(point_1), 'o-', label='one-side')\n",
        "plt.plot(np.arange(nb), np.array(point_2), 'x--', label='two-side')\n",
        "plt.legend()    "
      ],
      "execution_count": null,
      "outputs": [
        {
          "output_type": "execute_result",
          "data": {
            "text/plain": [
              "<matplotlib.legend.Legend at 0x7f17dafa4410>"
            ]
          },
          "metadata": {},
          "execution_count": 6
        },
        {
          "output_type": "display_data",
          "data": {
            "image/png": "[encoded data removed]",
            "text/plain": [
              "<Figure size 432x288 with 1 Axes>"
            ]
          },
          "metadata": {
            "needs_background": "light"
          }
        }
      ]
    },
    {
      "cell_type": "markdown",
      "metadata": {
        "id": "0paw4mTJnDIA"
      },
      "source": [
        "### Test I.3 \n",
        "\n",
        "Now try differentiating $x^2 \\log(x)$ at $x=0$. Use the three-point one-sided rule. Note that to evaluate the function at zero, you need to special-case this value. Check the scaling of the error with $h$, explain your results. \n",
        "(25% of the total grade)"
      ]
    },
    {
      "cell_type": "code",
      "metadata": {
        "colab": {
          "base_uri": "https://localhost:8080/"
        },
        "id": "Td3bFsYCnDIA",
        "outputId": "4d3be606-9d30-49c0-aeec-041f6dbda752"
      },
      "source": [
        "def f(x):\n",
        "    if x == 0:\n",
        "        # the limit of $x^2 log(x)$ at $x-> 0$ is zero, even though log(x) is undefined at x=0\n",
        "        return 0.0\n",
        "    else:\n",
        "        return x**2 * log(x)\n",
        "    \n",
        "def fder(x):\n",
        "    if x == 0:\n",
        "        return 0.0\n",
        "    else:\n",
        "        return x*(2*log(x) + 1)\n",
        "\n",
        "x = 0\n",
        "for h in [1e-2, 1e-3, 1e-4, 1e-5]:\n",
        "    err = deriv(f, x, h) - fder(x)\n",
        "    print(\"%5f -- %7.4g\" % (h, err))"
      ],
      "execution_count": null,
      "outputs": [
        {
          "output_type": "stream",
          "name": "stdout",
          "text": [
            "0.010000 -- -0.006931\n",
            "0.001000 -- -0.0006931\n",
            "0.000100 -- -6.931e-05\n",
            "0.000010 -- -6.931e-06\n"
          ]
        }
      ]
    },
    {
      "cell_type": "markdown",
      "metadata": {
        "id": "ulS84cnInDIB"
      },
      "source": [
        "We must realize errors will converge when h is approaching (or near to) 0. This is because the derivative of f is $(2 * log(x) + 1) * x$\n",
        "\n",
        "The derivative term will dominated by x. "
      ]
    },
    {
      "cell_type": "markdown",
      "metadata": {
        "id": "wTXnnImMnDIC"
      },
      "source": [
        "# ***Part II. Midpoint rule***"
      ]
    },
    {
      "cell_type": "markdown",
      "metadata": {
        "id": "7ElEbYrcnDIC"
      },
      "source": [
        "Write a function which computes a definite integral using the midpoint rule up to a given error, $\\epsilon$. Estimate the error by comparing the estimates of the integral at $N$ and $2N$ elementary intervals. "
      ]
    },
    {
      "cell_type": "code",
      "metadata": {
        "collapsed": true,
        "id": "0VtipxS1nDIC"
      },
      "source": [
        "#Python 3\n",
        "\n",
        "from scipy.integrate import quad \n",
        "\n",
        "#Calculate the integral of f from a to b using the midpoint rule.\n",
        "    \n",
        "    #Parameters\n",
        "    #----------\n",
        "    #func : callable\n",
        "        #The function to integrate.\n",
        "    #a : float\n",
        "        #The lower limit of integration.\n",
        "    #b : float\n",
        "        #The upper limit of integration.\n",
        "    #eps : float\n",
        "        #The target accuracy of the estimate.\n",
        "        \n",
        "    #Returns\n",
        "    #-------\n",
        "    #integral : float\n",
        "        #The estimate of $\\int_a^b f(x) dx$.\n",
        "\n",
        "def midpoint_rule(func, a, b, eps):\n",
        "  \n",
        "    N, pre, err = 10, 10, 10\n",
        "    \n",
        "    while err > eps: \n",
        "        h = (b - a) / N \n",
        "        res = 0\n",
        "        \n",
        "        for i in range(N - 1): \n",
        "            res += func(a + i * h + h / 2) * h\n",
        "            \n",
        "        err = abs(pre - res)\n",
        "        pre = res\n",
        "        \n",
        "        N *= 2 \n",
        "        \n",
        "    return res "
      ],
      "execution_count": 6,
      "outputs": []
    },
    {
      "cell_type": "markdown",
      "metadata": {
        "id": "oCkQBwzjnDIC"
      },
      "source": [
        "### Test II.1\n",
        "\n",
        "Test your midpoint rule on a simple integral, which you can calculate by paper and pencil.\n",
        "\n",
        "Compare the rate of convergence to the expected $O(N^{-2})$ scaling by studying the number of intervals required for a given accuracy $\\epsilon$.\n",
        "\n",
        "Compare the numerical results to the value you calculated by hand. Does the deviation agree with your estimate of the numerical error?\n",
        "(20% of the total grade)\n"
      ]
    },
    {
      "cell_type": "code",
      "metadata": {
        "colab": {
          "base_uri": "https://localhost:8080/"
        },
        "id": "Yu4b6QdEyU29",
        "outputId": "a68c2854-463c-4900-c0f7-d77914a0d6a3"
      },
      "source": [
        "# Paper and Pencil Solution \n",
        "\n",
        "f = lambda x: x**4\n",
        "a, b = 0, 1\n",
        "result = quad(f, a, b)[0]\n",
        "print(result)"
      ],
      "execution_count": 7,
      "outputs": [
        {
          "output_type": "stream",
          "name": "stdout",
          "text": [
            "0.2\n"
          ]
        }
      ]
    },
    {
      "cell_type": "code",
      "metadata": {
        "colab": {
          "base_uri": "https://localhost:8080/"
        },
        "id": "WNrKVHdKyiL9",
        "outputId": "1193e5e1-5348-4509-83cd-e3fe8574ffa0"
      },
      "source": [
        "# Contructed Solution\n",
        "\n",
        "EPS = [1e-2, 1e-3, 1e-4, 1e-5, 1e-6]\n",
        "\n",
        "for eps in EPS: \n",
        "    result_app = midpoint_rule(f, a, b, eps)\n",
        "    print(result_app, '\\t', result_app - result)"
      ],
      "execution_count": null,
      "outputs": [
        {
          "output_type": "stream",
          "name": "stdout",
          "text": [
            "0.24380352802276622 \t -0.006196471977233775\n",
            "0.24921958887581702 \t -0.0007804111241829781\n",
            "0.24990235686232348 \t -9.764313767651744e-05\n",
            "0.24999389653559848 \t -6.103464401524539e-06\n",
            "0.24999923706134533 \t -7.62938654669254e-07\n"
          ]
        }
      ]
    },
    {
      "cell_type": "markdown",
      "metadata": {
        "id": "auhl_OR4nDID"
      },
      "source": [
        "### Test II.2\n",
        "\n",
        "Now use your midpoint rule to compute the value of\n",
        "\n",
        "$$\n",
        "\\int_0^1\\! \\frac{\\sin{\\sqrt{x}}}{x}\\, dx\n",
        "$$\n",
        "\n",
        "up to a predefined accuracy of $\\epsilon=10^{-4}$.\n",
        "\n",
        "Note that the integral contains an integrable singularity at the lower limit. Do calculations two ways: first, do a straightforward computation; next, subtract the singularity. Compare the number of iterations required to achieve the accuracy of $\\epsilon$.\n",
        "\n",
        "(30% of the total grade)"
      ]
    },
    {
      "cell_type": "code",
      "metadata": {
        "colab": {
          "base_uri": "https://localhost:8080/"
        },
        "id": "94XKVWqKnDID",
        "outputId": "c6f4c904-8d4a-45a3-b51e-7abd45d18767"
      },
      "source": [
        "# Pencil and Paper Solution\n",
        "\n",
        "f = lambda x: math.sin(math.sqrt(x)) / x \n",
        "f_modify = lambda x: f(x) - 1 / math.sqrt(x)\n",
        "result = quad(f, a, b)[0]\n",
        "print(result)"
      ],
      "execution_count": 9,
      "outputs": [
        {
          "output_type": "stream",
          "name": "stdout",
          "text": [
            "1.8921661407343815\n"
          ]
        }
      ]
    },
    {
      "cell_type": "code",
      "metadata": {
        "colab": {
          "base_uri": "https://localhost:8080/",
          "height": 356
        },
        "id": "25iPgTFunDID",
        "outputId": "f438103b-4cf7-4b4b-f3e2-8be785345f09"
      },
      "source": [
        "# Contructed Solution\n",
        "\n",
        "eps = 1e-5\n",
        "result_app = midpoint_rule(f, a, b, eps)\n",
        "\n",
        "print(result_app, '\\t', result_app - result)"
      ],
      "execution_count": 10,
      "outputs": [
        {
          "output_type": "error",
          "ename": "KeyboardInterrupt",
          "evalue": "ignored",
          "traceback": [
            "\u001b[0;31m---------------------------------------------------------------------------\u001b[0m",
            "\u001b[0;31mKeyboardInterrupt\u001b[0m                         Traceback (most recent call last)",
            "\u001b[0;32m<ipython-input-10-c734949bdda7>\u001b[0m in \u001b[0;36m<module>\u001b[0;34m()\u001b[0m\n\u001b[1;32m      2\u001b[0m \u001b[0;34m\u001b[0m\u001b[0m\n\u001b[1;32m      3\u001b[0m \u001b[0meps\u001b[0m \u001b[0;34m=\u001b[0m \u001b[0;36m1e-5\u001b[0m\u001b[0;34m\u001b[0m\u001b[0;34m\u001b[0m\u001b[0m\n\u001b[0;32m----> 4\u001b[0;31m \u001b[0mresult_app\u001b[0m \u001b[0;34m=\u001b[0m \u001b[0mmidpoint_rule\u001b[0m\u001b[0;34m(\u001b[0m\u001b[0mf\u001b[0m\u001b[0;34m,\u001b[0m \u001b[0ma\u001b[0m\u001b[0;34m,\u001b[0m \u001b[0mb\u001b[0m\u001b[0;34m,\u001b[0m \u001b[0meps\u001b[0m\u001b[0;34m)\u001b[0m\u001b[0;34m\u001b[0m\u001b[0;34m\u001b[0m\u001b[0m\n\u001b[0m\u001b[1;32m      5\u001b[0m \u001b[0;34m\u001b[0m\u001b[0m\n\u001b[1;32m      6\u001b[0m \u001b[0mprint\u001b[0m\u001b[0;34m(\u001b[0m\u001b[0mresult_app\u001b[0m\u001b[0;34m,\u001b[0m \u001b[0;34m'\\t'\u001b[0m\u001b[0;34m,\u001b[0m \u001b[0mresult_app\u001b[0m \u001b[0;34m-\u001b[0m \u001b[0mresult\u001b[0m\u001b[0;34m)\u001b[0m\u001b[0;34m\u001b[0m\u001b[0;34m\u001b[0m\u001b[0m\n",
            "\u001b[0;32m<ipython-input-6-11736bb2592b>\u001b[0m in \u001b[0;36mmidpoint_rule\u001b[0;34m(func, a, b, eps)\u001b[0m\n\u001b[1;32m     30\u001b[0m \u001b[0;34m\u001b[0m\u001b[0m\n\u001b[1;32m     31\u001b[0m         \u001b[0;32mfor\u001b[0m \u001b[0mi\u001b[0m \u001b[0;32min\u001b[0m \u001b[0mrange\u001b[0m\u001b[0;34m(\u001b[0m\u001b[0mN\u001b[0m \u001b[0;34m-\u001b[0m \u001b[0;36m1\u001b[0m\u001b[0;34m)\u001b[0m\u001b[0;34m:\u001b[0m\u001b[0;34m\u001b[0m\u001b[0;34m\u001b[0m\u001b[0m\n\u001b[0;32m---> 32\u001b[0;31m             \u001b[0mres\u001b[0m \u001b[0;34m+=\u001b[0m \u001b[0mfunc\u001b[0m\u001b[0;34m(\u001b[0m\u001b[0ma\u001b[0m \u001b[0;34m+\u001b[0m \u001b[0mi\u001b[0m \u001b[0;34m*\u001b[0m \u001b[0mh\u001b[0m \u001b[0;34m+\u001b[0m \u001b[0mh\u001b[0m \u001b[0;34m/\u001b[0m \u001b[0;36m2\u001b[0m\u001b[0;34m)\u001b[0m \u001b[0;34m*\u001b[0m \u001b[0mh\u001b[0m\u001b[0;34m\u001b[0m\u001b[0;34m\u001b[0m\u001b[0m\n\u001b[0m\u001b[1;32m     33\u001b[0m \u001b[0;34m\u001b[0m\u001b[0m\n\u001b[1;32m     34\u001b[0m         \u001b[0merr\u001b[0m \u001b[0;34m=\u001b[0m \u001b[0mabs\u001b[0m\u001b[0;34m(\u001b[0m\u001b[0mpre\u001b[0m \u001b[0;34m-\u001b[0m \u001b[0mres\u001b[0m\u001b[0;34m)\u001b[0m\u001b[0;34m\u001b[0m\u001b[0;34m\u001b[0m\u001b[0m\n",
            "\u001b[0;31mKeyboardInterrupt\u001b[0m: "
          ]
        }
      ]
    },
    {
      "cell_type": "code",
      "metadata": {
        "colab": {
          "base_uri": "https://localhost:8080/"
        },
        "id": "pxjtm1CIzz91",
        "outputId": "f5d937b0-17a9-4e3e-b979-50404a031fe9"
      },
      "source": [
        "# Constructed Mid-Solution\n",
        "\n",
        "result_mdy = midpoint_rule(f_modify, a, b, eps) + 2\n",
        "\n",
        "print(result_mdy, '\\t', result_mdy - result)"
      ],
      "execution_count": null,
      "outputs": [
        {
          "output_type": "stream",
          "name": "stdout",
          "text": [
            "1.8922279827958923 \t 6.18420615108306e-05\n"
          ]
        }
      ]
    }
  ]
}