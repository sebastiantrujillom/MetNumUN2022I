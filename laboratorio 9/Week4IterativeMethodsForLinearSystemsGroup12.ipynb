{
  "nbformat": 4,
  "nbformat_minor": 0,
  "metadata": {
    "kernelspec": {
      "display_name": "Python 3",
      "language": "python",
      "name": "python3"
    },
    "language_info": {
      "codemirror_mode": {
        "name": "ipython",
        "version": 3
      },
      "file_extension": ".py",
      "mimetype": "text/x-python",
      "name": "python",
      "nbconvert_exporter": "python",
      "pygments_lexer": "ipython3",
      "version": "3.5.2"
    },
    "colab": {
      "name": "Week4IterativeMethodsForLinearSystemsGroup12.ipynb",
      "provenance": [],
      "collapsed_sections": []
    }
  },
  "cells": [
    {
      "cell_type": "markdown",
      "metadata": {
        "id": "4CjefsnpR1gR"
      },
      "source": [
        "# ***Simple iteration for systems of linear equations***"
      ]
    },
    {
      "cell_type": "markdown",
      "metadata": {
        "id": "UsfZUZNrR1gU"
      },
      "source": [
        "First, generate a random diagonally dominant matrix, for testing."
      ]
    },
    {
      "cell_type": "code",
      "metadata": {
        "collapsed": true,
        "id": "MLRG28reR1gU"
      },
      "source": [
        "import numpy as np\n",
        "rndm = np.random.RandomState(1234)\n",
        "\n",
        "n = 10\n",
        "A = rndm.uniform(size=(n, n)) + np.diagflat([15]*n)\n",
        "b = rndm.uniform(size=n)"
      ],
      "execution_count": null,
      "outputs": []
    },
    {
      "cell_type": "markdown",
      "metadata": {
        "id": "cx5AVT-WR1gV"
      },
      "source": [
        "# I.  Jacobi iteration\n",
        "\n",
        "Given\n",
        "\n",
        "$$\n",
        "A x = b\n",
        "$$\n",
        "\n",
        "separate the diagonal part $D$,\n",
        "\n",
        "$$ A = D + (A - D) $$\n",
        "\n",
        "and write\n",
        "\n",
        "$$\n",
        "x = D^{-1} (D - A) x + D^{-1} b\\;.\n",
        "$$\n",
        "\n",
        "Then iterate\n",
        "\n",
        "$$\n",
        "x_{n + 1} = B x_{n} + c\\;,\n",
        "$$\n",
        "\n",
        "where \n",
        "\n",
        "$$\n",
        "B = D^{-1} (A - D) \\qquad \\text{and} \\qquad c = D^{-1} b\n",
        "$$\n"
      ]
    },
    {
      "cell_type": "markdown",
      "metadata": {
        "id": "CVKrrtJjR1gW"
      },
      "source": [
        "Let's construct the matrix and the r.h.s. for the Jacobi iteration"
      ]
    },
    {
      "cell_type": "code",
      "metadata": {
        "id": "vtEmstsWR1gW"
      },
      "source": [
        "diag_1d = np.diag(A)\n",
        "\n",
        "B = -A.copy()\n",
        "np.fill_diagonal(B, 0)\n",
        "\n",
        "D = np.diag(diag_1d)\n",
        "invD = np.diag(1./diag_1d)\n",
        "BB = invD @ B \n",
        "c = invD @ b"
      ],
      "execution_count": null,
      "outputs": []
    },
    {
      "cell_type": "code",
      "metadata": {
        "id": "qBcxsz41R1gX"
      },
      "source": [
        "# sanity checks\n",
        "from numpy.testing import assert_allclose\n",
        "\n",
        "assert_allclose(-B + D, A)\n",
        "\n",
        "\n",
        "# xx is a \"ground truth\" solution, compute it using a direct method\n",
        "xx = np.linalg.solve(A, b)\n",
        "\n",
        "np.testing.assert_allclose(A@xx, b)\n",
        "np.testing.assert_allclose(D@xx, B@xx + b)\n",
        "np.testing.assert_allclose(xx, BB@xx + c)"
      ],
      "execution_count": null,
      "outputs": []
    },
    {
      "cell_type": "markdown",
      "metadata": {
        "id": "Byqtpv75R1gX"
      },
      "source": [
        "Check that $\\| B\\| \\leqslant 1$:"
      ]
    },
    {
      "cell_type": "code",
      "metadata": {
        "colab": {
          "base_uri": "https://localhost:8080/"
        },
        "id": "2_NjB6znR1gY",
        "outputId": "b0aaef4f-fdc8-4d21-ce19-e076281dbbbc"
      },
      "source": [
        "np.linalg.norm(BB)"
      ],
      "execution_count": null,
      "outputs": [
        {
          "output_type": "execute_result",
          "data": {
            "text/plain": [
              "0.36436161983015336"
            ]
          },
          "metadata": {},
          "execution_count": 4
        }
      ]
    },
    {
      "cell_type": "markdown",
      "metadata": {
        "id": "LlNwOiPDR1gZ"
      },
      "source": [
        "### Do the Jacobi iteration"
      ]
    },
    {
      "cell_type": "code",
      "metadata": {
        "collapsed": true,
        "id": "G579KjcoR1ga"
      },
      "source": [
        "n_iter = 50\n",
        "\n",
        "x0 = np.ones(n)\n",
        "x = x0\n",
        "for _ in range(n_iter):\n",
        "    x = BB @ x + c"
      ],
      "execution_count": null,
      "outputs": []
    },
    {
      "cell_type": "code",
      "metadata": {
        "colab": {
          "base_uri": "https://localhost:8080/"
        },
        "id": "CIPPl4NCR1ga",
        "outputId": "6b075f91-9bc6-42cd-eb9a-7128fd04ea77"
      },
      "source": [
        "# Check the result:\n",
        "\n",
        "A @ x - b"
      ],
      "execution_count": null,
      "outputs": [
        {
          "output_type": "execute_result",
          "data": {
            "text/plain": [
              "array([ 1.11022302e-16,  0.00000000e+00, -2.22044605e-16, -1.11022302e-16,\n",
              "        1.11022302e-16,  0.00000000e+00, -2.42861287e-17,  0.00000000e+00,\n",
              "       -2.77555756e-17,  1.11022302e-16])"
            ]
          },
          "metadata": {},
          "execution_count": 6
        }
      ]
    },
    {
      "cell_type": "markdown",
      "metadata": {
        "id": "l98B-WX4R1gb"
      },
      "source": [
        "### Task I.1\n",
        "\n",
        "Collect the proof-of-concept above into a single function implementing the Jacobi iteration. This function should receive the r.h.s. matrix $A$, the l.h.s. vector `b`, and the number of iterations to perform.\n",
        "\n",
        "\n",
        "The matrix $A$ in the illustration above is strongly diagonally dominant, by construction. \n",
        "What happens if the diagonal matrix elements of $A$ are made smaller? Check the convergence of the Jacobi iteration, and check the value of the norm of $B$.\n",
        "\n",
        "(20% of the total grade)\n"
      ]
    },
    {
      "cell_type": "code",
      "metadata": {
        "collapsed": true,
        "id": "0kDretMZR1gb"
      },
      "source": [
        "#Python 3\n",
        "\n",
        "#Based on the works done in Week 3\n",
        "\n",
        "def J_iter(A, b, eps=1e-12, maxiter=50): \n",
        "    \n",
        "    #Separate the diagonal part\n",
        "    first_diag = np.diag(A) \n",
        "    \n",
        "    B = -A.copy() #Rewrite the matrix\n",
        "\n",
        "    np.fill_diagonal(B, 0) # to iterate we need the diagonal we just got.\n",
        "    invD = np.diag(1.0 / first_diag)\n",
        "    \n",
        "    BB = invD @ B #got the inverse\n",
        "    c = invD @ b \n",
        "    \n",
        "    zero_x = np.ones(n) #then we iterate\n",
        "    for i in range(maxiter): \n",
        "        x = BB @ zero_x + c \n",
        "        \n",
        "        if np.linalg.norm(zero_x - x) < eps: \n",
        "            break\n",
        "        \n",
        "        zero_x = x\n",
        "    \n",
        "    return x "
      ],
      "execution_count": null,
      "outputs": []
    },
    {
      "cell_type": "markdown",
      "metadata": {
        "id": "KvTmG6oOT_gr"
      },
      "source": [
        "Tests performed *(making use of the allclose NumPy function)*."
      ]
    },
    {
      "cell_type": "code",
      "metadata": {
        "id": "YfhpMXt-UJNL"
      },
      "source": [
        "x = J_iter(A, b)\n",
        "\n",
        "np.testing.assert_allclose(A @ xx, b)\n",
        "np.testing.assert_allclose(xx, x)"
      ],
      "execution_count": null,
      "outputs": []
    },
    {
      "cell_type": "markdown",
      "metadata": {
        "id": "crqPU-s0UVMb"
      },
      "source": [
        "Now we define a norm function, to check the convergence."
      ]
    },
    {
      "cell_type": "code",
      "metadata": {
        "id": "0Tgln-qzUatj"
      },
      "source": [
        "#Python 3\n",
        "\n",
        "def norm(A):\n",
        "\n",
        "    #Procedure displayed separately from Jacobi Function \n",
        "    diag_1d = np.diag(A)\n",
        "    \n",
        "    B = -A.copy()\n",
        "    np.fill_diagonal(B, 0)\n",
        "    invD = np.diag(1.0 / diag_1d)\n",
        "    \n",
        "    BB = invD @ B\n",
        "\n",
        "    Norm = np.linalg.norm(BB)\n",
        "    \n",
        "    return Norm"
      ],
      "execution_count": null,
      "outputs": []
    },
    {
      "cell_type": "code",
      "metadata": {
        "colab": {
          "base_uri": "https://localhost:8080/"
        },
        "id": "ZiJV1YLdUpBq",
        "outputId": "0db835e3-d420-4f1b-e622-ad3c18323e3f"
      },
      "source": [
        "# Comparison item vs. item per matrix\n",
        "\n",
        "for k in range(25): \n",
        "    A1 = A + np.diagflat([-k] * n)\n",
        "    B_norm = norm(A1)\n",
        "    x = J_iter(A1, b)\n",
        "    \n",
        "    xx = np.linalg.solve(A1, b)\n",
        "    dist = np.linalg.norm(x - xx)\n",
        "    \n",
        "    print(A1[0, 0], '\\t', B_norm, '\\t', dist)"
      ],
      "execution_count": null,
      "outputs": [
        {
          "output_type": "stream",
          "name": "stdout",
          "text": [
            "15.191519450378893 \t 0.36436161983015336 \t 8.016888858755822e-14\n",
            "14.191519450378893 \t 0.38959181027260875 \t 1.4606182072244602e-13\n",
            "13.191519450378893 \t 0.4185783948614869 \t 1.1984374732656778e-13\n",
            "12.191519450378893 \t 0.4522284025473819 \t 1.555049063248564e-13\n",
            "11.191519450378893 \t 0.4917667095178099 \t 1.376077494702953e-13\n",
            "10.191519450378893 \t 0.5388887887486234 \t 2.6702804830291413e-13\n",
            "9.191519450378893 \t 0.5960110344093966 \t 3.1111985906662684e-13\n",
            "8.191519450378893 \t 0.6667001660296402 \t 2.7708368486989536e-13\n",
            "7.191519450378893 \t 0.7564517359241753 \t 1.4990528448342257e-10\n",
            "6.191519450378893 \t 0.8742017351588476 \t 2.016159609243833e-07\n",
            "5.191519450378893 \t 1.0355299928250665 \t 0.0009191717405677776\n",
            "4.191519450378893 \t 1.2702850939751231 \t 23.48163367953915\n",
            "3.191519450378893 \t 1.6439565658213244 \t 8260242.793633645\n",
            "2.191519450378893 \t 2.334809111760855 \t 261149802433164.72\n",
            "1.1915194503788928 \t 4.080768845910033 \t 1.3716691464130682e+26\n",
            "0.19151945037889284 \t 30.715327603064885 \t 1.739863582849129e+61\n",
            "-0.8084805496211072 \t 25.668433387443834 \t 7.8814393778775e+55\n",
            "-1.8084805496211072 \t 3.8385533278362765 \t 1.1479079818548213e+25\n",
            "-2.808480549621107 \t 2.2533561772001827 \t 52372118749887.11\n",
            "-3.808480549621107 \t 1.6031859449057577 \t 1627830.5633059118\n",
            "-4.808480549621107 \t 1.24581575811634 \t 46.23368617546271\n",
            "-5.808480549621107 \t 1.019215329207032 \t 0.0008730836032709709\n",
            "-6.808480549621107 \t 0.8625478003698426 \t 1.6544090716892408e-07\n",
            "-7.808480549621107 \t 0.7477110355740726 \t 1.2057561294592985e-10\n",
            "-8.808480549621107 \t 0.6599017255790174 \t 7.57315683587396e-13\n"
          ]
        }
      ]
    },
    {
      "cell_type": "markdown",
      "metadata": {
        "id": "fK9a3n-AR1gb"
      },
      "source": [
        "# II. Seidel's iteration."
      ]
    },
    {
      "cell_type": "markdown",
      "metadata": {
        "id": "pEWe6mgtR1gc"
      },
      "source": [
        "##### Task II.1\n",
        "\n",
        "Implement the Seidel's iteration. \n",
        "\n",
        "Test it on a random matrix. Study the convergence of iterations, relate to the norm of the iteration matrix.\n",
        "\n",
        "(30% of the total grade)"
      ]
    },
    {
      "cell_type": "code",
      "metadata": {
        "collapsed": true,
        "id": "oaAAHZdMR1gc"
      },
      "source": [
        "#Python 3\n",
        "\n",
        "def GS_iter(A, b, eps=1e-15, maxiter=100):\n",
        "\n",
        "    x = np.zeros_like(b, dtype=np.double)\n",
        "    \n",
        "    #Iteration\n",
        "    for k in range(maxiter):\n",
        "        \n",
        "        x_old  = x.copy()\n",
        "        \n",
        "        #Loop over rows\n",
        "        for i in range(A.shape[0]):\n",
        "            x[i] = (b[i] - np.dot(A[i,:i], x[:i]) - np.dot(A[i,(i+1):], x_old[(i+1):])) / A[i ,i]\n",
        "            \n",
        "        #Stop condition \n",
        "        if np.linalg.norm(x - x_old, ord=np.inf) / np.linalg.norm(x, ord=np.inf) < eps:\n",
        "            break\n",
        "            \n",
        "    return x  \n",
        "        "
      ],
      "execution_count": null,
      "outputs": []
    },
    {
      "cell_type": "code",
      "metadata": {
        "id": "Skre6lm1XpPD"
      },
      "source": [
        "#Random Linear Solveig Test\n",
        "\n",
        "n = 10\n",
        "A = rndm.uniform(size=(n, n)) + np.diagflat([15]*n)\n",
        "b = rndm.uniform(size=n)\n",
        "\n",
        "xx = np.linalg.solve(A, b)"
      ],
      "execution_count": null,
      "outputs": []
    },
    {
      "cell_type": "code",
      "metadata": {
        "id": "CkWLggEjXxuS"
      },
      "source": [
        "x = GS_iter(A, b)"
      ],
      "execution_count": null,
      "outputs": []
    },
    {
      "cell_type": "markdown",
      "metadata": {
        "id": "iYoK75C8YDwj"
      },
      "source": [
        "Tests performed *(making use of the allclose NumPy function)*."
      ]
    },
    {
      "cell_type": "code",
      "metadata": {
        "id": "-0tA_L-7X34y"
      },
      "source": [
        "np.testing.assert_allclose(x, xx)\n",
        "np.testing.assert_allclose(A @ x, b)"
      ],
      "execution_count": null,
      "outputs": []
    },
    {
      "cell_type": "code",
      "metadata": {
        "colab": {
          "base_uri": "https://localhost:8080/"
        },
        "id": "FMoZFPu_YHkS",
        "outputId": "48c9aacc-bbc0-4a8e-dfc0-a2f0030554bb"
      },
      "source": [
        "#Python 3\n",
        "\n",
        "for k in range(25): \n",
        "    A1 = A + np.diagflat([-k] * n)\n",
        "    B_norm = norm(A1)\n",
        "    x = GS_iter(A1, b)\n",
        "    \n",
        "    xx = np.linalg.solve(A1, b)\n",
        "    dist = np.linalg.norm(x - xx)\n",
        "    \n",
        "    print(A1[0, 0], '\\t', B_norm, '\\t', dist)"
      ],
      "execution_count": null,
      "outputs": [
        {
          "output_type": "stream",
          "name": "stdout",
          "text": [
            "15.325707414425347 \t 0.3679761958864619 \t 1.97026712507607e-17\n",
            "14.325707414425347 \t 0.39315162237575607 \t 1.8440363494407353e-17\n",
            "13.325707414425347 \t 0.42202631543251723 \t 2.3864272523720094e-17\n",
            "12.325707414425347 \t 0.45548069473587693 \t 2.2882574235218375e-17\n",
            "11.325707414425347 \t 0.4946988077730063 \t 2.124593680485185e-17\n",
            "10.325707414425347 \t 0.541311664415742 \t 1.140836248210249e-17\n",
            "9.325707414425347 \t 0.5976303078076515 \t 3.453145623158873e-17\n",
            "8.325707414425347 \t 0.6670418762840838 \t 3.7429950401837766e-17\n",
            "7.325707414425347 \t 0.7547193781175311 \t 3.843710783375046e-17\n",
            "6.325707414425347 \t 0.8689797529637481 \t 4.7697009830883764e-17\n",
            "5.325707414425347 \t 1.0241070526789309 \t 4.192148702340308e-17\n",
            "4.325707414425347 \t 1.2468971279649803 \t 8.062266159279859e-17\n",
            "3.325707414425347 \t 1.594301462446768 \t 1.2813490069415586e-16\n",
            "2.325707414425347 \t 2.213124726732211 \t 3.7604707972092113e-16\n",
            "1.325707414425347 \t 3.6414476395758366 \t 0.0002698055026768034\n",
            "0.3257074144253469 \t 11.669681525331226 \t 5.748747416973585e+70\n",
            "-0.6742925855746531 \t 26.445408137333857 \t inf\n",
            "-1.674292585574653 \t 4.339078999189703 \t 6.27676450621872e+129\n",
            "-2.674292585574653 \t 2.451867146694581 \t 3.605507996409342e+63\n",
            "-3.674292585574653 \t 1.7144483666294854 \t 6.938342248316268e+28\n",
            "-4.674292585574653 \t 1.319171203925413 \t 1849495.9387142067\n",
            "-5.674292585574653 \t 1.072351699993707 \t 4.609274517143989e-12\n",
            "-6.674292585574653 \t 0.9034654812078322 \t 1.5671457702085671e-15\n",
            "-7.674292585574653 \t 0.7805955142225485 \t 3.6506759942727966e-16\n",
            "-8.674292585574653 \t 0.6871738979454427 \t 1.760893866893587e-16\n"
          ]
        },
        {
          "output_type": "stream",
          "name": "stderr",
          "text": [
            "/usr/local/lib/python3.7/dist-packages/ipykernel_launcher.py:14: RuntimeWarning: overflow encountered in double_scalars\n",
            "  \n",
            "/usr/local/lib/python3.7/dist-packages/ipykernel_launcher.py:17: RuntimeWarning: invalid value encountered in double_scalars\n",
            "/usr/local/lib/python3.7/dist-packages/ipykernel_launcher.py:17: RuntimeWarning: invalid value encountered in subtract\n"
          ]
        }
      ]
    },
    {
      "cell_type": "markdown",
      "metadata": {
        "id": "k1oB7xqrR1gc"
      },
      "source": [
        "# III. Minimum residual scheme"
      ]
    },
    {
      "cell_type": "markdown",
      "metadata": {
        "id": "Li9SeujwR1gc"
      },
      "source": [
        "### Task III.1\n",
        "\n",
        "Implement the $\\textit{minimum residual}$ scheme: an explicit non-stationary method, where at each step you select the iteration parameter $\\tau_n$ to minimize the residual $\\mathbf{r}_{n+1}$ given $\\mathbf{r}_n$. Test it on a random matrix, study the convergence to the solution, in terms of the norm of the residual and the deviation from the ground truth solution (which you can obtain using a direct method). Study how the iteration parameter $\\tau_n$ changes as iterations progress.\n",
        "\n",
        "(50% of the grade)"
      ]
    },
    {
      "cell_type": "code",
      "metadata": {
        "collapsed": true,
        "id": "oDdphCNeR1gc"
      },
      "source": [
        "#Python 3\n",
        "\n",
        "def min_iter(A, b, show_plot=True, eps=1e-12, maxiter=100):\n",
        "    m, n = A.shape \n",
        "    x0 = np.ones(n)\n",
        "    tau_series = []\n",
        "    \n",
        "    for i in range(maxiter): \n",
        "        r = np.matmul(A, x0) - b\n",
        "        temp = np.matmul(A, r)\n",
        "        tau = np.matmul(r, temp) / np.linalg.norm(temp, ord=2)**2\n",
        "        tau_series.append(tau)\n",
        "        x = x0 - tau * r\n",
        "        \n",
        "        if np.linalg.norm(x - x0) < eps: \n",
        "            break\n",
        "        \n",
        "        x0 = x\n",
        "    \n",
        "    return x"
      ],
      "execution_count": null,
      "outputs": []
    },
    {
      "cell_type": "markdown",
      "metadata": {
        "id": "8zUwe9pGaivq"
      },
      "source": [
        "Tests performed *(making use of the allclose NumPy function)*."
      ]
    },
    {
      "cell_type": "code",
      "metadata": {
        "id": "y3R1pjEZajGS"
      },
      "source": [
        "n = 10\n",
        "A = rndm.uniform(size=(n, n)) + np.diagflat([15]*n)\n",
        "b = rndm.uniform(size=n)\n",
        "\n",
        "xx = np.linalg.solve(A, b)"
      ],
      "execution_count": null,
      "outputs": []
    },
    {
      "cell_type": "code",
      "metadata": {
        "id": "4LoQPOOAanDy"
      },
      "source": [
        "x = min_iter(A, b)"
      ],
      "execution_count": null,
      "outputs": []
    },
    {
      "cell_type": "code",
      "metadata": {
        "id": "PISuHgH7ax8K"
      },
      "source": [
        "np.testing.assert_allclose(x, xx)\n",
        "np.testing.assert_allclose(A @ x, b)"
      ],
      "execution_count": null,
      "outputs": []
    },
    {
      "cell_type": "code",
      "metadata": {
        "colab": {
          "base_uri": "https://localhost:8080/"
        },
        "id": "ruOuEYnba6_i",
        "outputId": "d32a110d-6e3d-4cce-ee48-8c98e8e83792"
      },
      "source": [
        "#Python 3\n",
        "\n",
        "for k in range(25): \n",
        "    A1 = A + np.diagflat([-k] * n)\n",
        "    B_norm = norm(A1)\n",
        "    x = min_iter(A1, b, False)\n",
        "    \n",
        "    xx = np.linalg.solve(A1, b)\n",
        "    dist = np.linalg.norm(x - xx)\n",
        "    \n",
        "    print(A1[0, 0], '\\t', B_norm, '\\t', dist)"
      ],
      "execution_count": null,
      "outputs": [
        {
          "output_type": "stream",
          "name": "stdout",
          "text": [
            "15.373423707353538 \t 0.33688318691473734 \t 8.144759948869233e-14\n",
            "14.373423707353538 \t 0.3599186187045102 \t 3.4556925013716674e-14\n",
            "13.373423707353538 \t 0.38633818171402223 \t 1.001975880471273e-13\n",
            "12.373423707353538 \t 0.4169475032737339 \t 6.196003025502912e-14\n",
            "11.373423707353538 \t 0.45283028862683194 \t 5.43281602596032e-14\n",
            "10.373423707353538 \t 0.49547981843737987 \t 5.956544659271125e-14\n",
            "9.373423707353538 \t 0.5470130066640051 \t 9.59771146087566e-14\n",
            "8.373423707353538 \t 0.6105347157974735 \t 2.0290546202160942e-13\n",
            "7.373423707353538 \t 0.6907921005349461 \t 1.947472844359116e-13\n",
            "6.373423707353538 \t 0.7954308152405096 \t 3.644813535038975e-13\n",
            "5.373423707353538 \t 0.9376202762223229 \t 2.4199020926043006e-13\n",
            "4.373423707353538 \t 1.1421938096062156 \t 4.181380273004674e-13\n",
            "3.3734237073535382 \t 1.462477199852301 \t 8.966180150479402e-13\n",
            "2.3734237073535382 \t 2.039321827238908 \t 1.8593449626163264e-12\n",
            "1.3734237073535382 \t 3.4341680304660547 \t 7.561876060651771e-07\n",
            "0.37342370735353825 \t 47.48324124939881 \t 3.477210332754407\n",
            "-0.6265762926464618 \t 157.5185107868885 \t 2.58354728810276\n",
            "-1.6265762926464618 \t 4.12344541403942 \t 0.33013210403142856\n",
            "-2.6265762926464618 \t 2.28314861696893 \t 0.16253602124952093\n",
            "-3.6265762926464618 \t 1.5862814047527567 \t 0.9883801692963131\n",
            "-4.626576292646462 \t 1.2169396705171964 \t 135.11765571928967\n",
            "-5.626576292646462 \t 0.9876066891172057 \t 2.330421592091499e-12\n",
            "-6.626576292646462 \t 0.8311993043232185 \t 1.2974331625573417e-12\n",
            "-7.626576292646462 \t 0.7176485081595214 \t 5.571277125374701e-13\n",
            "-8.626576292646462 \t 0.6314386374752283 \t 2.535772264616629e-13\n"
          ]
        }
      ]
    }
  ]
}