{
  "cells": [
    {
      "cell_type": "markdown",
      "metadata": {
        "id": "ydW-Cp4REnEe"
      },
      "source": [
        "<div align=\"center\">\n",
        "<img style=\"display: block; margin: auto;\" alt=\"photo\" src=\"https://upload.wikimedia.org/wikipedia/en/d/de/Quantopian_logo_2017.png\">\n",
        "</div> \n",
        "\n",
        "\n",
        "# Colab Yahoo Introduction to the Research Environment\n",
        "\n",
        "The research environment is powered by IPython notebooks, which allow one to perform a great deal of data analysis and statistical validation. We'll demonstrate a few simple techniques here."
      ]
    },
    {
      "cell_type": "markdown",
      "metadata": {
        "id": "DQ49NGLoEnEk"
      },
      "source": [
        "##Executing a Command\n",
        "\n",
        "A code cell will be evaluated when you press play, or when you press the shortcut, shift-enter. Evaluating a cell evaluates each line of code in sequence, and prints the results of the last line below the cell."
      ]
    },
    {
      "cell_type": "code",
      "execution_count": null,
      "metadata": {
        "colab": {
          "base_uri": "https://localhost:8080/"
        },
        "id": "KE3OSs-AEnEl",
        "outputId": "850ad36f-4f7b-4bac-d6d7-4b0306427edc"
      },
      "outputs": [
        {
          "output_type": "execute_result",
          "data": {
            "text/plain": [
              "4"
            ]
          },
          "metadata": {},
          "execution_count": 57
        }
      ],
      "source": [
        "2 + 2"
      ]
    },
    {
      "cell_type": "markdown",
      "metadata": {
        "id": "BZWUQIgha2PO"
      },
      "source": [
        "**My own example 1**"
      ]
    },
    {
      "cell_type": "code",
      "execution_count": null,
      "metadata": {
        "colab": {
          "base_uri": "https://localhost:8080/"
        },
        "id": "-eHVWoQia5lX",
        "outputId": "b4732d47-0ae2-47a3-f466-3836aa9817e7"
      },
      "outputs": [
        {
          "output_type": "execute_result",
          "data": {
            "text/plain": [
              "11"
            ]
          },
          "metadata": {},
          "execution_count": 58
        }
      ],
      "source": [
        "8+3"
      ]
    },
    {
      "cell_type": "markdown",
      "metadata": {
        "id": "oPPlhdlzEnEm"
      },
      "source": [
        "Sometimes there is no result to be printed, as is the case with assignment."
      ]
    },
    {
      "cell_type": "code",
      "execution_count": null,
      "metadata": {
        "collapsed": true,
        "id": "Z4grFlsDEnEm"
      },
      "outputs": [],
      "source": [
        "X = 2"
      ]
    },
    {
      "cell_type": "markdown",
      "metadata": {
        "id": "SjsBdDkcbA6y"
      },
      "source": [
        "**My own exmaple 2**"
      ]
    },
    {
      "cell_type": "code",
      "execution_count": null,
      "metadata": {
        "id": "jQML1D5DbAAh"
      },
      "outputs": [],
      "source": [
        "xy = 765"
      ]
    },
    {
      "cell_type": "markdown",
      "metadata": {
        "id": "vz5ETS4WEnEn"
      },
      "source": [
        "Remember that only the result from the last line is printed."
      ]
    },
    {
      "cell_type": "code",
      "execution_count": null,
      "metadata": {
        "colab": {
          "base_uri": "https://localhost:8080/"
        },
        "id": "gbUiPYI3EnEo",
        "outputId": "d1e4b0c3-24c8-4cff-e1fa-e3fefbb5874b"
      },
      "outputs": [
        {
          "output_type": "execute_result",
          "data": {
            "text/plain": [
              "6"
            ]
          },
          "metadata": {},
          "execution_count": 61
        }
      ],
      "source": [
        "2 + 2\n",
        "3 + 3"
      ]
    },
    {
      "cell_type": "markdown",
      "metadata": {
        "id": "35jIhUoBbKrR"
      },
      "source": [
        "**My own exmaple 3**"
      ]
    },
    {
      "cell_type": "code",
      "execution_count": null,
      "metadata": {
        "colab": {
          "base_uri": "https://localhost:8080/"
        },
        "id": "cYnn9yoGbORa",
        "outputId": "67ba3755-4270-4ff4-f737-01fa62325c1b"
      },
      "outputs": [
        {
          "output_type": "execute_result",
          "data": {
            "text/plain": [
              "884"
            ]
          },
          "metadata": {},
          "execution_count": 62
        }
      ],
      "source": [
        "22 + 35\n",
        "798 + 86"
      ]
    },
    {
      "cell_type": "markdown",
      "metadata": {
        "id": "dmJi5wb4EnEo"
      },
      "source": [
        "However, you can print whichever lines you want using the `print` statement."
      ]
    },
    {
      "cell_type": "code",
      "execution_count": null,
      "metadata": {
        "colab": {
          "base_uri": "https://localhost:8080/"
        },
        "id": "dlMzqF2gEnEp",
        "outputId": "202d149a-a6f1-4bf9-d1c3-a3556a33d3df"
      },
      "outputs": [
        {
          "output_type": "stream",
          "name": "stdout",
          "text": [
            "4\n"
          ]
        },
        {
          "output_type": "execute_result",
          "data": {
            "text/plain": [
              "6"
            ]
          },
          "metadata": {},
          "execution_count": 63
        }
      ],
      "source": [
        "print(2 + 2)\n",
        "3 + 3"
      ]
    },
    {
      "cell_type": "markdown",
      "metadata": {
        "id": "sOGvZ4PrI-PP"
      },
      "source": [
        "**my own example 4**"
      ]
    },
    {
      "cell_type": "code",
      "execution_count": null,
      "metadata": {
        "colab": {
          "base_uri": "https://localhost:8080/"
        },
        "id": "cvl3xLrWJBTv",
        "outputId": "fce10b60-b42c-4c9d-e5a2-bbf56d5d8d97"
      },
      "outputs": [
        {
          "output_type": "stream",
          "name": "stdout",
          "text": [
            "6\n"
          ]
        },
        {
          "output_type": "execute_result",
          "data": {
            "text/plain": [
              "3"
            ]
          },
          "metadata": {},
          "execution_count": 64
        }
      ],
      "source": [
        "print (8-2)\n",
        "4-1\n"
      ]
    },
    {
      "cell_type": "markdown",
      "metadata": {
        "id": "CRAZIpakEnEj"
      },
      "source": [
        "##Code Cells vs. Text Cells\n",
        "\n",
        "As you can see, each cell can be either code or text. To select between them, choose from the 'Cell Type' dropdown menu on the top left."
      ]
    },
    {
      "cell_type": "markdown",
      "metadata": {
        "id": "ZAmnTqjHEnEq"
      },
      "source": [
        "##Knowing When a Cell is Running\n",
        "\n",
        "While a cell is running, a `[*]` will display on the left. When a cell has yet to be executed, `[ ]` will display. When it has been run, a number will display indicating the order in which it was run during the execution of the notebook `[5]`. Try on this cell and note it happening."
      ]
    },
    {
      "cell_type": "code",
      "execution_count": null,
      "metadata": {
        "colab": {
          "base_uri": "https://localhost:8080/"
        },
        "id": "9Sh3ZaPAEnEq",
        "outputId": "a33b9213-5797-44f5-beaa-290d1070aa91"
      },
      "outputs": [
        {
          "output_type": "execute_result",
          "data": {
            "text/plain": [
              "49999995000000"
            ]
          },
          "metadata": {},
          "execution_count": 65
        }
      ],
      "source": [
        "#Take some time to run something\n",
        "c = 0\n",
        "for i in range(10000000):\n",
        "    c = c + i\n",
        "c"
      ]
    },
    {
      "cell_type": "markdown",
      "metadata": {
        "id": "xMHpec7EOSpG"
      },
      "source": [
        "**my own example 5**"
      ]
    },
    {
      "cell_type": "code",
      "execution_count": null,
      "metadata": {
        "colab": {
          "base_uri": "https://localhost:8080/"
        },
        "id": "inrZa0QiOVtt",
        "outputId": "b6fe6806-64ef-4f2a-d51a-e3a82032b98f"
      },
      "outputs": [
        {
          "output_type": "execute_result",
          "data": {
            "text/plain": [
              "301"
            ]
          },
          "metadata": {},
          "execution_count": 66
        }
      ],
      "source": [
        "c = 1\n",
        "for i in range(25):\n",
        "  c = c + i\n",
        "c"
      ]
    },
    {
      "cell_type": "markdown",
      "metadata": {
        "id": "ZgD5ktlNEnEq"
      },
      "source": [
        "##Importing Libraries\n",
        "\n",
        "The vast majority of the time, you'll want to use functions from pre-built libraries. You can't import every library on Quantopian due to security issues, but you can import most of the common scientific ones. Here I import numpy and pandas, the two most common and useful libraries in quant finance. I recommend copying this import statement to every new notebook.\n",
        "\n",
        "Notice that you can rename libraries to whatever you want after importing. The `as` statement allows this. Here we use `np` and `pd` as aliases for `numpy` and `pandas`. This is a very common aliasing and will be found in most code snippets around the web. The point behind this is to allow you to type fewer characters when you are frequently accessing these libraries."
      ]
    },
    {
      "cell_type": "code",
      "execution_count": null,
      "metadata": {
        "collapsed": true,
        "id": "Mz48FtHtEnEr"
      },
      "outputs": [],
      "source": [
        "import numpy as np\n",
        "import pandas as pd\n",
        "\n",
        "# This is a plotting library for pretty pictures.\n",
        "import matplotlib.pyplot as plt"
      ]
    },
    {
      "cell_type": "markdown",
      "metadata": {
        "id": "6OCWybvIWj5U"
      },
      "source": [
        "**my own example 7**"
      ]
    },
    {
      "cell_type": "code",
      "execution_count": null,
      "metadata": {
        "id": "tekW9chEY8qQ"
      },
      "outputs": [],
      "source": [
        "import seaborn as sns"
      ]
    },
    {
      "cell_type": "code",
      "execution_count": null,
      "metadata": {
        "id": "kylfTobr9X7o"
      },
      "outputs": [],
      "source": [
        "import numpy"
      ]
    },
    {
      "cell_type": "code",
      "execution_count": null,
      "metadata": {
        "colab": {
          "base_uri": "https://localhost:8080/"
        },
        "id": "Sdfznxc0WjXg",
        "outputId": "6376d79a-7450-4871-b13c-099cdb2e37cb"
      },
      "outputs": [
        {
          "output_type": "execute_result",
          "data": {
            "text/plain": [
              "6.0"
            ]
          },
          "metadata": {},
          "execution_count": 70
        }
      ],
      "source": [
        "numpy.mean([4, 6, 8])"
      ]
    },
    {
      "cell_type": "markdown",
      "metadata": {
        "id": "pMrxzTXpEnEr"
      },
      "source": [
        "##Tab Autocomplete\n",
        "\n",
        "Pressing tab will give you a list of IPython's best guesses for what you might want to type next. This is incredibly valuable and will save you a lot of time. If there is only one possible option for what you could type next, IPython will fill that in for you. Try pressing tab very frequently, it will seldom fill in anything you don't want, as if there is ambiguity a list will be shown. This is a great way to see what functions are available in a library.\n",
        "\n",
        "Try placing your cursor after the `.` and pressing tab."
      ]
    },
    {
      "cell_type": "markdown",
      "metadata": {
        "id": "gNQKdkUqaqA6"
      },
      "source": [
        "**my own example 7**"
      ]
    },
    {
      "cell_type": "code",
      "execution_count": null,
      "metadata": {
        "id": "Im7_OCeIac_4"
      },
      "outputs": [],
      "source": [
        "import numpy"
      ]
    },
    {
      "cell_type": "code",
      "execution_count": null,
      "metadata": {
        "id": "C4i5XJTRlIQR",
        "colab": {
          "base_uri": "https://localhost:8080/"
        },
        "outputId": "64c8d361-dad8-430e-95a7-e1b1af55308c"
      },
      "outputs": [
        {
          "output_type": "stream",
          "name": "stdout",
          "text": [
            "[  64.31321789   42.83660226  -63.87660916   50.74948962   -4.49705067\n",
            "   37.49531466  181.13667286   99.16970044 -217.02792728  124.5141666\n",
            "    8.81954066   65.3703965   -64.02022226  -28.0802281    75.62320823\n",
            "  -44.68256233  -56.89935468   37.72282645  -36.02576188 -186.97722373]\n"
          ]
        }
      ],
      "source": [
        "X = np.random.normal(1, 100, 20)\n",
        "print (X)\n"
      ]
    },
    {
      "cell_type": "markdown",
      "metadata": {
        "id": "EySA-YUA8XT8"
      },
      "source": [
        "**my own example 8**"
      ]
    },
    {
      "cell_type": "code",
      "execution_count": null,
      "metadata": {
        "id": "IKDVn51d8aL9"
      },
      "outputs": [],
      "source": [
        "np.absolute?"
      ]
    },
    {
      "cell_type": "markdown",
      "metadata": {
        "id": "HBmhMQQ_EnEs"
      },
      "source": [
        "##Getting Documentation Help\n",
        "\n",
        "Placing a question mark after a function and executing that line of code will give you the documentation IPython has for that function. It's often best to do this in a new cell, as you avoid re-executing other code and running into bugs."
      ]
    },
    {
      "cell_type": "code",
      "execution_count": null,
      "metadata": {
        "collapsed": true,
        "id": "1GwTwYHhEnEs"
      },
      "outputs": [],
      "source": [
        "np.random.normal?"
      ]
    },
    {
      "cell_type": "markdown",
      "metadata": {
        "id": "GZcWqDyIEnEs"
      },
      "source": [
        "##Sampling\n",
        "\n",
        "We'll sample some random data using a function from `numpy`."
      ]
    },
    {
      "cell_type": "code",
      "execution_count": null,
      "metadata": {
        "id": "xNQYx1FjEnEt"
      },
      "outputs": [],
      "source": [
        "# Sample 100 points with a mean of 0 and an std of 1. This is a standard normal distribution.\n",
        "X = np.random.normal(0, 1, 100)"
      ]
    },
    {
      "cell_type": "markdown",
      "metadata": {
        "id": "klCzkquB8ilY"
      },
      "source": [
        "**my own example 9**"
      ]
    },
    {
      "cell_type": "code",
      "execution_count": null,
      "metadata": {
        "id": "poH3sTIR8ltP"
      },
      "outputs": [],
      "source": [
        "x1010 = np.random.normal(30, 5, 30)"
      ]
    },
    {
      "cell_type": "markdown",
      "metadata": {
        "id": "p3zaV-naEnEt"
      },
      "source": [
        "##Plotting\n",
        "\n",
        "We can use the plotting library we imported as follows."
      ]
    },
    {
      "cell_type": "code",
      "execution_count": null,
      "metadata": {
        "id": "W04St5giEnEt",
        "colab": {
          "base_uri": "https://localhost:8080/",
          "height": 282
        },
        "outputId": "cecde447-e9b9-40b3-d8ca-1a659112a632"
      },
      "outputs": [
        {
          "output_type": "execute_result",
          "data": {
            "text/plain": [
              "[<matplotlib.lines.Line2D at 0x7f69f35d2dd0>]"
            ]
          },
          "metadata": {},
          "execution_count": 77
        },
        {
          "output_type": "display_data",
          "data": {
            "text/plain": [
              "<Figure size 432x288 with 1 Axes>"
            ],
            "image/png": "[encoded data removed]"
          },
          "metadata": {
            "needs_background": "light"
          }
        }
      ],
      "source": [
        "plt.plot(X)"
      ]
    },
    {
      "cell_type": "markdown",
      "metadata": {
        "id": "MXiplIQhN95s"
      },
      "source": [
        "**my own example 10**"
      ]
    },
    {
      "cell_type": "code",
      "execution_count": null,
      "metadata": {
        "id": "J-ldK00NOFC4",
        "colab": {
          "base_uri": "https://localhost:8080/",
          "height": 282
        },
        "outputId": "2272a48f-461e-4f5b-c23f-53836514c5c8"
      },
      "outputs": [
        {
          "output_type": "execute_result",
          "data": {
            "text/plain": [
              "[<matplotlib.lines.Line2D at 0x7f69f4711510>]"
            ]
          },
          "metadata": {},
          "execution_count": 78
        },
        {
          "output_type": "display_data",
          "data": {
            "text/plain": [
              "<Figure size 432x288 with 1 Axes>"
            ],
            "image/png": "[encoded data removed]"
          },
          "metadata": {
            "needs_background": "light"
          }
        }
      ],
      "source": [
        "plt.plot(x1010)"
      ]
    },
    {
      "cell_type": "markdown",
      "metadata": {
        "id": "V8xkW9G0EnEt"
      },
      "source": [
        "###Squelching Line Output\n",
        "\n",
        "You might have noticed the annoying line of the form `[<matplotlib.lines.Line2D at 0x7f72fdbc1710>]` before the plots. This is because the `.plot` function actually produces output. Sometimes we wish not to display output, we can accomplish this with the semi-colon as follows."
      ]
    },
    {
      "cell_type": "code",
      "execution_count": null,
      "metadata": {
        "id": "ghNQMUhaEnEu",
        "colab": {
          "base_uri": "https://localhost:8080/",
          "height": 265
        },
        "outputId": "da17c6f7-cc25-40d8-a31d-5901e2911640"
      },
      "outputs": [
        {
          "output_type": "display_data",
          "data": {
            "text/plain": [
              "<Figure size 432x288 with 1 Axes>"
            ],
            "image/png": "[encoded data removed]"
          },
          "metadata": {
            "needs_background": "light"
          }
        }
      ],
      "source": [
        "plt.plot(X);"
      ]
    },
    {
      "cell_type": "markdown",
      "source": [
        "**my own example 11**"
      ],
      "metadata": {
        "id": "7XDrpgHnDuBP"
      }
    },
    {
      "cell_type": "code",
      "source": [
        "plt.plot(x1010)"
      ],
      "metadata": {
        "colab": {
          "base_uri": "https://localhost:8080/",
          "height": 282
        },
        "id": "FGju5PClDxLw",
        "outputId": "6334f178-ac6a-4076-895b-5b49047c65f5"
      },
      "execution_count": null,
      "outputs": [
        {
          "output_type": "execute_result",
          "data": {
            "text/plain": [
              "[<matplotlib.lines.Line2D at 0x7f69f35d0a10>]"
            ]
          },
          "metadata": {},
          "execution_count": 80
        },
        {
          "output_type": "display_data",
          "data": {
            "text/plain": [
              "<Figure size 432x288 with 1 Axes>"
            ],
            "image/png": "[encoded data removed]"
          },
          "metadata": {
            "needs_background": "light"
          }
        }
      ]
    },
    {
      "cell_type": "markdown",
      "metadata": {
        "id": "LMrc6lfXEnEu"
      },
      "source": [
        "###Adding Axis Labels\n",
        "\n",
        "No self-respecting quant leaves a graph without labeled axes. Here are some commands to help with that."
      ]
    },
    {
      "cell_type": "code",
      "execution_count": null,
      "metadata": {
        "id": "a9Qu76QPEnEu",
        "colab": {
          "base_uri": "https://localhost:8080/",
          "height": 279
        },
        "outputId": "0fc98c3f-a3c9-4ab2-c3ab-6490cf686421"
      },
      "outputs": [
        {
          "output_type": "display_data",
          "data": {
            "text/plain": [
              "<Figure size 432x288 with 1 Axes>"
            ],
            "image/png": "[encoded data removed]"
          },
          "metadata": {
            "needs_background": "light"
          }
        }
      ],
      "source": [
        "X = np.random.normal(0, 1, 100)\n",
        "X2 = np.random.normal(0, 1, 100)\n",
        "\n",
        "plt.plot(X);\n",
        "plt.plot(X2);\n",
        "plt.xlabel('Time') # The data we generated is unitless, but don't forget units in general.\n",
        "plt.ylabel('Returns')\n",
        "plt.legend(['X', 'X2']);"
      ]
    },
    {
      "cell_type": "markdown",
      "source": [
        "**my own example 12**"
      ],
      "metadata": {
        "id": "RKn8PndqD-mw"
      }
    },
    {
      "cell_type": "code",
      "source": [
        "x1010 = np.random.normal(50,25,200)\n",
        "x10102 =  np.random.normal(50,25,200)\n",
        "\n",
        "plt.plot(x1010)\n",
        "plt.plot(x10102)\n",
        "plt.xlabel(\"Time\")\n",
        "plt.ylabel(\"Returns\")\n",
        "plt.legend([\"x1010\", \"x10102\"])"
      ],
      "metadata": {
        "colab": {
          "base_uri": "https://localhost:8080/",
          "height": 296
        },
        "id": "UhHcs2wbD-TW",
        "outputId": "6a8c281c-1460-409f-804b-135c28bf9b13"
      },
      "execution_count": null,
      "outputs": [
        {
          "output_type": "execute_result",
          "data": {
            "text/plain": [
              "<matplotlib.legend.Legend at 0x7f69f3658210>"
            ]
          },
          "metadata": {},
          "execution_count": 82
        },
        {
          "output_type": "display_data",
          "data": {
            "text/plain": [
              "<Figure size 432x288 with 1 Axes>"
            ],
            "image/png": "[encoded data removed]"
          },
          "metadata": {
            "needs_background": "light"
          }
        }
      ]
    },
    {
      "cell_type": "markdown",
      "metadata": {
        "id": "btTN9YaFEnEu"
      },
      "source": [
        "##Generating Statistics\n",
        "\n",
        "Let's use `numpy` to take some simple statistics."
      ]
    },
    {
      "cell_type": "code",
      "execution_count": null,
      "metadata": {
        "id": "cM0cG4mJEnEu",
        "colab": {
          "base_uri": "https://localhost:8080/"
        },
        "outputId": "40da5b6a-4828-4548-ba75-93ee994485d3"
      },
      "outputs": [
        {
          "output_type": "execute_result",
          "data": {
            "text/plain": [
              "-0.06806577131381253"
            ]
          },
          "metadata": {},
          "execution_count": 83
        }
      ],
      "source": [
        "np.mean(X)"
      ]
    },
    {
      "cell_type": "markdown",
      "source": [
        "**my own example 13**"
      ],
      "metadata": {
        "id": "JvLykG4GELK3"
      }
    },
    {
      "cell_type": "code",
      "source": [
        "np.mean(x1010)"
      ],
      "metadata": {
        "colab": {
          "base_uri": "https://localhost:8080/"
        },
        "id": "T3BrmxVoEOAU",
        "outputId": "f3b3f7c0-8376-4f84-ab89-482560915105"
      },
      "execution_count": null,
      "outputs": [
        {
          "output_type": "execute_result",
          "data": {
            "text/plain": [
              "52.25265434956507"
            ]
          },
          "metadata": {},
          "execution_count": 84
        }
      ]
    },
    {
      "cell_type": "code",
      "execution_count": null,
      "metadata": {
        "id": "383jlDx-EnEu",
        "colab": {
          "base_uri": "https://localhost:8080/"
        },
        "outputId": "6801cdc3-873e-4935-9494-8b2feb294bb0"
      },
      "outputs": [
        {
          "output_type": "execute_result",
          "data": {
            "text/plain": [
              "0.9380155150087024"
            ]
          },
          "metadata": {},
          "execution_count": 85
        }
      ],
      "source": [
        "np.std(X)"
      ]
    },
    {
      "cell_type": "markdown",
      "source": [
        "**my own example 14**"
      ],
      "metadata": {
        "id": "UD21IiqkESBl"
      }
    },
    {
      "cell_type": "code",
      "source": [
        "np.std(x1010)"
      ],
      "metadata": {
        "colab": {
          "base_uri": "https://localhost:8080/"
        },
        "id": "WskvPlAoEUjg",
        "outputId": "4e85049e-9d3a-4458-e2e7-1f35f7cd384d"
      },
      "execution_count": null,
      "outputs": [
        {
          "output_type": "execute_result",
          "data": {
            "text/plain": [
              "23.882082626918375"
            ]
          },
          "metadata": {},
          "execution_count": 86
        }
      ]
    },
    {
      "cell_type": "markdown",
      "metadata": {
        "id": "GoxKGTVaEnEu"
      },
      "source": [
        "##Getting Real Pricing Data\n",
        "\n",
        "Randomly sampled data can be great for testing ideas, but let's get some real data. We can use `get_pricing` to do that. You can use the `?` syntax as discussed above to get more information on `get_pricing`'s arguments."
      ]
    },
    {
      "cell_type": "code",
      "execution_count": null,
      "metadata": {
        "id": "6_wGrpaIjiyx",
        "colab": {
          "base_uri": "https://localhost:8080/"
        },
        "outputId": "bb1c35fa-344f-4744-a6dc-081fb4c9ef90"
      },
      "outputs": [
        {
          "output_type": "stream",
          "name": "stdout",
          "text": [
            "Requirement already satisfied: yfinance in /usr/local/lib/python3.7/dist-packages (0.1.70)\n",
            "Requirement already satisfied: multitasking>=0.0.7 in /usr/local/lib/python3.7/dist-packages (from yfinance) (0.0.10)\n",
            "Requirement already satisfied: lxml>=4.5.1 in /usr/local/lib/python3.7/dist-packages (from yfinance) (4.8.0)\n",
            "Requirement already satisfied: numpy>=1.15 in /usr/local/lib/python3.7/dist-packages (from yfinance) (1.21.5)\n",
            "Requirement already satisfied: requests>=2.26 in /usr/local/lib/python3.7/dist-packages (from yfinance) (2.27.1)\n",
            "Requirement already satisfied: pandas>=0.24.0 in /usr/local/lib/python3.7/dist-packages (from yfinance) (1.3.5)\n",
            "Requirement already satisfied: python-dateutil>=2.7.3 in /usr/local/lib/python3.7/dist-packages (from pandas>=0.24.0->yfinance) (2.8.2)\n",
            "Requirement already satisfied: pytz>=2017.3 in /usr/local/lib/python3.7/dist-packages (from pandas>=0.24.0->yfinance) (2018.9)\n",
            "Requirement already satisfied: six>=1.5 in /usr/local/lib/python3.7/dist-packages (from python-dateutil>=2.7.3->pandas>=0.24.0->yfinance) (1.15.0)\n",
            "Requirement already satisfied: urllib3<1.27,>=1.21.1 in /usr/local/lib/python3.7/dist-packages (from requests>=2.26->yfinance) (1.24.3)\n",
            "Requirement already satisfied: idna<4,>=2.5 in /usr/local/lib/python3.7/dist-packages (from requests>=2.26->yfinance) (2.10)\n",
            "Requirement already satisfied: charset-normalizer~=2.0.0 in /usr/local/lib/python3.7/dist-packages (from requests>=2.26->yfinance) (2.0.12)\n",
            "Requirement already satisfied: certifi>=2017.4.17 in /usr/local/lib/python3.7/dist-packages (from requests>=2.26->yfinance) (2021.10.8)\n"
          ]
        }
      ],
      "source": [
        "!pip install yfinance"
      ]
    },
    {
      "cell_type": "markdown",
      "source": [
        "**my own example 15**"
      ],
      "metadata": {
        "id": "SDtDfNIIEdNX"
      }
    },
    {
      "cell_type": "code",
      "source": [
        "!pip install spacy"
      ],
      "metadata": {
        "colab": {
          "base_uri": "https://localhost:8080/"
        },
        "id": "irJAmL03EhHZ",
        "outputId": "0bd4b2d8-9db1-4343-e34a-a4a65ebee30c"
      },
      "execution_count": null,
      "outputs": [
        {
          "output_type": "stream",
          "name": "stdout",
          "text": [
            "Requirement already satisfied: spacy in /usr/local/lib/python3.7/dist-packages (2.2.4)\n",
            "Requirement already satisfied: tqdm<5.0.0,>=4.38.0 in /usr/local/lib/python3.7/dist-packages (from spacy) (4.64.0)\n",
            "Requirement already satisfied: wasabi<1.1.0,>=0.4.0 in /usr/local/lib/python3.7/dist-packages (from spacy) (0.9.1)\n",
            "Requirement already satisfied: requests<3.0.0,>=2.13.0 in /usr/local/lib/python3.7/dist-packages (from spacy) (2.27.1)\n",
            "Requirement already satisfied: thinc==7.4.0 in /usr/local/lib/python3.7/dist-packages (from spacy) (7.4.0)\n",
            "Requirement already satisfied: blis<0.5.0,>=0.4.0 in /usr/local/lib/python3.7/dist-packages (from spacy) (0.4.1)\n",
            "Requirement already satisfied: cymem<2.1.0,>=2.0.2 in /usr/local/lib/python3.7/dist-packages (from spacy) (2.0.6)\n",
            "Requirement already satisfied: preshed<3.1.0,>=3.0.2 in /usr/local/lib/python3.7/dist-packages (from spacy) (3.0.6)\n",
            "Requirement already satisfied: srsly<1.1.0,>=1.0.2 in /usr/local/lib/python3.7/dist-packages (from spacy) (1.0.5)\n",
            "Requirement already satisfied: setuptools in /usr/local/lib/python3.7/dist-packages (from spacy) (57.4.0)\n",
            "Requirement already satisfied: catalogue<1.1.0,>=0.0.7 in /usr/local/lib/python3.7/dist-packages (from spacy) (1.0.0)\n",
            "Requirement already satisfied: murmurhash<1.1.0,>=0.28.0 in /usr/local/lib/python3.7/dist-packages (from spacy) (1.0.6)\n",
            "Requirement already satisfied: numpy>=1.15.0 in /usr/local/lib/python3.7/dist-packages (from spacy) (1.21.5)\n",
            "Requirement already satisfied: plac<1.2.0,>=0.9.6 in /usr/local/lib/python3.7/dist-packages (from spacy) (1.1.3)\n",
            "Requirement already satisfied: importlib-metadata>=0.20 in /usr/local/lib/python3.7/dist-packages (from catalogue<1.1.0,>=0.0.7->spacy) (4.11.3)\n",
            "Requirement already satisfied: zipp>=0.5 in /usr/local/lib/python3.7/dist-packages (from importlib-metadata>=0.20->catalogue<1.1.0,>=0.0.7->spacy) (3.8.0)\n",
            "Requirement already satisfied: typing-extensions>=3.6.4 in /usr/local/lib/python3.7/dist-packages (from importlib-metadata>=0.20->catalogue<1.1.0,>=0.0.7->spacy) (4.1.1)\n",
            "Requirement already satisfied: urllib3<1.27,>=1.21.1 in /usr/local/lib/python3.7/dist-packages (from requests<3.0.0,>=2.13.0->spacy) (1.24.3)\n",
            "Requirement already satisfied: idna<4,>=2.5 in /usr/local/lib/python3.7/dist-packages (from requests<3.0.0,>=2.13.0->spacy) (2.10)\n",
            "Requirement already satisfied: certifi>=2017.4.17 in /usr/local/lib/python3.7/dist-packages (from requests<3.0.0,>=2.13.0->spacy) (2021.10.8)\n",
            "Requirement already satisfied: charset-normalizer~=2.0.0 in /usr/local/lib/python3.7/dist-packages (from requests<3.0.0,>=2.13.0->spacy) (2.0.12)\n"
          ]
        }
      ]
    },
    {
      "cell_type": "code",
      "execution_count": null,
      "metadata": {
        "id": "Yfm623FZEnEv",
        "colab": {
          "base_uri": "https://localhost:8080/"
        },
        "outputId": "84bc9f05-738c-4634-cc2c-deea1a2a0526"
      },
      "outputs": [
        {
          "output_type": "stream",
          "name": "stdout",
          "text": [
            "\r[*********************100%***********************]  1 of 1 completed\n"
          ]
        }
      ],
      "source": [
        "import yfinance as yf\n",
        "\n",
        "data = yf.download(\"MSFT\", start=\"2012-1-1\", end=\"2015-6-1\") "
      ]
    },
    {
      "cell_type": "markdown",
      "source": [
        "**my own example 16**"
      ],
      "metadata": {
        "id": "Y5KY9RUzEoVC"
      }
    },
    {
      "cell_type": "code",
      "source": [
        "import yfinance as yf\n",
        "\n",
        "data1010 = yf.download(\"MSFT\", start = \"2013-1-1\", end = \"2016-8-2\")"
      ],
      "metadata": {
        "colab": {
          "base_uri": "https://localhost:8080/"
        },
        "id": "827QumHkEt6K",
        "outputId": "31557f0e-545a-4e49-cdf7-8f22319f3481"
      },
      "execution_count": null,
      "outputs": [
        {
          "output_type": "stream",
          "name": "stdout",
          "text": [
            "\r[*********************100%***********************]  1 of 1 completed\n"
          ]
        }
      ]
    },
    {
      "cell_type": "markdown",
      "metadata": {
        "id": "7kioGPx8EnEv"
      },
      "source": [
        "Our data is now a dataframe. You can see the datetime index and the colums with different pricing data."
      ]
    },
    {
      "cell_type": "code",
      "execution_count": null,
      "metadata": {
        "id": "7w96Hr4QEnEv",
        "colab": {
          "base_uri": "https://localhost:8080/",
          "height": 455
        },
        "outputId": "d92e8b62-6c40-4304-aeaa-e59c1e68ff34"
      },
      "outputs": [
        {
          "output_type": "execute_result",
          "data": {
            "text/plain": [
              "                 Open       High        Low      Close  Adj Close    Volume\n",
              "Date                                                                       \n",
              "2012-01-03  26.549999  26.959999  26.389999  26.770000  21.623131  64731500\n",
              "2012-01-04  26.820000  27.469999  26.780001  27.400000  22.132010  80516100\n",
              "2012-01-05  27.379999  27.730000  27.290001  27.680000  22.358179  56081400\n",
              "2012-01-06  27.530001  28.190001  27.530001  28.110001  22.705503  99455500\n",
              "2012-01-09  28.049999  28.100000  27.719999  27.740000  22.406643  59706800\n",
              "...               ...        ...        ...        ...        ...       ...\n",
              "2015-05-22  47.299999  47.349998  46.820000  46.900002  41.795231  25720600\n",
              "2015-05-26  46.830002  46.880001  46.189999  46.590000  41.518959  29581900\n",
              "2015-05-27  46.820000  47.770000  46.619999  47.610001  42.427933  27335600\n",
              "2015-05-28  47.500000  48.020000  47.389999  47.450001  42.285362  19283700\n",
              "2015-05-29  47.430000  47.570000  46.590000  46.860001  41.759571  36519600\n",
              "\n",
              "[856 rows x 6 columns]"
            ],
            "text/html": [
              "\n",
              "  <div id=\"df-8cc98c76-07b5-4016-829c-8193292cfc96\">\n",
              "    <div class=\"colab-df-container\">\n",
              "      <div>\n",
              "<style scoped>\n",
              "    .dataframe tbody tr th:only-of-type {\n",
              "        vertical-align: middle;\n",
              "    }\n",
              "\n",
              "    .dataframe tbody tr th {\n",
              "        vertical-align: top;\n",
              "    }\n",
              "\n",
              "    .dataframe thead th {\n",
              "        text-align: right;\n",
              "    }\n",
              "</style>\n",
              "<table border=\"1\" class=\"dataframe\">\n",
              "  <thead>\n",
              "    <tr style=\"text-align: right;\">\n",
              "      <th></th>\n",
              "      <th>Open</th>\n",
              "      <th>High</th>\n",
              "      <th>Low</th>\n",
              "      <th>Close</th>\n",
              "      <th>Adj Close</th>\n",
              "      <th>Volume</th>\n",
              "    </tr>\n",
              "    <tr>\n",
              "      <th>Date</th>\n",
              "      <th></th>\n",
              "      <th></th>\n",
              "      <th></th>\n",
              "      <th></th>\n",
              "      <th></th>\n",
              "      <th></th>\n",
              "    </tr>\n",
              "  </thead>\n",
              "  <tbody>\n",
              "    <tr>\n",
              "      <th>2012-01-03</th>\n",
              "      <td>26.549999</td>\n",
              "      <td>26.959999</td>\n",
              "      <td>26.389999</td>\n",
              "      <td>26.770000</td>\n",
              "      <td>21.623131</td>\n",
              "      <td>64731500</td>\n",
              "    </tr>\n",
              "    <tr>\n",
              "      <th>2012-01-04</th>\n",
              "      <td>26.820000</td>\n",
              "      <td>27.469999</td>\n",
              "      <td>26.780001</td>\n",
              "      <td>27.400000</td>\n",
              "      <td>22.132010</td>\n",
              "      <td>80516100</td>\n",
              "    </tr>\n",
              "    <tr>\n",
              "      <th>2012-01-05</th>\n",
              "      <td>27.379999</td>\n",
              "      <td>27.730000</td>\n",
              "      <td>27.290001</td>\n",
              "      <td>27.680000</td>\n",
              "      <td>22.358179</td>\n",
              "      <td>56081400</td>\n",
              "    </tr>\n",
              "    <tr>\n",
              "      <th>2012-01-06</th>\n",
              "      <td>27.530001</td>\n",
              "      <td>28.190001</td>\n",
              "      <td>27.530001</td>\n",
              "      <td>28.110001</td>\n",
              "      <td>22.705503</td>\n",
              "      <td>99455500</td>\n",
              "    </tr>\n",
              "    <tr>\n",
              "      <th>2012-01-09</th>\n",
              "      <td>28.049999</td>\n",
              "      <td>28.100000</td>\n",
              "      <td>27.719999</td>\n",
              "      <td>27.740000</td>\n",
              "      <td>22.406643</td>\n",
              "      <td>59706800</td>\n",
              "    </tr>\n",
              "    <tr>\n",
              "      <th>...</th>\n",
              "      <td>...</td>\n",
              "      <td>...</td>\n",
              "      <td>...</td>\n",
              "      <td>...</td>\n",
              "      <td>...</td>\n",
              "      <td>...</td>\n",
              "    </tr>\n",
              "    <tr>\n",
              "      <th>2015-05-22</th>\n",
              "      <td>47.299999</td>\n",
              "      <td>47.349998</td>\n",
              "      <td>46.820000</td>\n",
              "      <td>46.900002</td>\n",
              "      <td>41.795231</td>\n",
              "      <td>25720600</td>\n",
              "    </tr>\n",
              "    <tr>\n",
              "      <th>2015-05-26</th>\n",
              "      <td>46.830002</td>\n",
              "      <td>46.880001</td>\n",
              "      <td>46.189999</td>\n",
              "      <td>46.590000</td>\n",
              "      <td>41.518959</td>\n",
              "      <td>29581900</td>\n",
              "    </tr>\n",
              "    <tr>\n",
              "      <th>2015-05-27</th>\n",
              "      <td>46.820000</td>\n",
              "      <td>47.770000</td>\n",
              "      <td>46.619999</td>\n",
              "      <td>47.610001</td>\n",
              "      <td>42.427933</td>\n",
              "      <td>27335600</td>\n",
              "    </tr>\n",
              "    <tr>\n",
              "      <th>2015-05-28</th>\n",
              "      <td>47.500000</td>\n",
              "      <td>48.020000</td>\n",
              "      <td>47.389999</td>\n",
              "      <td>47.450001</td>\n",
              "      <td>42.285362</td>\n",
              "      <td>19283700</td>\n",
              "    </tr>\n",
              "    <tr>\n",
              "      <th>2015-05-29</th>\n",
              "      <td>47.430000</td>\n",
              "      <td>47.570000</td>\n",
              "      <td>46.590000</td>\n",
              "      <td>46.860001</td>\n",
              "      <td>41.759571</td>\n",
              "      <td>36519600</td>\n",
              "    </tr>\n",
              "  </tbody>\n",
              "</table>\n",
              "<p>856 rows × 6 columns</p>\n",
              "</div>\n",
              "      <button class=\"colab-df-convert\" onclick=\"convertToInteractive('df-8cc98c76-07b5-4016-829c-8193292cfc96')\"\n",
              "              title=\"Convert this dataframe to an interactive table.\"\n",
              "              style=\"display:none;\">\n",
              "        \n",
              "  <svg xmlns=\"http://www.w3.org/2000/svg\" height=\"24px\"viewBox=\"0 0 24 24\"\n",
              "       width=\"24px\">\n",
              "    <path d=\"M0 0h24v24H0V0z\" fill=\"none\"/>\n",
              "    <path d=\"M18.56 5.44l.94 2.06.94-2.06 2.06-.94-2.06-.94-.94-2.06-.94 2.06-2.06.94zm-11 1L8.5 8.5l.94-2.06 2.06-.94-2.06-.94L8.5 2.5l-.94 2.06-2.06.94zm10 10l.94 2.06.94-2.06 2.06-.94-2.06-.94-.94-2.06-.94 2.06-2.06.94z\"/><path d=\"M17.41 7.96l-1.37-1.37c-.4-.4-.92-.59-1.43-.59-.52 0-1.04.2-1.43.59L10.3 9.45l-7.72 7.72c-.78.78-.78 2.05 0 2.83L4 21.41c.39.39.9.59 1.41.59.51 0 1.02-.2 1.41-.59l7.78-7.78 2.81-2.81c.8-.78.8-2.07 0-2.86zM5.41 20L4 18.59l7.72-7.72 1.47 1.35L5.41 20z\"/>\n",
              "  </svg>\n",
              "      </button>\n",
              "      \n",
              "  <style>\n",
              "    .colab-df-container {\n",
              "      display:flex;\n",
              "      flex-wrap:wrap;\n",
              "      gap: 12px;\n",
              "    }\n",
              "\n",
              "    .colab-df-convert {\n",
              "      background-color: #E8F0FE;\n",
              "      border: none;\n",
              "      border-radius: 50%;\n",
              "      cursor: pointer;\n",
              "      display: none;\n",
              "      fill: #1967D2;\n",
              "      height: 32px;\n",
              "      padding: 0 0 0 0;\n",
              "      width: 32px;\n",
              "    }\n",
              "\n",
              "    .colab-df-convert:hover {\n",
              "      background-color: #E2EBFA;\n",
              "      box-shadow: 0px 1px 2px rgba(60, 64, 67, 0.3), 0px 1px 3px 1px rgba(60, 64, 67, 0.15);\n",
              "      fill: #174EA6;\n",
              "    }\n",
              "\n",
              "    [theme=dark] .colab-df-convert {\n",
              "      background-color: #3B4455;\n",
              "      fill: #D2E3FC;\n",
              "    }\n",
              "\n",
              "    [theme=dark] .colab-df-convert:hover {\n",
              "      background-color: #434B5C;\n",
              "      box-shadow: 0px 1px 3px 1px rgba(0, 0, 0, 0.15);\n",
              "      filter: drop-shadow(0px 1px 2px rgba(0, 0, 0, 0.3));\n",
              "      fill: #FFFFFF;\n",
              "    }\n",
              "  </style>\n",
              "\n",
              "      <script>\n",
              "        const buttonEl =\n",
              "          document.querySelector('#df-8cc98c76-07b5-4016-829c-8193292cfc96 button.colab-df-convert');\n",
              "        buttonEl.style.display =\n",
              "          google.colab.kernel.accessAllowed ? 'block' : 'none';\n",
              "\n",
              "        async function convertToInteractive(key) {\n",
              "          const element = document.querySelector('#df-8cc98c76-07b5-4016-829c-8193292cfc96');\n",
              "          const dataTable =\n",
              "            await google.colab.kernel.invokeFunction('convertToInteractive',\n",
              "                                                     [key], {});\n",
              "          if (!dataTable) return;\n",
              "\n",
              "          const docLinkHtml = 'Like what you see? Visit the ' +\n",
              "            '<a target=\"_blank\" href=https://colab.research.google.com/notebooks/data_table.ipynb>data table notebook</a>'\n",
              "            + ' to learn more about interactive tables.';\n",
              "          element.innerHTML = '';\n",
              "          dataTable['output_type'] = 'display_data';\n",
              "          await google.colab.output.renderOutput(dataTable, element);\n",
              "          const docLink = document.createElement('div');\n",
              "          docLink.innerHTML = docLinkHtml;\n",
              "          element.appendChild(docLink);\n",
              "        }\n",
              "      </script>\n",
              "    </div>\n",
              "  </div>\n",
              "  "
            ]
          },
          "metadata": {},
          "execution_count": 91
        }
      ],
      "source": [
        "data"
      ]
    },
    {
      "cell_type": "markdown",
      "source": [
        "**my own example 17**"
      ],
      "metadata": {
        "id": "2K7pLxCVEx7U"
      }
    },
    {
      "cell_type": "code",
      "source": [
        "data1010"
      ],
      "metadata": {
        "colab": {
          "base_uri": "https://localhost:8080/",
          "height": 455
        },
        "id": "ox8UisRdE0UG",
        "outputId": "e0583cf0-bd57-4258-9eb4-09719c95f355"
      },
      "execution_count": null,
      "outputs": [
        {
          "output_type": "execute_result",
          "data": {
            "text/plain": [
              "                 Open       High        Low      Close  Adj Close    Volume\n",
              "Date                                                                       \n",
              "2013-01-02  27.250000  27.730000  27.150000  27.620001  22.940655  52899300\n",
              "2013-01-03  27.629999  27.650000  27.160000  27.250000  22.633339  48294400\n",
              "2013-01-04  27.270000  27.340000  26.730000  26.740000  22.209740  52521100\n",
              "2013-01-07  26.770000  26.879999  26.639999  26.690001  22.168213  37110400\n",
              "2013-01-08  26.750000  26.790001  26.459999  26.549999  22.051929  44703100\n",
              "...               ...        ...        ...        ...        ...       ...\n",
              "2016-07-26  56.520000  57.290001  56.509998  56.759998  51.987892  28079000\n",
              "2016-07-27  56.610001  56.799999  56.110001  56.189999  51.465801  32327500\n",
              "2016-07-28  56.000000  56.369999  55.720001  56.209999  51.484135  37550400\n",
              "2016-07-29  56.259998  56.759998  56.049999  56.680000  51.914623  30558700\n",
              "2016-08-01  56.599998  56.750000  56.139999  56.580002  51.823029  26003400\n",
              "\n",
              "[902 rows x 6 columns]"
            ],
            "text/html": [
              "\n",
              "  <div id=\"df-2b75a048-d0a4-480e-82c3-bc44d714ede9\">\n",
              "    <div class=\"colab-df-container\">\n",
              "      <div>\n",
              "<style scoped>\n",
              "    .dataframe tbody tr th:only-of-type {\n",
              "        vertical-align: middle;\n",
              "    }\n",
              "\n",
              "    .dataframe tbody tr th {\n",
              "        vertical-align: top;\n",
              "    }\n",
              "\n",
              "    .dataframe thead th {\n",
              "        text-align: right;\n",
              "    }\n",
              "</style>\n",
              "<table border=\"1\" class=\"dataframe\">\n",
              "  <thead>\n",
              "    <tr style=\"text-align: right;\">\n",
              "      <th></th>\n",
              "      <th>Open</th>\n",
              "      <th>High</th>\n",
              "      <th>Low</th>\n",
              "      <th>Close</th>\n",
              "      <th>Adj Close</th>\n",
              "      <th>Volume</th>\n",
              "    </tr>\n",
              "    <tr>\n",
              "      <th>Date</th>\n",
              "      <th></th>\n",
              "      <th></th>\n",
              "      <th></th>\n",
              "      <th></th>\n",
              "      <th></th>\n",
              "      <th></th>\n",
              "    </tr>\n",
              "  </thead>\n",
              "  <tbody>\n",
              "    <tr>\n",
              "      <th>2013-01-02</th>\n",
              "      <td>27.250000</td>\n",
              "      <td>27.730000</td>\n",
              "      <td>27.150000</td>\n",
              "      <td>27.620001</td>\n",
              "      <td>22.940655</td>\n",
              "      <td>52899300</td>\n",
              "    </tr>\n",
              "    <tr>\n",
              "      <th>2013-01-03</th>\n",
              "      <td>27.629999</td>\n",
              "      <td>27.650000</td>\n",
              "      <td>27.160000</td>\n",
              "      <td>27.250000</td>\n",
              "      <td>22.633339</td>\n",
              "      <td>48294400</td>\n",
              "    </tr>\n",
              "    <tr>\n",
              "      <th>2013-01-04</th>\n",
              "      <td>27.270000</td>\n",
              "      <td>27.340000</td>\n",
              "      <td>26.730000</td>\n",
              "      <td>26.740000</td>\n",
              "      <td>22.209740</td>\n",
              "      <td>52521100</td>\n",
              "    </tr>\n",
              "    <tr>\n",
              "      <th>2013-01-07</th>\n",
              "      <td>26.770000</td>\n",
              "      <td>26.879999</td>\n",
              "      <td>26.639999</td>\n",
              "      <td>26.690001</td>\n",
              "      <td>22.168213</td>\n",
              "      <td>37110400</td>\n",
              "    </tr>\n",
              "    <tr>\n",
              "      <th>2013-01-08</th>\n",
              "      <td>26.750000</td>\n",
              "      <td>26.790001</td>\n",
              "      <td>26.459999</td>\n",
              "      <td>26.549999</td>\n",
              "      <td>22.051929</td>\n",
              "      <td>44703100</td>\n",
              "    </tr>\n",
              "    <tr>\n",
              "      <th>...</th>\n",
              "      <td>...</td>\n",
              "      <td>...</td>\n",
              "      <td>...</td>\n",
              "      <td>...</td>\n",
              "      <td>...</td>\n",
              "      <td>...</td>\n",
              "    </tr>\n",
              "    <tr>\n",
              "      <th>2016-07-26</th>\n",
              "      <td>56.520000</td>\n",
              "      <td>57.290001</td>\n",
              "      <td>56.509998</td>\n",
              "      <td>56.759998</td>\n",
              "      <td>51.987892</td>\n",
              "      <td>28079000</td>\n",
              "    </tr>\n",
              "    <tr>\n",
              "      <th>2016-07-27</th>\n",
              "      <td>56.610001</td>\n",
              "      <td>56.799999</td>\n",
              "      <td>56.110001</td>\n",
              "      <td>56.189999</td>\n",
              "      <td>51.465801</td>\n",
              "      <td>32327500</td>\n",
              "    </tr>\n",
              "    <tr>\n",
              "      <th>2016-07-28</th>\n",
              "      <td>56.000000</td>\n",
              "      <td>56.369999</td>\n",
              "      <td>55.720001</td>\n",
              "      <td>56.209999</td>\n",
              "      <td>51.484135</td>\n",
              "      <td>37550400</td>\n",
              "    </tr>\n",
              "    <tr>\n",
              "      <th>2016-07-29</th>\n",
              "      <td>56.259998</td>\n",
              "      <td>56.759998</td>\n",
              "      <td>56.049999</td>\n",
              "      <td>56.680000</td>\n",
              "      <td>51.914623</td>\n",
              "      <td>30558700</td>\n",
              "    </tr>\n",
              "    <tr>\n",
              "      <th>2016-08-01</th>\n",
              "      <td>56.599998</td>\n",
              "      <td>56.750000</td>\n",
              "      <td>56.139999</td>\n",
              "      <td>56.580002</td>\n",
              "      <td>51.823029</td>\n",
              "      <td>26003400</td>\n",
              "    </tr>\n",
              "  </tbody>\n",
              "</table>\n",
              "<p>902 rows × 6 columns</p>\n",
              "</div>\n",
              "      <button class=\"colab-df-convert\" onclick=\"convertToInteractive('df-2b75a048-d0a4-480e-82c3-bc44d714ede9')\"\n",
              "              title=\"Convert this dataframe to an interactive table.\"\n",
              "              style=\"display:none;\">\n",
              "        \n",
              "  <svg xmlns=\"http://www.w3.org/2000/svg\" height=\"24px\"viewBox=\"0 0 24 24\"\n",
              "       width=\"24px\">\n",
              "    <path d=\"M0 0h24v24H0V0z\" fill=\"none\"/>\n",
              "    <path d=\"M18.56 5.44l.94 2.06.94-2.06 2.06-.94-2.06-.94-.94-2.06-.94 2.06-2.06.94zm-11 1L8.5 8.5l.94-2.06 2.06-.94-2.06-.94L8.5 2.5l-.94 2.06-2.06.94zm10 10l.94 2.06.94-2.06 2.06-.94-2.06-.94-.94-2.06-.94 2.06-2.06.94z\"/><path d=\"M17.41 7.96l-1.37-1.37c-.4-.4-.92-.59-1.43-.59-.52 0-1.04.2-1.43.59L10.3 9.45l-7.72 7.72c-.78.78-.78 2.05 0 2.83L4 21.41c.39.39.9.59 1.41.59.51 0 1.02-.2 1.41-.59l7.78-7.78 2.81-2.81c.8-.78.8-2.07 0-2.86zM5.41 20L4 18.59l7.72-7.72 1.47 1.35L5.41 20z\"/>\n",
              "  </svg>\n",
              "      </button>\n",
              "      \n",
              "  <style>\n",
              "    .colab-df-container {\n",
              "      display:flex;\n",
              "      flex-wrap:wrap;\n",
              "      gap: 12px;\n",
              "    }\n",
              "\n",
              "    .colab-df-convert {\n",
              "      background-color: #E8F0FE;\n",
              "      border: none;\n",
              "      border-radius: 50%;\n",
              "      cursor: pointer;\n",
              "      display: none;\n",
              "      fill: #1967D2;\n",
              "      height: 32px;\n",
              "      padding: 0 0 0 0;\n",
              "      width: 32px;\n",
              "    }\n",
              "\n",
              "    .colab-df-convert:hover {\n",
              "      background-color: #E2EBFA;\n",
              "      box-shadow: 0px 1px 2px rgba(60, 64, 67, 0.3), 0px 1px 3px 1px rgba(60, 64, 67, 0.15);\n",
              "      fill: #174EA6;\n",
              "    }\n",
              "\n",
              "    [theme=dark] .colab-df-convert {\n",
              "      background-color: #3B4455;\n",
              "      fill: #D2E3FC;\n",
              "    }\n",
              "\n",
              "    [theme=dark] .colab-df-convert:hover {\n",
              "      background-color: #434B5C;\n",
              "      box-shadow: 0px 1px 3px 1px rgba(0, 0, 0, 0.15);\n",
              "      filter: drop-shadow(0px 1px 2px rgba(0, 0, 0, 0.3));\n",
              "      fill: #FFFFFF;\n",
              "    }\n",
              "  </style>\n",
              "\n",
              "      <script>\n",
              "        const buttonEl =\n",
              "          document.querySelector('#df-2b75a048-d0a4-480e-82c3-bc44d714ede9 button.colab-df-convert');\n",
              "        buttonEl.style.display =\n",
              "          google.colab.kernel.accessAllowed ? 'block' : 'none';\n",
              "\n",
              "        async function convertToInteractive(key) {\n",
              "          const element = document.querySelector('#df-2b75a048-d0a4-480e-82c3-bc44d714ede9');\n",
              "          const dataTable =\n",
              "            await google.colab.kernel.invokeFunction('convertToInteractive',\n",
              "                                                     [key], {});\n",
              "          if (!dataTable) return;\n",
              "\n",
              "          const docLinkHtml = 'Like what you see? Visit the ' +\n",
              "            '<a target=\"_blank\" href=https://colab.research.google.com/notebooks/data_table.ipynb>data table notebook</a>'\n",
              "            + ' to learn more about interactive tables.';\n",
              "          element.innerHTML = '';\n",
              "          dataTable['output_type'] = 'display_data';\n",
              "          await google.colab.output.renderOutput(dataTable, element);\n",
              "          const docLink = document.createElement('div');\n",
              "          docLink.innerHTML = docLinkHtml;\n",
              "          element.appendChild(docLink);\n",
              "        }\n",
              "      </script>\n",
              "    </div>\n",
              "  </div>\n",
              "  "
            ]
          },
          "metadata": {},
          "execution_count": 92
        }
      ]
    },
    {
      "cell_type": "markdown",
      "metadata": {
        "id": "diGtny7QEnEv"
      },
      "source": [
        "This is a pandas dataframe, so we can index in to just get price like this. For more info on pandas, please [click here](http://pandas.pydata.org/pandas-docs/stable/10min.html)."
      ]
    },
    {
      "cell_type": "code",
      "execution_count": null,
      "metadata": {
        "id": "vaf4dM2-EnEv"
      },
      "outputs": [],
      "source": [
        "X = data['Close']"
      ]
    },
    {
      "cell_type": "markdown",
      "source": [
        "**my own example 18**"
      ],
      "metadata": {
        "id": "XFh8iE0bE5SX"
      }
    },
    {
      "cell_type": "code",
      "source": [
        "x1010 = data1010[\"Close\"]"
      ],
      "metadata": {
        "id": "mjTqxI1tE7o9"
      },
      "execution_count": null,
      "outputs": []
    },
    {
      "cell_type": "markdown",
      "metadata": {
        "id": "1sTxUhA-EnEv"
      },
      "source": [
        "Because there is now also date information in our data, we provide two series to `.plot`. `X.index` gives us the datetime index, and `X.values` gives us the pricing values. These are used as the X and Y coordinates to make a graph."
      ]
    },
    {
      "cell_type": "code",
      "execution_count": null,
      "metadata": {
        "id": "2r71p2hsEnEv",
        "colab": {
          "base_uri": "https://localhost:8080/",
          "height": 265
        },
        "outputId": "68466fc5-6ec5-4902-ce91-3e5a0f255ab6"
      },
      "outputs": [
        {
          "output_type": "display_data",
          "data": {
            "text/plain": [
              "<Figure size 432x288 with 1 Axes>"
            ],
            "image/png": "[encoded data removed]"
          },
          "metadata": {
            "needs_background": "light"
          }
        }
      ],
      "source": [
        "plt.plot(X.index, X.values)\n",
        "plt.ylabel('Price')\n",
        "plt.legend(['MSFT']);"
      ]
    },
    {
      "cell_type": "markdown",
      "source": [
        "**my own example 19**"
      ],
      "metadata": {
        "id": "Alqip4FzE_iJ"
      }
    },
    {
      "cell_type": "code",
      "source": [
        "plt.plot(x1010.index, x1010.values)\n",
        "plt.ylabel(\"Price\")\n",
        "plt.legend([\"MFST\"])"
      ],
      "metadata": {
        "colab": {
          "base_uri": "https://localhost:8080/",
          "height": 282
        },
        "id": "DvscQ72ZFC23",
        "outputId": "41537819-228f-424a-e8d0-20d8d7bcc724"
      },
      "execution_count": null,
      "outputs": [
        {
          "output_type": "execute_result",
          "data": {
            "text/plain": [
              "<matplotlib.legend.Legend at 0x7f69f33b0c10>"
            ]
          },
          "metadata": {},
          "execution_count": 96
        },
        {
          "output_type": "display_data",
          "data": {
            "text/plain": [
              "<Figure size 432x288 with 1 Axes>"
            ],
            "image/png": "[encoded data removed]"
          },
          "metadata": {
            "needs_background": "light"
          }
        }
      ]
    },
    {
      "cell_type": "markdown",
      "metadata": {
        "id": "P3Ek8yFqEnEw"
      },
      "source": [
        "We can get statistics again on real data."
      ]
    },
    {
      "cell_type": "code",
      "execution_count": null,
      "metadata": {
        "id": "Tj9mYK7nEnEw",
        "colab": {
          "base_uri": "https://localhost:8080/"
        },
        "outputId": "cc8d6c80-4470-4614-a381-ba10d5618cc8"
      },
      "outputs": [
        {
          "output_type": "execute_result",
          "data": {
            "text/plain": [
              "36.05204441837061"
            ]
          },
          "metadata": {},
          "execution_count": 97
        }
      ],
      "source": [
        "np.mean(X)"
      ]
    },
    {
      "cell_type": "markdown",
      "source": [
        "**my own example 20**"
      ],
      "metadata": {
        "id": "WLm2Jep2FHxA"
      }
    },
    {
      "cell_type": "code",
      "source": [
        "np.mean(x1010)"
      ],
      "metadata": {
        "colab": {
          "base_uri": "https://localhost:8080/"
        },
        "id": "dSzMO6MoFKWl",
        "outputId": "94ec89ad-46f6-4759-c4ea-3894f48bff71"
      },
      "execution_count": null,
      "outputs": [
        {
          "output_type": "execute_result",
          "data": {
            "text/plain": [
              "42.4837361502806"
            ]
          },
          "metadata": {},
          "execution_count": 98
        }
      ]
    },
    {
      "cell_type": "code",
      "execution_count": null,
      "metadata": {
        "id": "XcdS5rHtEnEw",
        "colab": {
          "base_uri": "https://localhost:8080/"
        },
        "outputId": "dd3017e3-f68d-4c91-bc58-9797242464c3"
      },
      "outputs": [
        {
          "output_type": "execute_result",
          "data": {
            "text/plain": [
              "6.691260772637948"
            ]
          },
          "metadata": {},
          "execution_count": 99
        }
      ],
      "source": [
        "np.std(X)"
      ]
    },
    {
      "cell_type": "markdown",
      "source": [
        "**my own example 21**"
      ],
      "metadata": {
        "id": "iBQW3q82FOfe"
      }
    },
    {
      "cell_type": "code",
      "source": [
        "np.std(x1010)"
      ],
      "metadata": {
        "colab": {
          "base_uri": "https://localhost:8080/"
        },
        "id": "Lp7WozVUFQfs",
        "outputId": "1cde7d3a-9452-4da7-a74d-bcb338c39e2f"
      },
      "execution_count": null,
      "outputs": [
        {
          "output_type": "execute_result",
          "data": {
            "text/plain": [
              "7.903104357133068"
            ]
          },
          "metadata": {},
          "execution_count": 100
        }
      ]
    },
    {
      "cell_type": "markdown",
      "metadata": {
        "id": "j17G-VFVEnEw"
      },
      "source": [
        "##Getting Returns from Prices\n",
        "\n",
        "We can use the `pct_change` function to get returns. Notice how we drop the first element after doing this, as it will be `NaN` (nothing -> something results in a NaN percent change)."
      ]
    },
    {
      "cell_type": "code",
      "execution_count": null,
      "metadata": {
        "id": "3Y8YbrMUEnEw"
      },
      "outputs": [],
      "source": [
        "R = X.pct_change()[1:]"
      ]
    },
    {
      "cell_type": "markdown",
      "source": [
        "**my own example 22**"
      ],
      "metadata": {
        "id": "k0ijL5uVFUk4"
      }
    },
    {
      "cell_type": "code",
      "source": [
        "r1010 = x1010.pct_change()[1:]"
      ],
      "metadata": {
        "id": "6TBrWtpaFWjX"
      },
      "execution_count": null,
      "outputs": []
    },
    {
      "cell_type": "markdown",
      "metadata": {
        "id": "71Uay1KKEnEw"
      },
      "source": [
        "We can plot the returns distribution as a histogram."
      ]
    },
    {
      "cell_type": "code",
      "execution_count": null,
      "metadata": {
        "id": "B9MXHP_EEnEw",
        "colab": {
          "base_uri": "https://localhost:8080/",
          "height": 279
        },
        "outputId": "02b60767-f0a1-4e8b-d932-a1992cc6d054"
      },
      "outputs": [
        {
          "output_type": "display_data",
          "data": {
            "text/plain": [
              "<Figure size 432x288 with 1 Axes>"
            ],
            "image/png": "[encoded data removed]"
          },
          "metadata": {
            "needs_background": "light"
          }
        }
      ],
      "source": [
        "plt.hist(R, bins=20)\n",
        "plt.xlabel('Return')\n",
        "plt.ylabel('Frequency')\n",
        "plt.legend(['MSFT Returns']);"
      ]
    },
    {
      "cell_type": "markdown",
      "source": [
        "**my own example 23**"
      ],
      "metadata": {
        "id": "StGQykk9FZ0O"
      }
    },
    {
      "cell_type": "code",
      "source": [
        "plt.hist(r1010, bins = 10)\n",
        "plt.xlabel(\"Return\")\n",
        "plt.ylabel(\"Frequency\")\n",
        "plt.legend([\"MSFT Returns\"])"
      ],
      "metadata": {
        "colab": {
          "base_uri": "https://localhost:8080/",
          "height": 296
        },
        "id": "Eg3L92FYFZj7",
        "outputId": "54219db4-b20f-4d9a-aaa6-0462a149fab4"
      },
      "execution_count": null,
      "outputs": [
        {
          "output_type": "execute_result",
          "data": {
            "text/plain": [
              "<matplotlib.legend.Legend at 0x7f69f46e8750>"
            ]
          },
          "metadata": {},
          "execution_count": 104
        },
        {
          "output_type": "display_data",
          "data": {
            "text/plain": [
              "<Figure size 432x288 with 1 Axes>"
            ],
            "image/png": "[encoded data removed]"
          },
          "metadata": {
            "needs_background": "light"
          }
        }
      ]
    },
    {
      "cell_type": "markdown",
      "metadata": {
        "id": "CcPoe3DdEnEx"
      },
      "source": [
        "Get statistics again."
      ]
    },
    {
      "cell_type": "code",
      "execution_count": null,
      "metadata": {
        "colab": {
          "base_uri": "https://localhost:8080/"
        },
        "id": "11CaKif7EnEx",
        "outputId": "5c400724-5c93-4888-d781-87fe9b1c55a4"
      },
      "outputs": [
        {
          "output_type": "execute_result",
          "data": {
            "text/plain": [
              "0.0007593053938455802"
            ]
          },
          "metadata": {},
          "execution_count": 105
        }
      ],
      "source": [
        "np.mean(R)"
      ]
    },
    {
      "cell_type": "markdown",
      "source": [
        "**my own example 24**"
      ],
      "metadata": {
        "id": "D4cL5NYcFi9X"
      }
    },
    {
      "cell_type": "code",
      "source": [
        "np.mean(r1010)"
      ],
      "metadata": {
        "colab": {
          "base_uri": "https://localhost:8080/"
        },
        "id": "WTwru1BvFiw-",
        "outputId": "41c54452-b0fc-46b2-ecfe-d5e402ce631a"
      },
      "execution_count": null,
      "outputs": [
        {
          "output_type": "execute_result",
          "data": {
            "text/plain": [
              "0.000916791892003972"
            ]
          },
          "metadata": {},
          "execution_count": 106
        }
      ]
    },
    {
      "cell_type": "code",
      "execution_count": null,
      "metadata": {
        "colab": {
          "base_uri": "https://localhost:8080/"
        },
        "id": "zsIYQvb4EnEx",
        "outputId": "87806e66-92e1-48dc-d587-678f4e68fefd"
      },
      "outputs": [
        {
          "output_type": "execute_result",
          "data": {
            "text/plain": [
              "0.014427919863141542"
            ]
          },
          "metadata": {},
          "execution_count": 107
        }
      ],
      "source": [
        "np.std(R)"
      ]
    },
    {
      "cell_type": "markdown",
      "source": [
        "**my own example 25**"
      ],
      "metadata": {
        "id": "UiCynTD7FuCR"
      }
    },
    {
      "cell_type": "code",
      "source": [
        "np.std(r1010)"
      ],
      "metadata": {
        "colab": {
          "base_uri": "https://localhost:8080/"
        },
        "id": "-6zfa36NFuXu",
        "outputId": "9bf429b0-013e-483e-ffcf-d23efb08bc2b"
      },
      "execution_count": null,
      "outputs": [
        {
          "output_type": "execute_result",
          "data": {
            "text/plain": [
              "0.015523998929723868"
            ]
          },
          "metadata": {},
          "execution_count": 108
        }
      ]
    },
    {
      "cell_type": "markdown",
      "metadata": {
        "id": "gy8pR0Q6EnEx"
      },
      "source": [
        "Now let's go backwards and generate data out of a normal distribution using the statistics we estimated from Microsoft's returns. We'll see that we have good reason to suspect Microsoft's returns may not be normal, as the resulting normal distribution looks far different."
      ]
    },
    {
      "cell_type": "code",
      "execution_count": null,
      "metadata": {
        "colab": {
          "base_uri": "https://localhost:8080/",
          "height": 279
        },
        "id": "6gHkrbyzEnEx",
        "outputId": "7dbcda58-8adc-47d8-f4d7-a14944efff9b"
      },
      "outputs": [
        {
          "output_type": "display_data",
          "data": {
            "text/plain": [
              "<Figure size 432x288 with 1 Axes>"
            ],
            "image/png": "[encoded data removed]"
          },
          "metadata": {
            "needs_background": "light"
          }
        }
      ],
      "source": [
        "plt.hist(np.random.normal(np.mean(R), np.std(R), 10000), bins=20)\n",
        "plt.xlabel('Return')\n",
        "plt.ylabel('Frequency')\n",
        "plt.legend(['Normally Distributed Returns']);"
      ]
    },
    {
      "cell_type": "markdown",
      "source": [
        "**my own example 26**"
      ],
      "metadata": {
        "id": "x3kbiAaSF3Z6"
      }
    },
    {
      "cell_type": "code",
      "source": [
        "plt.hist(np.random.normal(np.mean(r1010), np.std(r1010), 10000),bins = 10)\n",
        "plt.xlabel('Return')\n",
        "plt.ylabel('Frequency')\n",
        "plt.legend(['Normally Distributed Returns']);"
      ],
      "metadata": {
        "colab": {
          "base_uri": "https://localhost:8080/",
          "height": 279
        },
        "id": "JPHxpjjdF3Oi",
        "outputId": "a8113ebe-6b2d-4233-ddbb-14cd01df9c87"
      },
      "execution_count": null,
      "outputs": [
        {
          "output_type": "display_data",
          "data": {
            "text/plain": [
              "<Figure size 432x288 with 1 Axes>"
            ],
            "image/png": "[encoded data removed]"
          },
          "metadata": {
            "needs_background": "light"
          }
        }
      ]
    },
    {
      "cell_type": "markdown",
      "metadata": {
        "id": "RhK0dRHQEnEx"
      },
      "source": [
        "##Generating a Moving Average\n",
        "\n",
        "`pandas` has some nice tools to allow us to generate rolling statistics. Here's an example. Notice how there's no moving average for the first 60 days, as we don't have 60 days of data on which to generate the statistic."
      ]
    },
    {
      "cell_type": "code",
      "execution_count": null,
      "metadata": {
        "colab": {
          "base_uri": "https://localhost:8080/",
          "height": 265
        },
        "id": "-Dg6Jj-aEnEx",
        "outputId": "7a88842d-efa3-4089-b25a-2590625fba7f"
      },
      "outputs": [
        {
          "output_type": "display_data",
          "data": {
            "text/plain": [
              "<Figure size 432x288 with 1 Axes>"
            ],
            "image/png": "[encoded data removed]"
          },
          "metadata": {
            "needs_background": "light"
          }
        }
      ],
      "source": [
        "# Take the average of the last 60 days at each timepoint.\n",
        "MAVG = X.rolling(2).mean()\n",
        "plt.plot(X.index, X.values)\n",
        "plt.plot(MAVG.index, MAVG.values)\n",
        "plt.ylabel('Price')\n",
        "plt.legend(['MSFT', '60-day MAVG']);"
      ]
    },
    {
      "cell_type": "markdown",
      "source": [
        "**my own example 27**"
      ],
      "metadata": {
        "id": "pPj6FvGhGBGA"
      }
    },
    {
      "cell_type": "code",
      "source": [
        "MAVG1010 = x1010.rolling(2).mean()\n",
        "plt.plot(x1010.index, x1010.values)\n",
        "plt.plot(MAVG1010.index, MAVG1010.values)\n",
        "plt.ylabel('Price')\n",
        "plt.legend(['MSFT', '60-day MAVG']);"
      ],
      "metadata": {
        "colab": {
          "base_uri": "https://localhost:8080/",
          "height": 265
        },
        "id": "UDAxi-ZZGA5_",
        "outputId": "e482170a-4909-4113-ab11-fdd58316214f"
      },
      "execution_count": null,
      "outputs": [
        {
          "output_type": "display_data",
          "data": {
            "text/plain": [
              "<Figure size 432x288 with 1 Axes>"
            ],
            "image/png": "[encoded data removed]"
          },
          "metadata": {
            "needs_background": "light"
          }
        }
      ]
    },
    {
      "cell_type": "markdown",
      "metadata": {
        "id": "T51K3OvSEnEy"
      },
      "source": [
        "This presentation is for informational purposes only and does not constitute an offer to sell, a solicitation to buy, or a recommendation for any security; nor does it constitute an offer to provide investment advisory or other services by Quantopian, Inc. (\"Quantopian\"). Nothing contained herein constitutes investment advice or offers any opinion with respect to the suitability of any security, and any views expressed herein should not be taken as advice to buy, sell, or hold any security or as an endorsement of any security or company. In preparing the information contained herein, Quantopian, Inc. has not taken into account the investment needs, objectives, and financial circumstances of any particular investor. Any views expressed and data illustrated herein were prepared based upon information, believed to be reliable, available to Quantopian, Inc. at the time of publication. Quantopian makes no guarantees as to their accuracy or completeness. All information is subject to change and may quickly become unreliable for various reasons, including changes in market conditions or economic circumstances."
      ]
    },
    {
      "cell_type": "markdown",
      "metadata": {
        "id": "vlZsrHJjFoDm"
      },
      "source": [
        "<div align=\"center\">\n",
        "<img style=\"display: block; margin: auto;\" alt=\"photo\" src=\"https://upload.wikimedia.org/wikipedia/en/d/de/Quantopian_logo_2017.png\">\n",
        "</div> \n",
        "\n",
        "# Introduction to Python\n",
        "by Maxwell Margenot\n",
        "\n",
        "Part of the Quantopian Lecture Series:\n",
        "\n",
        "* [www.quantopian.com/lectures](https://www.quantopian.com/lectures)\n",
        "* [github.com/quantopian/research_public](https://github.com/quantopian/research_public)\n",
        "\n",
        "\n",
        "---\n",
        "\n",
        "All of the coding that you will do on the Quantopian platform will be in Python. It is also just a good, jack-of-all-trades language to know! Here we will provide you with the basics so that you can feel confident going through our other lectures and understanding what is happening."
      ]
    },
    {
      "cell_type": "markdown",
      "metadata": {
        "id": "v_LtlPxAFoDq"
      },
      "source": [
        "## Code Comments\n",
        "\n",
        "A comment is a note made by a programmer in the source code of a program. Its purpose is to clarify the source code and make it easier for people to follow along with what is happening. Anything in a comment is generally ignored when the code is actually run, making comments useful for including explanations and reasoning as well as removing specific lines of code that you may be unsure about. Comments in Python are created by using the pound symbol (`# Insert Text Here`). Including a `#` in a line of code will comment out anything that follows it."
      ]
    },
    {
      "cell_type": "code",
      "execution_count": null,
      "metadata": {
        "id": "HzTSteQCFoDq"
      },
      "outputs": [],
      "source": [
        "# This is a comment\n",
        "# These lines of code will not change any values\n",
        "# Anything following the first # is not run as code"
      ]
    },
    {
      "cell_type": "markdown",
      "source": [
        "**my own example 28**"
      ],
      "metadata": {
        "id": "ctpnV6ePGKdT"
      }
    },
    {
      "cell_type": "code",
      "source": [
        "# Comentario"
      ],
      "metadata": {
        "id": "Mz49rl7OGKQX"
      },
      "execution_count": null,
      "outputs": []
    },
    {
      "cell_type": "markdown",
      "metadata": {
        "id": "PtVGWe--FoDs"
      },
      "source": [
        "You may hear text enclosed in triple quotes (`\"\"\" Insert Text Here \"\"\"`) referred to as multi-line comments, but this is not entirely accurate. This is a special type of `string` (a data type we will cover), called a `docstring`, used to explain the purpose of a function."
      ]
    },
    {
      "cell_type": "code",
      "execution_count": null,
      "metadata": {
        "colab": {
          "base_uri": "https://localhost:8080/",
          "height": 35
        },
        "id": "3CT735yUFoDs",
        "outputId": "e18588f2-5d19-4579-803a-c77498337040"
      },
      "outputs": [
        {
          "output_type": "execute_result",
          "data": {
            "text/plain": [
              "' This is a special string '"
            ],
            "application/vnd.google.colaboratory.intrinsic+json": {
              "type": "string"
            }
          },
          "metadata": {},
          "execution_count": 115
        }
      ],
      "source": [
        "\"\"\" This is a special string \"\"\""
      ]
    },
    {
      "cell_type": "markdown",
      "source": [
        "**my own example 29**"
      ],
      "metadata": {
        "id": "qHTTTbEmGQYV"
      }
    },
    {
      "cell_type": "code",
      "source": [
        "\"\"\"String especial en Python\"\"\""
      ],
      "metadata": {
        "colab": {
          "base_uri": "https://localhost:8080/",
          "height": 35
        },
        "id": "DDyVKjczGQNa",
        "outputId": "773c4145-8534-4d50-df70-33739430cb0f"
      },
      "execution_count": null,
      "outputs": [
        {
          "output_type": "execute_result",
          "data": {
            "text/plain": [
              "'String especial en Python'"
            ],
            "application/vnd.google.colaboratory.intrinsic+json": {
              "type": "string"
            }
          },
          "metadata": {},
          "execution_count": 116
        }
      ]
    },
    {
      "cell_type": "markdown",
      "metadata": {
        "id": "GL2nO4x4FoDs"
      },
      "source": [
        "Make sure you read the comments within each code cell (if they are there). They will provide more real-time explanations of what is going on as you look at each line of code."
      ]
    },
    {
      "cell_type": "markdown",
      "metadata": {
        "id": "uqjGQD7RFoDt"
      },
      "source": [
        "## Variables\n",
        "\n",
        "Variables provide names for values in programming. If you want to save a value for later or repeated use, you give the value a name, storing the contents in a variable. Variables in programming work in a fundamentally similar way to variables in algebra, but in Python they can take on various different data types.\n",
        "\n",
        "The basic variable types that we will cover in this section are `integers`, `floating point numbers`, `booleans`, and `strings`. \n",
        "\n",
        "An `integer` in programming is the same as in mathematics, a round number with no values after the decimal point. We use the built-in `print` function here to display the values of our variables as well as their types!"
      ]
    },
    {
      "cell_type": "code",
      "execution_count": null,
      "metadata": {
        "colab": {
          "base_uri": "https://localhost:8080/"
        },
        "id": "y04ss69-FoDt",
        "outputId": "fa51a5ff-5948-41ef-93e8-dcb587ef7e1d"
      },
      "outputs": [
        {
          "output_type": "stream",
          "name": "stdout",
          "text": [
            "50 <class 'int'>\n"
          ]
        }
      ],
      "source": [
        "my_integer = 50\n",
        "print(my_integer, type(my_integer))"
      ]
    },
    {
      "cell_type": "markdown",
      "source": [
        "**my own example 30**"
      ],
      "metadata": {
        "id": "2XcqmawYGXSR"
      }
    },
    {
      "cell_type": "code",
      "source": [
        "int1010 = 12546463\n",
        "print(int1010, type(int1010))"
      ],
      "metadata": {
        "colab": {
          "base_uri": "https://localhost:8080/"
        },
        "id": "S7XCgCn8GWzq",
        "outputId": "8c1e0b0b-431b-44a4-8f0a-09c889fab124"
      },
      "execution_count": null,
      "outputs": [
        {
          "output_type": "stream",
          "name": "stdout",
          "text": [
            "12546463 <class 'int'>\n"
          ]
        }
      ]
    },
    {
      "cell_type": "markdown",
      "metadata": {
        "id": "R-ZekhXqFoDu"
      },
      "source": [
        "Variables, regardless of type, are assigned by using a single equals sign (`=`). Variables are case-sensitive so any changes in variation in the capitals of a variable name will reference a different variable entirely."
      ]
    },
    {
      "cell_type": "code",
      "execution_count": null,
      "metadata": {
        "colab": {
          "base_uri": "https://localhost:8080/",
          "height": 183
        },
        "id": "G3RiuMSNFoDv",
        "outputId": "3c47b1c5-abbe-4916-f7d8-6fed20ae8606"
      },
      "outputs": [
        {
          "output_type": "error",
          "ename": "NameError",
          "evalue": "ignored",
          "traceback": [
            "\u001b[0;31m---------------------------------------------------------------------------\u001b[0m",
            "\u001b[0;31mNameError\u001b[0m                                 Traceback (most recent call last)",
            "\u001b[0;32m<ipython-input-119-6b74af782f90>\u001b[0m in \u001b[0;36m<module>\u001b[0;34m()\u001b[0m\n\u001b[1;32m      1\u001b[0m \u001b[0mone\u001b[0m \u001b[0;34m=\u001b[0m \u001b[0;36m1\u001b[0m\u001b[0;34m\u001b[0m\u001b[0;34m\u001b[0m\u001b[0m\n\u001b[0;32m----> 2\u001b[0;31m \u001b[0mprint\u001b[0m\u001b[0;34m(\u001b[0m\u001b[0mOne\u001b[0m\u001b[0;34m)\u001b[0m\u001b[0;34m\u001b[0m\u001b[0;34m\u001b[0m\u001b[0m\n\u001b[0m",
            "\u001b[0;31mNameError\u001b[0m: name 'One' is not defined"
          ]
        }
      ],
      "source": [
        "one = 1\n",
        "print(One)"
      ]
    },
    {
      "cell_type": "markdown",
      "source": [
        "**my own example 31**"
      ],
      "metadata": {
        "id": "crnxJ1pVGf-0"
      }
    },
    {
      "cell_type": "code",
      "source": [
        "one1010 = 11010\n",
        "print(one1010)"
      ],
      "metadata": {
        "colab": {
          "base_uri": "https://localhost:8080/"
        },
        "id": "qjehDkXIGfzN",
        "outputId": "c080a924-e771-4edb-a3e4-48a06f70cf4a"
      },
      "execution_count": null,
      "outputs": [
        {
          "output_type": "stream",
          "name": "stdout",
          "text": [
            "11010\n"
          ]
        }
      ]
    },
    {
      "cell_type": "markdown",
      "metadata": {
        "id": "5HTX8HdpFoDv"
      },
      "source": [
        "A `floating point` number, or a `float` is a fancy name for a real number (again as in mathematics). To define a `float`, we need to either include a decimal point or specify that the value is a float."
      ]
    },
    {
      "cell_type": "code",
      "execution_count": null,
      "metadata": {
        "colab": {
          "base_uri": "https://localhost:8080/"
        },
        "id": "zzWlMRAfFoDw",
        "scrolled": true,
        "outputId": "a8327846-3c30-4890-c0b1-99e8fe11c717"
      },
      "outputs": [
        {
          "output_type": "stream",
          "name": "stdout",
          "text": [
            "1.0 <class 'float'>\n",
            "1.0 <class 'float'>\n"
          ]
        }
      ],
      "source": [
        "my_float = 1.0\n",
        "print(my_float, type(my_float))\n",
        "my_float = float(1)\n",
        "print(my_float, type(my_float))"
      ]
    },
    {
      "cell_type": "markdown",
      "source": [
        "**my own example 32**"
      ],
      "metadata": {
        "id": "pdQ_pGGHGrHY"
      }
    },
    {
      "cell_type": "code",
      "source": [
        "float1010 = 10.1065985\n",
        "print(float1010, type(float1010))\n",
        "float1010 = float(105648456)\n",
        "print(float1010, type(float1010))"
      ],
      "metadata": {
        "colab": {
          "base_uri": "https://localhost:8080/"
        },
        "id": "a2-aw3jwGq6p",
        "outputId": "d1ba992d-3df0-4df3-afdb-f859cdcf09b7"
      },
      "execution_count": null,
      "outputs": [
        {
          "output_type": "stream",
          "name": "stdout",
          "text": [
            "10.1065985 <class 'float'>\n",
            "105648456.0 <class 'float'>\n"
          ]
        }
      ]
    },
    {
      "cell_type": "markdown",
      "metadata": {
        "id": "UkvGMNzFFoDw"
      },
      "source": [
        "A variable of type `float` will not round the number that you store in it, while a variable of type `integer` will. This makes `floats` more suitable for mathematical calculations where you want more than just integers.\n",
        "\n",
        "Note that as we used the `float()` function to force an number to be considered a `float`, we can use the `int()` function to force a number to be considered an `int`."
      ]
    },
    {
      "cell_type": "code",
      "execution_count": null,
      "metadata": {
        "colab": {
          "base_uri": "https://localhost:8080/"
        },
        "id": "9AMfS9UWFoDw",
        "outputId": "e1ae8e1f-bf0a-435d-cc4e-a564e7495deb"
      },
      "outputs": [
        {
          "output_type": "stream",
          "name": "stdout",
          "text": [
            "3 <class 'int'>\n"
          ]
        }
      ],
      "source": [
        "my_int = int(3.14159)\n",
        "print(my_int, type(my_int))"
      ]
    },
    {
      "cell_type": "markdown",
      "source": [
        "**my own example 33**"
      ],
      "metadata": {
        "id": "QhYAwY4QGw3-"
      }
    },
    {
      "cell_type": "code",
      "source": [
        "int1010 = int(10.65974849456)\n",
        "print(int1010, type(int1010))"
      ],
      "metadata": {
        "colab": {
          "base_uri": "https://localhost:8080/"
        },
        "id": "agBQDPldGwsi",
        "outputId": "3884fe76-f878-4d67-c348-efb1784a9407"
      },
      "execution_count": null,
      "outputs": [
        {
          "output_type": "stream",
          "name": "stdout",
          "text": [
            "10 <class 'int'>\n"
          ]
        }
      ]
    },
    {
      "cell_type": "markdown",
      "metadata": {
        "id": "xHx5IzlWFoDx"
      },
      "source": [
        "The `int()` function will also truncate any digits that a number may have after the decimal point!\n",
        "\n",
        "Strings allow you to include text as a variable to operate on. They are defined using either single quotes ('') or double quotes (\"\")."
      ]
    },
    {
      "cell_type": "code",
      "execution_count": null,
      "metadata": {
        "colab": {
          "base_uri": "https://localhost:8080/"
        },
        "id": "I0CTXrOJFoDx",
        "outputId": "b1350bf8-73b4-4843-8afa-a67f13fb6810"
      },
      "outputs": [
        {
          "output_type": "stream",
          "name": "stdout",
          "text": [
            "This is a string with single quotes\n",
            "This is a string with double quotes\n"
          ]
        }
      ],
      "source": [
        "my_string = 'This is a string with single quotes'\n",
        "print(my_string)\n",
        "my_string = \"This is a string with double quotes\"\n",
        "print(my_string)"
      ]
    },
    {
      "cell_type": "markdown",
      "source": [
        "**my own example 34**"
      ],
      "metadata": {
        "id": "sAPWBsGyG1_C"
      }
    },
    {
      "cell_type": "code",
      "source": [
        "stringCS = 'String con comillas sencillas'\n",
        "print(stringCS)\n",
        "stringCD = \"String con comillas dobles\"\n",
        "print(stringCD)"
      ],
      "metadata": {
        "colab": {
          "base_uri": "https://localhost:8080/"
        },
        "id": "nvVkWRRtG10H",
        "outputId": "f6f3c4a9-84f4-4bf9-ef6b-964e59d3c388"
      },
      "execution_count": null,
      "outputs": [
        {
          "output_type": "stream",
          "name": "stdout",
          "text": [
            "String con comillas sencillas\n",
            "String con comillas dobles\n"
          ]
        }
      ]
    },
    {
      "cell_type": "markdown",
      "metadata": {
        "id": "yfDKfL5pFoDx"
      },
      "source": [
        "Both are allowed so that we can include apostrophes or quotation marks in a string if we so choose."
      ]
    },
    {
      "cell_type": "code",
      "execution_count": null,
      "metadata": {
        "colab": {
          "base_uri": "https://localhost:8080/"
        },
        "id": "cG2x0vfLFoDx",
        "outputId": "774d078a-8339-4e3e-a7ef-8a578d2ed632"
      },
      "outputs": [
        {
          "output_type": "stream",
          "name": "stdout",
          "text": [
            "\"Jabberwocky\", by Lewis Carroll\n",
            "'Twas brillig, and the slithy toves / Did gyre and gimble in the wabe;\n"
          ]
        }
      ],
      "source": [
        "my_string = '\"Jabberwocky\", by Lewis Carroll'\n",
        "print(my_string)\n",
        "my_string = \"'Twas brillig, and the slithy toves / Did gyre and gimble in the wabe;\"\n",
        "print(my_string)"
      ]
    },
    {
      "cell_type": "markdown",
      "source": [
        "**my own example 35**"
      ],
      "metadata": {
        "id": "7J6Htp1qHKcD"
      }
    },
    {
      "cell_type": "code",
      "source": [
        "string1010 = '\"Prueba\", prueba'\n",
        "print(string1010)\n",
        "string1010 = \"'Prueba 2, dhjkasjhdjka / Did gyre and gimble in the wabe;\"\n",
        "print(string1010)"
      ],
      "metadata": {
        "colab": {
          "base_uri": "https://localhost:8080/"
        },
        "id": "6tk4MF5mHKOq",
        "outputId": "f4476f2c-d953-4a7e-9d45-31ae019a9e71"
      },
      "execution_count": null,
      "outputs": [
        {
          "output_type": "stream",
          "name": "stdout",
          "text": [
            "\"Prueba\", prueba\n",
            "'Prueba 2, dhjkasjhdjka / Did gyre and gimble in the wabe;\n"
          ]
        }
      ]
    },
    {
      "cell_type": "markdown",
      "metadata": {
        "id": "DQ99vPLTFoDy"
      },
      "source": [
        "Booleans, or `bools` are binary variable types. A `bool` can only take on one of two values, these being `True` or `False`. There is much more to this idea of truth values when it comes to programming, which we cover later in the [Logical Operators](#id-section5) of this notebook."
      ]
    },
    {
      "cell_type": "code",
      "execution_count": null,
      "metadata": {
        "colab": {
          "base_uri": "https://localhost:8080/"
        },
        "id": "GHnExq2RFoDy",
        "outputId": "e4c485b6-48e7-40a5-b6a8-38d3c00c5d1a"
      },
      "outputs": [
        {
          "output_type": "stream",
          "name": "stdout",
          "text": [
            "True <class 'bool'>\n"
          ]
        }
      ],
      "source": [
        "my_bool = True\n",
        "print(my_bool, type(my_bool))"
      ]
    },
    {
      "cell_type": "markdown",
      "source": [
        "**my own example 36**"
      ],
      "metadata": {
        "id": "uZQMQf11HP8z"
      }
    },
    {
      "cell_type": "code",
      "source": [
        "bool1010 = False\n",
        "print(bool1010, type(bool1010))"
      ],
      "metadata": {
        "colab": {
          "base_uri": "https://localhost:8080/"
        },
        "id": "4Fh91wR4HPx_",
        "outputId": "8fb74e3f-7295-4c6b-9fbf-585672cd65da"
      },
      "execution_count": null,
      "outputs": [
        {
          "output_type": "stream",
          "name": "stdout",
          "text": [
            "False <class 'bool'>\n"
          ]
        }
      ]
    },
    {
      "cell_type": "markdown",
      "metadata": {
        "id": "cpSPSEm3FoDy"
      },
      "source": [
        "There are many more data types that you can assign as variables in Python, but these are the basic ones! We will cover a few more later as we move through this tutorial."
      ]
    },
    {
      "cell_type": "markdown",
      "metadata": {
        "id": "PGCRBsP6FoDy"
      },
      "source": [
        "## Basic Math\n",
        "\n",
        "Python has a number of built-in math functions. These can be extended even further by importing the **math** package or by including any number of other calculation-based packages.\n",
        "\n",
        "All of the basic arithmetic operations are supported: `+`, `-`, `/`, and `*`. You can create exponents by using `**` and modular arithmetic is introduced with the mod operator, `%`."
      ]
    },
    {
      "cell_type": "code",
      "execution_count": null,
      "metadata": {
        "colab": {
          "base_uri": "https://localhost:8080/"
        },
        "id": "VM2xhbFdFoDy",
        "outputId": "382a4f61-f000-48d2-f0f8-a49998619770"
      },
      "outputs": [
        {
          "output_type": "stream",
          "name": "stdout",
          "text": [
            "Addition:  4\n",
            "Subtraction:  3\n",
            "Multiplication:  10\n",
            "Division:  5.0\n",
            "Exponentiation:  9\n"
          ]
        }
      ],
      "source": [
        "print('Addition: ', 2 + 2)\n",
        "print('Subtraction: ', 7 - 4)\n",
        "print('Multiplication: ', 2 * 5)\n",
        "print('Division: ', 10 / 2)\n",
        "print('Exponentiation: ', 3**2)"
      ]
    },
    {
      "cell_type": "markdown",
      "source": [
        "**my own example 37**"
      ],
      "metadata": {
        "id": "Qi4J1nj3HU6s"
      }
    },
    {
      "cell_type": "code",
      "source": [
        "print('Addition: ', 24564 + 45648464)\n",
        "print('Subtraction: ', 897797496 - 4063456)\n",
        "print('Multiplication: ', 658796 * 45648)\n",
        "print('Division: ', 15460 / 265)\n",
        "print('Exponentiation: ', 30**4)"
      ],
      "metadata": {
        "colab": {
          "base_uri": "https://localhost:8080/"
        },
        "id": "SJXmVm2RHUty",
        "outputId": "d43cd7ed-bcd0-48f8-f672-72df882b4a44"
      },
      "execution_count": null,
      "outputs": [
        {
          "output_type": "stream",
          "name": "stdout",
          "text": [
            "Addition:  45673028\n",
            "Subtraction:  893734040\n",
            "Multiplication:  30072719808\n",
            "Division:  58.339622641509436\n",
            "Exponentiation:  810000\n"
          ]
        }
      ]
    },
    {
      "cell_type": "markdown",
      "metadata": {
        "id": "5LzOa0NOFoDz"
      },
      "source": [
        "If you are not familiar with the the mod operator, it operates like a remainder function. If we type $15 \\ \\% \\ 4$, it will return the remainder after dividing $15$ by $4$."
      ]
    },
    {
      "cell_type": "code",
      "execution_count": null,
      "metadata": {
        "colab": {
          "base_uri": "https://localhost:8080/"
        },
        "id": "lAtQTTtxFoDz",
        "outputId": "82ab941e-647b-4768-e3b0-7448d363ce29"
      },
      "outputs": [
        {
          "output_type": "stream",
          "name": "stdout",
          "text": [
            "Modulo:  3\n"
          ]
        }
      ],
      "source": [
        "print('Modulo: ', 15 % 4)"
      ]
    },
    {
      "cell_type": "markdown",
      "source": [
        "**my own example 38**"
      ],
      "metadata": {
        "id": "4A13hq6hHhBg"
      }
    },
    {
      "cell_type": "code",
      "source": [
        "print('Modulo: ', 15206 % 4203)"
      ],
      "metadata": {
        "colab": {
          "base_uri": "https://localhost:8080/"
        },
        "id": "a6J7SMs9Hg2C",
        "outputId": "4c91ffd1-3a16-44f7-dad6-a04be35f8df5"
      },
      "execution_count": null,
      "outputs": [
        {
          "output_type": "stream",
          "name": "stdout",
          "text": [
            "Modulo:  2597\n"
          ]
        }
      ]
    },
    {
      "cell_type": "markdown",
      "metadata": {
        "id": "C-wTIUthFoDz"
      },
      "source": [
        "Mathematical functions also work on variables!"
      ]
    },
    {
      "cell_type": "code",
      "execution_count": null,
      "metadata": {
        "colab": {
          "base_uri": "https://localhost:8080/"
        },
        "id": "bN2FqLkbFoDz",
        "scrolled": true,
        "outputId": "f7ac96f7-08d9-485a-9e9c-e578e056c93b"
      },
      "outputs": [
        {
          "output_type": "stream",
          "name": "stdout",
          "text": [
            "20\n"
          ]
        }
      ],
      "source": [
        "first_integer = 4\n",
        "second_integer = 5\n",
        "print(first_integer * second_integer)"
      ]
    },
    {
      "cell_type": "markdown",
      "source": [
        "**my own example 39**"
      ],
      "metadata": {
        "id": "RzIYLRhmHl6L"
      }
    },
    {
      "cell_type": "code",
      "source": [
        "int1010 = 44564126\n",
        "int10102 = 5489798456\n",
        "print(int1010 * int10102)"
      ],
      "metadata": {
        "colab": {
          "base_uri": "https://localhost:8080/"
        },
        "id": "q7HSPdhIHluT",
        "outputId": "8b9c4183-3edf-4563-e9ce-7ff235935bfc"
      },
      "execution_count": null,
      "outputs": [
        {
          "output_type": "stream",
          "name": "stdout",
          "text": [
            "244648070107789456\n"
          ]
        }
      ]
    },
    {
      "cell_type": "markdown",
      "metadata": {
        "id": "KT-9L5fqFoDz"
      },
      "source": [
        "Make sure that your variables are floats if you want to have decimal points in your answer. If you perform math exclusively with integers, you get an integer. Including any float in the calculation will make the result a float."
      ]
    },
    {
      "cell_type": "code",
      "execution_count": null,
      "metadata": {
        "colab": {
          "base_uri": "https://localhost:8080/"
        },
        "id": "Al3l_xmQFoD0",
        "outputId": "ae597e7f-4ac1-44ed-fe21-38f95f37146b"
      },
      "outputs": [
        {
          "output_type": "stream",
          "name": "stdout",
          "text": [
            "3.6666666666666665\n"
          ]
        }
      ],
      "source": [
        "first_integer = 11\n",
        "second_integer = 3\n",
        "print(first_integer / second_integer)"
      ]
    },
    {
      "cell_type": "code",
      "execution_count": null,
      "metadata": {
        "colab": {
          "base_uri": "https://localhost:8080/"
        },
        "id": "bpDcvmfHFoD0",
        "outputId": "0e7ee400-f1c5-44de-faa4-7f4640c69547"
      },
      "outputs": [
        {
          "output_type": "stream",
          "name": "stdout",
          "text": [
            "3.6666666666666665\n"
          ]
        }
      ],
      "source": [
        "first_number = 11.0\n",
        "second_number = 3.0\n",
        "print(first_number / second_number)"
      ]
    },
    {
      "cell_type": "markdown",
      "source": [
        "**my own example 40**"
      ],
      "metadata": {
        "id": "vrkpRjVHHtEc"
      }
    },
    {
      "cell_type": "code",
      "source": [
        "int1010 = 4654.456\n",
        "int10102 = 879879.20\n",
        "print(int1010 / int10102)"
      ],
      "metadata": {
        "colab": {
          "base_uri": "https://localhost:8080/"
        },
        "id": "D1qpItUWHs-h",
        "outputId": "06ecf661-16ae-4bf5-a949-5cb458a0f04c"
      },
      "execution_count": null,
      "outputs": [
        {
          "output_type": "stream",
          "name": "stdout",
          "text": [
            "0.00528988070180543\n"
          ]
        }
      ]
    },
    {
      "cell_type": "markdown",
      "metadata": {
        "id": "D-pXsykpFoD0"
      },
      "source": [
        "Python has a few built-in math functions. The most notable of these are:\n",
        "\n",
        "* `abs()`\n",
        "* `round()`\n",
        "* `max()`\n",
        "* `min()`\n",
        "* `sum()`\n",
        "\n",
        "These functions all act as you would expect, given their names. Calling `abs()` on a number will return its absolute value. The `round()` function will round a number to a specified number of the decimal points (the default is $0$). Calling `max()` or `min()` on a collection of numbers will return, respectively, the maximum or minimum value in the collection. Calling `sum()` on a collection of numbers will add them all up. If you're not familiar with how collections of values in Python work, don't worry! We will cover collections in-depth in the next section. \n",
        "\n",
        "Additional math functionality can be added in with the `math` package."
      ]
    },
    {
      "cell_type": "code",
      "execution_count": null,
      "metadata": {
        "id": "emPg334BFoD0"
      },
      "outputs": [],
      "source": [
        "import math"
      ]
    },
    {
      "cell_type": "markdown",
      "metadata": {
        "id": "McyMZcnQFoD0"
      },
      "source": [
        "The math library adds a long list of new mathematical functions to Python. Feel free to check out the [documentation](https://docs.python.org/2/library/math.html) for the full list and details. It concludes some mathematical constants"
      ]
    },
    {
      "cell_type": "code",
      "execution_count": null,
      "metadata": {
        "colab": {
          "base_uri": "https://localhost:8080/"
        },
        "id": "L2k9rxKzFoD0",
        "outputId": "7542441f-3d92-4769-ca65-f34506577da0"
      },
      "outputs": [
        {
          "output_type": "stream",
          "name": "stdout",
          "text": [
            "Pi:  3.141592653589793\n",
            "Euler's Constant:  2.718281828459045\n"
          ]
        }
      ],
      "source": [
        "print('Pi: ', math.pi)\n",
        "print(\"Euler's Constant: \", math.e)"
      ]
    },
    {
      "cell_type": "markdown",
      "metadata": {
        "id": "9Rv4S_NjFoD0"
      },
      "source": [
        "As well as some commonly used math functions"
      ]
    },
    {
      "cell_type": "code",
      "execution_count": null,
      "metadata": {
        "colab": {
          "base_uri": "https://localhost:8080/"
        },
        "id": "VWf7haJBFoD1",
        "outputId": "bbd26346-29b5-40f4-cc12-0a6aa31b5d15"
      },
      "outputs": [
        {
          "output_type": "stream",
          "name": "stdout",
          "text": [
            "Cosine of pi:  -1.0\n"
          ]
        }
      ],
      "source": [
        "print('Cosine of pi: ', math.cos(math.pi))"
      ]
    },
    {
      "cell_type": "markdown",
      "metadata": {
        "id": "4IXs_3ueFoD1"
      },
      "source": [
        "## Collections\n",
        "### Lists\n",
        "\n",
        "A `list` in Python is an ordered collection of objects that can contain any data type. We define a `list` using brackets (`[]`)."
      ]
    },
    {
      "cell_type": "code",
      "execution_count": null,
      "metadata": {
        "colab": {
          "base_uri": "https://localhost:8080/"
        },
        "id": "VaKo0mCRFoD1",
        "outputId": "028add97-6a41-49d5-97c4-10ba5878801e"
      },
      "outputs": [
        {
          "output_type": "stream",
          "name": "stdout",
          "text": [
            "[1, 2, 3]\n"
          ]
        }
      ],
      "source": [
        "my_list = [1, 2, 3]\n",
        "print(my_list)"
      ]
    },
    {
      "cell_type": "markdown",
      "source": [
        "**my own example 41**"
      ],
      "metadata": {
        "id": "7Ce7wxeDH17-"
      }
    },
    {
      "cell_type": "code",
      "source": [
        "list1010 = [123, 245, 3889]\n",
        "print(list1010)"
      ],
      "metadata": {
        "colab": {
          "base_uri": "https://localhost:8080/"
        },
        "id": "AMm_QYySH1v1",
        "outputId": "ee89a0ba-491e-463c-d41a-f449aae5c872"
      },
      "execution_count": null,
      "outputs": [
        {
          "output_type": "stream",
          "name": "stdout",
          "text": [
            "[123, 245, 3889]\n"
          ]
        }
      ]
    },
    {
      "cell_type": "markdown",
      "metadata": {
        "id": "qMKvepO5FoD1"
      },
      "source": [
        "We can access and index the list by using brackets as well. In order to select an individual element, simply type the list name followed by the index of the item you are looking for in braces."
      ]
    },
    {
      "cell_type": "code",
      "execution_count": null,
      "metadata": {
        "colab": {
          "base_uri": "https://localhost:8080/"
        },
        "id": "TvaK4gOgFoD1",
        "outputId": "9ded2640-b93d-4d4c-af63-6057aa414cb8"
      },
      "outputs": [
        {
          "output_type": "stream",
          "name": "stdout",
          "text": [
            "1\n",
            "3\n"
          ]
        }
      ],
      "source": [
        "print(my_list[0])\n",
        "print(my_list[2])"
      ]
    },
    {
      "cell_type": "markdown",
      "source": [
        "**my own example 42**"
      ],
      "metadata": {
        "id": "tMcuRM0EH7S2"
      }
    },
    {
      "cell_type": "code",
      "source": [
        "print(list1010[0])\n",
        "print(list1010[1])\n",
        "print(list1010[2])"
      ],
      "metadata": {
        "colab": {
          "base_uri": "https://localhost:8080/"
        },
        "id": "sxB1srjYH7HU",
        "outputId": "12f27a7d-0429-4d44-ae4b-551e44c76a1e"
      },
      "execution_count": null,
      "outputs": [
        {
          "output_type": "stream",
          "name": "stdout",
          "text": [
            "123\n",
            "245\n",
            "3889\n"
          ]
        }
      ]
    },
    {
      "cell_type": "markdown",
      "metadata": {
        "id": "rw1U2_RsFoD1"
      },
      "source": [
        "Indexing in Python starts from $0$. If you have a list of length $n$, the first element of the list is at index $0$, the second element is at index $1$, and so on and so forth. The final element of the list will be at index $n-1$. Be careful! Trying to access a non-existent index will cause an error."
      ]
    },
    {
      "cell_type": "code",
      "execution_count": null,
      "metadata": {
        "colab": {
          "base_uri": "https://localhost:8080/",
          "height": 200
        },
        "id": "a5OIwA_aFoD1",
        "outputId": "d010da5b-44e2-42f5-8e3c-35a39cdf930f"
      },
      "outputs": [
        {
          "output_type": "stream",
          "name": "stdout",
          "text": [
            "The first, second, and third list elements:  1 2 3\n"
          ]
        },
        {
          "output_type": "error",
          "ename": "IndexError",
          "evalue": "ignored",
          "traceback": [
            "\u001b[0;31m---------------------------------------------------------------------------\u001b[0m",
            "\u001b[0;31mIndexError\u001b[0m                                Traceback (most recent call last)",
            "\u001b[0;32m<ipython-input-148-a098d5dd42c3>\u001b[0m in \u001b[0;36m<module>\u001b[0;34m()\u001b[0m\n\u001b[1;32m      1\u001b[0m \u001b[0mprint\u001b[0m\u001b[0;34m(\u001b[0m\u001b[0;34m'The first, second, and third list elements: '\u001b[0m\u001b[0;34m,\u001b[0m \u001b[0mmy_list\u001b[0m\u001b[0;34m[\u001b[0m\u001b[0;36m0\u001b[0m\u001b[0;34m]\u001b[0m\u001b[0;34m,\u001b[0m \u001b[0mmy_list\u001b[0m\u001b[0;34m[\u001b[0m\u001b[0;36m1\u001b[0m\u001b[0;34m]\u001b[0m\u001b[0;34m,\u001b[0m \u001b[0mmy_list\u001b[0m\u001b[0;34m[\u001b[0m\u001b[0;36m2\u001b[0m\u001b[0;34m]\u001b[0m\u001b[0;34m)\u001b[0m\u001b[0;34m\u001b[0m\u001b[0;34m\u001b[0m\u001b[0m\n\u001b[0;32m----> 2\u001b[0;31m \u001b[0mprint\u001b[0m\u001b[0;34m(\u001b[0m\u001b[0;34m'Accessing outside the list bounds causes an error: '\u001b[0m\u001b[0;34m,\u001b[0m \u001b[0mmy_list\u001b[0m\u001b[0;34m[\u001b[0m\u001b[0;36m3\u001b[0m\u001b[0;34m]\u001b[0m\u001b[0;34m)\u001b[0m\u001b[0;34m\u001b[0m\u001b[0;34m\u001b[0m\u001b[0m\n\u001b[0m",
            "\u001b[0;31mIndexError\u001b[0m: list index out of range"
          ]
        }
      ],
      "source": [
        "print('The first, second, and third list elements: ', my_list[0], my_list[1], my_list[2])\n",
        "print('Accessing outside the list bounds causes an error: ', my_list[3])"
      ]
    },
    {
      "cell_type": "markdown",
      "source": [
        "**my own example 43**"
      ],
      "metadata": {
        "id": "zosoKeszICwA"
      }
    },
    {
      "cell_type": "code",
      "source": [
        "print('The first, second, and third list elements: ', list1010[0], list1010[1], list1010[2])\n",
        "print('Accessing outside the list bounds causes an error: ', list1010[2])"
      ],
      "metadata": {
        "colab": {
          "base_uri": "https://localhost:8080/"
        },
        "id": "cBaKTvf2IClQ",
        "outputId": "ac67de64-60aa-4646-947b-a76bac406ad2"
      },
      "execution_count": null,
      "outputs": [
        {
          "output_type": "stream",
          "name": "stdout",
          "text": [
            "The first, second, and third list elements:  123 245 3889\n",
            "Accessing outside the list bounds causes an error:  3889\n"
          ]
        }
      ]
    },
    {
      "cell_type": "markdown",
      "metadata": {
        "id": "L7hR-hrAFoD2"
      },
      "source": [
        "We can see the number of elements in a list by calling the `len()` function."
      ]
    },
    {
      "cell_type": "code",
      "execution_count": null,
      "metadata": {
        "colab": {
          "base_uri": "https://localhost:8080/"
        },
        "id": "XX7u73fJFoD2",
        "outputId": "bee24ccb-77ab-43c5-c5ae-91e75e1392e1"
      },
      "outputs": [
        {
          "output_type": "stream",
          "name": "stdout",
          "text": [
            "3\n"
          ]
        }
      ],
      "source": [
        "print(len(my_list))"
      ]
    },
    {
      "cell_type": "markdown",
      "metadata": {
        "id": "J_PbE6tRFoD2"
      },
      "source": [
        "We can update and change a list by accessing an index and assigning new value."
      ]
    },
    {
      "cell_type": "code",
      "execution_count": null,
      "metadata": {
        "colab": {
          "base_uri": "https://localhost:8080/"
        },
        "id": "Bj6Q87-5FoD2",
        "outputId": "84b933ce-ef35-4175-b304-2b98ffad2d45"
      },
      "outputs": [
        {
          "output_type": "stream",
          "name": "stdout",
          "text": [
            "[1, 2, 3]\n",
            "[42, 2, 3]\n"
          ]
        }
      ],
      "source": [
        "print(my_list)\n",
        "my_list[0] = 42\n",
        "print(my_list)"
      ]
    },
    {
      "cell_type": "markdown",
      "source": [
        "**my own example 44**"
      ],
      "metadata": {
        "id": "sIhg6ymgIIoc"
      }
    },
    {
      "cell_type": "code",
      "source": [
        "print(list1010)\n",
        "list1010[1] = 4256\n",
        "print(list1010)"
      ],
      "metadata": {
        "colab": {
          "base_uri": "https://localhost:8080/"
        },
        "id": "iSck27FUIIda",
        "outputId": "2c0f1093-c9e8-41e2-e5e8-e5330e741762"
      },
      "execution_count": null,
      "outputs": [
        {
          "output_type": "stream",
          "name": "stdout",
          "text": [
            "[123, 245, 3889]\n",
            "[123, 4256, 3889]\n"
          ]
        }
      ]
    },
    {
      "cell_type": "markdown",
      "metadata": {
        "id": "MuVSNrtkFoD2"
      },
      "source": [
        "This is fundamentally different from how strings are handled. A `list` is mutable, meaning that you can change a `list`'s elements without changing the list itself. Some data types, like `strings`, are immutable, meaning you cannot change them at all. Once a `string` or other immutable data type has been created, it cannot be directly modified without creating an entirely new object."
      ]
    },
    {
      "cell_type": "code",
      "execution_count": null,
      "metadata": {
        "colab": {
          "base_uri": "https://localhost:8080/",
          "height": 183
        },
        "id": "GoyEP8i3FoD2",
        "outputId": "99068655-17c8-4442-c644-a5f937e6d719"
      },
      "outputs": [
        {
          "output_type": "error",
          "ename": "TypeError",
          "evalue": "ignored",
          "traceback": [
            "\u001b[0;31m---------------------------------------------------------------------------\u001b[0m",
            "\u001b[0;31mTypeError\u001b[0m                                 Traceback (most recent call last)",
            "\u001b[0;32m<ipython-input-155-85065ecd61ab>\u001b[0m in \u001b[0;36m<module>\u001b[0;34m()\u001b[0m\n\u001b[1;32m      1\u001b[0m \u001b[0mmy_string\u001b[0m \u001b[0;34m=\u001b[0m \u001b[0;34m\"Strings never change\"\u001b[0m\u001b[0;34m\u001b[0m\u001b[0;34m\u001b[0m\u001b[0m\n\u001b[0;32m----> 2\u001b[0;31m \u001b[0mmy_string\u001b[0m\u001b[0;34m[\u001b[0m\u001b[0;36m0\u001b[0m\u001b[0;34m]\u001b[0m \u001b[0;34m=\u001b[0m \u001b[0;34m'Z'\u001b[0m\u001b[0;34m\u001b[0m\u001b[0;34m\u001b[0m\u001b[0m\n\u001b[0m",
            "\u001b[0;31mTypeError\u001b[0m: 'str' object does not support item assignment"
          ]
        }
      ],
      "source": [
        "my_string = \"Strings never change\"\n",
        "my_string[0] = 'Z'"
      ]
    },
    {
      "cell_type": "markdown",
      "source": [
        "**my own exmaple 45**"
      ],
      "metadata": {
        "id": "IHior2KkIQe2"
      }
    },
    {
      "cell_type": "code",
      "source": [
        "string1010 = \"Prueba\"\n",
        "string1010[0] ='A'\n",
        "print(string1010)"
      ],
      "metadata": {
        "colab": {
          "base_uri": "https://localhost:8080/",
          "height": 200
        },
        "id": "JXyQOUqSIQPu",
        "outputId": "e4bbe47a-0fc4-4988-b250-0131ced386d1"
      },
      "execution_count": null,
      "outputs": [
        {
          "output_type": "error",
          "ename": "TypeError",
          "evalue": "ignored",
          "traceback": [
            "\u001b[0;31m---------------------------------------------------------------------------\u001b[0m",
            "\u001b[0;31mTypeError\u001b[0m                                 Traceback (most recent call last)",
            "\u001b[0;32m<ipython-input-157-87daa078f9a5>\u001b[0m in \u001b[0;36m<module>\u001b[0;34m()\u001b[0m\n\u001b[1;32m      1\u001b[0m \u001b[0mstring1010\u001b[0m \u001b[0;34m=\u001b[0m \u001b[0;34m\"Prueba\"\u001b[0m\u001b[0;34m\u001b[0m\u001b[0;34m\u001b[0m\u001b[0m\n\u001b[0;32m----> 2\u001b[0;31m \u001b[0mstring1010\u001b[0m\u001b[0;34m[\u001b[0m\u001b[0;36m0\u001b[0m\u001b[0;34m]\u001b[0m \u001b[0;34m=\u001b[0m\u001b[0;34m'A'\u001b[0m\u001b[0;34m\u001b[0m\u001b[0;34m\u001b[0m\u001b[0m\n\u001b[0m\u001b[1;32m      3\u001b[0m \u001b[0mprint\u001b[0m\u001b[0;34m(\u001b[0m\u001b[0mstring1010\u001b[0m\u001b[0;34m)\u001b[0m\u001b[0;34m\u001b[0m\u001b[0;34m\u001b[0m\u001b[0m\n",
            "\u001b[0;31mTypeError\u001b[0m: 'str' object does not support item assignment"
          ]
        }
      ]
    },
    {
      "cell_type": "markdown",
      "metadata": {
        "id": "_RDIF2aaFoD2"
      },
      "source": [
        "As we stated before, a list can contain any data type. Thus, lists can also contain strings."
      ]
    },
    {
      "cell_type": "code",
      "execution_count": null,
      "metadata": {
        "colab": {
          "base_uri": "https://localhost:8080/"
        },
        "id": "ir0UkJXoFoD3",
        "outputId": "da75d1b1-62a2-4736-fe20-d7019125d589"
      },
      "outputs": [
        {
          "output_type": "stream",
          "name": "stdout",
          "text": [
            "['one', 'two', 'three']\n"
          ]
        }
      ],
      "source": [
        "my_list_2 = ['one', 'two', 'three']\n",
        "print(my_list_2)"
      ]
    },
    {
      "cell_type": "markdown",
      "source": [
        "**my own example 46**"
      ],
      "metadata": {
        "id": "2nPojTobIVfO"
      }
    },
    {
      "cell_type": "code",
      "source": [
        "list10102 = ['uno', 'dos', 'tres']\n",
        "print(list10102)"
      ],
      "metadata": {
        "colab": {
          "base_uri": "https://localhost:8080/"
        },
        "id": "HEPIp3IyIVUe",
        "outputId": "f2e82316-c7a6-480a-edb5-312510d73d81"
      },
      "execution_count": null,
      "outputs": [
        {
          "output_type": "stream",
          "name": "stdout",
          "text": [
            "['uno', 'dos', 'tres']\n"
          ]
        }
      ]
    },
    {
      "cell_type": "markdown",
      "metadata": {
        "id": "jdQh8CaAFoD3"
      },
      "source": [
        "Lists can also contain multiple different data types at once!"
      ]
    },
    {
      "cell_type": "code",
      "execution_count": null,
      "metadata": {
        "id": "Sw44yHNcFoD3"
      },
      "outputs": [],
      "source": [
        "my_list_3 = [True, 'False', 42]"
      ]
    },
    {
      "cell_type": "markdown",
      "source": [
        "**my own example 47**"
      ],
      "metadata": {
        "id": "X_pRNd-9IbFL"
      }
    },
    {
      "cell_type": "code",
      "source": [
        "list10103 = [True, 'True', 4256]\n",
        "print(list10103)"
      ],
      "metadata": {
        "colab": {
          "base_uri": "https://localhost:8080/"
        },
        "id": "I31sP8PqIa3f",
        "outputId": "71133e74-0ca7-4313-af23-017df7be2031"
      },
      "execution_count": null,
      "outputs": [
        {
          "output_type": "stream",
          "name": "stdout",
          "text": [
            "[True, 'True', 4256]\n"
          ]
        }
      ]
    },
    {
      "cell_type": "markdown",
      "metadata": {
        "id": "HJ9JUXP4FoD3"
      },
      "source": [
        "If you want to put two lists together, they can be combined with a `+` symbol."
      ]
    },
    {
      "cell_type": "code",
      "execution_count": null,
      "metadata": {
        "colab": {
          "base_uri": "https://localhost:8080/"
        },
        "id": "gMH5VwORFoD3",
        "outputId": "9f23431e-2e64-401d-a8c8-a67bc0413397"
      },
      "outputs": [
        {
          "output_type": "stream",
          "name": "stdout",
          "text": [
            "[42, 2, 3, 'one', 'two', 'three', True, 'False', 42]\n"
          ]
        }
      ],
      "source": [
        "my_list_4 = my_list + my_list_2 + my_list_3\n",
        "print(my_list_4)"
      ]
    },
    {
      "cell_type": "markdown",
      "source": [
        "**my own example 48**"
      ],
      "metadata": {
        "id": "Ws4SrgqdIhWR"
      }
    },
    {
      "cell_type": "code",
      "source": [
        "list10104 = list1010 +list10102 + list10103\n",
        "print(list10104)"
      ],
      "metadata": {
        "colab": {
          "base_uri": "https://localhost:8080/"
        },
        "id": "_sxMG_sSIhQ7",
        "outputId": "8ee7e237-07e7-4830-b70e-7c1880ba100d"
      },
      "execution_count": null,
      "outputs": [
        {
          "output_type": "stream",
          "name": "stdout",
          "text": [
            "[123, 4256, 3889, 'uno', 'dos', 'tres', True, 'True', 4256]\n"
          ]
        }
      ]
    },
    {
      "cell_type": "markdown",
      "metadata": {
        "id": "fFKwuDVlFoD3"
      },
      "source": [
        "In addition to accessing individual elements of a list, we can access groups of elements through slicing."
      ]
    },
    {
      "cell_type": "code",
      "execution_count": null,
      "metadata": {
        "id": "LuBcG0F-FoD3"
      },
      "outputs": [],
      "source": [
        "my_list = ['friends', 'romans', 'countrymen', 'lend', 'me', 'your', 'ears']"
      ]
    },
    {
      "cell_type": "markdown",
      "source": [
        "**my own example 49**"
      ],
      "metadata": {
        "id": "nudJ2SFNImyN"
      }
    },
    {
      "cell_type": "code",
      "source": [
        "list1010 = [\"uno\", \"dos\", \"tres\", \"cuatro\", \"cinco\", \"seis\", \"siete\"]"
      ],
      "metadata": {
        "id": "8axGVBXkImsm"
      },
      "execution_count": null,
      "outputs": []
    },
    {
      "cell_type": "markdown",
      "metadata": {
        "id": "-KQfwrvWFoD4"
      },
      "source": [
        "#### Slicing\n",
        "\n",
        "We use the colon (`:`) to slice lists. "
      ]
    },
    {
      "cell_type": "code",
      "execution_count": null,
      "metadata": {
        "colab": {
          "base_uri": "https://localhost:8080/"
        },
        "id": "mpSXnk-4FoD4",
        "scrolled": true,
        "outputId": "cf3cbc15-c7e3-498a-c5cf-3a538eb7d3a9"
      },
      "outputs": [
        {
          "output_type": "stream",
          "name": "stdout",
          "text": [
            "['countrymen', 'lend']\n"
          ]
        }
      ],
      "source": [
        "print(my_list[2:4])"
      ]
    },
    {
      "cell_type": "markdown",
      "source": [
        "**my own example 50**"
      ],
      "metadata": {
        "id": "COsMtA4hIssQ"
      }
    },
    {
      "cell_type": "code",
      "source": [
        "print(list1010[2:5])"
      ],
      "metadata": {
        "colab": {
          "base_uri": "https://localhost:8080/"
        },
        "id": "UEkPZgGDIshU",
        "outputId": "95137387-d87c-41cd-a5c3-23f14cffee63"
      },
      "execution_count": null,
      "outputs": [
        {
          "output_type": "stream",
          "name": "stdout",
          "text": [
            "['tres', 'cuatro', 'cinco']\n"
          ]
        }
      ]
    },
    {
      "cell_type": "markdown",
      "metadata": {
        "id": "zQDjVMNqFoD4"
      },
      "source": [
        "Using `:` we can select a group of elements in the list starting from the first element indicated and going up to  (but not including) the last element indicated.\n",
        "\n",
        "We can also select everything after a certain point"
      ]
    },
    {
      "cell_type": "code",
      "execution_count": null,
      "metadata": {
        "colab": {
          "base_uri": "https://localhost:8080/"
        },
        "id": "7Hg8AlVrFoD4",
        "scrolled": true,
        "outputId": "a8c82a10-6822-42af-e1b5-38f1e75d4d77"
      },
      "outputs": [
        {
          "output_type": "stream",
          "name": "stdout",
          "text": [
            "['romans', 'countrymen', 'lend', 'me', 'your', 'ears']\n"
          ]
        }
      ],
      "source": [
        "print(my_list[1:])"
      ]
    },
    {
      "cell_type": "markdown",
      "source": [
        "**my own example 51**"
      ],
      "metadata": {
        "id": "EV-quPygIyHL"
      }
    },
    {
      "cell_type": "code",
      "source": [
        "print(list1010[3:])"
      ],
      "metadata": {
        "colab": {
          "base_uri": "https://localhost:8080/"
        },
        "id": "Bsihd-A1Ix7y",
        "outputId": "0c2edad8-8f8b-4dd6-c1b6-a6474ab6aacd"
      },
      "execution_count": null,
      "outputs": [
        {
          "output_type": "stream",
          "name": "stdout",
          "text": [
            "['cuatro', 'cinco', 'seis', 'siete']\n"
          ]
        }
      ]
    },
    {
      "cell_type": "markdown",
      "metadata": {
        "id": "TtpCetfyFoD4"
      },
      "source": [
        "And everything before a certain point"
      ]
    },
    {
      "cell_type": "code",
      "execution_count": null,
      "metadata": {
        "colab": {
          "base_uri": "https://localhost:8080/"
        },
        "id": "uTSBNghEFoD4",
        "scrolled": true,
        "outputId": "6ec0178d-0fdf-466c-f791-4cc96bae37df"
      },
      "outputs": [
        {
          "output_type": "stream",
          "name": "stdout",
          "text": [
            "['friends', 'romans', 'countrymen', 'lend']\n"
          ]
        }
      ],
      "source": [
        "print(my_list[:4])"
      ]
    },
    {
      "cell_type": "markdown",
      "source": [
        "**my own example 52**"
      ],
      "metadata": {
        "id": "Vt6uDZ6SI3_9"
      }
    },
    {
      "cell_type": "code",
      "source": [
        "print(list1010[:5])"
      ],
      "metadata": {
        "colab": {
          "base_uri": "https://localhost:8080/"
        },
        "id": "fq0fH-iGI30j",
        "outputId": "45ae2d39-d646-4e31-bf10-8c291dc138b5"
      },
      "execution_count": null,
      "outputs": [
        {
          "output_type": "stream",
          "name": "stdout",
          "text": [
            "['uno', 'dos', 'tres', 'cuatro', 'cinco']\n"
          ]
        }
      ]
    },
    {
      "cell_type": "markdown",
      "metadata": {
        "id": "-clmh8qeFoD4"
      },
      "source": [
        "Using negative numbers will count from the end of the indices instead of from the beginning. For example, an index of `-1` indicates the last element of the list."
      ]
    },
    {
      "cell_type": "code",
      "execution_count": null,
      "metadata": {
        "colab": {
          "base_uri": "https://localhost:8080/"
        },
        "id": "rZFoZxinFoD4",
        "outputId": "282dda48-ac42-4701-b2b8-c6d4794f7047"
      },
      "outputs": [
        {
          "output_type": "stream",
          "name": "stdout",
          "text": [
            "ears\n"
          ]
        }
      ],
      "source": [
        "print(my_list[-1])"
      ]
    },
    {
      "cell_type": "markdown",
      "source": [
        "**my own example 53**"
      ],
      "metadata": {
        "id": "idI8gURCI-RS"
      }
    },
    {
      "cell_type": "code",
      "source": [
        "print(list1010[-1])"
      ],
      "metadata": {
        "colab": {
          "base_uri": "https://localhost:8080/"
        },
        "id": "NYUxsXb4I-GB",
        "outputId": "0518770f-0193-4614-d40a-db91ef89d66f"
      },
      "execution_count": null,
      "outputs": [
        {
          "output_type": "stream",
          "name": "stdout",
          "text": [
            "siete\n"
          ]
        }
      ]
    },
    {
      "cell_type": "markdown",
      "metadata": {
        "id": "nVwM9euhFoD5"
      },
      "source": [
        "You can also add a third component to slicing. Instead of simply indicating the first and final parts of your slice, you can specify the step size that you want to take. So instead of taking every single element, you can take every other element."
      ]
    },
    {
      "cell_type": "code",
      "execution_count": null,
      "metadata": {
        "colab": {
          "base_uri": "https://localhost:8080/"
        },
        "id": "IAB5tIZIFoD5",
        "outputId": "47c7504d-2886-4534-9526-2740bd91e4fa"
      },
      "outputs": [
        {
          "output_type": "stream",
          "name": "stdout",
          "text": [
            "['friends', 'countrymen', 'me', 'ears']\n"
          ]
        }
      ],
      "source": [
        "print(my_list[0:7:2])"
      ]
    },
    {
      "cell_type": "markdown",
      "source": [
        "**my own example 54**"
      ],
      "metadata": {
        "id": "UrGD1AXTJJzj"
      }
    },
    {
      "cell_type": "code",
      "source": [
        "print(list1010[1:6:2])"
      ],
      "metadata": {
        "colab": {
          "base_uri": "https://localhost:8080/"
        },
        "id": "gXB0RWadJJlp",
        "outputId": "7d241fff-1162-4635-e74b-1caf72886f4c"
      },
      "execution_count": null,
      "outputs": [
        {
          "output_type": "stream",
          "name": "stdout",
          "text": [
            "['dos', 'cuatro', 'seis']\n"
          ]
        }
      ]
    },
    {
      "cell_type": "markdown",
      "metadata": {
        "id": "MexIuTBkFoD5"
      },
      "source": [
        "Here we have selected the entire list (because `0:7` will yield elements `0` through `6`) and we have selected a step size of `2`. So this will spit out element `0` , element `2`, element `4`, and so on through the list element selected. We can skip indicated the beginning and end of our slice, only indicating the step, if we like."
      ]
    },
    {
      "cell_type": "code",
      "execution_count": null,
      "metadata": {
        "colab": {
          "base_uri": "https://localhost:8080/"
        },
        "id": "vffUQsX8FoD5",
        "outputId": "78a1892f-9674-41fb-9e1d-f5308a8892e7"
      },
      "outputs": [
        {
          "output_type": "stream",
          "name": "stdout",
          "text": [
            "['friends', 'countrymen', 'me', 'ears']\n"
          ]
        }
      ],
      "source": [
        "print(my_list[::2])"
      ]
    },
    {
      "cell_type": "markdown",
      "source": [
        "**my own example 55**"
      ],
      "metadata": {
        "id": "HuJ5C2i5JQS5"
      }
    },
    {
      "cell_type": "code",
      "source": [
        "print(list1010[::3])"
      ],
      "metadata": {
        "colab": {
          "base_uri": "https://localhost:8080/"
        },
        "id": "H0KzQrypJQHz",
        "outputId": "2da22028-252c-4137-c2d9-ccf67ee20e3d"
      },
      "execution_count": null,
      "outputs": [
        {
          "output_type": "stream",
          "name": "stdout",
          "text": [
            "['uno', 'cuatro', 'siete']\n"
          ]
        }
      ]
    },
    {
      "cell_type": "markdown",
      "metadata": {
        "id": "H9VMPjYtFoD5"
      },
      "source": [
        "Lists implictly select the beginning and end of the list when not otherwise specified."
      ]
    },
    {
      "cell_type": "code",
      "execution_count": null,
      "metadata": {
        "colab": {
          "base_uri": "https://localhost:8080/"
        },
        "id": "MYjDHm27FoD5",
        "outputId": "508f86c8-769d-444a-fde9-9790e0999114"
      },
      "outputs": [
        {
          "output_type": "stream",
          "name": "stdout",
          "text": [
            "['friends', 'romans', 'countrymen', 'lend', 'me', 'your', 'ears']\n"
          ]
        }
      ],
      "source": [
        "print(my_list[:])"
      ]
    },
    {
      "cell_type": "markdown",
      "source": [
        "**my own example 56**"
      ],
      "metadata": {
        "id": "Dwc-oZ87JVfj"
      }
    },
    {
      "cell_type": "code",
      "source": [
        "print(list1010[:])"
      ],
      "metadata": {
        "colab": {
          "base_uri": "https://localhost:8080/"
        },
        "id": "wTSJQQkdJVSD",
        "outputId": "cef13d81-f061-4ca9-f651-b36f23636939"
      },
      "execution_count": null,
      "outputs": [
        {
          "output_type": "stream",
          "name": "stdout",
          "text": [
            "['uno', 'dos', 'tres', 'cuatro', 'cinco', 'seis', 'siete']\n"
          ]
        }
      ]
    },
    {
      "cell_type": "markdown",
      "metadata": {
        "id": "cjo1zwgFFoD5"
      },
      "source": [
        "With a negative step size we can even reverse the list!"
      ]
    },
    {
      "cell_type": "code",
      "execution_count": null,
      "metadata": {
        "colab": {
          "base_uri": "https://localhost:8080/"
        },
        "id": "OWN0poONFoD5",
        "outputId": "7d234262-129f-45ea-82a0-478e51d70ebe"
      },
      "outputs": [
        {
          "output_type": "stream",
          "name": "stdout",
          "text": [
            "['ears', 'your', 'me', 'lend', 'countrymen', 'romans', 'friends']\n"
          ]
        }
      ],
      "source": [
        "print(my_list[::-1])"
      ]
    },
    {
      "cell_type": "markdown",
      "source": [
        "**my own example 57**"
      ],
      "metadata": {
        "id": "x2sonBfuJZ9X"
      }
    },
    {
      "cell_type": "code",
      "source": [
        "print(list1010[5:1:-1])"
      ],
      "metadata": {
        "colab": {
          "base_uri": "https://localhost:8080/"
        },
        "id": "rq-YEv-TJZyH",
        "outputId": "95163e2e-91d8-4cf1-9890-bed1740c44da"
      },
      "execution_count": null,
      "outputs": [
        {
          "output_type": "stream",
          "name": "stdout",
          "text": [
            "['seis', 'cinco', 'cuatro', 'tres']\n"
          ]
        }
      ]
    },
    {
      "cell_type": "markdown",
      "metadata": {
        "id": "x6_6xtF2FoD6"
      },
      "source": [
        "Python does not have native matrices, but with lists we can produce a working fascimile. Other packages, such as `numpy`, add matrices as a separate data type, but in base Python the best way to create a matrix is to use a list of lists."
      ]
    },
    {
      "cell_type": "markdown",
      "metadata": {
        "id": "zWqgZdeEFoD6"
      },
      "source": [
        "We can also use built-in functions to generate lists. In particular we will look at `range()` (because we will be using it later!). Range can take several different inputs and will return a list."
      ]
    },
    {
      "cell_type": "code",
      "execution_count": null,
      "metadata": {
        "colab": {
          "base_uri": "https://localhost:8080/"
        },
        "id": "Wd-P0xfxFoD6",
        "outputId": "9b9aeef7-5abf-4017-d584-1a1a7eca3734"
      },
      "outputs": [
        {
          "output_type": "stream",
          "name": "stdout",
          "text": [
            "range(0, 10)\n"
          ]
        }
      ],
      "source": [
        "b = 10\n",
        "my_list = range(b)\n",
        "print(my_list)"
      ]
    },
    {
      "cell_type": "markdown",
      "source": [
        "**my own example 58**"
      ],
      "metadata": {
        "id": "P5lde1tLJhDB"
      }
    },
    {
      "cell_type": "code",
      "source": [
        "b1010 = 22\n",
        "list1010 = range(b1010)\n",
        "print(list1010)"
      ],
      "metadata": {
        "colab": {
          "base_uri": "https://localhost:8080/"
        },
        "id": "Q5lsStbtJg3X",
        "outputId": "85c301fa-6dcc-45f8-a042-088ea0f0c8f3"
      },
      "execution_count": null,
      "outputs": [
        {
          "output_type": "stream",
          "name": "stdout",
          "text": [
            "range(0, 22)\n"
          ]
        }
      ]
    },
    {
      "cell_type": "markdown",
      "metadata": {
        "id": "_md2uQsnFoD6"
      },
      "source": [
        "Similar to our list-slicing methods from before, we can define both a start and an end for our range. This will return a list that is includes the start and excludes the end, just like a slice."
      ]
    },
    {
      "cell_type": "code",
      "execution_count": null,
      "metadata": {
        "colab": {
          "base_uri": "https://localhost:8080/"
        },
        "id": "wdk3ho-UFoD6",
        "outputId": "366f826f-9bc9-4eda-8186-221b2b74fd41"
      },
      "outputs": [
        {
          "output_type": "stream",
          "name": "stdout",
          "text": [
            "range(0, 10)\n"
          ]
        }
      ],
      "source": [
        "a = 0\n",
        "b = 10\n",
        "my_list = range(a, b)\n",
        "print(my_list)"
      ]
    },
    {
      "cell_type": "markdown",
      "source": [
        "**my own example 59**"
      ],
      "metadata": {
        "id": "KNd8A4InJoTr"
      }
    },
    {
      "cell_type": "code",
      "source": [
        "a1010 = 5\n",
        "b1010 = 18\n",
        "list1010 = range(a1010, b1010)\n",
        "print(list1010)"
      ],
      "metadata": {
        "colab": {
          "base_uri": "https://localhost:8080/"
        },
        "id": "fQhZYhyxJoHa",
        "outputId": "52037778-2565-48b9-978c-ecc644c93552"
      },
      "execution_count": null,
      "outputs": [
        {
          "output_type": "stream",
          "name": "stdout",
          "text": [
            "range(5, 18)\n"
          ]
        }
      ]
    },
    {
      "cell_type": "markdown",
      "metadata": {
        "id": "Jg-GPGK2FoD6"
      },
      "source": [
        "We can also specify a step size. This again has the same behavior as a slice."
      ]
    },
    {
      "cell_type": "code",
      "execution_count": null,
      "metadata": {
        "colab": {
          "base_uri": "https://localhost:8080/"
        },
        "id": "FcwF1eTEFoD6",
        "scrolled": true,
        "outputId": "f6f50ff8-2f87-4548-e74d-08ad4461b95d"
      },
      "outputs": [
        {
          "output_type": "stream",
          "name": "stdout",
          "text": [
            "range(0, 10, 2)\n"
          ]
        }
      ],
      "source": [
        "a = 0\n",
        "b = 10\n",
        "step = 2\n",
        "my_list = range(a, b, step)\n",
        "print(my_list)"
      ]
    },
    {
      "cell_type": "markdown",
      "source": [
        "**my own example 60**"
      ],
      "metadata": {
        "id": "-3W0sYbxJsPS"
      }
    },
    {
      "cell_type": "code",
      "source": [
        "a1010 = 5\n",
        "b1010 = 165\n",
        "s1010 = 15\n",
        "list1010 = range(a1010, b1010, s1010)\n",
        "print(list1010)"
      ],
      "metadata": {
        "colab": {
          "base_uri": "https://localhost:8080/"
        },
        "id": "Qn0RiL00JsJt",
        "outputId": "b8b0d00b-0864-472a-8962-2d2296ce2712"
      },
      "execution_count": null,
      "outputs": [
        {
          "output_type": "stream",
          "name": "stdout",
          "text": [
            "range(5, 165, 15)\n"
          ]
        }
      ]
    },
    {
      "cell_type": "markdown",
      "metadata": {
        "id": "ZmyePuhlFoD6"
      },
      "source": [
        "### Tuples\n",
        "\n",
        "A `tuple` is a data type similar to a list in that it can hold different kinds of data types. The key difference here is that a `tuple` is immutable. We define a `tuple` by separating the elements we want to include by commas. It is conventional to surround a `tuple` with parentheses."
      ]
    },
    {
      "cell_type": "code",
      "execution_count": null,
      "metadata": {
        "colab": {
          "base_uri": "https://localhost:8080/"
        },
        "id": "9ysQy7WlFoD7",
        "outputId": "a3545841-2bef-45d4-902a-ec3bf4d130fe"
      },
      "outputs": [
        {
          "output_type": "stream",
          "name": "stdout",
          "text": [
            "('I', 'have', 30, 'cats')\n"
          ]
        }
      ],
      "source": [
        "my_tuple = 'I', 'have', 30, 'cats'\n",
        "print(my_tuple)"
      ]
    },
    {
      "cell_type": "markdown",
      "source": [
        "**my own example 61**"
      ],
      "metadata": {
        "id": "feJCZhwiJ0jT"
      }
    },
    {
      "cell_type": "code",
      "source": [
        "tuple1010 = 'uno', 'dos', 350, 'tres'\n",
        "print(tuple1010)"
      ],
      "metadata": {
        "colab": {
          "base_uri": "https://localhost:8080/"
        },
        "id": "rU17WPolJ0V6",
        "outputId": "741ff5a8-f9a5-4cff-8c61-81f156a3c26a"
      },
      "execution_count": null,
      "outputs": [
        {
          "output_type": "stream",
          "name": "stdout",
          "text": [
            "('uno', 'dos', 350, 'tres')\n"
          ]
        }
      ]
    },
    {
      "cell_type": "code",
      "execution_count": null,
      "metadata": {
        "colab": {
          "base_uri": "https://localhost:8080/"
        },
        "id": "tPZCo0-ZFoD7",
        "outputId": "691e10c7-0c05-4020-93ba-e94e28d4931f"
      },
      "outputs": [
        {
          "output_type": "stream",
          "name": "stdout",
          "text": [
            "('I', 'have', 30, 'cats')\n"
          ]
        }
      ],
      "source": [
        "my_tuple = ('I', 'have', 30, 'cats')\n",
        "print(my_tuple)"
      ]
    },
    {
      "cell_type": "markdown",
      "source": [
        "**my own example 62**"
      ],
      "metadata": {
        "id": "yYFst_ELJ6SG"
      }
    },
    {
      "cell_type": "code",
      "source": [
        "tuple1010 = ('uno', 'dos', 350, 'tres')\n",
        "print(tuple1010)"
      ],
      "metadata": {
        "colab": {
          "base_uri": "https://localhost:8080/"
        },
        "id": "pud0-j5EJ6Gm",
        "outputId": "d103e298-163a-47dc-a6ed-0864957dae41"
      },
      "execution_count": null,
      "outputs": [
        {
          "output_type": "stream",
          "name": "stdout",
          "text": [
            "('uno', 'dos', 350, 'tres')\n"
          ]
        }
      ]
    },
    {
      "cell_type": "markdown",
      "metadata": {
        "id": "_Je71O5DFoD7"
      },
      "source": [
        "As mentioned before, tuples are immutable. You can't change any part of them without defining a new tuple."
      ]
    },
    {
      "cell_type": "code",
      "execution_count": null,
      "metadata": {
        "colab": {
          "base_uri": "https://localhost:8080/",
          "height": 165
        },
        "id": "oe088TXRFoD7",
        "outputId": "9fe2d59e-db3d-49c5-e6a6-22a8e3c91142"
      },
      "outputs": [
        {
          "output_type": "error",
          "ename": "TypeError",
          "evalue": "ignored",
          "traceback": [
            "\u001b[0;31m---------------------------------------------------------------------------\u001b[0m",
            "\u001b[0;31mTypeError\u001b[0m                                 Traceback (most recent call last)",
            "\u001b[0;32m<ipython-input-193-c821a6bdb1a6>\u001b[0m in \u001b[0;36m<module>\u001b[0;34m()\u001b[0m\n\u001b[0;32m----> 1\u001b[0;31m \u001b[0mmy_tuple\u001b[0m\u001b[0;34m[\u001b[0m\u001b[0;36m3\u001b[0m\u001b[0;34m]\u001b[0m \u001b[0;34m=\u001b[0m \u001b[0;34m'dogs'\u001b[0m \u001b[0;31m# Attempts to change the 'cats' value stored in the the tuple to 'dogs'\u001b[0m\u001b[0;34m\u001b[0m\u001b[0;34m\u001b[0m\u001b[0m\n\u001b[0m",
            "\u001b[0;31mTypeError\u001b[0m: 'tuple' object does not support item assignment"
          ]
        }
      ],
      "source": [
        "my_tuple[3] = 'dogs' # Attempts to change the 'cats' value stored in the the tuple to 'dogs'"
      ]
    },
    {
      "cell_type": "markdown",
      "source": [
        "**my own example 63**"
      ],
      "metadata": {
        "id": "wKnUFuPAJ_54"
      }
    },
    {
      "cell_type": "code",
      "source": [
        "tuple1010= 'tres nuevo'"
      ],
      "metadata": {
        "id": "veFBkWP7J_uP"
      },
      "execution_count": null,
      "outputs": []
    },
    {
      "cell_type": "markdown",
      "metadata": {
        "id": "WubVHM_TFoD7"
      },
      "source": [
        "You can slice tuples the same way that you slice lists!"
      ]
    },
    {
      "cell_type": "code",
      "execution_count": null,
      "metadata": {
        "colab": {
          "base_uri": "https://localhost:8080/"
        },
        "id": "PUjnA7BRFoD7",
        "outputId": "ec31e653-a8c6-4bc6-b138-aad04129454f"
      },
      "outputs": [
        {
          "output_type": "stream",
          "name": "stdout",
          "text": [
            "('have', 30)\n"
          ]
        }
      ],
      "source": [
        "print(my_tuple[1:3])"
      ]
    },
    {
      "cell_type": "markdown",
      "source": [
        "**my own example 64**"
      ],
      "metadata": {
        "id": "XTXPNlApKE4_"
      }
    },
    {
      "cell_type": "code",
      "source": [
        "print(tuple1010[1:4])"
      ],
      "metadata": {
        "colab": {
          "base_uri": "https://localhost:8080/"
        },
        "id": "FWqYl4i5KEt0",
        "outputId": "42919aaa-0937-4381-b285-feb3d651162e"
      },
      "execution_count": null,
      "outputs": [
        {
          "output_type": "stream",
          "name": "stdout",
          "text": [
            "res\n"
          ]
        }
      ]
    },
    {
      "cell_type": "markdown",
      "metadata": {
        "id": "YanwulkcFoD7"
      },
      "source": [
        "And concatenate them the way that you would with strings!"
      ]
    },
    {
      "cell_type": "code",
      "execution_count": null,
      "metadata": {
        "colab": {
          "base_uri": "https://localhost:8080/"
        },
        "id": "SJL-JHy1FoD7",
        "outputId": "13c4fa0b-c9e3-4d76-8227-a3d6be431451"
      },
      "outputs": [
        {
          "output_type": "stream",
          "name": "stdout",
          "text": [
            "('I', 'have', 30, 'cats', 'make', 'that', 50)\n"
          ]
        }
      ],
      "source": [
        "my_other_tuple = ('make', 'that', 50)\n",
        "print(my_tuple + my_other_tuple)"
      ]
    },
    {
      "cell_type": "markdown",
      "source": [
        "**my own example 65**"
      ],
      "metadata": {
        "id": "bMseKWLPKLAU"
      }
    },
    {
      "cell_type": "code",
      "source": [
        "tuple10102 = ('uno2' ,\"dos2\", 1023)\n",
        "print(tuple1010 + tuple10102)"
      ],
      "metadata": {
        "colab": {
          "base_uri": "https://localhost:8080/",
          "height": 183
        },
        "id": "h_Mtfx1lKK5I",
        "outputId": "05da7679-ccf0-4c5a-98e7-9805720c3ec1"
      },
      "execution_count": null,
      "outputs": [
        {
          "output_type": "error",
          "ename": "TypeError",
          "evalue": "ignored",
          "traceback": [
            "\u001b[0;31m---------------------------------------------------------------------------\u001b[0m",
            "\u001b[0;31mTypeError\u001b[0m                                 Traceback (most recent call last)",
            "\u001b[0;32m<ipython-input-200-bab57d7a8317>\u001b[0m in \u001b[0;36m<module>\u001b[0;34m()\u001b[0m\n\u001b[1;32m      1\u001b[0m \u001b[0mtuple10102\u001b[0m \u001b[0;34m=\u001b[0m \u001b[0;34m(\u001b[0m\u001b[0;34m'uno2'\u001b[0m \u001b[0;34m,\u001b[0m\u001b[0;34m\"dos2\"\u001b[0m\u001b[0;34m,\u001b[0m \u001b[0;36m1023\u001b[0m\u001b[0;34m)\u001b[0m\u001b[0;34m\u001b[0m\u001b[0;34m\u001b[0m\u001b[0m\n\u001b[0;32m----> 2\u001b[0;31m \u001b[0mprint\u001b[0m\u001b[0;34m(\u001b[0m\u001b[0mtuple1010\u001b[0m \u001b[0;34m+\u001b[0m \u001b[0mtuple10102\u001b[0m\u001b[0;34m)\u001b[0m\u001b[0;34m\u001b[0m\u001b[0;34m\u001b[0m\u001b[0m\n\u001b[0m",
            "\u001b[0;31mTypeError\u001b[0m: can only concatenate str (not \"tuple\") to str"
          ]
        }
      ]
    },
    {
      "cell_type": "markdown",
      "metadata": {
        "id": "eTaN3hNoFoD7"
      },
      "source": [
        "We can 'pack' values together, creating a tuple (as above), or we can 'unpack' values from a tuple, taking them out."
      ]
    },
    {
      "cell_type": "code",
      "execution_count": null,
      "metadata": {
        "colab": {
          "base_uri": "https://localhost:8080/"
        },
        "id": "wQ078PFDFoD8",
        "outputId": "60554327-7374-4755-cdda-2e8e2b43706d"
      },
      "outputs": [
        {
          "output_type": "stream",
          "name": "stdout",
          "text": [
            "make that 50\n"
          ]
        }
      ],
      "source": [
        "str_1, str_2, int_1 = my_other_tuple\n",
        "print(str_1, str_2, int_1)"
      ]
    },
    {
      "cell_type": "markdown",
      "source": [
        "**my own exapmle 66**"
      ],
      "metadata": {
        "id": "K2a4ZGFMKQdM"
      }
    },
    {
      "cell_type": "code",
      "source": [
        "str1010, str10102, int1010 = tuple10102\n",
        "print(str1010, str10102, int1010)"
      ],
      "metadata": {
        "colab": {
          "base_uri": "https://localhost:8080/"
        },
        "id": "IBv0HmO6KQQg",
        "outputId": "36b70b9c-926a-48cf-e604-2dc5bd29ed67"
      },
      "execution_count": null,
      "outputs": [
        {
          "output_type": "stream",
          "name": "stdout",
          "text": [
            "uno2 dos2 1023\n"
          ]
        }
      ]
    },
    {
      "cell_type": "markdown",
      "metadata": {
        "id": "SddvFxc-FoD8"
      },
      "source": [
        "Unpacking assigns each value of the tuple in order to each variable on the left hand side of the equals sign. Some functions, including user-defined functions, may return tuples, so we can use this to directly unpack them and access the values that we want."
      ]
    },
    {
      "cell_type": "markdown",
      "metadata": {
        "id": "oPKhq758FoD8"
      },
      "source": [
        "### Sets\n",
        "\n",
        "A `set` is a collection of unordered, unique elements. It works almost exactly as you would expect a normal set of things in mathematics to work and is defined using braces (`{}`)."
      ]
    },
    {
      "cell_type": "code",
      "execution_count": null,
      "metadata": {
        "colab": {
          "base_uri": "https://localhost:8080/"
        },
        "id": "FIFvUdqAFoD8",
        "outputId": "70eeb422-894c-45f9-ecb3-10622a2713f3"
      },
      "outputs": [
        {
          "output_type": "stream",
          "name": "stdout",
          "text": [
            "{'lizards', 4, 7, 'man I just LOVE the number 4', 'dogs', 42, 'the number 4'} <class 'set'>\n"
          ]
        }
      ],
      "source": [
        "things_i_like = {'dogs', 7, 'the number 4', 4, 4, 4, 42, 'lizards', 'man I just LOVE the number 4'}\n",
        "print(things_i_like, type(things_i_like))"
      ]
    },
    {
      "cell_type": "markdown",
      "source": [
        "**my own example 67**"
      ],
      "metadata": {
        "id": "tinvcv_HKVu_"
      }
    },
    {
      "cell_type": "code",
      "source": [
        "set1010 = {'uno', 156, \"dos\", 546, 546, 456, \"tres\", \"cuatro\", 456, \"tres\"}\n",
        "print(set1010, type(set1010))"
      ],
      "metadata": {
        "colab": {
          "base_uri": "https://localhost:8080/"
        },
        "id": "c8jBiO8zKVjr",
        "outputId": "42bc44f0-104d-4212-db86-716b2910d42f"
      },
      "execution_count": null,
      "outputs": [
        {
          "output_type": "stream",
          "name": "stdout",
          "text": [
            "{546, 'dos', 456, 'uno', 'tres', 'cuatro', 156} <class 'set'>\n"
          ]
        }
      ]
    },
    {
      "cell_type": "markdown",
      "metadata": {
        "id": "XREec0hiFoD8"
      },
      "source": [
        "Note how any extra instances of the same item are removed in the final set. We can also create a `set` from a list, using the `set()` function."
      ]
    },
    {
      "cell_type": "code",
      "execution_count": null,
      "metadata": {
        "colab": {
          "base_uri": "https://localhost:8080/"
        },
        "id": "8nXoJ66yFoD8",
        "outputId": "30e25838-1607-448d-9850-f51e994b89d7"
      },
      "outputs": [
        {
          "output_type": "stream",
          "name": "stdout",
          "text": [
            "{'lizards', 'cats', 'dogs', 'sponges', 'bats', 'cows'}\n"
          ]
        }
      ],
      "source": [
        "animal_list = ['cats', 'dogs', 'dogs', 'dogs', 'lizards', 'sponges', 'cows', 'bats', 'sponges']\n",
        "animal_set = set(animal_list)\n",
        "print(animal_set) # Removes all extra instances from the list)"
      ]
    },
    {
      "cell_type": "markdown",
      "source": [
        "**my own example 68**"
      ],
      "metadata": {
        "id": "hsMoDyXtKcvm"
      }
    },
    {
      "cell_type": "code",
      "source": [
        "list1010 = ['uno', 'dos', 'dos', 'tres', 'cuatro', 'cinco', 'cinco' ,'cinco']\n",
        "set10102 = set(list1010)\n",
        "print(set10102)"
      ],
      "metadata": {
        "colab": {
          "base_uri": "https://localhost:8080/"
        },
        "id": "sXXkOCsFKciv",
        "outputId": "8772036c-a212-4408-98a9-f1b880b7c490"
      },
      "execution_count": null,
      "outputs": [
        {
          "output_type": "stream",
          "name": "stdout",
          "text": [
            "{'cinco', 'dos', 'tres', 'uno', 'cuatro'}\n"
          ]
        }
      ]
    },
    {
      "cell_type": "markdown",
      "metadata": {
        "id": "tJBIq0oRFoD8"
      },
      "source": [
        "Calling `len()` on a set will tell you how many elements are in it."
      ]
    },
    {
      "cell_type": "code",
      "execution_count": null,
      "metadata": {
        "colab": {
          "base_uri": "https://localhost:8080/"
        },
        "id": "KYCm3WB6FoD8",
        "outputId": "531f0e65-7d24-447c-bdcf-0d570ca394bf"
      },
      "outputs": [
        {
          "output_type": "stream",
          "name": "stdout",
          "text": [
            "6\n"
          ]
        }
      ],
      "source": [
        "print(len(animal_set))"
      ]
    },
    {
      "cell_type": "markdown",
      "source": [
        "**my own example 69**"
      ],
      "metadata": {
        "id": "X1mMPGuXKiTg"
      }
    },
    {
      "cell_type": "code",
      "source": [
        "print(len(set10102))"
      ],
      "metadata": {
        "colab": {
          "base_uri": "https://localhost:8080/"
        },
        "id": "bXT8O1tRKiIF",
        "outputId": "2626cfe8-de05-4768-ec00-c0567e4ed678"
      },
      "execution_count": null,
      "outputs": [
        {
          "output_type": "stream",
          "name": "stdout",
          "text": [
            "5\n"
          ]
        }
      ]
    },
    {
      "cell_type": "markdown",
      "metadata": {
        "id": "uJKlBiNVFoD9"
      },
      "source": [
        "Because a `set` is unordered, we can't access individual elements using an index. We can, however, easily check for membership (to see if something is contained in a set) and take the unions and intersections of sets by using the built-in set functions."
      ]
    },
    {
      "cell_type": "code",
      "execution_count": null,
      "metadata": {
        "colab": {
          "base_uri": "https://localhost:8080/"
        },
        "id": "h5pRRuudFoD9",
        "outputId": "b920fd91-08e6-4943-c697-885dd596fc2b"
      },
      "outputs": [
        {
          "output_type": "execute_result",
          "data": {
            "text/plain": [
              "True"
            ]
          },
          "metadata": {},
          "execution_count": 210
        }
      ],
      "source": [
        "'cats' in animal_set # Here we check for membership using the `in` keyword."
      ]
    },
    {
      "cell_type": "markdown",
      "source": [
        "**my own example 70**\n",
        "\n"
      ],
      "metadata": {
        "id": "dENDSlOKKt5j"
      }
    },
    {
      "cell_type": "code",
      "source": [
        "'uno' in set10102"
      ],
      "metadata": {
        "colab": {
          "base_uri": "https://localhost:8080/"
        },
        "id": "CUz86gqPUsi5",
        "outputId": "1f069222-8f55-4756-c940-236f1ea6acb3"
      },
      "execution_count": null,
      "outputs": [
        {
          "output_type": "execute_result",
          "data": {
            "text/plain": [
              "True"
            ]
          },
          "metadata": {},
          "execution_count": 211
        }
      ]
    },
    {
      "cell_type": "code",
      "source": [
        "print(len(set10102))"
      ],
      "metadata": {
        "colab": {
          "base_uri": "https://localhost:8080/"
        },
        "id": "KJ-Aw9_-KtsG",
        "outputId": "f5cd2d58-14bd-4f7e-ffac-12713c82bde1"
      },
      "execution_count": null,
      "outputs": [
        {
          "output_type": "stream",
          "name": "stdout",
          "text": [
            "5\n"
          ]
        }
      ]
    },
    {
      "cell_type": "markdown",
      "metadata": {
        "id": "e6ChS9b6FoD9"
      },
      "source": [
        "Here we checked to see whether the string 'cats' was contained within our `animal_set` and it returned `True`, telling us that it is indeed in our set.\n",
        "\n",
        "We can connect sets by using typical mathematical set operators, namely `|`, for union, and `&`, for intersection. Using `|` or `&` will return exactly what you would expect if you are familiar with sets in mathematics."
      ]
    },
    {
      "cell_type": "code",
      "execution_count": null,
      "metadata": {
        "colab": {
          "base_uri": "https://localhost:8080/"
        },
        "id": "rGYsFiPDFoD9",
        "outputId": "718f15ca-9459-494b-de4d-200d64abe00b"
      },
      "outputs": [
        {
          "output_type": "stream",
          "name": "stdout",
          "text": [
            "{'lizards', 'cats', 4, 7, 'man I just LOVE the number 4', 'dogs', 42, 'sponges', 'bats', 'cows', 'the number 4'}\n"
          ]
        }
      ],
      "source": [
        "print(animal_set | things_i_like) # You can also write things_i_like | animal_set with no difference"
      ]
    },
    {
      "cell_type": "markdown",
      "source": [
        "**my own example 71**\n"
      ],
      "metadata": {
        "id": "mLJzs9-HLATG"
      }
    },
    {
      "cell_type": "code",
      "source": [
        "print(set10102 | set1010)"
      ],
      "metadata": {
        "colab": {
          "base_uri": "https://localhost:8080/"
        },
        "id": "5HmU-CCoUvcK",
        "outputId": "451c01a6-83b3-4cfa-b509-3c29aa57f6ab"
      },
      "execution_count": null,
      "outputs": [
        {
          "output_type": "stream",
          "name": "stdout",
          "text": [
            "{'cinco', 546, 'dos', 'tres', 'uno', 'cuatro', 456, 156}\n"
          ]
        }
      ]
    },
    {
      "cell_type": "markdown",
      "metadata": {
        "id": "rG0TEbmFFoD9"
      },
      "source": [
        "Pairing two sets together with `|` combines the sets, removing any repetitions to make every set element unique."
      ]
    },
    {
      "cell_type": "code",
      "execution_count": null,
      "metadata": {
        "colab": {
          "base_uri": "https://localhost:8080/"
        },
        "id": "b1YFGkdcFoD9",
        "outputId": "812f93f9-297f-4cb2-a2ae-6cc6420558ca"
      },
      "outputs": [
        {
          "output_type": "stream",
          "name": "stdout",
          "text": [
            "{'lizards', 'dogs'}\n"
          ]
        }
      ],
      "source": [
        "print(animal_set & things_i_like) # You can also write things_i_like & animal_set with no difference"
      ]
    },
    {
      "cell_type": "markdown",
      "source": [
        "**my own example 72**\n"
      ],
      "metadata": {
        "id": "D1k7ZuNsLDJg"
      }
    },
    {
      "cell_type": "code",
      "source": [
        "print(set10102 & set1010)"
      ],
      "metadata": {
        "colab": {
          "base_uri": "https://localhost:8080/"
        },
        "id": "kU3OrLCxUxqs",
        "outputId": "242b7745-0cf8-47ef-8562-06bc6503b9ee"
      },
      "execution_count": null,
      "outputs": [
        {
          "output_type": "stream",
          "name": "stdout",
          "text": [
            "{'tres', 'uno', 'cuatro', 'dos'}\n"
          ]
        }
      ]
    },
    {
      "cell_type": "markdown",
      "metadata": {
        "id": "aKeZWkr7FoD9"
      },
      "source": [
        "Pairing two sets together with `&` will calculate the intersection of both sets, returning a set that only contains what they have in common.\n",
        "\n",
        "If you are interested in learning more about the built-in functions for sets, feel free to check out the [documentation](https://docs.python.org/2/library/sets.html)."
      ]
    },
    {
      "cell_type": "markdown",
      "metadata": {
        "id": "p2VkM1SOFoD9"
      },
      "source": [
        "### Dictionaries\n",
        "\n",
        "Another essential data structure in Python is the dictionary. Dictionaries are defined with a combination of curly braces (`{}`) and colons (`:`). The braces define the beginning and end of a dictionary and the colons indicate key-value pairs. A dictionary is essentially a set of key-value pairs. The key of any entry must be an immutable data type. This makes both strings and tuples candidates. Keys can be both added and deleted.\n",
        "\n",
        "In the following example, we have a dictionary composed of key-value pairs where the key is a genre of fiction (`string`) and the value is a list of books (`list`) within that genre. Since a collection is still considered a single entity, we can use one to collect multiple variables or values into one key-value pair."
      ]
    },
    {
      "cell_type": "code",
      "execution_count": null,
      "metadata": {
        "id": "LxaBLDmaFoD9"
      },
      "outputs": [],
      "source": [
        "my_dict = {\"High Fantasy\": [\"Wheel of Time\", \"Lord of the Rings\"], \n",
        "           \"Sci-fi\": [\"Book of the New Sun\", \"Neuromancer\", \"Snow Crash\"],\n",
        "           \"Weird Fiction\": [\"At the Mountains of Madness\", \"The House on the Borderland\"]}"
      ]
    },
    {
      "cell_type": "markdown",
      "source": [
        "**my own example 73**\n"
      ],
      "metadata": {
        "id": "MwORk_bJLJx7"
      }
    },
    {
      "cell_type": "code",
      "source": [
        "dict1010 = {\"uno\" : [\"u\", \"n\", \"o\"],\n",
        "            \"dos\" : [\"d\", \"o\", \"s\"],\n",
        "            \"tres\" : [\"t\", \"r\" ,\"e\", \"s\"]}"
      ],
      "metadata": {
        "id": "tGd1Wr4qUz2S"
      },
      "execution_count": null,
      "outputs": []
    },
    {
      "cell_type": "markdown",
      "metadata": {
        "id": "uKVyem2UFoD-"
      },
      "source": [
        "After defining a dictionary, we can access any individual value by indicating its key in brackets."
      ]
    },
    {
      "cell_type": "code",
      "execution_count": null,
      "metadata": {
        "colab": {
          "base_uri": "https://localhost:8080/"
        },
        "id": "qEpJj6DAFoD-",
        "outputId": "2b56128c-de27-4e43-dd3d-80183dda85e1"
      },
      "outputs": [
        {
          "output_type": "stream",
          "name": "stdout",
          "text": [
            "['Book of the New Sun', 'Neuromancer', 'Snow Crash']\n"
          ]
        }
      ],
      "source": [
        "print(my_dict[\"Sci-fi\"])"
      ]
    },
    {
      "cell_type": "markdown",
      "source": [
        "**my own example 74**\n"
      ],
      "metadata": {
        "id": "Faw2wqIjLN1l"
      }
    },
    {
      "cell_type": "code",
      "source": [
        "print(dict1010[\"uno\"])"
      ],
      "metadata": {
        "colab": {
          "base_uri": "https://localhost:8080/"
        },
        "id": "ynoX_nJUU2DN",
        "outputId": "04048d10-d369-4f17-848f-a9afdfa6bbf2"
      },
      "execution_count": null,
      "outputs": [
        {
          "output_type": "stream",
          "name": "stdout",
          "text": [
            "['u', 'n', 'o']\n"
          ]
        }
      ]
    },
    {
      "cell_type": "markdown",
      "metadata": {
        "id": "JhQiqbsDFoD-"
      },
      "source": [
        "We can also change the value associated with a given key"
      ]
    },
    {
      "cell_type": "code",
      "execution_count": null,
      "metadata": {
        "colab": {
          "base_uri": "https://localhost:8080/"
        },
        "id": "Luu1AKCuFoD-",
        "outputId": "f10b8bb6-a8d4-42fb-da59-a2c3449b702d"
      },
      "outputs": [
        {
          "output_type": "stream",
          "name": "stdout",
          "text": [
            "I can't read\n"
          ]
        }
      ],
      "source": [
        "my_dict[\"Sci-fi\"] = \"I can't read\"\n",
        "print(my_dict[\"Sci-fi\"])"
      ]
    },
    {
      "cell_type": "markdown",
      "source": [
        "**my own example 75**\n"
      ],
      "metadata": {
        "id": "8ENj7u0SLRlo"
      }
    },
    {
      "cell_type": "code",
      "source": [
        "dict1010[\"uno\"] = \"uno1010\"\n",
        "print(dict1010[\"uno\"])"
      ],
      "metadata": {
        "colab": {
          "base_uri": "https://localhost:8080/"
        },
        "id": "6HXRCsasU3_U",
        "outputId": "bf7f6024-309f-48bc-b1c3-af2179eb4295"
      },
      "execution_count": null,
      "outputs": [
        {
          "output_type": "stream",
          "name": "stdout",
          "text": [
            "uno1010\n"
          ]
        }
      ]
    },
    {
      "cell_type": "markdown",
      "metadata": {
        "id": "wTw5m4UaFoD-"
      },
      "source": [
        "Adding a new key-value pair is as simple as defining it."
      ]
    },
    {
      "cell_type": "code",
      "execution_count": null,
      "metadata": {
        "colab": {
          "base_uri": "https://localhost:8080/"
        },
        "id": "sgw4pHv_FoD-",
        "outputId": "86cc1787-aa81-4e97-ce5c-eb80d2252d41"
      },
      "outputs": [
        {
          "output_type": "stream",
          "name": "stdout",
          "text": [
            "['Pillars of the Earth']\n"
          ]
        }
      ],
      "source": [
        "my_dict[\"Historical Fiction\"] = [\"Pillars of the Earth\"]\n",
        "print(my_dict[\"Historical Fiction\"])"
      ]
    },
    {
      "cell_type": "code",
      "execution_count": null,
      "metadata": {
        "colab": {
          "base_uri": "https://localhost:8080/"
        },
        "id": "EE2MTbwVFoD-",
        "outputId": "c17f6166-18d4-42d0-a878-e5f396d33ec9"
      },
      "outputs": [
        {
          "output_type": "stream",
          "name": "stdout",
          "text": [
            "{'High Fantasy': ['Wheel of Time', 'Lord of the Rings'], 'Sci-fi': \"I can't read\", 'Weird Fiction': ['At the Mountains of Madness', 'The House on the Borderland'], 'Historical Fiction': ['Pillars of the Earth']}\n"
          ]
        }
      ],
      "source": [
        "print(my_dict)"
      ]
    },
    {
      "cell_type": "markdown",
      "metadata": {
        "id": "ddAKfXm-FoD_"
      },
      "source": [
        "## String Shenanigans\n",
        "\n",
        "We already know that strings are generally used for text. We can used built-in operations to combine, split, and format strings easily, depending on our needs.\n",
        "\n",
        "The `+` symbol indicates concatenation in string language. It will combine two strings into a longer string."
      ]
    },
    {
      "cell_type": "code",
      "execution_count": null,
      "metadata": {
        "colab": {
          "base_uri": "https://localhost:8080/"
        },
        "id": "PZHvv7kQFoD_",
        "outputId": "d3e94471-1c74-47e7-b48d-89c1b1f5df2b"
      },
      "outputs": [
        {
          "output_type": "stream",
          "name": "stdout",
          "text": [
            "\"Beware the Jabberwock, my son! /The jaws that bite, the claws that catch! /Beware the Jubjub bird, and shun /The frumious Bandersnatch!\"/\n"
          ]
        }
      ],
      "source": [
        "first_string = '\"Beware the Jabberwock, my son! /The jaws that bite, the claws that catch! /'\n",
        "second_string = 'Beware the Jubjub bird, and shun /The frumious Bandersnatch!\"/'\n",
        "third_string = first_string + second_string\n",
        "print(third_string)"
      ]
    },
    {
      "cell_type": "markdown",
      "source": [
        "**my own example 76**\n"
      ],
      "metadata": {
        "id": "70RhyRpbLWbF"
      }
    },
    {
      "cell_type": "code",
      "source": [
        "string1010 = \"String 1010 /\"\n",
        "string10102 = \"String 10102\"\n",
        "string10103 = string1010 + string10102\n",
        "print(string10103)"
      ],
      "metadata": {
        "colab": {
          "base_uri": "https://localhost:8080/"
        },
        "id": "Y5kfCKYdU7JG",
        "outputId": "59666896-7529-40e7-f9a3-e780a9ad1d81"
      },
      "execution_count": null,
      "outputs": [
        {
          "output_type": "stream",
          "name": "stdout",
          "text": [
            "String 1010 /String 10102\n"
          ]
        }
      ]
    },
    {
      "cell_type": "markdown",
      "metadata": {
        "id": "bajyTjCzFoD_"
      },
      "source": [
        "Strings are also indexed much in the same way that lists are."
      ]
    },
    {
      "cell_type": "code",
      "execution_count": null,
      "metadata": {
        "colab": {
          "base_uri": "https://localhost:8080/"
        },
        "id": "AFMtJjhpFoD_",
        "outputId": "7cdeb052-db76-4a33-f2a1-51d8ee90a370"
      },
      "outputs": [
        {
          "output_type": "stream",
          "name": "stdout",
          "text": [
            "The first letter is:  S\n",
            "The last letter is:  s\n",
            "The second to last letter is:  u\n",
            "The first five characters are:  Super\n",
            "Reverse it!:  suoicodilaipxecitsiligarfilacrepuS\n"
          ]
        }
      ],
      "source": [
        "my_string = 'Supercalifragilisticexpialidocious'\n",
        "print('The first letter is: ', my_string[0]) # Uppercase S\n",
        "print('The last letter is: ', my_string[-1]) # lowercase s\n",
        "print('The second to last letter is: ', my_string[-2]) # lowercase u\n",
        "print('The first five characters are: ', my_string[0:5]) # Remember: slicing doesn't include the final element!\n",
        "print('Reverse it!: ', my_string[::-1])"
      ]
    },
    {
      "cell_type": "markdown",
      "metadata": {
        "id": "WvG44l_GFoD_"
      },
      "source": [
        "Built-in objects and classes often have special functions associated with them that are called methods. We access these methods by using a period ('.'). We will cover objects and their associated methods more in another lecture!\n",
        "\n",
        "Using string methods we can count instances of a character or group of characters."
      ]
    },
    {
      "cell_type": "code",
      "execution_count": null,
      "metadata": {
        "colab": {
          "base_uri": "https://localhost:8080/"
        },
        "id": "61EalnMkFoD_",
        "scrolled": true,
        "outputId": "e107c3ff-ffad-4481-e779-a4b3534d4bcc"
      },
      "outputs": [
        {
          "output_type": "stream",
          "name": "stdout",
          "text": [
            "Count of the letter i in Supercalifragilisticexpialidocious:  7\n",
            "Count of \"li\" in the same word:  3\n"
          ]
        }
      ],
      "source": [
        "print('Count of the letter i in Supercalifragilisticexpialidocious: ', my_string.count('i'))\n",
        "print('Count of \"li\" in the same word: ', my_string.count('li'))"
      ]
    },
    {
      "cell_type": "markdown",
      "source": [
        "**my own example 77**\n"
      ],
      "metadata": {
        "id": "RL-JW-EJLcQN"
      }
    },
    {
      "cell_type": "code",
      "source": [
        "string1010 = \"Supercalifragilisticexpialidocious\"\n",
        "print(\"Prueba para contar cuantas veces aparece la letra i: \", string1010.count(\"i\"))\n",
        "print(\"Prueba para contar cuantas veces aparece la li en la misma palabra: \", string1010.count(\"li\"))"
      ],
      "metadata": {
        "colab": {
          "base_uri": "https://localhost:8080/"
        },
        "id": "3lNkehwkU9x5",
        "outputId": "346ef3eb-0838-4da2-e621-8375548f13ad"
      },
      "execution_count": null,
      "outputs": [
        {
          "output_type": "stream",
          "name": "stdout",
          "text": [
            "Prueba para contar cuantas veces aparece la letra i:  7\n",
            "Prueba para contar cuantas veces aparece la li en la misma palabra:  3\n"
          ]
        }
      ]
    },
    {
      "cell_type": "markdown",
      "metadata": {
        "id": "SX_yLtX6FoD_"
      },
      "source": [
        "We can also find the first instance of a character or group of characters in a string."
      ]
    },
    {
      "cell_type": "code",
      "execution_count": null,
      "metadata": {
        "colab": {
          "base_uri": "https://localhost:8080/"
        },
        "id": "JvLAjGUeFoD_",
        "outputId": "d1b106d0-9391-4985-aed0-c3a16f18be44"
      },
      "outputs": [
        {
          "output_type": "stream",
          "name": "stdout",
          "text": [
            "The first time i appears is at index:  8\n"
          ]
        }
      ],
      "source": [
        "print('The first time i appears is at index: ', my_string.find('i'))"
      ]
    },
    {
      "cell_type": "markdown",
      "source": [
        "**my own example 78**\n"
      ],
      "metadata": {
        "id": "KBlxFn7NLl-y"
      }
    },
    {
      "cell_type": "code",
      "source": [
        "print(\"indice en el que aparece la primera i:\", string1010.find(\"i\"))"
      ],
      "metadata": {
        "colab": {
          "base_uri": "https://localhost:8080/"
        },
        "id": "ym0VpC5SVAis",
        "outputId": "f4ab9017-f09b-4027-9042-556873aeb7ab"
      },
      "execution_count": null,
      "outputs": [
        {
          "output_type": "stream",
          "name": "stdout",
          "text": [
            "indice en el que aparece la primera i: 8\n"
          ]
        }
      ]
    },
    {
      "cell_type": "markdown",
      "metadata": {
        "id": "IEOGz_rvFoEA"
      },
      "source": [
        "As well as replace characters in a string."
      ]
    },
    {
      "cell_type": "code",
      "execution_count": null,
      "metadata": {
        "colab": {
          "base_uri": "https://localhost:8080/"
        },
        "id": "Ikuy7IAcFoEA",
        "outputId": "9f9e896d-136f-410d-cd8a-fd4808684069"
      },
      "outputs": [
        {
          "output_type": "stream",
          "name": "stdout",
          "text": [
            "All i's are now a's:  Supercalafragalastacexpaaladocaous\n"
          ]
        }
      ],
      "source": [
        "print(\"All i's are now a's: \", my_string.replace('i', 'a'))"
      ]
    },
    {
      "cell_type": "markdown",
      "source": [
        "**my own example 79**\n"
      ],
      "metadata": {
        "id": "EeuVp622Lo1V"
      }
    },
    {
      "cell_type": "code",
      "source": [
        "print(\"Cambiar las i's por a's\", string1010.replace(\"i\", \"a\"))"
      ],
      "metadata": {
        "colab": {
          "base_uri": "https://localhost:8080/"
        },
        "id": "0x7l4_9nVDHN",
        "outputId": "d718c908-93a3-4c35-e54d-6d72f822f192"
      },
      "execution_count": null,
      "outputs": [
        {
          "output_type": "stream",
          "name": "stdout",
          "text": [
            "Cambiar las i's por a's Supercalafragalastacexpaaladocaous\n"
          ]
        }
      ]
    },
    {
      "cell_type": "code",
      "execution_count": null,
      "metadata": {
        "colab": {
          "base_uri": "https://localhost:8080/"
        },
        "id": "ok5v-cptFoEA",
        "outputId": "8c6eaeaf-5e7c-4ae2-b0f1-ff9f694f40e5"
      },
      "outputs": [
        {
          "output_type": "stream",
          "name": "stdout",
          "text": [
            "It's raining cats and more cats\n"
          ]
        }
      ],
      "source": [
        "print(\"It's raining cats and dogs\".replace('dogs', 'more cats'))"
      ]
    },
    {
      "cell_type": "markdown",
      "source": [
        "**my own example 80**\n"
      ],
      "metadata": {
        "id": "w672yXNTLszF"
      }
    },
    {
      "cell_type": "code",
      "source": [
        "print(\"Prueba de cambiar una palabra por otra\".replace(\"Prueba de\", \"Como\"))"
      ],
      "metadata": {
        "colab": {
          "base_uri": "https://localhost:8080/"
        },
        "id": "lwquVZ06VFiF",
        "outputId": "5b896798-6f9a-4602-b93f-04d927931476"
      },
      "execution_count": null,
      "outputs": [
        {
          "output_type": "stream",
          "name": "stdout",
          "text": [
            "Como cambiar una palabra por otra\n"
          ]
        }
      ]
    },
    {
      "cell_type": "markdown",
      "metadata": {
        "id": "vZmvnJrYFoEA"
      },
      "source": [
        "There are also some methods that are unique to strings. The function `upper()` will convert all characters in a string to uppercase, while `lower()` will convert all characters in a string to lowercase!"
      ]
    },
    {
      "cell_type": "code",
      "execution_count": null,
      "metadata": {
        "colab": {
          "base_uri": "https://localhost:8080/"
        },
        "id": "8Yy6ARmsFoEA",
        "outputId": "70cfbd03-6c24-4994-d6ab-1f08dbe96428"
      },
      "outputs": [
        {
          "output_type": "stream",
          "name": "stdout",
          "text": [
            "I CAN'T HEAR YOU\n",
            "i said hello\n"
          ]
        }
      ],
      "source": [
        "my_string = \"I can't hear you\"\n",
        "print(my_string.upper())\n",
        "my_string = \"I said HELLO\"\n",
        "print(my_string.lower())"
      ]
    },
    {
      "cell_type": "markdown",
      "source": [
        "**my own example 81**"
      ],
      "metadata": {
        "id": "0e1rl0zELyS-"
      }
    },
    {
      "cell_type": "code",
      "source": [
        "string1010 = \"Prueba1\"\n",
        "print(string1010.upper())\n",
        "string1010 = \"PRueBa2\"\n",
        "print(string1010.lower())"
      ],
      "metadata": {
        "colab": {
          "base_uri": "https://localhost:8080/"
        },
        "id": "Ljb9XLiZVIze",
        "outputId": "1bae7643-12b6-413a-e505-ac0e6d1b90da"
      },
      "execution_count": null,
      "outputs": [
        {
          "output_type": "stream",
          "name": "stdout",
          "text": [
            "PRUEBA1\n",
            "prueba2\n"
          ]
        }
      ]
    },
    {
      "cell_type": "markdown",
      "metadata": {
        "id": "c8r30Yp2FoEA"
      },
      "source": [
        "### String Formatting\n",
        "\n",
        "Using the `format()` method we can add in variable values and generally format our strings."
      ]
    },
    {
      "cell_type": "code",
      "execution_count": null,
      "metadata": {
        "colab": {
          "base_uri": "https://localhost:8080/"
        },
        "id": "CB0N5uYvFoEA",
        "outputId": "1f28d1d6-0810-43c2-fe0f-b3e2ad658b3e"
      },
      "outputs": [
        {
          "output_type": "stream",
          "name": "stdout",
          "text": [
            "Marco Polo\n"
          ]
        }
      ],
      "source": [
        "my_string = \"{0} {1}\".format('Marco', 'Polo')\n",
        "print(my_string)"
      ]
    },
    {
      "cell_type": "code",
      "execution_count": null,
      "metadata": {
        "colab": {
          "base_uri": "https://localhost:8080/"
        },
        "id": "fFohD_WsFoEA",
        "outputId": "3bc907e6-5c26-41ef-aba3-d7d95193e806"
      },
      "outputs": [
        {
          "output_type": "stream",
          "name": "stdout",
          "text": [
            "Polo Marco\n"
          ]
        }
      ],
      "source": [
        "my_string = \"{1} {0}\".format('Marco', 'Polo')\n",
        "print(my_string)"
      ]
    },
    {
      "cell_type": "markdown",
      "source": [
        "**my own example 82**"
      ],
      "metadata": {
        "id": "jDFfdeLXL3rB"
      }
    },
    {
      "cell_type": "code",
      "source": [
        "string1010 = \"{0} {1}\".format(\"Carlos\", \"Julian\")\n",
        "print(string1010)\n",
        "string1010 = \"{1} {0}\".format(\"Carlos\", \"Julian\")\n",
        "print(string1010)"
      ],
      "metadata": {
        "colab": {
          "base_uri": "https://localhost:8080/"
        },
        "id": "Hp3c4y-nVLc4",
        "outputId": "d7764ab6-ba65-48af-d7c3-c3b6492466ba"
      },
      "execution_count": null,
      "outputs": [
        {
          "output_type": "stream",
          "name": "stdout",
          "text": [
            "Carlos Julian\n",
            "Julian Carlos\n"
          ]
        }
      ]
    },
    {
      "cell_type": "markdown",
      "metadata": {
        "id": "81iiRyDCFoEB"
      },
      "source": [
        "We use braces (`{}`) to indicate parts of the string that will be filled in later and we use the arguments of the `format()` function to provide the values to substitute. The numbers within the braces indicate the index of the value in the `format()` arguments."
      ]
    },
    {
      "cell_type": "markdown",
      "metadata": {
        "id": "CdGtNZpCFoEB"
      },
      "source": [
        "See the `format()` [documentation](https://docs.python.org/2/library/string.html#format-examples) for additional examples."
      ]
    },
    {
      "cell_type": "markdown",
      "metadata": {
        "id": "r0_borerFoEB"
      },
      "source": [
        "If you need some quick and dirty formatting, you can instead use the `%` symbol, called the string formatting operator. "
      ]
    },
    {
      "cell_type": "code",
      "execution_count": null,
      "metadata": {
        "colab": {
          "base_uri": "https://localhost:8080/"
        },
        "id": "l1sIt2_TFoEB",
        "outputId": "6934f82b-6cea-4d9b-e330-3a195c6b5d59"
      },
      "outputs": [
        {
          "output_type": "stream",
          "name": "stdout",
          "text": [
            "insert value here\n"
          ]
        }
      ],
      "source": [
        "print('insert %s here' % 'value')"
      ]
    },
    {
      "cell_type": "markdown",
      "source": [
        "**my own example 83**"
      ],
      "metadata": {
        "id": "TetyB2snL7Ks"
      }
    },
    {
      "cell_type": "code",
      "source": [
        "print(\"Mensaje de %s\" % \"prueba\")"
      ],
      "metadata": {
        "colab": {
          "base_uri": "https://localhost:8080/"
        },
        "id": "sBbSD8EZVOib",
        "outputId": "76fade05-731c-4dc0-e3d9-e9c616219a98"
      },
      "execution_count": null,
      "outputs": [
        {
          "output_type": "stream",
          "name": "stdout",
          "text": [
            "Mensaje de prueba\n"
          ]
        }
      ]
    },
    {
      "cell_type": "markdown",
      "metadata": {
        "id": "oLTK1_mIFoEB"
      },
      "source": [
        "The `%` symbol basically cues Python to create a placeholder. Whatever character follows the `%` (in the string) indicates what sort of type the value put into the placeholder will have. This character is called a *conversion type*. Once the string has been closed, we need another `%` that will be followed by the values to insert. In the case of one value, you can just put it there. If you are inserting more than one value, they must be enclosed in a tuple."
      ]
    },
    {
      "cell_type": "code",
      "execution_count": null,
      "metadata": {
        "colab": {
          "base_uri": "https://localhost:8080/"
        },
        "id": "lGeMTz_8FoEB",
        "outputId": "72d7e7b2-db27-4cee-c59d-968e2731b810"
      },
      "outputs": [
        {
          "output_type": "stream",
          "name": "stdout",
          "text": [
            "There are 13 cats in my apartment\n"
          ]
        }
      ],
      "source": [
        "print('There are %s cats in my %s' % (13, 'apartment'))"
      ]
    },
    {
      "cell_type": "markdown",
      "source": [
        "**my own example 84**"
      ],
      "metadata": {
        "id": "ZjdHR7QmL9wH"
      }
    },
    {
      "cell_type": "code",
      "source": [
        "print(\"%s de %s\" % (\"Mensaje\", \"prueba\"))"
      ],
      "metadata": {
        "colab": {
          "base_uri": "https://localhost:8080/"
        },
        "id": "3VydyWq6VRQF",
        "outputId": "13c668fa-8278-400b-b9aa-6db1be82d3aa"
      },
      "execution_count": null,
      "outputs": [
        {
          "output_type": "stream",
          "name": "stdout",
          "text": [
            "Mensaje de prueba\n"
          ]
        }
      ]
    },
    {
      "cell_type": "markdown",
      "metadata": {
        "id": "iYj3P-VEFoEB"
      },
      "source": [
        "In these examples, the `%s` indicates that Python should convert the values into strings. There are multiple conversion types that you can use to get more specific with the the formatting. See the string formatting [documentation](https://docs.python.org/2/library/stdtypes.html#string-formatting) for additional examples and more complete details on use."
      ]
    },
    {
      "cell_type": "markdown",
      "metadata": {
        "id": "1FITrDL9FoEC"
      },
      "source": [
        "## Logical Operators\n",
        "### Basic Logic\n",
        "\n",
        "Logical operators deal with `boolean` values, as we briefly covered before. If you recall, a `bool` takes on one of two values, `True` or `False` (or $1$ or $0$). The basic logical statements that we can make are defined using the built-in comparators. These are `==` (equal), `!=` (not equal), `<` (less than), `>` (greater than), `<=` (less than or equal to), and `>=` (greater than or equal to)."
      ]
    },
    {
      "cell_type": "code",
      "execution_count": null,
      "metadata": {
        "colab": {
          "base_uri": "https://localhost:8080/"
        },
        "id": "kQqgs1_iFoEC",
        "outputId": "b85d4b00-22af-43f3-84b9-241d3c8f1483"
      },
      "outputs": [
        {
          "output_type": "stream",
          "name": "stdout",
          "text": [
            "True\n"
          ]
        }
      ],
      "source": [
        "print(5 == 5)"
      ]
    },
    {
      "cell_type": "markdown",
      "source": [
        "**my own example 85**"
      ],
      "metadata": {
        "id": "__UjqWC-MCix"
      }
    },
    {
      "cell_type": "code",
      "source": [
        "print(12 == 20)"
      ],
      "metadata": {
        "colab": {
          "base_uri": "https://localhost:8080/"
        },
        "id": "-_DfHbBVVTZq",
        "outputId": "2c46092e-dbe1-4550-ee80-c8706b4c8f43"
      },
      "execution_count": null,
      "outputs": [
        {
          "output_type": "stream",
          "name": "stdout",
          "text": [
            "False\n"
          ]
        }
      ]
    },
    {
      "cell_type": "code",
      "execution_count": null,
      "metadata": {
        "colab": {
          "base_uri": "https://localhost:8080/"
        },
        "id": "8D2UNKM5FoEC",
        "outputId": "3cade55b-8973-4151-e2a6-aff94a8efdce"
      },
      "outputs": [
        {
          "output_type": "stream",
          "name": "stdout",
          "text": [
            "False\n"
          ]
        }
      ],
      "source": [
        "print(5 > 5)"
      ]
    },
    {
      "cell_type": "markdown",
      "source": [
        "**my own example 86**"
      ],
      "metadata": {
        "id": "pwxsX4DhMFpt"
      }
    },
    {
      "cell_type": "code",
      "source": [
        "print(10 > 1)"
      ],
      "metadata": {
        "colab": {
          "base_uri": "https://localhost:8080/"
        },
        "id": "kYspO56gVUy_",
        "outputId": "96bb552f-c688-4822-969e-84b02bab5971"
      },
      "execution_count": null,
      "outputs": [
        {
          "output_type": "stream",
          "name": "stdout",
          "text": [
            "True\n"
          ]
        }
      ]
    },
    {
      "cell_type": "markdown",
      "metadata": {
        "id": "b8UleYT_FoEC"
      },
      "source": [
        "These comparators also work in conjunction with variables."
      ]
    },
    {
      "cell_type": "code",
      "execution_count": null,
      "metadata": {
        "colab": {
          "base_uri": "https://localhost:8080/"
        },
        "id": "HHEygt0vFoEC",
        "outputId": "59a79c85-a09a-4c2f-d41b-cf30fd5d026a"
      },
      "outputs": [
        {
          "output_type": "stream",
          "name": "stdout",
          "text": [
            "True\n"
          ]
        }
      ],
      "source": [
        "m = 2\n",
        "n = 23\n",
        "print(m < n)"
      ]
    },
    {
      "cell_type": "markdown",
      "source": [
        "**my own example 87**"
      ],
      "metadata": {
        "id": "ImgLbgTmMIFM"
      }
    },
    {
      "cell_type": "code",
      "source": [
        "m = 1564\n",
        "n = 45678\n",
        "print(m > n)"
      ],
      "metadata": {
        "colab": {
          "base_uri": "https://localhost:8080/"
        },
        "id": "sxXv15fEVYIL",
        "outputId": "df6a1b06-1937-44e4-d986-4b70ff5c0e2c"
      },
      "execution_count": null,
      "outputs": [
        {
          "output_type": "stream",
          "name": "stdout",
          "text": [
            "False\n"
          ]
        }
      ]
    },
    {
      "cell_type": "markdown",
      "metadata": {
        "id": "3kRjOwB6FoEC"
      },
      "source": [
        "We can string these comparators together to make more complex logical statements using the logical operators `or`, `and`, and `not`. "
      ]
    },
    {
      "cell_type": "code",
      "execution_count": null,
      "metadata": {
        "colab": {
          "base_uri": "https://localhost:8080/"
        },
        "id": "VbeJOQ3mFoEC",
        "outputId": "62175c09-dad4-4dd5-c7db-e6f4a4d5bc80"
      },
      "outputs": [
        {
          "output_type": "stream",
          "name": "stdout",
          "text": [
            "Statement 1 truth value: True\n",
            "Statement 2 truth value: True\n",
            "Statement 1 and Statement 2: True\n"
          ]
        }
      ],
      "source": [
        "statement_1 = 10 > 2\n",
        "statement_2 = 4 <= 6\n",
        "print(\"Statement 1 truth value: {0}\".format(statement_1))\n",
        "print(\"Statement 2 truth value: {0}\".format(statement_2))\n",
        "print(\"Statement 1 and Statement 2: {0}\".format(statement_1 and statement_2))"
      ]
    },
    {
      "cell_type": "markdown",
      "source": [
        "**my own example 88**"
      ],
      "metadata": {
        "id": "eYqx9S9hMKJa"
      }
    },
    {
      "cell_type": "code",
      "source": [
        "statement1010 = 568 > 203\n",
        "statement10102 = 42 <= 659 \n",
        "print(\"Statement 1 truth value: {0}\".format(statement1010))\n",
        "print(\"Statement 2 truth value: {0}\".format(statement10102))\n",
        "print(\"Statement 1 and Statement 2: {0}\".format(statement1010 and statement10102))"
      ],
      "metadata": {
        "colab": {
          "base_uri": "https://localhost:8080/"
        },
        "id": "2aOOEcIGVk3c",
        "outputId": "e8afe2f4-6842-4334-af7e-1f8ab3af1f6f"
      },
      "execution_count": null,
      "outputs": [
        {
          "output_type": "stream",
          "name": "stdout",
          "text": [
            "Statement 1 truth value: True\n",
            "Statement 2 truth value: True\n",
            "Statement 1 and Statement 2: True\n"
          ]
        }
      ]
    },
    {
      "cell_type": "markdown",
      "metadata": {
        "id": "YifI4YkiFoEC"
      },
      "source": [
        "The `or` operator performs a logical `or` calculation. This is an inclusive `or`, so if either component paired together by `or` is `True`, the whole statement will be `True`. The `and` statement only outputs `True` if all components that are `and`ed together are True. Otherwise it will output `False`. The `not` statement simply inverts the truth value of whichever statement follows it. So a `True` statement will be evaluated as `False` when a `not` is placed in front of it. Similarly, a `False` statement will become `True` when a `not` is in front of it.\n",
        "\n",
        "Say that we have two logical statements, or assertions, $P$ and $Q$. The truth table for the basic logical operators is as follows:\n",
        "\n",
        "|  P  |  Q  | `not` P| P `and` Q | P `or` Q|\n",
        "|:-----:|:-----:|:---:|:---:|:---:|\n",
        "| `True` | `True` | `False` | `True` | `True` |\n",
        "| `False` | `True` | `True` | `False` | `True` |\n",
        "| `True` | `False` | `False` | `False` | `True` |\n",
        "| `False` | `False` | `True` | `False` | `False` |\n",
        "\n",
        "We can string multiple logical statements together using the logical operators."
      ]
    },
    {
      "cell_type": "code",
      "execution_count": null,
      "metadata": {
        "colab": {
          "base_uri": "https://localhost:8080/"
        },
        "id": "UJVjSNyRFoEC",
        "outputId": "c59cfa50-7b83-470b-afe7-a1a9743ecaef"
      },
      "outputs": [
        {
          "output_type": "stream",
          "name": "stdout",
          "text": [
            "True\n"
          ]
        }
      ],
      "source": [
        "print (((2 < 3) and (3 > 0)) or ((5 > 6) and not (4 < 2)))"
      ]
    },
    {
      "cell_type": "markdown",
      "source": [
        "**my own example 89**"
      ],
      "metadata": {
        "id": "Z6AO7HZ5MM7w"
      }
    },
    {
      "cell_type": "code",
      "source": [
        "print(((10 < 23) and (56 > 846)) or ((84 > 954) and not (598 < 452)))"
      ],
      "metadata": {
        "colab": {
          "base_uri": "https://localhost:8080/"
        },
        "id": "pM_W54F2Vnk6",
        "outputId": "d7ab16ec-44d4-4d49-d44f-57d1fc227411"
      },
      "execution_count": null,
      "outputs": [
        {
          "output_type": "stream",
          "name": "stdout",
          "text": [
            "False\n"
          ]
        }
      ]
    },
    {
      "cell_type": "markdown",
      "metadata": {
        "id": "1KvAi3oDFoED"
      },
      "source": [
        "Logical statements can be as simple or complex as we like, depending on what we need to express. Evaluating the above logical statement step by step we see that we are evaluating (`True and True`) `or` (`False and not False`). This becomes `True or (False and True`), subsequently becoming `True or False`, ultimately being evaluated as `True`."
      ]
    },
    {
      "cell_type": "markdown",
      "metadata": {
        "id": "jOnWfDnpFoED"
      },
      "source": [
        "#### Truthiness\n",
        "\n",
        "Data types in Python have a fun characteristic called truthiness. What this means is that most built-in types will evaluate as either `True` or `False` when a boolean value is needed (such as with an if-statement). As a general rule, containers like strings, tuples, dictionaries, lists, and sets, will return `True` if they contain anything at all and `False` if they contain nothing."
      ]
    },
    {
      "cell_type": "code",
      "execution_count": null,
      "metadata": {
        "colab": {
          "base_uri": "https://localhost:8080/"
        },
        "id": "_wmZPFZ2FoED",
        "outputId": "39dfd084-72e7-4ebf-e14e-fb628172471e"
      },
      "outputs": [
        {
          "output_type": "stream",
          "name": "stdout",
          "text": [
            "False\n"
          ]
        }
      ],
      "source": [
        "# Similar to how float() and int() work, bool() forces a value to be considered a boolean!\n",
        "print(bool(''))"
      ]
    },
    {
      "cell_type": "code",
      "execution_count": null,
      "metadata": {
        "colab": {
          "base_uri": "https://localhost:8080/"
        },
        "id": "V1GH2saiFoED",
        "outputId": "d596b529-ec4c-42c2-bb97-b0e388c7863e"
      },
      "outputs": [
        {
          "output_type": "stream",
          "name": "stdout",
          "text": [
            "True\n"
          ]
        }
      ],
      "source": [
        "print(bool('I have character!'))"
      ]
    },
    {
      "cell_type": "code",
      "execution_count": null,
      "metadata": {
        "colab": {
          "base_uri": "https://localhost:8080/"
        },
        "id": "rElnUFxzFoED",
        "outputId": "ebb0a308-888c-488e-98ef-eeb566bba4a5"
      },
      "outputs": [
        {
          "output_type": "stream",
          "name": "stdout",
          "text": [
            "False\n"
          ]
        }
      ],
      "source": [
        "print(bool([]))"
      ]
    },
    {
      "cell_type": "code",
      "execution_count": null,
      "metadata": {
        "colab": {
          "base_uri": "https://localhost:8080/"
        },
        "id": "nMM8RgbyFoED",
        "outputId": "cda0ded2-fac3-4841-b750-3292898c8a6d"
      },
      "outputs": [
        {
          "output_type": "stream",
          "name": "stdout",
          "text": [
            "True\n"
          ]
        }
      ],
      "source": [
        "print(bool([1, 2, 3]))"
      ]
    },
    {
      "cell_type": "markdown",
      "metadata": {
        "id": "tmJMx3jpFoED"
      },
      "source": [
        "And so on, for the other collections and containers. `None` also evaluates as `False`. The number `1` is equivalent to `True` and the number `0` is equivalent to `False` as well, in a boolean context."
      ]
    },
    {
      "cell_type": "markdown",
      "metadata": {
        "id": "tBp-6Le6FoED"
      },
      "source": [
        "### If-statements\n",
        "\n",
        "We can create segments of code that only execute if a set of conditions is met. We use if-statements in conjunction with logical statements in order to create branches in our code. \n",
        "\n",
        "An `if` block gets entered when the condition is considered to be `True`. If condition is evaluated as `False`, the `if` block will simply be skipped unless there is an `else` block to accompany it. Conditions are made using either logical operators or by using the truthiness of values in Python. An if-statement is defined with a colon and a block of indented text."
      ]
    },
    {
      "cell_type": "code",
      "execution_count": null,
      "metadata": {
        "colab": {
          "base_uri": "https://localhost:8080/"
        },
        "id": "mxFMnO_IFoEE",
        "outputId": "667067a4-9259-45c2-ad23-d56c0b36702a"
      },
      "outputs": [
        {
          "output_type": "stream",
          "name": "stdout",
          "text": [
            "True\n"
          ]
        }
      ],
      "source": [
        "# This is the basic format of an if statement. This is a vacuous example. \n",
        "# The string \"Condition\" will always evaluated as True because it is a\n",
        "# non-empty string. he purpose of this code is to show the formatting of\n",
        "# an if-statement.\n",
        "if \"Condition\": \n",
        "    # This block of code will execute because the string is non-empty\n",
        "    # Everything on these indented lines\n",
        "    print(True)\n",
        "else:\n",
        "    # So if the condition that we examined with if is in fact False\n",
        "    # This block of code will execute INSTEAD of the first block of code\n",
        "    # Everything on these indented lines\n",
        "    print(False)\n",
        "# The else block here will never execute because \"Condition\" is a non-empty string."
      ]
    },
    {
      "cell_type": "code",
      "execution_count": null,
      "metadata": {
        "id": "My8WwU_1FoEE"
      },
      "outputs": [],
      "source": [
        "i = 4\n",
        "if i == 5:\n",
        "    print('The variable i has a value of 5')"
      ]
    },
    {
      "cell_type": "markdown",
      "source": [
        "**my own example 90**"
      ],
      "metadata": {
        "id": "WhdYNfD8MbfQ"
      }
    },
    {
      "cell_type": "code",
      "source": [
        "i1010 = 4456\n",
        "if i1010 == 546:\n",
        "  print(\"i1010 es igual a 546\")"
      ],
      "metadata": {
        "id": "M0YGpgzLVq8F"
      },
      "execution_count": null,
      "outputs": []
    },
    {
      "cell_type": "markdown",
      "metadata": {
        "id": "TbO0lHSNFoEE"
      },
      "source": [
        "Because in this example `i = 4` and the if-statement is only looking for whether `i` is equal to `5`, the print statement will never be executed. We can add in an `else` statement to create a contingency block of code in case the condition in the if-statement is not evaluated as `True`."
      ]
    },
    {
      "cell_type": "code",
      "execution_count": null,
      "metadata": {
        "colab": {
          "base_uri": "https://localhost:8080/",
          "height": 148
        },
        "id": "CnG8Il02FoEE",
        "outputId": "bc7319a8-ba44-4ad0-fd08-d8d68e641a48"
      },
      "outputs": [
        {
          "output_type": "error",
          "ename": "SyntaxError",
          "evalue": "ignored",
          "traceback": [
            "\u001b[0;36m  File \u001b[0;32m\"<ipython-input-262-58410d34faa9>\"\u001b[0;36m, line \u001b[0;32m3\u001b[0m\n\u001b[0;31m    print \"All lines in this indented block are part of this block\"\u001b[0m\n\u001b[0m                                                                  ^\u001b[0m\n\u001b[0;31mSyntaxError\u001b[0m\u001b[0;31m:\u001b[0m Missing parentheses in call to 'print'. Did you mean print(\"All lines in this indented block are part of this block\")?\n"
          ]
        }
      ],
      "source": [
        "i = 4\n",
        "if i == 5:\n",
        "    print \"All lines in this indented block are part of this block\"\n",
        "    print 'The variable i has a value of 5'\n",
        "else:\n",
        "    print \"All lines in this indented block are part of this block\"\n",
        "    print 'The variable i is not equal to 5'"
      ]
    },
    {
      "cell_type": "markdown",
      "source": [
        "**my own example 91**"
      ],
      "metadata": {
        "id": "nBS0kTW1MkCr"
      }
    },
    {
      "cell_type": "code",
      "source": [
        "i1010 = 4456\n",
        "if i1010 == 5846:\n",
        "    print (\"All lines in this indented block are part of this block\")\n",
        "    print ('The variable i1010 has a value of 5846')\n",
        "else:\n",
        "    print (\"All lines in this indented block are part of this block\")\n",
        "    print ('The variable i1010 is not equal to 5846')"
      ],
      "metadata": {
        "colab": {
          "base_uri": "https://localhost:8080/"
        },
        "id": "g8iGd24hVtcm",
        "outputId": "6bd53279-2d36-4d17-b291-e9cb889c9c95"
      },
      "execution_count": null,
      "outputs": [
        {
          "output_type": "stream",
          "name": "stdout",
          "text": [
            "All lines in this indented block are part of this block\n",
            "The variable i1010 is not equal to 5846\n"
          ]
        }
      ]
    },
    {
      "cell_type": "markdown",
      "metadata": {
        "id": "zddc9WQ6FoEE"
      },
      "source": [
        "We can implement other branches off of the same if-statement by using `elif`, an abbreviation of \"else if\". We can include as many `elifs` as we like until we have exhausted all the logical branches of a condition."
      ]
    },
    {
      "cell_type": "code",
      "execution_count": null,
      "metadata": {
        "colab": {
          "base_uri": "https://localhost:8080/",
          "height": 130
        },
        "id": "TVT7JgSEFoEE",
        "outputId": "b3578256-3ae5-4a93-ba38-02e628e3c7d2"
      },
      "outputs": [
        {
          "output_type": "error",
          "ename": "SyntaxError",
          "evalue": "ignored",
          "traceback": [
            "\u001b[0;36m  File \u001b[0;32m\"<ipython-input-265-440d77c5ad07>\"\u001b[0;36m, line \u001b[0;32m3\u001b[0m\n\u001b[0;31m    print 'The variable i has a value of 1'\u001b[0m\n\u001b[0m                                          ^\u001b[0m\n\u001b[0;31mSyntaxError\u001b[0m\u001b[0;31m:\u001b[0m Missing parentheses in call to 'print'. Did you mean print('The variable i has a value of 1')?\n"
          ]
        }
      ],
      "source": [
        "i = 1\n",
        "if i == 1:\n",
        "    print 'The variable i has a value of 1'\n",
        "elif i == 2:\n",
        "    print 'The variable i has a value of 2'\n",
        "elif i == 3:\n",
        "    print 'The variable i has a value of 3'\n",
        "else:\n",
        "    print \"I don't care what i is\""
      ]
    },
    {
      "cell_type": "markdown",
      "source": [
        "**my own example 92**"
      ],
      "metadata": {
        "id": "pn5ZwgtiMooJ"
      }
    },
    {
      "cell_type": "code",
      "source": [
        "i1010 = 1265\n",
        "if i1010 == 1265:\n",
        "    print ('The variable i1010 has a value of 1265')\n",
        "elif i1010 == 2889:\n",
        "    print ('The variable i1010 has a value of 2889')\n",
        "elif i1010 == 3874:\n",
        "    print ('The variable i1010 has a value of 3874')\n",
        "else:\n",
        "    print (\"I don't care what i1010 is\")"
      ],
      "metadata": {
        "colab": {
          "base_uri": "https://localhost:8080/"
        },
        "id": "C7URv-3fVv6V",
        "outputId": "0ed016d5-86a4-4ad4-8f0f-baba9878a638"
      },
      "execution_count": null,
      "outputs": [
        {
          "output_type": "stream",
          "name": "stdout",
          "text": [
            "The variable i1010 has a value of 1265\n"
          ]
        }
      ]
    },
    {
      "cell_type": "markdown",
      "metadata": {
        "id": "r5RmsmJrFoEE"
      },
      "source": [
        "You can also nest if-statements within if-statements to check for further conditions."
      ]
    },
    {
      "cell_type": "code",
      "execution_count": null,
      "metadata": {
        "colab": {
          "base_uri": "https://localhost:8080/",
          "height": 130
        },
        "id": "VZG0jXoBFoEF",
        "outputId": "81ac03a9-54bf-46f5-cc62-2c594fd2c64b"
      },
      "outputs": [
        {
          "output_type": "error",
          "ename": "SyntaxError",
          "evalue": "ignored",
          "traceback": [
            "\u001b[0;36m  File \u001b[0;32m\"<ipython-input-269-dfba48f61873>\"\u001b[0;36m, line \u001b[0;32m4\u001b[0m\n\u001b[0;31m    print 'i is divisible by both 2 and 3! Wow!'\u001b[0m\n\u001b[0m                                               ^\u001b[0m\n\u001b[0;31mSyntaxError\u001b[0m\u001b[0;31m:\u001b[0m Missing parentheses in call to 'print'. Did you mean print('i is divisible by both 2 and 3! Wow!')?\n"
          ]
        }
      ],
      "source": [
        "i = 10\n",
        "if i % 2 == 0:\n",
        "    if i % 3 == 0:\n",
        "        print 'i is divisible by both 2 and 3! Wow!'\n",
        "    elif i % 5 == 0:\n",
        "        print 'i is divisible by both 2 and 5! Wow!'\n",
        "    else:\n",
        "        print 'i is divisible by 2, but not 3 or 5. Meh.'\n",
        "else:\n",
        "    print 'I guess that i is an odd number. Boring.'"
      ]
    },
    {
      "cell_type": "markdown",
      "source": [
        "**my own example 93**"
      ],
      "metadata": {
        "id": "qmheUUnLMsXn"
      }
    },
    {
      "cell_type": "code",
      "source": [
        "i1010 = 1056\n",
        "if i1010 % 2 == 0:\n",
        "    if i1010 % 3 == 0:\n",
        "        print ('i1010 is divisible by both 2 and 3! Wow!')\n",
        "    elif i % 5 == 0:\n",
        "        print ('i1010 is divisible by both 2 and 5! Wow!')\n",
        "    else:\n",
        "        print ('i1010 is divisible by 2, but not 3 or 5. Meh.')\n",
        "else:\n",
        "    print ('I guess that i is an odd number. Boring.')"
      ],
      "metadata": {
        "colab": {
          "base_uri": "https://localhost:8080/"
        },
        "id": "VxEYSRZ4Vyko",
        "outputId": "54a7f00a-4c7a-4bf0-9f18-b5f0f6ac3b47"
      },
      "execution_count": null,
      "outputs": [
        {
          "output_type": "stream",
          "name": "stdout",
          "text": [
            "i1010 is divisible by both 2 and 3! Wow!\n"
          ]
        }
      ]
    },
    {
      "cell_type": "markdown",
      "metadata": {
        "id": "CrVlxKmiFoEF"
      },
      "source": [
        "Remember that we can group multiple conditions together by using the logical operators!"
      ]
    },
    {
      "cell_type": "code",
      "execution_count": null,
      "metadata": {
        "colab": {
          "base_uri": "https://localhost:8080/",
          "height": 130
        },
        "id": "EG6jRcrqFoEF",
        "outputId": "30e420ea-15de-48bc-a289-14358de38a6f"
      },
      "outputs": [
        {
          "output_type": "error",
          "ename": "SyntaxError",
          "evalue": "ignored",
          "traceback": [
            "\u001b[0;36m  File \u001b[0;32m\"<ipython-input-273-2684657f1a32>\"\u001b[0;36m, line \u001b[0;32m4\u001b[0m\n\u001b[0;31m    print '{0} is less than 10 and {1} is greater than 11! How novel and interesting!'.format(i, j)\u001b[0m\n\u001b[0m                                                                                     ^\u001b[0m\n\u001b[0;31mSyntaxError\u001b[0m\u001b[0;31m:\u001b[0m invalid syntax\n"
          ]
        }
      ],
      "source": [
        "i = 5\n",
        "j = 12\n",
        "if i < 10 and j > 11:\n",
        "    print '{0} is less than 10 and {1} is greater than 11! How novel and interesting!'.format(i, j)"
      ]
    },
    {
      "cell_type": "markdown",
      "source": [
        "**my own example 94**"
      ],
      "metadata": {
        "id": "tM7BDAJnMvzd"
      }
    },
    {
      "cell_type": "code",
      "source": [
        "i1010 = 556\n",
        "j1010 = 1226\n",
        "if i1010 < 1000 and j1010 > 11:\n",
        "    print ('{0} is less than 10 and {1} is greater than 11! How novel and interesting!'.format(i1010, j1010))\n"
      ],
      "metadata": {
        "colab": {
          "base_uri": "https://localhost:8080/"
        },
        "id": "ACIUTJv-V1VF",
        "outputId": "0b334242-6317-4e82-95db-bd2fb4295412"
      },
      "execution_count": null,
      "outputs": [
        {
          "output_type": "stream",
          "name": "stdout",
          "text": [
            "556 is less than 10 and 1226 is greater than 11! How novel and interesting!\n"
          ]
        }
      ]
    },
    {
      "cell_type": "markdown",
      "metadata": {
        "id": "gtbboMvVFoEF"
      },
      "source": [
        "You can use the logical comparators to compare strings!"
      ]
    },
    {
      "cell_type": "code",
      "execution_count": null,
      "metadata": {
        "colab": {
          "base_uri": "https://localhost:8080/",
          "height": 130
        },
        "id": "lorg4NQSFoEF",
        "outputId": "7bd0668f-40a2-4175-f020-0eccf3e1da0b"
      },
      "outputs": [
        {
          "output_type": "error",
          "ename": "SyntaxError",
          "evalue": "ignored",
          "traceback": [
            "\u001b[0;36m  File \u001b[0;32m\"<ipython-input-276-cdda2242fc56>\"\u001b[0;36m, line \u001b[0;32m3\u001b[0m\n\u001b[0;31m    print 'And so it was! For the glory of Rome!'\u001b[0m\n\u001b[0m                                                ^\u001b[0m\n\u001b[0;31mSyntaxError\u001b[0m\u001b[0;31m:\u001b[0m Missing parentheses in call to 'print'. Did you mean print('And so it was! For the glory of Rome!')?\n"
          ]
        }
      ],
      "source": [
        "my_string = \"Carthago delenda est\"\n",
        "if my_string == \"Carthago delenda est\":\n",
        "    print 'And so it was! For the glory of Rome!'\n",
        "else:\n",
        "    print 'War elephants are TERRIFYING. I am staying home.'"
      ]
    },
    {
      "cell_type": "markdown",
      "source": [
        "**my own example 95**"
      ],
      "metadata": {
        "id": "oOgSNK66MzU0"
      }
    },
    {
      "cell_type": "code",
      "source": [
        "string1010 = \"Carthago delenda est\"\n",
        "if string1010 == \"Carthago delenda est\":\n",
        "    print ('And so it was! For the glory of Rome!')\n",
        "else:\n",
        "    print ('War elephants are TERRIFYING. I am staying home.')"
      ],
      "metadata": {
        "colab": {
          "base_uri": "https://localhost:8080/"
        },
        "id": "2w_7Rx97V4E3",
        "outputId": "808b4f08-95ab-4e49-f474-aa4082bcdf13"
      },
      "execution_count": null,
      "outputs": [
        {
          "output_type": "stream",
          "name": "stdout",
          "text": [
            "And so it was! For the glory of Rome!\n"
          ]
        }
      ]
    },
    {
      "cell_type": "markdown",
      "metadata": {
        "id": "6dJwNfn7FoEF"
      },
      "source": [
        "As with other data types, `==` will check for whether the two things on either side of it have the same value. In this case, we compare whether the value of the strings are the same. Using `>` or `<` or any of the other comparators is not quite so intuitive, however, so we will stay from using comparators with strings in this lecture. Comparators will examine the [lexicographical order](https://en.wikipedia.org/wiki/Lexicographical_order) of the strings, which might be a bit more in-depth than you might like."
      ]
    },
    {
      "cell_type": "markdown",
      "metadata": {
        "id": "9aBoNyUCFoEF"
      },
      "source": [
        "Some built-in functions return a boolean value, so they can be used as conditions in an if-statement. User-defined functions can also be constructed so that they return a boolean value. This will be covered later with function definition!\n",
        "\n",
        "The `in` keyword is generally used to check membership of a value within another value. We can check memebership in the context of an if-statement and use it to output a truth value."
      ]
    },
    {
      "cell_type": "code",
      "execution_count": null,
      "metadata": {
        "colab": {
          "base_uri": "https://localhost:8080/",
          "height": 130
        },
        "id": "iZrCba4nFoEG",
        "outputId": "5d6853be-d0bc-468f-cc9d-f4756feb7b07"
      },
      "outputs": [
        {
          "output_type": "error",
          "ename": "SyntaxError",
          "evalue": "ignored",
          "traceback": [
            "\u001b[0;36m  File \u001b[0;32m\"<ipython-input-281-adffd6a2f9d0>\"\u001b[0;36m, line \u001b[0;32m2\u001b[0m\n\u001b[0;31m    print 'Those are my favorite vowels!'\u001b[0m\n\u001b[0m                                        ^\u001b[0m\n\u001b[0;31mSyntaxError\u001b[0m\u001b[0;31m:\u001b[0m Missing parentheses in call to 'print'. Did you mean print('Those are my favorite vowels!')?\n"
          ]
        }
      ],
      "source": [
        "if 'a' in my_string or 'e' in my_string:\n",
        "    print 'Those are my favorite vowels!'"
      ]
    },
    {
      "cell_type": "markdown",
      "source": [
        "**my own example 96**"
      ],
      "metadata": {
        "id": "OicEq2R_M2MR"
      }
    },
    {
      "cell_type": "code",
      "source": [
        "if 'i' in string1010 or 'o' in string1010:\n",
        "    print ('Those are my favorite vowels!')"
      ],
      "metadata": {
        "id": "H8d-NYtuV6vq"
      },
      "execution_count": null,
      "outputs": []
    },
    {
      "cell_type": "markdown",
      "metadata": {
        "id": "Hk0QWMh1FoEG"
      },
      "source": [
        "Here we use `in` to check whether the variable `my_string` contains any particular letters. We will later use `in` to iterate through lists!"
      ]
    },
    {
      "cell_type": "markdown",
      "metadata": {
        "id": "T9Ls0C_tFoEG"
      },
      "source": [
        "## Loop Structures\n",
        "\n",
        "Loop structures are one of the most important parts of programming. The `for` loop and the `while` loop provide a way to repeatedly run a block of code repeatedly. A `while` loop will iterate until a certain condition has been met. If at any point after an iteration that condition is no longer satisfied, the loop terminates. A `for` loop will iterate over a sequence of values and terminate when the sequence has ended. You can instead include conditions within the `for` loop to decide whether it should terminate early or you could simply let it run its course."
      ]
    },
    {
      "cell_type": "code",
      "execution_count": null,
      "metadata": {
        "id": "Ms-WVlLFFoEG"
      },
      "outputs": [],
      "source": [
        "i = 5\n",
        "while i > 0: # We can write this as 'while i:' because 0 is False!\n",
        "    i -= 1\n",
        "    print 'I am looping! {0} more to go!'.format(i)"
      ]
    },
    {
      "cell_type": "markdown",
      "source": [
        "**my own example 97**"
      ],
      "metadata": {
        "id": "ZHWMirv-M6o6"
      }
    },
    {
      "cell_type": "code",
      "source": [
        "i1010 = 546\n",
        "while i1010 > 500:\n",
        "  i1010 -= 2\n",
        "  print ('I am looping! {0} more to go!'.format(i1010))"
      ],
      "metadata": {
        "id": "UxqxIR-mV9Dx"
      },
      "execution_count": null,
      "outputs": []
    },
    {
      "cell_type": "markdown",
      "metadata": {
        "id": "n8nh_T9NFoEG"
      },
      "source": [
        "\n",
        "With `while` loops we need to make sure that something actually changes from iteration to iteration so that that the loop actually terminates. In this case, we use the shorthand `i -= 1` (short for `i = i - 1`) so that the value of `i` gets smaller with each iteration. Eventually `i` will be reduced to `0`, rendering the condition `False` and exiting the loop."
      ]
    },
    {
      "cell_type": "markdown",
      "metadata": {
        "id": "QrsyozWkFoEG"
      },
      "source": [
        "A `for` loop iterates a set number of times, determined when you state the entry into the loop. In this case we are iterating over the list returned from `range()`. The `for` loop selects a value from the list, in order, and temporarily assigns the value of `i` to it so that operations can be performed with the value."
      ]
    },
    {
      "cell_type": "code",
      "execution_count": null,
      "metadata": {
        "id": "FzSaDOCkFoEG"
      },
      "outputs": [],
      "source": [
        "for i in range(5):\n",
        "    print 'I am looping! I have looped {0} times!'.format(i + 1)"
      ]
    },
    {
      "cell_type": "markdown",
      "source": [
        "**my own example 98**"
      ],
      "metadata": {
        "id": "67e2yGcWM9vc"
      }
    },
    {
      "cell_type": "code",
      "source": [
        "for i1010 in range(10):\n",
        "    print ('I am looping! I have looped {0} times!'.format(i1010 + 1))"
      ],
      "metadata": {
        "id": "M2QM9pLpV_rH"
      },
      "execution_count": null,
      "outputs": []
    },
    {
      "cell_type": "markdown",
      "metadata": {
        "id": "xTZFJmuJFoEG"
      },
      "source": [
        "Note that in this `for` loop we use the `in` keyword. Use of the `in` keyword is not limited to checking for membership as in the if-statement example. You can iterate over any collection with a `for` loop by using the `in` keyword.\n",
        "\n",
        "In this next example, we will iterate over a `set` because we want to check for containment and add to a new set."
      ]
    },
    {
      "cell_type": "code",
      "execution_count": null,
      "metadata": {
        "id": "Q3WFM4JhFoEG"
      },
      "outputs": [],
      "source": [
        "my_list = {'cats', 'dogs', 'lizards', 'cows', 'bats', 'sponges', 'humans'} # Lists all the animals in the world\n",
        "mammal_list = {'cats', 'dogs', 'cows', 'bats', 'humans'} # Lists all the mammals in the world\n",
        "my_new_list = set()\n",
        "for animal in my_list:\n",
        "    if animal in mammal_list:\n",
        "        # This adds any animal that is both in my_list and mammal_list to my_new_list\n",
        "        my_new_list.add(animal)\n",
        "        \n",
        "print my_new_list"
      ]
    },
    {
      "cell_type": "markdown",
      "source": [
        "**my own example 99**"
      ],
      "metadata": {
        "id": "_xP1UEo-NAMw"
      }
    },
    {
      "cell_type": "code",
      "source": [
        "list1010 = {'uno', 'dos', 'tres', 'cuatro', 'cinco', 'seis', 'siete'}\n",
        "list10102 = {'uno', 'tres', 'cuatro', 'cinco', 'siete'} \n",
        "list10103 = set()\n",
        "for i in list1010:\n",
        "    if i in list10102:\n",
        "        list10103.add(i)\n",
        "        \n",
        "print(list10103)"
      ],
      "metadata": {
        "id": "7bakaqIvWB_-"
      },
      "execution_count": null,
      "outputs": []
    },
    {
      "cell_type": "markdown",
      "metadata": {
        "id": "RfneVEo4FoEH"
      },
      "source": [
        "There are two statements that are very helpful in dealing with both `for` and `while` loops. These are `break` and `continue`. If `break` is encountered at any point while a loop is executing, the loop will immediately end."
      ]
    },
    {
      "cell_type": "code",
      "execution_count": null,
      "metadata": {
        "id": "9_6L7mg9FoEH"
      },
      "outputs": [],
      "source": [
        "i = 10\n",
        "while True:\n",
        "    if i == 14:\n",
        "        break\n",
        "    i += 1 # This is shorthand for i = i + 1. It increments i with each iteration.\n",
        "    print i"
      ]
    },
    {
      "cell_type": "markdown",
      "source": [
        "**my own example 100**"
      ],
      "metadata": {
        "id": "_wBN3sDtNM0x"
      }
    },
    {
      "cell_type": "code",
      "source": [
        "i1010 = 154\n",
        "while True:\n",
        "    if i1010 == 165:\n",
        "        break\n",
        "    i1010 += 1 \n",
        "    print (i1010)"
      ],
      "metadata": {
        "colab": {
          "base_uri": "https://localhost:8080/"
        },
        "id": "hfGHEIZFWD-S",
        "outputId": "13028de2-f270-46c0-fb0b-34b774f210b8"
      },
      "execution_count": null,
      "outputs": [
        {
          "output_type": "stream",
          "name": "stdout",
          "text": [
            "155\n",
            "156\n",
            "157\n",
            "158\n",
            "159\n",
            "160\n",
            "161\n",
            "162\n",
            "163\n",
            "164\n",
            "165\n"
          ]
        }
      ]
    },
    {
      "cell_type": "code",
      "execution_count": null,
      "metadata": {
        "colab": {
          "base_uri": "https://localhost:8080/",
          "height": 130
        },
        "id": "lMOrNMXrFoEH",
        "outputId": "d76a8784-61a9-4134-987b-9facda724907"
      },
      "outputs": [
        {
          "output_type": "error",
          "ename": "SyntaxError",
          "evalue": "ignored",
          "traceback": [
            "\u001b[0;36m  File \u001b[0;32m\"<ipython-input-283-d560976a5274>\"\u001b[0;36m, line \u001b[0;32m4\u001b[0m\n\u001b[0;31m    print i\u001b[0m\n\u001b[0m          ^\u001b[0m\n\u001b[0;31mSyntaxError\u001b[0m\u001b[0;31m:\u001b[0m Missing parentheses in call to 'print'. Did you mean print(i)?\n"
          ]
        }
      ],
      "source": [
        "for i in range(5):\n",
        "    if i == 2:\n",
        "        break\n",
        "    print i"
      ]
    },
    {
      "cell_type": "markdown",
      "source": [
        "**my own example 101**"
      ],
      "metadata": {
        "id": "zfUVjoCNNCgH"
      }
    },
    {
      "cell_type": "code",
      "source": [
        "for i1010 in range(56):\n",
        "  if i1010 == 5:\n",
        "    break\n",
        "  print(i1010)"
      ],
      "metadata": {
        "id": "ysvOM9iwWGec"
      },
      "execution_count": null,
      "outputs": []
    },
    {
      "cell_type": "markdown",
      "metadata": {
        "id": "4PWUv6rPFoEH"
      },
      "source": [
        "The `continue` statement will tell the loop to immediately end this iteration and continue onto the next iteration of the loop."
      ]
    },
    {
      "cell_type": "code",
      "execution_count": null,
      "metadata": {
        "id": "5yTU37UcFoEH"
      },
      "outputs": [],
      "source": [
        "i = 0\n",
        "while i < 5:\n",
        "    i += 1\n",
        "    if i == 3:\n",
        "        continue\n",
        "    print i"
      ]
    },
    {
      "cell_type": "markdown",
      "source": [
        "**my own example 102**"
      ],
      "metadata": {
        "id": "gPSuz2GgNRsD"
      }
    },
    {
      "cell_type": "code",
      "source": [
        "i1010 = 20\n",
        "while i1010 < 50:\n",
        "  i1010 += 1\n",
        "  if i1010 == 28:\n",
        "    continue\n",
        "  print(i1010)"
      ],
      "metadata": {
        "id": "inUBlx5VWISW"
      },
      "execution_count": null,
      "outputs": []
    },
    {
      "cell_type": "markdown",
      "metadata": {
        "id": "_DqPNV75FoEH"
      },
      "source": [
        "This loop skips printing the number $3$ because of the `continue` statement that executes when we enter the if-statement. The code never sees the command to print the number $3$ because it has already moved to the next iteration. The `break` and `continue` statements are further tools to help you control the flow of your loops and, as a result, your code."
      ]
    },
    {
      "cell_type": "markdown",
      "metadata": {
        "id": "lHXxNx1UFoEH"
      },
      "source": [
        "The variable that we use to iterate over a loop will retain its value when the loop exits. Similarly, any variables defined within the context of the loop will continue to exist outside of it."
      ]
    },
    {
      "cell_type": "code",
      "execution_count": null,
      "metadata": {
        "id": "omj2nhhSFoEH"
      },
      "outputs": [],
      "source": [
        "for i in range(5):\n",
        "    loop_string = 'I transcend the loop!'\n",
        "    print 'I am eternal! I am {0} and I exist everywhere!'.format(i)\n",
        "\n",
        "print 'I persist! My value is {0}'.format(i)\n",
        "print loop_string"
      ]
    },
    {
      "cell_type": "markdown",
      "source": [
        "**my own example 103**"
      ],
      "metadata": {
        "id": "uULDtPCuNYw4"
      }
    },
    {
      "cell_type": "code",
      "source": [
        "for i1010 in range(8):\n",
        "    string1010 = 'I transcend the loop!'\n",
        "    print ('I am eternal! I am {0} and I exist everywhere!'.format(i1010))\n",
        "\n",
        "print ('I persist! My value is {0}'.format(i1010))\n",
        "print (string1010)"
      ],
      "metadata": {
        "id": "JnBxGN-NWKjE"
      },
      "execution_count": null,
      "outputs": []
    },
    {
      "cell_type": "markdown",
      "metadata": {
        "id": "DXzwZ5vNFoEH"
      },
      "source": [
        "We can also iterate over a dictionary!"
      ]
    },
    {
      "cell_type": "code",
      "execution_count": null,
      "metadata": {
        "id": "0I96X2iGFoEI"
      },
      "outputs": [],
      "source": [
        "my_dict = {'firstname' : 'Inigo', 'lastname' : 'Montoya', 'nemesis' : 'Rugen'}"
      ]
    },
    {
      "cell_type": "code",
      "execution_count": null,
      "metadata": {
        "id": "hL_4lsFsFoEI"
      },
      "outputs": [],
      "source": [
        "for key in my_dict:\n",
        "    print key"
      ]
    },
    {
      "cell_type": "markdown",
      "source": [
        "**my own example 104**"
      ],
      "metadata": {
        "id": "CtZG6pKPNbfF"
      }
    },
    {
      "cell_type": "code",
      "source": [
        "dict1010 = {\"uno\": \"Carlos\", \"dos\": \"Cordero\", \"tres\": \"Pepe\"}\n",
        "for key in dict1010:\n",
        "  print(key)"
      ],
      "metadata": {
        "id": "ZGKgKikCWNv5"
      },
      "execution_count": null,
      "outputs": []
    },
    {
      "cell_type": "markdown",
      "metadata": {
        "id": "6f0EFigBFoEI"
      },
      "source": [
        "If we just iterate over a dictionary without doing anything else, we will only get the keys. We can either use the keys to get the values, like so:"
      ]
    },
    {
      "cell_type": "code",
      "execution_count": null,
      "metadata": {
        "id": "s7lUuL-KFoEI"
      },
      "outputs": [],
      "source": [
        "for key in my_dict:\n",
        "    print my_dict[key]"
      ]
    },
    {
      "cell_type": "markdown",
      "source": [
        "**my own example 105**"
      ],
      "metadata": {
        "id": "HtxAF2QnNiah"
      }
    },
    {
      "cell_type": "code",
      "source": [
        "for key in dict1010:\n",
        "  print(dict1010[key])"
      ],
      "metadata": {
        "id": "AyY-LCNUWQLq"
      },
      "execution_count": null,
      "outputs": []
    },
    {
      "cell_type": "markdown",
      "metadata": {
        "id": "Qg2pT2fVFoEI"
      },
      "source": [
        "Or we can use the `items()` function to get both key and value at the same time."
      ]
    },
    {
      "cell_type": "code",
      "execution_count": null,
      "metadata": {
        "id": "tht1QrB3FoEI"
      },
      "outputs": [],
      "source": [
        "for key, value in my_dict.items():\n",
        "    print key, ':', value"
      ]
    },
    {
      "cell_type": "markdown",
      "source": [
        "**my own example 106**"
      ],
      "metadata": {
        "id": "l0SWxnokNlnx"
      }
    },
    {
      "cell_type": "code",
      "source": [
        "for key, value in dict1010.items():\n",
        "    print (key, ':', value)"
      ],
      "metadata": {
        "id": "uIGPJDZVWSL_"
      },
      "execution_count": null,
      "outputs": []
    },
    {
      "cell_type": "markdown",
      "metadata": {
        "id": "5p1itnERFoEI"
      },
      "source": [
        "The `items()` function creates a tuple of each key-value pair and the for loop unpacks that tuple into `key, value` on each separate execution of the loop!"
      ]
    },
    {
      "cell_type": "markdown",
      "metadata": {
        "id": "p45mzY-ZFoEI"
      },
      "source": [
        "## Functions\n",
        "\n",
        "A function is a reusable block of code that you can call repeatedly to make calculations, output data, or really do anything that you want. This is one of the key aspects of using a programming language. To add to the built-in functions in Python, you can define your own!"
      ]
    },
    {
      "cell_type": "code",
      "execution_count": null,
      "metadata": {
        "id": "LvqCYc8tFoEI"
      },
      "outputs": [],
      "source": [
        "def hello_world():\n",
        "    \"\"\" Prints Hello, world! \"\"\"\n",
        "    print 'Hello, world!'\n",
        "\n",
        "hello_world()"
      ]
    },
    {
      "cell_type": "markdown",
      "source": [
        "**my own example 107**"
      ],
      "metadata": {
        "id": "YsjEPNpVNpSr"
      }
    },
    {
      "cell_type": "code",
      "source": [
        "def mensaje():\n",
        "  \"\"\"Prnits mensaje de prueba\"\"\"\n",
        "  print(\"Mensaje de prueba\")\n",
        "\n",
        "mensaje()"
      ],
      "metadata": {
        "id": "I4DuXD-cWUeO"
      },
      "execution_count": null,
      "outputs": []
    },
    {
      "cell_type": "code",
      "execution_count": null,
      "metadata": {
        "id": "ErmlaARJFoEJ"
      },
      "outputs": [],
      "source": [
        "for i in range(5):\n",
        "    hello_world()"
      ]
    },
    {
      "cell_type": "markdown",
      "metadata": {
        "id": "XODIHqcmFoEJ"
      },
      "source": [
        "Functions are defined with `def`, a function name, a list of parameters, and a colon. Everything indented below the colon will be included in the definition of the function.\n",
        "\n",
        "We can have our functions do anything that you can do with a normal block of code. For example, our `hello_world()` function prints a string every time it is called. If we want to keep a value that a function calculates, we can define the function so that it will `return` the value we want. This is a very important feature of functions, as any variable defined purely within a function will not exist outside of it."
      ]
    },
    {
      "cell_type": "code",
      "execution_count": null,
      "metadata": {
        "id": "p_AzCIJpFoEJ"
      },
      "outputs": [],
      "source": [
        "def see_the_scope():\n",
        "    in_function_string = \"I'm stuck in here!\"\n",
        "\n",
        "see_the_scope()\n",
        "print in_function_string"
      ]
    },
    {
      "cell_type": "markdown",
      "source": [
        "**my own example 108**"
      ],
      "metadata": {
        "id": "efkF1WIZNutc"
      }
    },
    {
      "cell_type": "code",
      "source": [
        "def string_in_function():\n",
        "  stringf1010 = \"Holaaaaa\"\n",
        "\n",
        "string_in_function()\n",
        "print(stringf1010)"
      ],
      "metadata": {
        "id": "nUv9qPmtWWsN"
      },
      "execution_count": null,
      "outputs": []
    },
    {
      "cell_type": "markdown",
      "metadata": {
        "id": "iMxFYUWeFoEJ"
      },
      "source": [
        " The **scope** of a variable is the part of a block of code where that variable is tied to a particular value. Functions in Python have an enclosed scope, making it so that variables defined within them can only be accessed directly within them. If we pass those values to a return statement we can get them out of the function. This makes it so that the function call returns values so that you can store them in variables that have a greater scope.\n",
        " \n",
        "In this case specifically, including a return statement allows us to keep the string value that we define in the function."
      ]
    },
    {
      "cell_type": "code",
      "execution_count": null,
      "metadata": {
        "id": "nXjHW4VDFoEJ"
      },
      "outputs": [],
      "source": [
        "def free_the_scope():\n",
        "    in_function_string = \"Anything you can do I can do better!\"\n",
        "    return in_function_string\n",
        "my_string = free_the_scope()\n",
        "print my_string"
      ]
    },
    {
      "cell_type": "markdown",
      "source": [
        "**my own example 109**"
      ],
      "metadata": {
        "id": "ViU6HCF4NzTv"
      }
    },
    {
      "cell_type": "code",
      "source": [
        "def string_in_function():\n",
        "  stringf1010 = \"Holaaaaa\"\n",
        "  return stringf1010\n",
        "\n",
        "string1010 = string_in_function()\n",
        "print(string1010)"
      ],
      "metadata": {
        "id": "EPH6L0w2WYwh"
      },
      "execution_count": null,
      "outputs": []
    },
    {
      "cell_type": "markdown",
      "metadata": {
        "id": "CoOZKOmeFoEJ"
      },
      "source": [
        "Just as we can get values out of a function, we can also put values into a function. We do this by defining our function with parameters."
      ]
    },
    {
      "cell_type": "code",
      "execution_count": null,
      "metadata": {
        "id": "1Q0AALExFoEJ"
      },
      "outputs": [],
      "source": [
        "def multiply_by_five(x):\n",
        "    \"\"\" Multiplies an input number by 5 \"\"\"\n",
        "    return x * 5\n",
        "\n",
        "n = 4\n",
        "print n\n",
        "print multiply_by_five(n)"
      ]
    },
    {
      "cell_type": "markdown",
      "source": [
        "**my own example 110**"
      ],
      "metadata": {
        "id": "RT2AlCt0N2Uu"
      }
    },
    {
      "cell_type": "code",
      "source": [
        "def multiply_by_six(x):\n",
        "  return x * 6\n",
        "\n",
        "n = 456874\n",
        "print ( n)\n",
        "print(multiply_by_six(n))"
      ],
      "metadata": {
        "id": "HAScCR1lWa7T"
      },
      "execution_count": null,
      "outputs": []
    },
    {
      "cell_type": "markdown",
      "metadata": {
        "id": "3EPbcGc7FoEJ"
      },
      "source": [
        "In this example we only had one parameter for our function, `x`. We can easily add more parameters, separating everything with a comma."
      ]
    },
    {
      "cell_type": "code",
      "execution_count": null,
      "metadata": {
        "id": "aAUcIayKFoEK"
      },
      "outputs": [],
      "source": [
        "def calculate_area(length, width):\n",
        "    \"\"\" Calculates the area of a rectangle \"\"\"\n",
        "    return length * width"
      ]
    },
    {
      "cell_type": "markdown",
      "source": [
        "**my own example 111**"
      ],
      "metadata": {
        "id": "ejXVUJKKN5_c"
      }
    },
    {
      "cell_type": "code",
      "source": [
        "def calculate_perimeter(length, width):\n",
        "  return 2 * length + 2 * width"
      ],
      "metadata": {
        "id": "1zYtMKZ2Wc7E"
      },
      "execution_count": null,
      "outputs": []
    },
    {
      "cell_type": "code",
      "execution_count": null,
      "metadata": {
        "id": "hUZ-fcMlFoEK"
      },
      "outputs": [],
      "source": [
        "l = 5\n",
        "w = 10\n",
        "print 'Area: ', calculate_area(l, w)\n",
        "print 'Length: ', l\n",
        "print 'Width: ', w"
      ]
    },
    {
      "cell_type": "markdown",
      "source": [
        "**my own example 112**"
      ],
      "metadata": {
        "id": "waI6Bt9oN9Ad"
      }
    },
    {
      "cell_type": "code",
      "source": [
        "l1010 = 52\n",
        "w1010 = 75\n",
        "print ('Perimeter: ', calculate_perimeter(l1010, w1010))\n",
        "print ('Length: ', l1010)\n",
        "print ('Width: ', w1010)"
      ],
      "metadata": {
        "id": "ucKRzspbWfWz"
      },
      "execution_count": null,
      "outputs": []
    },
    {
      "cell_type": "code",
      "execution_count": null,
      "metadata": {
        "id": "25FkWIIFFoEK"
      },
      "outputs": [],
      "source": [
        "def calculate_volume(length, width, depth):\n",
        "    \"\"\" Calculates the volume of a rectangular prism \"\"\"\n",
        "    return length * width * depth"
      ]
    },
    {
      "cell_type": "markdown",
      "source": [
        "**my own example 113**"
      ],
      "metadata": {
        "id": "pK0OXsfLN_mf"
      }
    },
    {
      "cell_type": "code",
      "source": [
        "def calculate_volume(length1010, width1010, depth1010):\n",
        "    return length1010 * width1010 * depth1010"
      ],
      "metadata": {
        "id": "UXiQv1wRWhnb"
      },
      "execution_count": null,
      "outputs": []
    },
    {
      "cell_type": "markdown",
      "metadata": {
        "id": "cAULjP2QFoEK"
      },
      "source": [
        "If we want to, we can define a function so that it takes an arbitrary number of parameters. We tell Python that we want this by using an asterisk (`*`)."
      ]
    },
    {
      "cell_type": "code",
      "execution_count": null,
      "metadata": {
        "id": "5XfySOQ_FoEK"
      },
      "outputs": [],
      "source": [
        "def sum_values(*args):\n",
        "    sum_val = 0\n",
        "    for i in args:\n",
        "        sum_val += i\n",
        "    return sum_val"
      ]
    },
    {
      "cell_type": "markdown",
      "source": [
        "**my own example 114**"
      ],
      "metadata": {
        "id": "S-84ZtulOCME"
      }
    },
    {
      "cell_type": "code",
      "source": [
        "def suma(*args):\n",
        "  sum1010 = 0\n",
        "  for item in args:\n",
        "    sum1010 += item\n",
        "  return sum1010"
      ],
      "metadata": {
        "id": "8CdBKGNsWkWc"
      },
      "execution_count": null,
      "outputs": []
    },
    {
      "cell_type": "code",
      "execution_count": null,
      "metadata": {
        "id": "ABOB7qh2FoEK"
      },
      "outputs": [],
      "source": [
        "print sum_values(1, 2, 3)\n",
        "print sum_values(10, 20, 30, 40, 50)\n",
        "print sum_values(4, 2, 5, 1, 10, 249, 25, 24, 13, 6, 4)"
      ]
    },
    {
      "cell_type": "markdown",
      "source": [
        "**my own example 115**"
      ],
      "metadata": {
        "id": "4zznhSTMOEzU"
      }
    },
    {
      "cell_type": "code",
      "source": [
        "print (suma(1, 2, 3, 4, 5, 6))\n",
        "print (suma(10, 20, 30, 40, 50, 60, 70, 80, 90, 100))\n",
        "print (suma(4, 2, 5, 1, 10, 249, 25, 24, 13, 6, 4, 20, 56, 84, 78))"
      ],
      "metadata": {
        "id": "D5gaKZEUWnAX"
      },
      "execution_count": null,
      "outputs": []
    },
    {
      "cell_type": "markdown",
      "metadata": {
        "id": "SiJi5u2DFoEK"
      },
      "source": [
        "The time to use `*args` as a parameter for your function is when you do not know how many values may be passed to it, as in the case of our sum function. The asterisk in this case is the syntax that tells Python that you are going to pass an arbitrary number of parameters into your function. These parameters are stored in the form of a tuple."
      ]
    },
    {
      "cell_type": "code",
      "execution_count": null,
      "metadata": {
        "id": "uyhAdHC9FoEK"
      },
      "outputs": [],
      "source": [
        "def test_args(*args):\n",
        "    print type(args)\n",
        "\n",
        "test_args(1, 2, 3, 4, 5, 6)"
      ]
    },
    {
      "cell_type": "markdown",
      "source": [
        "**my own example 116**"
      ],
      "metadata": {
        "id": "Cc2MEtNoOHO2"
      }
    },
    {
      "cell_type": "code",
      "source": [
        "def type_args(*args):\n",
        "  print(type(args))\n",
        "\n",
        "type_args(1, 2, 3, 4)"
      ],
      "metadata": {
        "id": "8Va6VR4VWqI7"
      },
      "execution_count": null,
      "outputs": []
    },
    {
      "cell_type": "markdown",
      "metadata": {
        "id": "1I8sAMD-FoEL"
      },
      "source": [
        "We can put as many elements into the `args` tuple as we want to when we call the function. However, because `args` is a tuple, we cannot modify it after it has been created.\n",
        "\n",
        "The `args` name of the variable is purely by convention. You could just as easily name your parameter `*vars` or `*things`. You can treat the `args` tuple like you would any other tuple, easily accessing `arg`'s values and iterating over it, as in the above `sum_values(*args)` function."
      ]
    },
    {
      "cell_type": "markdown",
      "metadata": {
        "id": "6m0gmheeFoEL"
      },
      "source": [
        "Our functions can return any data type. This makes it easy for us to create functions that check for conditions that we might want to monitor.\n",
        "\n",
        "Here we define a function that returns a boolean value. We can easily use this in conjunction with if-statements and  other situations that require a boolean."
      ]
    },
    {
      "cell_type": "code",
      "execution_count": null,
      "metadata": {
        "id": "Oj31FFUeFoEL"
      },
      "outputs": [],
      "source": [
        "def has_a_vowel(word):\n",
        "    \"\"\" \n",
        "    Checks to see whether a word contains a vowel \n",
        "    If it doesn't contain a conventional vowel, it\n",
        "    will check for the presence of 'y' or 'w'. Does\n",
        "    not check to see whether those are in the word\n",
        "    in a vowel context.\n",
        "    \"\"\"\n",
        "    vowel_list = ['a', 'e', 'i', 'o', 'u']\n",
        "    \n",
        "    for vowel in vowel_list:\n",
        "        if vowel in word:\n",
        "            return True\n",
        "    # If there is a vowel in the word, the function returns, preventing anything after this loop from running\n",
        "    return False"
      ]
    },
    {
      "cell_type": "markdown",
      "source": [
        "**my own example 117**"
      ],
      "metadata": {
        "id": "3SYeasHOOJ5u"
      }
    },
    {
      "cell_type": "code",
      "source": [
        "def tiene_vocal(palabra):\n",
        "\n",
        "  lista_vocales1010 = [\"a\", \"e\", \"i\", \"o\", \"u\"]\n",
        "\n",
        "  for vocal in lista_vocales1010:\n",
        "    if vocal in palabra:\n",
        "      return True\n",
        "\n",
        "  return False "
      ],
      "metadata": {
        "id": "Hw1rNeTDWs2U"
      },
      "execution_count": null,
      "outputs": []
    },
    {
      "cell_type": "code",
      "execution_count": null,
      "metadata": {
        "id": "O6kx19IgFoEL"
      },
      "outputs": [],
      "source": [
        "my_word = 'catnapping'\n",
        "if has_a_vowel(my_word):\n",
        "    print 'How surprising, an english word contains a vowel.'\n",
        "else:\n",
        "    print 'This is actually surprising.'"
      ]
    },
    {
      "cell_type": "markdown",
      "source": [
        "**my own example 118**"
      ],
      "metadata": {
        "id": "o6h40op_OMWp"
      }
    },
    {
      "cell_type": "code",
      "source": [
        "palabra1010 = \"pruebaaaaa\"\n",
        "if tiene_vocal(palabra1010):\n",
        "  print ('How surprising, an english word contains a vowel.')\n",
        "else:\n",
        "  print ('This is actually surprising.')"
      ],
      "metadata": {
        "id": "pv4Npm_1Wv4Y"
      },
      "execution_count": null,
      "outputs": []
    },
    {
      "cell_type": "code",
      "execution_count": null,
      "metadata": {
        "id": "vB6wGRy7FoEL"
      },
      "outputs": [],
      "source": [
        "def point_maker(x, y):\n",
        "    \"\"\" Groups x and y values into a point, technically a tuple \"\"\"\n",
        "    return x, y"
      ]
    },
    {
      "cell_type": "markdown",
      "source": [
        "**my own example 119**"
      ],
      "metadata": {
        "id": "EsDKKhg0OPQs"
      }
    },
    {
      "cell_type": "code",
      "source": [
        "def point_maker(arg1, arg2):\n",
        "  return arg1, arg2"
      ],
      "metadata": {
        "id": "5slLX4GcWx2B"
      },
      "execution_count": null,
      "outputs": []
    },
    {
      "cell_type": "markdown",
      "metadata": {
        "id": "l9AO7884FoEL"
      },
      "source": [
        "This above function returns an ordered pair of the input parameters, stored as a tuple."
      ]
    },
    {
      "cell_type": "code",
      "execution_count": null,
      "metadata": {
        "id": "IQr6BWpnFoEL",
        "scrolled": true
      },
      "outputs": [],
      "source": [
        "a = point_maker(0, 10)\n",
        "b = point_maker(5, 3)\n",
        "def calculate_slope(point_a, point_b):\n",
        "    \"\"\" Calculates the linear slope between two points \"\"\"\n",
        "    return (point_b[1] - point_a[1])/(point_b[0] - point_a[0])\n",
        "print \"The slope between a and b is {0}\".format(calculate_slope(a, b))"
      ]
    },
    {
      "cell_type": "markdown",
      "source": [
        "**my own example 120**"
      ],
      "metadata": {
        "id": "I1ETbWBAOSPQ"
      }
    },
    {
      "cell_type": "code",
      "source": [
        "a1010 = point_maker(254, 12)\n",
        "b1010 = point_maker(565, 336)\n",
        "def calcular_pendiente(point_a, point_b):\n",
        "  return (point_b[1] - point_a[1])/(point_b[0] - point_a[0])\n",
        "print (\"The slope between a and b is {0}\".format(calcular_pendiente(a1010, b1010)))"
      ],
      "metadata": {
        "id": "c3aK0AMHW0Eo"
      },
      "execution_count": null,
      "outputs": []
    },
    {
      "cell_type": "markdown",
      "metadata": {
        "id": "4qLxRJ6vFoEL"
      },
      "source": [
        "And that one calculates the slope between two points!"
      ]
    },
    {
      "cell_type": "code",
      "execution_count": null,
      "metadata": {
        "id": "d5RKJsE5FoEL"
      },
      "outputs": [],
      "source": [
        "print \"The slope-intercept form of the line between a and b, using point a, is: y - {0} = {2}(x - {1})\".format(a[1], a[0], calculate_slope(a, b))"
      ]
    },
    {
      "cell_type": "markdown",
      "source": [
        "**my own example 121**"
      ],
      "metadata": {
        "id": "pEtoCDrQOWwF"
      }
    },
    {
      "cell_type": "code",
      "source": [
        "print (\"The slope-intercept form of the line between a and b, using point a, is: y - {0} = {2}(x - {1})\".format(a1010[1], a1010[0], calcular_pendiente(a1010, b1010)))\n"
      ],
      "metadata": {
        "id": "6NFpELNNW5CI"
      },
      "execution_count": null,
      "outputs": []
    },
    {
      "cell_type": "markdown",
      "metadata": {
        "id": "v04drhqWFoEM"
      },
      "source": [
        "With the proper syntax, you can define functions to do whatever calculations you want. This makes them an indispensible part of programming in any language."
      ]
    },
    {
      "cell_type": "markdown",
      "metadata": {
        "id": "TGUZCs8cFoEM"
      },
      "source": [
        "## Next Steps\n",
        "\n",
        "This was a lot of material and there is still even more to cover! Make sure you play around with the cells in each notebook to accustom yourself to the syntax featured here and to figure out any limitations. If you want to delve even deeper into the material, the [documentation for Python](https://docs.python.org/2/) is all available online. We are in the process of developing a second part to this Python tutorial, designed to provide you with even more programming knowledge, so keep an eye on the [Quantopian Lectures Page](quantopian.com/lectures) and the [forums](quantopian.com/posts) for any new lectures."
      ]
    },
    {
      "cell_type": "markdown",
      "metadata": {
        "id": "J5VNrzrqFoEM"
      },
      "source": [
        "*This presentation is for informational purposes only and does not constitute an offer to sell, a solicitation to buy, or a recommendation for any security; nor does it constitute an offer to provide investment advisory or other services by Quantopian, Inc. (\"Quantopian\"). Nothing contained herein constitutes investment advice or offers any opinion with respect to the suitability of any security, and any views expressed herein should not be taken as advice to buy, sell, or hold any security or as an endorsement of any security or company.  In preparing the information contained herein, Quantopian, Inc. has not taken into account the investment needs, objectives, and financial circumstances of any particular investor. Any views expressed and data illustrated herein were prepared based upon information, believed to be reliable, available to Quantopian, Inc. at the time of publication. Quantopian makes no guarantees as to their accuracy or completeness. All information is subject to change and may quickly become unreliable for various reasons, including changes in market conditions or economic circumstances.*"
      ]
    },
    {
      "cell_type": "markdown",
      "metadata": {
        "id": "3WxjwzlPHs0I"
      },
      "source": [
        "<div align=\"center\">\n",
        "<img style=\"display: block; margin: auto;\" alt=\"photo\" src=\"https://upload.wikimedia.org/wikipedia/en/d/de/Quantopian_logo_2017.png\">\n",
        "</div> \n",
        "\n",
        "# Introduction to pandas\n",
        "by Maxwell Margenot\n",
        "\n",
        "Part of the Quantopian Lecture Series:\n",
        "\n",
        "* [www.quantopian.com/lectures](https://www.quantopian.com/lectures)\n",
        "* [github.com/quantopian/research_public](https://github.com/quantopian/research_public)\n",
        "\n"
      ]
    },
    {
      "cell_type": "markdown",
      "metadata": {
        "id": "eOKqPldlHs0L"
      },
      "source": [
        "pandas is a Python library that provides a collection of powerful data structures to better help you manage data. In this lecture, we will cover how to use the `Series` and `DataFrame` objects to handle data. These objects have a strong integration with NumPy, covered elsewhere in the [lecture series](http://www.quantopian.com/lectures#Introduction-to-NumPy), allowing us to easily do the necessary statistical and mathematical calculations that we need for finance."
      ]
    },
    {
      "cell_type": "code",
      "execution_count": null,
      "metadata": {
        "id": "pzhf-KnPHs0M"
      },
      "outputs": [],
      "source": [
        "import numpy as np\n",
        "import pandas as pd\n",
        "import matplotlib.pyplot as plt"
      ]
    },
    {
      "cell_type": "markdown",
      "metadata": {
        "id": "euf90nnmHs0N"
      },
      "source": [
        "With pandas, it is easy to store, visualize, and perform calculations on your data. With only a few lines of code we can modify our data and present it in an easily-understandable way. Here we simulate some returns in NumPy, put them into a pandas `DataFrame`, and perform calculations to turn them into prices and plot them, all only using a few lines of code."
      ]
    },
    {
      "cell_type": "code",
      "execution_count": null,
      "metadata": {
        "id": "1hn_hFOJHs0N"
      },
      "outputs": [],
      "source": [
        "returns = pd.DataFrame(np.random.normal(1.0, 0.03, (100, 10)))\n",
        "prices = returns.cumprod()\n",
        "prices.plot()\n",
        "plt.title('Randomly-generated Prices')\n",
        "plt.xlabel('Time')\n",
        "plt.ylabel('Price')\n",
        "plt.legend(loc=0);"
      ]
    },
    {
      "cell_type": "markdown",
      "source": [
        "**my own example 122**"
      ],
      "metadata": {
        "id": "32j80_KrOaKy"
      }
    },
    {
      "cell_type": "code",
      "source": [
        "r1010 = pd.DataFrame(np.random.normal(2.5, 0.05, (20,5)))\n",
        "p1010 = r1010\n",
        "p1010.plot()\n",
        "plt.title('Randomly-generated Prices')\n",
        "plt.xlabel('Time')\n",
        "plt.ylabel('Price')\n",
        "plt.legend(loc=0);"
      ],
      "metadata": {
        "id": "n-FK3w0_XBHR"
      },
      "execution_count": null,
      "outputs": []
    },
    {
      "cell_type": "markdown",
      "metadata": {
        "id": "GI4-UHmBHs0O"
      },
      "source": [
        "So let's have a look at how we actually build up to this point!"
      ]
    },
    {
      "cell_type": "markdown",
      "metadata": {
        "id": "k3cHCvk2Hs0O"
      },
      "source": [
        "## pandas Data Structures\n",
        "\n",
        "### `Series`\n",
        "\n",
        "A pandas `Series` is a 1-dimensional array with labels that can contain any data type. We primarily use them for handling time series data. Creating a `Series` is as easy as calling `pandas.Series()` on a Python list or NumPy array."
      ]
    },
    {
      "cell_type": "code",
      "execution_count": null,
      "metadata": {
        "id": "gtjfgCEfHs0P"
      },
      "outputs": [],
      "source": [
        "s = pd.Series([1, 2, np.nan, 4, 5])\n",
        "print s"
      ]
    },
    {
      "cell_type": "markdown",
      "source": [
        "**my own example 123**"
      ],
      "metadata": {
        "id": "EnUujqGoOcv-"
      }
    },
    {
      "cell_type": "code",
      "source": [
        "s1010 = pd.Series([10, 20, np.nan, 40, 50])\n",
        "print(s1010)"
      ],
      "metadata": {
        "id": "TseVRta6XD4p"
      },
      "execution_count": null,
      "outputs": []
    },
    {
      "cell_type": "markdown",
      "metadata": {
        "id": "Do2pkpaOHs0Q"
      },
      "source": [
        "Every `Series` has a name. We can give the series a name as a parameter or we can define it afterwards by directly accessing the name attribute. In this case, we have given our time series no name so the attribute should be empty."
      ]
    },
    {
      "cell_type": "code",
      "execution_count": null,
      "metadata": {
        "id": "ygQ492kjHs0Q"
      },
      "outputs": [],
      "source": [
        "print s.name"
      ]
    },
    {
      "cell_type": "markdown",
      "source": [
        "**my own example 124**"
      ],
      "metadata": {
        "id": "eWDRUdOZOgYY"
      }
    },
    {
      "cell_type": "code",
      "source": [
        "print(s1010.name)"
      ],
      "metadata": {
        "id": "13g4Vzh8XF9V"
      },
      "execution_count": null,
      "outputs": []
    },
    {
      "cell_type": "markdown",
      "metadata": {
        "id": "1O6Prsw_Hs0R"
      },
      "source": [
        "This name can be directly modified with no repercussions."
      ]
    },
    {
      "cell_type": "code",
      "execution_count": null,
      "metadata": {
        "id": "9tyh6s2oHs0R"
      },
      "outputs": [],
      "source": [
        "s.name = \"Toy Series\"\n",
        "print s.name"
      ]
    },
    {
      "cell_type": "markdown",
      "source": [
        "**my own example 125**"
      ],
      "metadata": {
        "id": "SrM4nkrqOkGe"
      }
    },
    {
      "cell_type": "code",
      "source": [
        "s1010.name = \"Nombre\"\n",
        "print(s1010.name)"
      ],
      "metadata": {
        "id": "4cHaGWQ2XKLE"
      },
      "execution_count": null,
      "outputs": []
    },
    {
      "cell_type": "markdown",
      "metadata": {
        "id": "GFpVlGQqHs0S"
      },
      "source": [
        "We call the collected axis labels of a `Series` its index. An index can either passed to a `Series` as a parameter or added later, similarly to its name. In the absence of an index, a `Series` will simply contain an index composed of integers, starting at $0$, as in the case of our \"Toy Series\"."
      ]
    },
    {
      "cell_type": "code",
      "execution_count": null,
      "metadata": {
        "id": "PNbzjAg9Hs0S"
      },
      "outputs": [],
      "source": [
        "print s.index"
      ]
    },
    {
      "cell_type": "markdown",
      "metadata": {
        "id": "JMhFrJRiHs0S"
      },
      "source": [
        "pandas has a built-in function specifically for creating date indices, `date_range()`. We use the function here to create a new index for `s`."
      ]
    },
    {
      "cell_type": "code",
      "execution_count": null,
      "metadata": {
        "id": "p1tq3INsHs0S"
      },
      "outputs": [],
      "source": [
        "new_index = pd.date_range(\"2016-01-01\", periods=len(s), freq=\"D\")\n",
        "print new_index"
      ]
    },
    {
      "cell_type": "markdown",
      "metadata": {
        "id": "ngTfZsDFHs0T"
      },
      "source": [
        "An index must be exactly the same length as the `Series` itself. Each index must match one-to-one with each element of the `Series`. Once this is satisfied, we can directly modify the `Series` index, as with the name, to use our new and more informative index (relatively speaking)."
      ]
    },
    {
      "cell_type": "code",
      "execution_count": null,
      "metadata": {
        "id": "L_rdI8juHs0T"
      },
      "outputs": [],
      "source": [
        "s.index = new_index\n",
        "print s.index"
      ]
    },
    {
      "cell_type": "markdown",
      "metadata": {
        "id": "cv6qygOuHs0T"
      },
      "source": [
        "The index of the `Series` is crucial for handling time series, which we will get into a little later."
      ]
    },
    {
      "cell_type": "markdown",
      "metadata": {
        "id": "Eb-i9HDWHs0U"
      },
      "source": [
        "#### Accessing `Series` Elements\n",
        "\n",
        "`Series` are typically accessed using the `iloc[]` and `loc[]` methods. We use `iloc[]` to access elements by integer index and we use `loc[]` to access the index of the Series."
      ]
    },
    {
      "cell_type": "code",
      "execution_count": null,
      "metadata": {
        "id": "KFCz7QIpHs0U"
      },
      "outputs": [],
      "source": [
        "print \"First element of the series: \", s.iloc[0]\n",
        "print \"Last element of the series: \", s.iloc[len(s)-1]"
      ]
    },
    {
      "cell_type": "markdown",
      "source": [
        "**my own example 126**"
      ],
      "metadata": {
        "id": "OmSCPj0MOoOI"
      }
    },
    {
      "cell_type": "code",
      "source": [
        "print (\"First element of the series: \", s1010.iloc[0])\n",
        "print (\"Last element of the series: \", s1010.iloc[len(s1010)-1])"
      ],
      "metadata": {
        "id": "cF8Tor3GXNeU"
      },
      "execution_count": null,
      "outputs": []
    },
    {
      "cell_type": "markdown",
      "metadata": {
        "id": "Cv-UzEsMHs0U"
      },
      "source": [
        "We can slice a `Series` similarly to our favorite collections, Python lists and NumPy arrays. We use the colon operator to indicate the slice."
      ]
    },
    {
      "cell_type": "code",
      "execution_count": null,
      "metadata": {
        "id": "Rwr5OIQIHs0U"
      },
      "outputs": [],
      "source": [
        "s.iloc[:2]"
      ]
    },
    {
      "cell_type": "markdown",
      "source": [
        "**my own example 127**"
      ],
      "metadata": {
        "id": "W8OsLWvIOr7I"
      }
    },
    {
      "cell_type": "code",
      "source": [
        "s1010.iloc[:3]"
      ],
      "metadata": {
        "id": "5OeOhvKhXPVl"
      },
      "execution_count": null,
      "outputs": []
    },
    {
      "cell_type": "markdown",
      "metadata": {
        "id": "ELufJEW-Hs0V"
      },
      "source": [
        "When creating a slice, we have the options of specifying a beginning, an end, and a step. The slice will begin at the start index, and take steps of size `step` until it passes the end index, not including the end."
      ]
    },
    {
      "cell_type": "code",
      "execution_count": null,
      "metadata": {
        "id": "cppKemi1Hs0V"
      },
      "outputs": [],
      "source": [
        "start = 0\n",
        "end = len(s) - 1\n",
        "step = 1\n",
        "\n",
        "s.iloc[start:end:step]"
      ]
    },
    {
      "cell_type": "markdown",
      "source": [
        "**my own example 128**"
      ],
      "metadata": {
        "id": "FfYgh67rOu8D"
      }
    },
    {
      "cell_type": "code",
      "source": [
        "start = 1\n",
        "end = len(s1010) - 1\n",
        "step = 2\n",
        "\n",
        "s1010.iloc[start:end:step]"
      ],
      "metadata": {
        "id": "r69BYW7NXRVt"
      },
      "execution_count": null,
      "outputs": []
    },
    {
      "cell_type": "markdown",
      "metadata": {
        "id": "vrVpxeMrHs0V"
      },
      "source": [
        "We can even reverse a `Series` by specifying a negative step size. Similarly, we can index the start and end with a negative integer value."
      ]
    },
    {
      "cell_type": "code",
      "execution_count": null,
      "metadata": {
        "id": "1_CoIrtSHs0V"
      },
      "outputs": [],
      "source": [
        "s.iloc[::-1]"
      ]
    },
    {
      "cell_type": "markdown",
      "source": [
        "**my own example 129**"
      ],
      "metadata": {
        "id": "XmH-ucfyOx1c"
      }
    },
    {
      "cell_type": "code",
      "source": [
        "s1010.iloc[::-1]"
      ],
      "metadata": {
        "id": "0b76tY4nXTNR"
      },
      "execution_count": null,
      "outputs": []
    },
    {
      "cell_type": "markdown",
      "metadata": {
        "id": "FMGjtc63Hs0W"
      },
      "source": [
        "This returns a slice of the series that starts from the second to last element and ends at the third to last element (because the fourth to last is not included, taking steps of size $1$)."
      ]
    },
    {
      "cell_type": "code",
      "execution_count": null,
      "metadata": {
        "id": "WBPIIryLHs0W"
      },
      "outputs": [],
      "source": [
        "s.iloc[-2:-4:-1]"
      ]
    },
    {
      "cell_type": "markdown",
      "source": [
        "**my own example 130**"
      ],
      "metadata": {
        "id": "EyAyESS8O02s"
      }
    },
    {
      "cell_type": "code",
      "source": [
        "s1010.iloc[-1:-5:-1]"
      ],
      "metadata": {
        "id": "racHMWkmXVpN"
      },
      "execution_count": null,
      "outputs": []
    },
    {
      "cell_type": "markdown",
      "metadata": {
        "id": "NGcgARRsHs0W"
      },
      "source": [
        "We can also access a series by using the values of its index. Since we indexed `s` with a collection of dates (`Timestamp` objects) we can look at the value contained in `s` for a particular date."
      ]
    },
    {
      "cell_type": "code",
      "execution_count": null,
      "metadata": {
        "id": "BvAWyZvkHs0W"
      },
      "outputs": [],
      "source": [
        "s.loc['2016-01-01']"
      ]
    },
    {
      "cell_type": "markdown",
      "metadata": {
        "id": "Nj7OVKhVHs0W"
      },
      "source": [
        "Or even for a range of dates!"
      ]
    },
    {
      "cell_type": "code",
      "execution_count": null,
      "metadata": {
        "id": "mi_7afOcHs0W"
      },
      "outputs": [],
      "source": [
        "s.loc['2016-01-02':'2016-01-04']"
      ]
    },
    {
      "cell_type": "markdown",
      "source": [
        "**my own example 131**"
      ],
      "metadata": {
        "id": "tSZbbK7uO4EL"
      }
    },
    {
      "cell_type": "code",
      "source": [
        "s1010.loc['2016-01-02':'2016-01-04']"
      ],
      "metadata": {
        "id": "4PLpaJ-2XXva"
      },
      "execution_count": null,
      "outputs": []
    },
    {
      "cell_type": "markdown",
      "metadata": {
        "id": "p25gL_JIHs0X"
      },
      "source": [
        "With `Series`, we *can* just use the brackets (`[]`) to access elements, but this is not best practice. The brackets are ambiguous because they can be used to access `Series` (and `DataFrames`) using both index and integer values and the results will change based on context (especially with `DataFrames`)."
      ]
    },
    {
      "cell_type": "markdown",
      "metadata": {
        "id": "_kV2rjSTHs0X"
      },
      "source": [
        "#### Boolean Indexing\n",
        "\n",
        "In addition to the above-mentioned access methods, you can filter `Series` using boolean arrays. `Series` are compatible with your standard comparators. Once compared with whatever condition you like, you get back yet another `Series`, this time filled with boolean values."
      ]
    },
    {
      "cell_type": "code",
      "execution_count": null,
      "metadata": {
        "id": "f6e7gd5OHs0X"
      },
      "outputs": [],
      "source": [
        "print s < 3"
      ]
    },
    {
      "cell_type": "markdown",
      "source": [
        "**my own example 132**"
      ],
      "metadata": {
        "id": "pEjrJ2RJO8Ij"
      }
    },
    {
      "cell_type": "code",
      "source": [
        "print(s1010 <= 30)"
      ],
      "metadata": {
        "id": "1bEb26UhXZvt"
      },
      "execution_count": null,
      "outputs": []
    },
    {
      "cell_type": "markdown",
      "metadata": {
        "id": "FI-6yhq5Hs0X"
      },
      "source": [
        "We can pass *this* `Series` back into the original `Series` to filter out only the elements for which our condition is `True`."
      ]
    },
    {
      "cell_type": "code",
      "execution_count": null,
      "metadata": {
        "id": "WE_RUJl8Hs0X"
      },
      "outputs": [],
      "source": [
        "print s.loc[s < 3]"
      ]
    },
    {
      "cell_type": "markdown",
      "source": [
        "**my own example 133**"
      ],
      "metadata": {
        "id": "-OK6Ok9wO_fF"
      }
    },
    {
      "cell_type": "code",
      "source": [
        "print(s1010.loc[s1010 < 40])"
      ],
      "metadata": {
        "id": "YynODO09Xb2Z"
      },
      "execution_count": null,
      "outputs": []
    },
    {
      "cell_type": "markdown",
      "metadata": {
        "id": "Shld9-uTHs0Y"
      },
      "source": [
        "If we so desire, we can group multiple conditions together using the logical operators `&`, `|`, and `~` (and, or, and not, respectively)."
      ]
    },
    {
      "cell_type": "code",
      "execution_count": null,
      "metadata": {
        "id": "we1dMwOOHs0Y"
      },
      "outputs": [],
      "source": [
        "print s.loc[(s < 3) & (s > 1)]"
      ]
    },
    {
      "cell_type": "markdown",
      "source": [
        "**my own example 134**"
      ],
      "metadata": {
        "id": "kVc-6xfVPL11"
      }
    },
    {
      "cell_type": "code",
      "source": [
        "print (s1010.loc[(s1010 < 40) & (s1010 > 10)])"
      ],
      "metadata": {
        "id": "PsfS-byTXd6F"
      },
      "execution_count": null,
      "outputs": []
    },
    {
      "cell_type": "markdown",
      "metadata": {
        "id": "iMoKC5wMHs0Y"
      },
      "source": [
        "This is very convenient for getting only elements of a `Series` that fulfill specific criteria that we need. It gets even more convenient when we are handling `DataFrames`."
      ]
    },
    {
      "cell_type": "markdown",
      "metadata": {
        "id": "NrupLS36Hs0Y"
      },
      "source": [
        "#### Indexing and Time Series\n",
        "\n",
        "Since we use `Series` for handling time series, it's worth covering a little bit of how we handle the time component. For our purposes we use pandas `Timestamp` objects. Let's pull a full time series, complete with all the appropriate labels, by using our `get_pricing()` method. All data pulled with `get_pricing()` or using our Pipeline API will be in either `Series` or `DataFrame` format. We can modify this index however we like."
      ]
    },
    {
      "cell_type": "code",
      "execution_count": null,
      "metadata": {
        "id": "GxCAmvucHs0Y"
      },
      "outputs": [],
      "source": [
        "symbol = \"CMG\"\n",
        "start = \"2012-01-01\"\n",
        "end = \"2016-01-01\"\n",
        "prices = get_pricing(symbol, start_date=start, end_date=end, fields=\"price\")"
      ]
    },
    {
      "cell_type": "markdown",
      "source": [
        "**my own example 135**"
      ],
      "metadata": {
        "id": "4CGBZnLmPP5p"
      }
    },
    {
      "cell_type": "code",
      "source": [
        "!pip install --upgrade pandas-datareader"
      ],
      "metadata": {
        "id": "70sZ94bgXgUy"
      },
      "execution_count": null,
      "outputs": []
    },
    {
      "cell_type": "markdown",
      "metadata": {
        "id": "SH9w8y8lHs0Y"
      },
      "source": [
        "We can display the first few elements of our series by using the `head()` method and specifying the number of elements that we want. The analogous method for the last few elements is `tail()`."
      ]
    },
    {
      "cell_type": "code",
      "execution_count": null,
      "metadata": {
        "id": "7eQOihahHs0Y"
      },
      "outputs": [],
      "source": [
        "print \"\\n\", type(prices)\n",
        "prices.head(5) "
      ]
    },
    {
      "cell_type": "markdown",
      "source": [
        "**my own example 136**"
      ],
      "metadata": {
        "id": "uZ_JD9blPSjt"
      }
    },
    {
      "cell_type": "code",
      "source": [
        "print(\"\\n\", type(prices))\n",
        "prices.head(20)"
      ],
      "metadata": {
        "id": "ZOF0_lRGXjge"
      },
      "execution_count": null,
      "outputs": []
    },
    {
      "cell_type": "markdown",
      "metadata": {
        "id": "8_-B8mzpHs0Z"
      },
      "source": [
        "As with our toy example, we can specify a name for our time series, if only to clarify the name the `get_pricing()` provides us."
      ]
    },
    {
      "cell_type": "code",
      "execution_count": null,
      "metadata": {
        "id": "CTSLVePxHs0Z",
        "scrolled": true
      },
      "outputs": [],
      "source": [
        "print 'Old name: ', prices.name\n",
        "prices.name = symbol\n",
        "print 'New name: ', prices.name"
      ]
    },
    {
      "cell_type": "markdown",
      "source": [
        "**my own example 137**"
      ],
      "metadata": {
        "id": "CxgqIekfPWHU"
      }
    },
    {
      "cell_type": "code",
      "source": [
        "print ('Old name: ', prices1010.name)\n",
        "prices1010.name = symbol1010\n",
        "print ('New name: ', prices1010.name)"
      ],
      "metadata": {
        "id": "FCk9_ogfXlmy"
      },
      "execution_count": null,
      "outputs": []
    },
    {
      "cell_type": "markdown",
      "metadata": {
        "id": "lJcC9Y-mHs0Z"
      },
      "source": [
        "Let's take a closer look at the `DatetimeIndex` of our `prices` time series."
      ]
    },
    {
      "cell_type": "code",
      "execution_count": null,
      "metadata": {
        "id": "LYIuAIezHs0Z"
      },
      "outputs": [],
      "source": [
        "print prices.index"
      ]
    },
    {
      "cell_type": "markdown",
      "source": [
        "**my own example 138**"
      ],
      "metadata": {
        "id": "D5crn306PYJV"
      }
    },
    {
      "cell_type": "code",
      "source": [
        "print(prices1010.index)"
      ],
      "metadata": {
        "id": "VqWGlxHqXnOv"
      },
      "execution_count": null,
      "outputs": []
    },
    {
      "cell_type": "markdown",
      "metadata": {
        "id": "ckzGNBJ9Hs0Z"
      },
      "source": [
        "Notice that this `DatetimeIndex` has a collection of associated information. In particular it has an associated frequency (`freq`) and an associated timezone (`tz`). The frequency indicates whether the data is daily vs monthly vs some other period while the timezone indicates what locale this index is relative to. We can modify all of this extra information!\n",
        "\n",
        "If we resample our `Series`, we can adjust the frequency of our data. We currently have daily data (excluding weekends) because `get_pricing()` pulls only data from market days. Let's up-sample from this daily data to monthly data using the `resample()` method."
      ]
    },
    {
      "cell_type": "code",
      "execution_count": null,
      "metadata": {
        "id": "XYEz0k4wHs0Z"
      },
      "outputs": [],
      "source": [
        "monthly_prices = prices.resample('M')\n",
        "monthly_prices.head(10)"
      ]
    },
    {
      "cell_type": "markdown",
      "metadata": {
        "id": "Wj1WFSpvHs0Z"
      },
      "source": [
        "The `resample()` method defaults to using the mean of the lower level data to create the higher level data. We can specify how else we might want the up-sampling to be calculated by specifying the `how` parameter."
      ]
    },
    {
      "cell_type": "code",
      "execution_count": null,
      "metadata": {
        "id": "YEkx6clnHs0a"
      },
      "outputs": [],
      "source": [
        "monthly_prices_med = prices.resample('M', how='median')\n",
        "monthly_prices_med.head(10)"
      ]
    },
    {
      "cell_type": "markdown",
      "source": [
        "**my own example 139**"
      ],
      "metadata": {
        "id": "n-PmMSOAPb-O"
      }
    },
    {
      "cell_type": "code",
      "source": [
        "monthly_prices_med = prices1010.resample('M')\n",
        "monthly_prices_med"
      ],
      "metadata": {
        "id": "dVWtbGN8Xpmf"
      },
      "execution_count": null,
      "outputs": []
    },
    {
      "cell_type": "markdown",
      "metadata": {
        "id": "GXlP28PCHs0a"
      },
      "source": [
        "We can even specify how we want the calculation of the new period to be done. Here we create a `custom_resampler()` function that will return the first value of the period. In our specific case, this will return a `Series` where the monthly value is the first value of that month."
      ]
    },
    {
      "cell_type": "code",
      "execution_count": null,
      "metadata": {
        "id": "KQNGZhRrHs0a"
      },
      "outputs": [],
      "source": [
        "def custom_resampler(array_like):\n",
        "    \"\"\" Returns the first value of the period \"\"\"\n",
        "    return array_like[0]\n",
        "\n",
        "first_of_month_prices = prices.resample('M', how=custom_resampler)\n",
        "first_of_month_prices.head(10)"
      ]
    },
    {
      "cell_type": "markdown",
      "metadata": {
        "id": "SG_S83MbHs0a"
      },
      "source": [
        "We can also adjust the timezone of a `Series` to adapt the time of real-world data. In our case, our time series is already localized to UTC, but let's say that we want to adjust the time to be 'US/Eastern'. In this case we use the `tz_convert()` method, since the time is already localized."
      ]
    },
    {
      "cell_type": "code",
      "execution_count": null,
      "metadata": {
        "id": "7ysYd93ZHs0a"
      },
      "outputs": [],
      "source": [
        "eastern_prices = prices.tz_convert('US/Eastern')\n",
        "eastern_prices.head(10)"
      ]
    },
    {
      "cell_type": "markdown",
      "source": [
        "**my own example 140**"
      ],
      "metadata": {
        "id": "rBVYLoBZPgG8"
      }
    },
    {
      "cell_type": "code",
      "source": [
        "eastern_prices = prices1010.tz_localize('US/Eastern')\n",
        "eastern_prices.head(10)"
      ],
      "metadata": {
        "id": "Obl8_vdqXr-U"
      },
      "execution_count": null,
      "outputs": []
    },
    {
      "cell_type": "markdown",
      "metadata": {
        "id": "DsGzYSHIHs0b"
      },
      "source": [
        "In addition to the capacity for timezone and frequency management, each time series has a built-in `reindex()` method that we can use to realign the existing data according to a new set of index labels. If data does not exist for a particular label, the data will be filled with a placeholder value. This is typically `np.nan`, though we can provide a fill method.\n",
        "\n",
        "The data that we `get_pricing()` only includes market days. But what if we want prices for every single calendar day? This will include holidays and weekends, times when you normally cannot trade equities.  First let's create a new `DatetimeIndex` that contains all that we want."
      ]
    },
    {
      "cell_type": "code",
      "execution_count": null,
      "metadata": {
        "id": "GlsyWoEzHs0b",
        "scrolled": false
      },
      "outputs": [],
      "source": [
        "calendar_dates = pd.date_range(start=start, end=end, freq='D', tz='UTC')\n",
        "print calendar_dates"
      ]
    },
    {
      "cell_type": "markdown",
      "source": [
        "**my own example 141**"
      ],
      "metadata": {
        "id": "9hVRYIILPjUj"
      }
    },
    {
      "cell_type": "code",
      "source": [
        "calendar_dates1010 = pd.date_range(start=start, end=end, freq='D', tz='UTC')\n",
        "print (calendar_dates1010)"
      ],
      "metadata": {
        "id": "hoLLUNV_XuRH"
      },
      "execution_count": null,
      "outputs": []
    },
    {
      "cell_type": "markdown",
      "metadata": {
        "id": "iteupvB1Hs0b"
      },
      "source": [
        "Now let's use this new set of dates to reindex our time series. We tell the function that the fill method that we want is `ffill`. This denotes \"forward fill\". Any `NaN` values will be filled by the *last value* listed. So the price on the weekend or on a holiday will be listed as the price on the last market day that we know about."
      ]
    },
    {
      "cell_type": "code",
      "execution_count": null,
      "metadata": {
        "id": "Nkv6E6rNHs0b"
      },
      "outputs": [],
      "source": [
        "calendar_prices = prices.reindex(calendar_dates, method='ffill')\n",
        "calendar_prices.head(15)"
      ]
    },
    {
      "cell_type": "markdown",
      "metadata": {
        "id": "O2dAluLEHs0b"
      },
      "source": [
        "You'll notice that we still have a couple of `NaN` values right at the beginning of our time series. This is because the first of January in 2012 was a Sunday and the second was a market holiday! Because these are the earliest data points and we don't have any information from before them, they cannot be forward-filled. We will take care of these `NaN` values in the next section, when we deal with missing data."
      ]
    },
    {
      "cell_type": "markdown",
      "metadata": {
        "id": "NjYs1vWrHs0b"
      },
      "source": [
        "#### Missing Data\n",
        "\n",
        "Whenever we deal with real data, there is a very real possibility of encountering missing values. Real data is riddled with holes and pandas provides us with ways to handle them. Sometimes resampling or reindexing can create `NaN` values. Fortunately, pandas provides us with ways to handle them. We have two primary means of coping with missing data. The first of these is filling in the missing data with  `fillna()`. For example, say that we want to fill in the missing days with the mean price of all days."
      ]
    },
    {
      "cell_type": "code",
      "execution_count": null,
      "metadata": {
        "id": "GBxhQxABHs0b"
      },
      "outputs": [],
      "source": [
        "meanfilled_prices = calendar_prices.fillna(calendar_prices.mean())\n",
        "meanfilled_prices.head(10)"
      ]
    },
    {
      "cell_type": "markdown",
      "metadata": {
        "id": "W_BnjUNmHs0c"
      },
      "source": [
        "Using `fillna()` is fairly easy. It is just a matter of indicating the value that you want to fill the spaces with. Unfortunately, this particular case doesn't make a whole lot of sense, for reasons discussed in the [lecture on stationarity](https://www.quantopian.com/lectures/integration-cointegration-and-stationarity) in the Lecture series. We could fill them with with $0$, simply, but that's similarly uninformative.\n",
        "\n",
        "Rather than filling in specific values, we can use the `method` parameter, similarly to how the `reindex()` method works. We could use \"backward fill\", where `NaN`s are filled with the *next* filled value (instead of forward fill's *last* filled value) like so:"
      ]
    },
    {
      "cell_type": "code",
      "execution_count": null,
      "metadata": {
        "id": "UQMNOZJKHs0c"
      },
      "outputs": [],
      "source": [
        "bfilled_prices = calendar_prices.fillna(method='bfill')\n",
        "bfilled_prices.head(10)"
      ]
    },
    {
      "cell_type": "markdown",
      "metadata": {
        "id": "BFYp3QokHs0c"
      },
      "source": [
        "But again, this is a bad idea for the same reasons as the previous option. Both of these so-called solutions take into account *future data* that was not available at the time of the data points that we are trying to fill. In the case of using the mean or the median, these summary statistics are calculated by taking into account the entire time series. Backward filling is equivalent to saying that the price of a particular security today, right now, tomorrow's price. This also makes no sense. These two options are both examples of look-ahead bias, using data that would be unknown or unavailable at the desired time, and should be avoided.\n",
        "\n",
        "Our next option is significantly more appealing. We could simply drop the missing data using the `dropna()` method. This is much better alternative than filling `NaN` values in with arbitrary numbers."
      ]
    },
    {
      "cell_type": "code",
      "execution_count": null,
      "metadata": {
        "id": "WIew7x2CHs0c"
      },
      "outputs": [],
      "source": [
        "dropped_prices = calendar_prices.dropna()\n",
        "dropped_prices.head(10)"
      ]
    },
    {
      "cell_type": "markdown",
      "metadata": {
        "id": "RLX5oj2XHs0c"
      },
      "source": [
        "Now our time series is cleaned for the calendar year, with all of our `NaN` values properly handled. It is time to talk about how to actually do time series analysis with pandas data structures."
      ]
    },
    {
      "cell_type": "markdown",
      "metadata": {
        "id": "nfBXOY7SHs0c"
      },
      "source": [
        "#### Time Series Analysis with pandas\n",
        "\n",
        "Let's do some basic time series analysis on our original prices. Each pandas `Series` has a built-in plotting method."
      ]
    },
    {
      "cell_type": "code",
      "execution_count": null,
      "metadata": {
        "id": "RxL-3JkUHs0c"
      },
      "outputs": [],
      "source": [
        "prices.plot();\n",
        "# We still need to add the axis labels and title ourselves\n",
        "plt.title(symbol + \" Prices\")\n",
        "plt.ylabel(\"Price\")\n",
        "plt.xlabel(\"Date\");"
      ]
    },
    {
      "cell_type": "markdown",
      "source": [
        "**my own example 142**"
      ],
      "metadata": {
        "id": "SfrdM3dXPp_w"
      }
    },
    {
      "cell_type": "code",
      "source": [
        "prices1010.plot();\n",
        "# We still need to add the axis labels and title ourselves\n",
        "plt.title(symbol1010 + \" Prices\")\n",
        "plt.ylabel(\"Price\")\n",
        "plt.xlabel(\"Date\");"
      ],
      "metadata": {
        "id": "ZacQZMoMXw5C"
      },
      "execution_count": null,
      "outputs": []
    },
    {
      "cell_type": "markdown",
      "metadata": {
        "id": "_pG0Hp_2Hs0d"
      },
      "source": [
        "As well as some built-in descriptive statistics. We can either calculate these individually or using the `describe()` method."
      ]
    },
    {
      "cell_type": "code",
      "execution_count": null,
      "metadata": {
        "id": "KBz2Xc0CHs0d"
      },
      "outputs": [],
      "source": [
        "print \"Mean: \", prices.mean()\n",
        "print \"Standard deviation: \", prices.std()"
      ]
    },
    {
      "cell_type": "markdown",
      "source": [
        "**my own example 143**"
      ],
      "metadata": {
        "id": "qYXNSiqkPtQN"
      }
    },
    {
      "cell_type": "code",
      "source": [
        "print (\"Mean: \", prices1010.mean())\n",
        "print (\"Standard deviation: \", prices1010.std())"
      ],
      "metadata": {
        "id": "dy7l2KyjXzTD"
      },
      "execution_count": null,
      "outputs": []
    },
    {
      "cell_type": "code",
      "execution_count": null,
      "metadata": {
        "id": "Ex75tqesHs0d"
      },
      "outputs": [],
      "source": [
        "print \"Summary Statistics\"\n",
        "print prices.describe()"
      ]
    },
    {
      "cell_type": "markdown",
      "source": [
        "**my own example 144**"
      ],
      "metadata": {
        "id": "gZ7tdml2RguE"
      }
    },
    {
      "cell_type": "code",
      "source": [
        "print (\"Summary Statistics\")\n",
        "print (prices1010.describe())"
      ],
      "metadata": {
        "id": "8GgcpCcfX1e7"
      },
      "execution_count": null,
      "outputs": []
    },
    {
      "cell_type": "markdown",
      "metadata": {
        "id": "z4QLChYHHs0d"
      },
      "source": [
        "We can easily modify `Series` with scalars using our basic mathematical operators."
      ]
    },
    {
      "cell_type": "code",
      "execution_count": null,
      "metadata": {
        "id": "Isg3Y578Hs0d"
      },
      "outputs": [],
      "source": [
        "modified_prices = prices * 2 - 10\n",
        "modified_prices.head(5)"
      ]
    },
    {
      "cell_type": "markdown",
      "source": [
        "**my own example 145**"
      ],
      "metadata": {
        "id": "pLzIbgRPRkWV"
      }
    },
    {
      "cell_type": "code",
      "source": [
        "prices10102 = prices1010 * 2 - 10\n",
        "prices10102.head(20)"
      ],
      "metadata": {
        "id": "2rMXRMf1X4KR"
      },
      "execution_count": null,
      "outputs": []
    },
    {
      "cell_type": "markdown",
      "metadata": {
        "id": "YhBB_oHSHs0d"
      },
      "source": [
        "And we can create linear combinations of `Series` themselves using the basic mathematical operators. pandas will group up matching indices and perform the calculations elementwise to produce a new `Series`. "
      ]
    },
    {
      "cell_type": "code",
      "execution_count": null,
      "metadata": {
        "id": "wPvaiZpvHs0d"
      },
      "outputs": [],
      "source": [
        "noisy_prices = prices + 5 * pd.Series(np.random.normal(0, 5, len(prices)), index=prices.index) + 20\n",
        "noisy_prices.head(5)"
      ]
    },
    {
      "cell_type": "markdown",
      "source": [
        "**my own example 146**"
      ],
      "metadata": {
        "id": "jmSxTRR5RoJj"
      }
    },
    {
      "cell_type": "code",
      "source": [
        "prices10103 = prices1010 + 7 * pd.Series(np.random.normal(2, 10, len(prices1010)), index=prices1010.index) + 35\n",
        "prices10103.head(20)"
      ],
      "metadata": {
        "id": "tQXyP-ndX6SZ"
      },
      "execution_count": null,
      "outputs": []
    },
    {
      "cell_type": "markdown",
      "metadata": {
        "id": "oTPgd_SSHs0e"
      },
      "source": [
        "If there are no matching indices, however, we may get an empty `Series` in return."
      ]
    },
    {
      "cell_type": "code",
      "execution_count": null,
      "metadata": {
        "id": "HQXtyqy2Hs0e"
      },
      "outputs": [],
      "source": [
        "empty_series = prices + pd.Series(np.random.normal(0, 1, len(prices)))\n",
        "empty_series.head(5)"
      ]
    },
    {
      "cell_type": "markdown",
      "source": [
        "**my own example 147**"
      ],
      "metadata": {
        "id": "qrgFbBcqRqyU"
      }
    },
    {
      "cell_type": "code",
      "source": [
        "prices10104 = prices1010 + pd.Series(np.random.normal(2, 8, len(prices1010)))\n",
        "prices10104.head(20)"
      ],
      "metadata": {
        "id": "Z7mvT9s4X8YU"
      },
      "execution_count": null,
      "outputs": []
    },
    {
      "cell_type": "markdown",
      "metadata": {
        "id": "qk2TbRFXHs0e"
      },
      "source": [
        "Rather than looking at a time series itself, we may want to look at its first-order differences or percent change (in order to get additive or multiplicative returns, in our particular case). Both of these are built-in methods."
      ]
    },
    {
      "cell_type": "code",
      "execution_count": null,
      "metadata": {
        "collapsed": true,
        "id": "66lqB-ceHs0g"
      },
      "outputs": [],
      "source": [
        "add_returns = prices.diff()[1:]\n",
        "mult_returns = prices.pct_change()[1:]"
      ]
    },
    {
      "cell_type": "markdown",
      "source": [
        "**my own example 148**"
      ],
      "metadata": {
        "id": "Ewr0hS-qRt9i"
      }
    },
    {
      "cell_type": "code",
      "source": [
        "add1010 = prices1010.diff()[1:]\n",
        "mult1010 = prices1010.pct_change()[1:]"
      ],
      "metadata": {
        "id": "uOG7KBXNX-e-"
      },
      "execution_count": null,
      "outputs": []
    },
    {
      "cell_type": "code",
      "execution_count": null,
      "metadata": {
        "id": "-M6342uVHs0g"
      },
      "outputs": [],
      "source": [
        "plt.title(\"Multiplicative returns of \" + symbol)\n",
        "plt.xlabel(\"Date\")\n",
        "plt.ylabel(\"Percent Returns\")\n",
        "mult_returns.plot();"
      ]
    },
    {
      "cell_type": "markdown",
      "source": [
        "**my own example 149**"
      ],
      "metadata": {
        "id": "vAkL4ehYRwKw"
      }
    },
    {
      "cell_type": "code",
      "source": [
        "plt.title(\"Multiplicative returns of \" + symbol1010)\n",
        "plt.xlabel(\"Date\")\n",
        "plt.ylabel(\"Percent Returns\")\n",
        "mult1010.plot();"
      ],
      "metadata": {
        "id": "QZWrrfd9YAc8"
      },
      "execution_count": null,
      "outputs": []
    },
    {
      "cell_type": "markdown",
      "metadata": {
        "id": "aRrtXJTdHs0g"
      },
      "source": [
        "pandas has convenient functions for calculating rolling means and standard deviations, as well!"
      ]
    },
    {
      "cell_type": "code",
      "execution_count": null,
      "metadata": {
        "id": "l_4YgtrrHs0g"
      },
      "outputs": [],
      "source": [
        "rolling_mean = pd.rolling_mean(prices, 30)\n",
        "rolling_mean.name = \"30-day rolling mean\""
      ]
    },
    {
      "cell_type": "markdown",
      "source": [
        "**my own example 150**"
      ],
      "metadata": {
        "id": "DPKOkJ8XRybY"
      }
    },
    {
      "cell_type": "code",
      "source": [
        "rolling1010 = prices1010.rolling(50).mean()\n",
        "rolling1010.name = \"Nombre\""
      ],
      "metadata": {
        "id": "T78-ctcUYCaQ"
      },
      "execution_count": null,
      "outputs": []
    },
    {
      "cell_type": "code",
      "execution_count": null,
      "metadata": {
        "id": "mEAn0JA7Hs0g",
        "scrolled": false
      },
      "outputs": [],
      "source": [
        "prices.plot()\n",
        "rolling_mean.plot()\n",
        "plt.title(symbol + \"Price\")\n",
        "plt.xlabel(\"Date\")\n",
        "plt.ylabel(\"Price\")\n",
        "plt.legend();"
      ]
    },
    {
      "cell_type": "markdown",
      "source": [
        "**my own example 151**"
      ],
      "metadata": {
        "id": "qi1kN-NOR1f6"
      }
    },
    {
      "cell_type": "code",
      "source": [
        "prices1010.plot()\n",
        "rolling1010.plot()\n",
        "plt.title(symbol1010 + \"Price\")\n",
        "plt.xlabel(\"Date\")\n",
        "plt.ylabel(\"Price\")\n",
        "plt.legend();"
      ],
      "metadata": {
        "id": "qxSckBBvYEm7"
      },
      "execution_count": null,
      "outputs": []
    },
    {
      "cell_type": "code",
      "execution_count": null,
      "metadata": {
        "collapsed": true,
        "id": "9CFJRx35Hs0h"
      },
      "outputs": [],
      "source": [
        "rolling_std = pd.rolling_std(prices, 30)\n",
        "rolling_std.name = \"30-day rolling volatility\""
      ]
    },
    {
      "cell_type": "markdown",
      "source": [
        "**my own example 152**"
      ],
      "metadata": {
        "id": "fMkrnCCHR4dK"
      }
    },
    {
      "cell_type": "code",
      "source": [
        "rolling1010 = prices1010.rolling(50).std()\n",
        "rolling1010.name = \"Nombre\""
      ],
      "metadata": {
        "id": "LgtRD81kYGzw"
      },
      "execution_count": null,
      "outputs": []
    },
    {
      "cell_type": "markdown",
      "source": [
        "**my own example 153**"
      ],
      "metadata": {
        "id": "9qq5GpNoR6_d"
      }
    },
    {
      "cell_type": "code",
      "source": [
        "rolling1010.plot()\n",
        "plt.title(rolling1010.name);\n",
        "plt.xlabel(\"Date\")\n",
        "plt.ylabel(\"Standard Deviation\");"
      ],
      "metadata": {
        "id": "ualsroW3YIyl"
      },
      "execution_count": null,
      "outputs": []
    },
    {
      "cell_type": "code",
      "execution_count": null,
      "metadata": {
        "id": "_hhUYmn_Hs0h"
      },
      "outputs": [],
      "source": [
        "rolling_std.plot()\n",
        "plt.title(rolling_std.name);\n",
        "plt.xlabel(\"Date\")\n",
        "plt.ylabel(\"Standard Deviation\");"
      ]
    },
    {
      "cell_type": "markdown",
      "metadata": {
        "id": "chXXq_FdHs0h"
      },
      "source": [
        "Many NumPy functions will work on `Series` the same way that they work on 1-dimensional NumPy arrays."
      ]
    },
    {
      "cell_type": "code",
      "execution_count": null,
      "metadata": {
        "id": "6Q35KEYOHs0h"
      },
      "outputs": [],
      "source": [
        "print np.median(mult_returns)"
      ]
    },
    {
      "cell_type": "markdown",
      "source": [
        "**my own example 154**"
      ],
      "metadata": {
        "id": "w8H479-9R9g4"
      }
    },
    {
      "cell_type": "code",
      "source": [
        "print(np.median(mult1010))"
      ],
      "metadata": {
        "id": "m_mVbvGoYK73"
      },
      "execution_count": null,
      "outputs": []
    },
    {
      "cell_type": "markdown",
      "metadata": {
        "id": "r2uuHlv_Hs0h"
      },
      "source": [
        "The majority of these functions, however, are already implemented directly as `Series` and `DataFrame` methods."
      ]
    },
    {
      "cell_type": "code",
      "execution_count": null,
      "metadata": {
        "id": "7DC8zMlwHs0h"
      },
      "outputs": [],
      "source": [
        "print mult_returns.median()"
      ]
    },
    {
      "cell_type": "markdown",
      "source": [
        "**my own example 155**"
      ],
      "metadata": {
        "id": "cS-3L2HeSA2o"
      }
    },
    {
      "cell_type": "code",
      "source": [
        "print(mult1010.median())"
      ],
      "metadata": {
        "id": "CrgmhMG8YMti"
      },
      "execution_count": null,
      "outputs": []
    },
    {
      "cell_type": "markdown",
      "metadata": {
        "id": "nISYL1qUHs0h"
      },
      "source": [
        "In every case, using the built-in pandas method will be better than using the NumPy function on a pandas data structure due to improvements in performance. Make sure to check out the `Series` [documentation](http://pandas.pydata.org/pandas-docs/stable/generated/pandas.Series.html) before resorting to other calculations of common functions."
      ]
    },
    {
      "cell_type": "markdown",
      "metadata": {
        "id": "oBFeQ1ixHs0i"
      },
      "source": [
        "### `DataFrames`\n",
        "\n",
        "Many of the aspects of working with `Series` carry over into `DataFrames`. pandas `DataFrames` allow us to easily manage our data with their intuitive structure. \n",
        "\n",
        "Like `Series`, `DataFrames` can hold multiple types of data, but `DataFrames` are 2-dimensional objects, unlike `Series`. Each `DataFrame` has an index and a columns attribute, which we will cover more in-depth when we start actually playing with an object. The index attribute is like the index of a `Series`, though indices in pandas have some extra features that we will unfortunately not be able to cover here. If you are interested in this, check out the [pandas documentation](http://pandas.pydata.org/pandas-docs/version/0.18.1/advanced.html) on advanced indexing. The columns attribute is what provides the second dimension of our `DataFrames`, allowing us to combine named columns (all `Series`), into a cohesive object with the index lined-up.\n",
        "\n",
        "We can create a `DataFrame` by calling `pandas.DataFrame()` on a dictionary or NumPy `ndarray`. We can also concatenate a group of pandas `Series` into a `DataFrame` using `pandas.concat()`."
      ]
    },
    {
      "cell_type": "code",
      "execution_count": null,
      "metadata": {
        "id": "IKL7KTNJHs0i"
      },
      "outputs": [],
      "source": [
        "dict_data = {\n",
        "    'a' : [1, 2, 3, 4, 5],\n",
        "    'b' : ['L', 'K', 'J', 'M', 'Z'],\n",
        "    'c' : np.random.normal(0, 1, 5)\n",
        "}\n",
        "print dict_data"
      ]
    },
    {
      "cell_type": "markdown",
      "source": [
        "**my own example 156**"
      ],
      "metadata": {
        "id": "-vNBZyM9SDxF"
      }
    },
    {
      "cell_type": "code",
      "source": [
        "dict1010 = {\n",
        "    'a1010' : [1, 2, 3, 4, 5],\n",
        "    'b1010' : ['L', 'K', 'J', 'M', 'Z'],\n",
        "    'c1010' : np.random.normal(2, 10, 5)\n",
        "}\n",
        "print(dict1010)"
      ],
      "metadata": {
        "id": "hi20rtlDYPUR"
      },
      "execution_count": null,
      "outputs": []
    },
    {
      "cell_type": "markdown",
      "metadata": {
        "id": "kktroM8yHs0i"
      },
      "source": [
        "Each `DataFrame` has a few key attributes that we need to keep in mind. The first of these is the index attribute. We can easily include an index of `Timestamp` objects like we did with `Series`."
      ]
    },
    {
      "cell_type": "code",
      "execution_count": null,
      "metadata": {
        "id": "tVHd7ThAHs0i",
        "scrolled": false
      },
      "outputs": [],
      "source": [
        "frame_data = pd.DataFrame(dict_data, index=pd.date_range('2016-01-01', periods=5))\n",
        "print frame_data"
      ]
    },
    {
      "cell_type": "markdown",
      "source": [
        "**my own example 157**"
      ],
      "metadata": {
        "id": "d6q7f9CwSHGl"
      }
    },
    {
      "cell_type": "code",
      "source": [
        "frame1010 = pd.DataFrame(dict1010, index = pd.date_range(\"2017-01-01\", periods = 5))\n",
        "print(frame1010)"
      ],
      "metadata": {
        "id": "U9O7pcytYQ85"
      },
      "execution_count": null,
      "outputs": []
    },
    {
      "cell_type": "markdown",
      "metadata": {
        "id": "KDrZ1pMIHs0i"
      },
      "source": [
        "As mentioned above, we can combine `Series` into `DataFrames`. Concatatenating `Series` like this will match elements up based on their corresponding index. As the following `Series` do not have an index assigned, they each default to an integer index. "
      ]
    },
    {
      "cell_type": "code",
      "execution_count": null,
      "metadata": {
        "id": "p6-7NC0zHs0i",
        "scrolled": true
      },
      "outputs": [],
      "source": [
        "s_1 = pd.Series([2, 4, 6, 8, 10], name='Evens')\n",
        "s_2 = pd.Series([1, 3, 5, 7, 9], name=\"Odds\")\n",
        "numbers = pd.concat([s_1, s_2], axis=1)\n",
        "print numbers"
      ]
    },
    {
      "cell_type": "markdown",
      "source": [
        "**my own example 158**"
      ],
      "metadata": {
        "id": "_jcGVMbHSKgA"
      }
    },
    {
      "cell_type": "code",
      "source": [
        "s1010 = pd.Series([2, 4, 6, 8, 10], name='Evens')\n",
        "s10102 = pd.Series([1, 3, 5, 7, 9], name=\"Odds\")\n",
        "numbers1010 = pd.concat([s1010, s10102], axis=1)\n",
        "print (numbers1010)"
      ],
      "metadata": {
        "id": "QDveXYRVYTH4"
      },
      "execution_count": null,
      "outputs": []
    },
    {
      "cell_type": "markdown",
      "metadata": {
        "id": "3iVyJyqIHs0i"
      },
      "source": [
        "We will use `pandas.concat()` again later to combine multiple `DataFrame`s into one. "
      ]
    },
    {
      "cell_type": "markdown",
      "metadata": {
        "id": "5msiDgjXHs0j"
      },
      "source": [
        "Each `DataFrame` also has a `columns` attribute. These can either be assigned when we call `pandas.DataFrame` or they can be modified directly like the index. Note that when we concatenated the two `Series` above, the column names were the names of those `Series`."
      ]
    },
    {
      "cell_type": "code",
      "execution_count": null,
      "metadata": {
        "id": "rbcZcKYWHs0j"
      },
      "outputs": [],
      "source": [
        "print numbers.columns"
      ]
    },
    {
      "cell_type": "markdown",
      "source": [
        "**my own example 159**"
      ],
      "metadata": {
        "id": "WhZ-UUf-SPVe"
      }
    },
    {
      "cell_type": "code",
      "source": [
        "print(numbers1010.columns)"
      ],
      "metadata": {
        "id": "kjw5y-jTYVk0"
      },
      "execution_count": null,
      "outputs": []
    },
    {
      "cell_type": "markdown",
      "metadata": {
        "id": "c4_tCdjvHs0j"
      },
      "source": [
        "To modify the columns after object creation, we need only do the following:"
      ]
    },
    {
      "cell_type": "code",
      "execution_count": null,
      "metadata": {
        "id": "6lNwCkN3Hs0j"
      },
      "outputs": [],
      "source": [
        "numbers.columns = ['Shmevens', 'Shmodds']\n",
        "print numbers"
      ]
    },
    {
      "cell_type": "markdown",
      "source": [
        "**my own example 160**"
      ],
      "metadata": {
        "id": "oacy2hFSSVDT"
      }
    },
    {
      "cell_type": "code",
      "source": [
        "numbers1010.columns = ['Shmevens', 'Shmodds']\n",
        "print(numbers1010)"
      ],
      "metadata": {
        "id": "7e7FEVSIYX0V"
      },
      "execution_count": null,
      "outputs": []
    },
    {
      "cell_type": "markdown",
      "metadata": {
        "id": "CVIF5FP_Hs0j"
      },
      "source": [
        "In the same vein, the index of a `DataFrame` can be changed after the fact."
      ]
    },
    {
      "cell_type": "code",
      "execution_count": null,
      "metadata": {
        "id": "yzFh0li5Hs0j"
      },
      "outputs": [],
      "source": [
        "print numbers.index"
      ]
    },
    {
      "cell_type": "markdown",
      "source": [
        "**my own example 161**"
      ],
      "metadata": {
        "id": "YWggnJqaSYI6"
      }
    },
    {
      "cell_type": "code",
      "source": [
        "print(numbers1010.index)"
      ],
      "metadata": {
        "id": "P1433PUoYZ33"
      },
      "execution_count": null,
      "outputs": []
    },
    {
      "cell_type": "code",
      "execution_count": null,
      "metadata": {
        "id": "CGIX_93JHs0j"
      },
      "outputs": [],
      "source": [
        "numbers.index = pd.date_range(\"2016-01-01\", periods=len(numbers))\n",
        "print numbers"
      ]
    },
    {
      "cell_type": "markdown",
      "source": [
        "**my own example 162**"
      ],
      "metadata": {
        "id": "v52EO_KtSbAt"
      }
    },
    {
      "cell_type": "markdown",
      "metadata": {
        "id": "os0OOYc4Hs0k"
      },
      "source": [
        "Separate from the columns and index of a `DataFrame`, we can also directly access the values they contain by looking at the values attribute."
      ]
    },
    {
      "cell_type": "code",
      "source": [
        "numbers1010.index = pd.date_range(\"2016-01-01\", periods = len(numbers1010))\n",
        "print(numbers1010)"
      ],
      "metadata": {
        "id": "-_AigFz5Yboh"
      },
      "execution_count": null,
      "outputs": []
    },
    {
      "cell_type": "code",
      "execution_count": null,
      "metadata": {
        "id": "prg3Sly7Hs0k"
      },
      "outputs": [],
      "source": [
        "numbers.values"
      ]
    },
    {
      "cell_type": "markdown",
      "source": [
        "**my own example 163**"
      ],
      "metadata": {
        "id": "JZzbu--cSfuV"
      }
    },
    {
      "cell_type": "code",
      "source": [
        "numbers1010.values"
      ],
      "metadata": {
        "id": "bzFOeR4dYdaY"
      },
      "execution_count": null,
      "outputs": []
    },
    {
      "cell_type": "markdown",
      "metadata": {
        "id": "bziTLOGzHs0k"
      },
      "source": [
        "This returns a NumPy array."
      ]
    },
    {
      "cell_type": "code",
      "execution_count": null,
      "metadata": {
        "id": "-Zll90I7Hs0k"
      },
      "outputs": [],
      "source": [
        "type(numbers.values)"
      ]
    },
    {
      "cell_type": "markdown",
      "source": [
        "**my own example 164**"
      ],
      "metadata": {
        "id": "dRHrptkdSiwn"
      }
    },
    {
      "cell_type": "code",
      "source": [
        "type(numbers1010.values)"
      ],
      "metadata": {
        "id": "cUkly4hEYfVO"
      },
      "execution_count": null,
      "outputs": []
    },
    {
      "cell_type": "markdown",
      "metadata": {
        "id": "HgsAN_5NHs0k"
      },
      "source": [
        "#### Accessing `DataFrame` elements\n",
        "\n",
        "Again we see a lot of carryover from `Series` in how we access the elements of `DataFrames`. The key sticking point here is that everything has to take into account multiple dimensions now. The main way that this happens is through the access of the columns of a `DataFrame`, either individually or in groups. We can do this either by directly accessing the attributes or by using the methods we already are familiar with."
      ]
    },
    {
      "cell_type": "code",
      "execution_count": null,
      "metadata": {
        "id": "Q8T9kckaHs0k"
      },
      "outputs": [],
      "source": [
        "symbol = [\"CMG\", \"MCD\", \"SHAK\", \"WFM\"]\n",
        "start = \"2012-01-01\"\n",
        "end = \"2016-01-01\"\n",
        "prices = get_pricing(symbol, start_date=start, end_date=end, fields=\"price\")\n",
        "if isinstance(symbol, list):\n",
        "    prices.columns = map(lambda x: x.symbol, prices.columns)\n",
        "else:\n",
        "    prices.name = symbol"
      ]
    },
    {
      "cell_type": "markdown",
      "metadata": {
        "id": "uuzOJpOJHs0k"
      },
      "source": [
        "Here we directly access the `CMG` column. Note that this style of access will only work if your column name has no spaces or unfriendly characters in it."
      ]
    },
    {
      "cell_type": "code",
      "execution_count": null,
      "metadata": {
        "id": "AvyDTWfyHs0l"
      },
      "outputs": [],
      "source": [
        "prices.CMG.head()"
      ]
    },
    {
      "cell_type": "markdown",
      "metadata": {
        "id": "khpjjcjFHs0l"
      },
      "source": [
        "We can also use `loc[]` to access an individual column like so."
      ]
    },
    {
      "cell_type": "code",
      "execution_count": null,
      "metadata": {
        "id": "9034XgnaHs0l"
      },
      "outputs": [],
      "source": [
        "prices.loc[:, 'CMG'].head()"
      ]
    },
    {
      "cell_type": "markdown",
      "metadata": {
        "id": "c7HNHAynHs0l"
      },
      "source": [
        "Accessing an individual column will return a `Series`, regardless of how we get it."
      ]
    },
    {
      "cell_type": "code",
      "execution_count": null,
      "metadata": {
        "id": "0_ForNbbHs0l"
      },
      "outputs": [],
      "source": [
        "print type(prices.CMG)\n",
        "print type(prices.loc[:, 'CMG'])"
      ]
    },
    {
      "cell_type": "markdown",
      "metadata": {
        "id": "d5Y5C5TcHs0l"
      },
      "source": [
        "Notice how we pass a tuple into the `loc[]` method? This is a key difference between accessing a `Series` and accessing a `DataFrame`, grounded in the fact that a `DataFrame` has multiple dimensions. When you pass a 2-dimensional tuple into a `DataFrame`, the first element of the tuple is applied to the rows and the second is applied to the columns. So, to break it down, the above line of code tells the `DataFrame` to return every single row of the column with label `'CMG'`. Lists of columns are also supported."
      ]
    },
    {
      "cell_type": "code",
      "execution_count": null,
      "metadata": {
        "id": "rLqyEloXHs0l"
      },
      "outputs": [],
      "source": [
        "prices.loc[:, ['CMG', 'MCD']].head()"
      ]
    },
    {
      "cell_type": "markdown",
      "metadata": {
        "id": "bQxH7a0DHs0m"
      },
      "source": [
        "We can also simply access the `DataFrame` by index value using `loc[]`, as with `Series`."
      ]
    },
    {
      "cell_type": "code",
      "execution_count": null,
      "metadata": {
        "id": "2J9wVG0rHs0m",
        "scrolled": true
      },
      "outputs": [],
      "source": [
        "prices.loc['2015-12-15':'2015-12-22']"
      ]
    },
    {
      "cell_type": "markdown",
      "metadata": {
        "id": "AMQNkBASHs0m"
      },
      "source": [
        "This plays nicely with lists of columns, too."
      ]
    },
    {
      "cell_type": "code",
      "execution_count": null,
      "metadata": {
        "id": "vzsYlgPPHs0m"
      },
      "outputs": [],
      "source": [
        "prices.loc['2015-12-15':'2015-12-22', ['CMG', 'MCD']]"
      ]
    },
    {
      "cell_type": "markdown",
      "metadata": {
        "id": "4-mnRagtHs0m"
      },
      "source": [
        "Using `iloc[]` also works similarly, allowing you to access parts of the `DataFrame` by integer index."
      ]
    },
    {
      "cell_type": "code",
      "execution_count": null,
      "metadata": {
        "id": "sf0WnFiGHs0m"
      },
      "outputs": [],
      "source": [
        "prices.iloc[0:2, 1]"
      ]
    },
    {
      "cell_type": "code",
      "execution_count": null,
      "metadata": {
        "id": "Jwy36iNrHs0m"
      },
      "outputs": [],
      "source": [
        "# Access prices with integer index in\n",
        "# [1, 3, 5, 7, 9, 11, 13, ..., 99]\n",
        "# and in column 0 or 3\n",
        "prices.iloc[[1, 3, 5] + range(7, 100, 2), [0, 3]].head(20)"
      ]
    },
    {
      "cell_type": "markdown",
      "metadata": {
        "id": "89BdBTxcHs0n"
      },
      "source": [
        "#### Boolean indexing\n",
        "\n",
        "As with `Series`, sometimes we want to filter a `DataFrame` according to a set of criteria. We do this by indexing our `DataFrame` with boolean values."
      ]
    },
    {
      "cell_type": "code",
      "execution_count": null,
      "metadata": {
        "id": "oXh0YR2yHs0n"
      },
      "outputs": [],
      "source": [
        "prices.loc[prices.MCD > prices.WFM].head()"
      ]
    },
    {
      "cell_type": "markdown",
      "metadata": {
        "id": "eQ9LUmWEHs0n"
      },
      "source": [
        "We can add multiple boolean conditions by using the logical operators `&`, `|`, and `~` (and, or, and not, respectively) again!"
      ]
    },
    {
      "cell_type": "code",
      "execution_count": null,
      "metadata": {
        "id": "G44UKdRsHs0n"
      },
      "outputs": [],
      "source": [
        "prices.loc[(prices.MCD > prices.WFM) & ~prices.SHAK.isnull()].head()"
      ]
    },
    {
      "cell_type": "markdown",
      "metadata": {
        "id": "poylQIvNHs0n"
      },
      "source": [
        "#### Adding, Removing Columns, Combining `DataFrames`/`Series`\n",
        "\n",
        "It is all well and good when you already have a `DataFrame` filled with data, but it is also important to be able to add to the data that you have.\n",
        "\n",
        "We add a new column simply by assigning data to a column that does not already exist. Here we use the `.loc[:, 'COL_NAME']` notation and store the output of `get_pricing()` (which returns a pandas `Series` if we only pass one security) there. This is the method that we would use to add a `Series` to an existing `DataFrame`."
      ]
    },
    {
      "cell_type": "code",
      "execution_count": null,
      "metadata": {
        "id": "gya8_uEWHs0n",
        "scrolled": true
      },
      "outputs": [],
      "source": [
        "s_1 = get_pricing('TSLA', start_date=start, end_date=end, fields='price')\n",
        "prices.loc[:, 'TSLA'] = s_1\n",
        "prices.head(5)"
      ]
    },
    {
      "cell_type": "markdown",
      "metadata": {
        "id": "ibJe2YopHs0o"
      },
      "source": [
        "It is also just as easy to remove a column."
      ]
    },
    {
      "cell_type": "code",
      "execution_count": null,
      "metadata": {
        "id": "v2uMoonGHs0o",
        "scrolled": true
      },
      "outputs": [],
      "source": [
        "prices = prices.drop('TSLA', axis=1)\n",
        "prices.head(5)"
      ]
    },
    {
      "cell_type": "markdown",
      "metadata": {
        "id": "SahgMT2WHs0o"
      },
      "source": [
        "If we instead want to combine multiple `DataFrame`s into one, we use the `pandas.concat()` method."
      ]
    },
    {
      "cell_type": "code",
      "execution_count": null,
      "metadata": {
        "id": "GM_dP7CcHs0o",
        "scrolled": false
      },
      "outputs": [],
      "source": [
        "df_1 = get_pricing(['SPY', 'VXX'], start_date=start, end_date=end, fields='price')\n",
        "df_2 = get_pricing(['MSFT', 'AAPL', 'GOOG'], start_date=start, end_date=end, fields='price')\n",
        "df_3 = pd.concat([df_1, df_2], axis=1)\n",
        "df_3.head()"
      ]
    },
    {
      "cell_type": "markdown",
      "metadata": {
        "id": "cJt3RHYHHs0o"
      },
      "source": [
        "#### Missing data (again)\n",
        "Bringing real-life data into a `DataFrame` brings us the same problems that we had with it in a `Series`, only this time in more dimensions. We have access to the same methods as with `Series`, as demonstrated below."
      ]
    },
    {
      "cell_type": "code",
      "execution_count": null,
      "metadata": {
        "id": "T4nUAlE8Hs0o"
      },
      "outputs": [],
      "source": [
        "filled0_prices = prices.fillna(0)\n",
        "filled0_prices.head(5)"
      ]
    },
    {
      "cell_type": "code",
      "execution_count": null,
      "metadata": {
        "id": "fyXfhaAaHs0o"
      },
      "outputs": [],
      "source": [
        "bfilled_prices = prices.fillna(method='bfill')\n",
        "bfilled_prices.head(5)"
      ]
    },
    {
      "cell_type": "markdown",
      "metadata": {
        "id": "QRf4CT5BHs0p"
      },
      "source": [
        "But again, the best choice in this case (since we are still using time series data, handling multiple time series at once) is still to simply drop the missing values."
      ]
    },
    {
      "cell_type": "code",
      "execution_count": null,
      "metadata": {
        "id": "h4SxAtSoHs0p"
      },
      "outputs": [],
      "source": [
        "dropped_prices = prices.dropna()\n",
        "dropped_prices.head(5)"
      ]
    },
    {
      "cell_type": "markdown",
      "metadata": {
        "id": "Te_MYHtfHs0p"
      },
      "source": [
        "#### Time Series Analysis with pandas\n",
        "\n",
        "Using the built-in statistics methods for `DataFrames`, we can perform calculations on multiple time series at once! The code to perform calculations on `DataFrames` here is almost exactly the same as the methods used for `Series` above, so don't worry about re-learning everything.\n",
        "\n",
        "The `plot()` method makes another appearance here, this time with a built-in legend that corresponds to the names of the columns that you are plotting."
      ]
    },
    {
      "cell_type": "code",
      "execution_count": null,
      "metadata": {
        "id": "hJqSI7GjHs0p"
      },
      "outputs": [],
      "source": [
        "prices.plot()\n",
        "plt.title(\"Collected Stock Prices\")\n",
        "plt.ylabel(\"Price\")\n",
        "plt.xlabel(\"Date\");"
      ]
    },
    {
      "cell_type": "markdown",
      "metadata": {
        "id": "4MAaLXvVHs0p"
      },
      "source": [
        "The same statistical functions from our interactions with `Series` resurface here with the addition of the `axis` parameter. By specifying the `axis`, we tell pandas to calculate the desired function along either the rows (`axis=0`) or the columns (`axis=1`). We can easily calculate the mean of each columns like so:"
      ]
    },
    {
      "cell_type": "code",
      "execution_count": null,
      "metadata": {
        "id": "QAdJ90MHHs0p"
      },
      "outputs": [],
      "source": [
        "prices.mean(axis=0)"
      ]
    },
    {
      "cell_type": "markdown",
      "metadata": {
        "id": "0Twr6OzmHs0p"
      },
      "source": [
        "As well as the standard deviation:"
      ]
    },
    {
      "cell_type": "code",
      "execution_count": null,
      "metadata": {
        "id": "ort6pr9iHs0p"
      },
      "outputs": [],
      "source": [
        "prices.std(axis=0)"
      ]
    },
    {
      "cell_type": "markdown",
      "metadata": {
        "id": "WeY_9J02Hs0q"
      },
      "source": [
        "Again, the `describe()` function will provide us with summary statistics of our data if we would rather have all of our typical statistics in a convenient visual instead of calculating them individually."
      ]
    },
    {
      "cell_type": "code",
      "execution_count": null,
      "metadata": {
        "id": "AaPnbjroHs0q"
      },
      "outputs": [],
      "source": [
        "prices.describe()"
      ]
    },
    {
      "cell_type": "markdown",
      "metadata": {
        "id": "M7xiJm0VHs0q"
      },
      "source": [
        "We can scale and add scalars to our `DataFrame`, as you might suspect after dealing with `Series`. This again works element-wise."
      ]
    },
    {
      "cell_type": "code",
      "execution_count": null,
      "metadata": {
        "id": "x1xRyuAvHs0q"
      },
      "outputs": [],
      "source": [
        "(2 * prices - 50).head(5)"
      ]
    },
    {
      "cell_type": "markdown",
      "metadata": {
        "id": "7Pi07nxlHs0q"
      },
      "source": [
        "Here we use the `pct_change()` method to get a `DataFrame` of the multiplicative returns of the securities that we are looking at."
      ]
    },
    {
      "cell_type": "code",
      "execution_count": null,
      "metadata": {
        "id": "2u5eatueHs0q"
      },
      "outputs": [],
      "source": [
        "mult_returns = prices.pct_change()[1:]\n",
        "mult_returns.head()"
      ]
    },
    {
      "cell_type": "markdown",
      "metadata": {
        "id": "oRIom_V0Hs0r"
      },
      "source": [
        "If we use our statistics methods to standardize the returns, a common procedure when examining data, then we can get a better idea of how they all move relative to each other on the same scale."
      ]
    },
    {
      "cell_type": "code",
      "execution_count": null,
      "metadata": {
        "id": "1T3SXWaxHs0r"
      },
      "outputs": [],
      "source": [
        "norm_returns = (mult_returns - mult_returns.mean(axis=0))/mult_returns.std(axis=0)\n",
        "norm_returns.loc['2014-01-01':'2015-01-01'].plot();"
      ]
    },
    {
      "cell_type": "markdown",
      "metadata": {
        "id": "kCrnn1CtHs0r"
      },
      "source": [
        "This makes it easier to compare the motion of the different time series contained in our example."
      ]
    },
    {
      "cell_type": "markdown",
      "metadata": {
        "id": "A3AKKGMNHs0r"
      },
      "source": [
        "Rolling means and standard deviations also work with `DataFrames`."
      ]
    },
    {
      "cell_type": "code",
      "execution_count": null,
      "metadata": {
        "collapsed": true,
        "id": "EjIDAp4nHs0r"
      },
      "outputs": [],
      "source": [
        "rolling_mean = pd.rolling_mean(prices, 30)\n",
        "rolling_mean.columns = prices.columns"
      ]
    },
    {
      "cell_type": "code",
      "execution_count": null,
      "metadata": {
        "id": "xsERigvMHs0r"
      },
      "outputs": [],
      "source": [
        "rolling_mean.plot()\n",
        "plt.title(\"Rolling Mean of Prices\")\n",
        "plt.xlabel(\"Date\")\n",
        "plt.ylabel(\"Price\")\n",
        "plt.legend();"
      ]
    },
    {
      "cell_type": "markdown",
      "metadata": {
        "id": "1Dh89mrCHs0r"
      },
      "source": [
        "For a complete list of all the methods that are built into `DataFrame`s, check out the [documentation](http://pandas.pydata.org/pandas-docs/stable/generated/pandas.DataFrame.html)."
      ]
    },
    {
      "cell_type": "markdown",
      "metadata": {
        "id": "GJ_Rmuf3Hs0s"
      },
      "source": [
        "# Next Steps\n",
        "\n",
        "Managing data gets a lot easier when you deal with pandas, though this has been a very general introduction. There are many more tools within the package which you may discover while trying to get your data to do precisely what you want. If you would rather read more on the additional capabilities of pandas, check out the [documentation](http://pandas.pydata.org/pandas-docs/stable/)."
      ]
    },
    {
      "cell_type": "markdown",
      "metadata": {
        "collapsed": true,
        "id": "7xEGS11xHs0s"
      },
      "source": [
        "*This presentation is for informational purposes only and does not constitute an offer to sell, a solicitation to buy, or a recommendation for any security; nor does it constitute an offer to provide investment advisory or other services by Quantopian, Inc. (\"Quantopian\"). Nothing contained herein constitutes investment advice or offers any opinion with respect to the suitability of any security, and any views expressed herein should not be taken as advice to buy, sell, or hold any security or as an endorsement of any security or company.  In preparing the information contained herein, Quantopian, Inc. has not taken into account the investment needs, objectives, and financial circumstances of any particular investor. Any views expressed and data illustrated herein were prepared based upon information, believed to be reliable, available to Quantopian, Inc. at the time of publication. Quantopian makes no guarantees as to their accuracy or completeness. All information is subject to change and may quickly become unreliable for various reasons, including changes in market conditions or economic circumstances.*"
      ]
    },
    {
      "cell_type": "markdown",
      "metadata": {
        "id": "eQzBbvyKQymx"
      },
      "source": [
        "<div align=\"center\">\n",
        "<img style=\"display: block; margin: auto;\" alt=\"photo\" src=\"https://cdn.quantconnect.com/web/i/icon.png\">\n",
        "</div> \n",
        "\n",
        "Quantconnect\n",
        "\n",
        "Introduction to Financial Python\n",
        "</div>\n",
        "\n",
        "#Data Types and Data Structures\n",
        "\n",
        "# Introduction\n",
        "\n",
        "This tutorial provides a basic introduction to the Python programming language. If you are new to Python, you should run the code snippets while reading this tutorial. If you are an advanced Python user, please feel free to skip this chapter.\n",
        "\n",
        "# Basic Variable Types\n",
        "The basic types of variables in Python are: strings, integers, floating point numbers and booleans.\n",
        "\n",
        "Strings in python are identified as a contiguous set of characters represented in either single quotes (' ') or double quotes (\" \").\n"
      ]
    },
    {
      "cell_type": "code",
      "execution_count": null,
      "metadata": {
        "id": "N5t-UrcfOqid"
      },
      "outputs": [],
      "source": [
        "my_string1 = 'Welcome to'\n",
        "my_string2 = \"QuantConnect\"\n",
        "print(my_string1 + ' ' + my_string2)"
      ]
    },
    {
      "cell_type": "markdown",
      "source": [
        "**my own example 165**"
      ],
      "metadata": {
        "id": "FMoyKFTMSw4y"
      }
    },
    {
      "cell_type": "code",
      "source": [
        "string1010 = \"Bienvenido\"\n",
        "string10102 = \"String2\"\n",
        "print(string1010 + \" \" + string10102)"
      ],
      "metadata": {
        "id": "ZtfOoRONYlqC"
      },
      "execution_count": null,
      "outputs": []
    },
    {
      "cell_type": "markdown",
      "metadata": {
        "id": "bXHnxZyHSd1M"
      },
      "source": [
        "An integer is a round number with no values after the decimal point."
      ]
    },
    {
      "cell_type": "code",
      "execution_count": null,
      "metadata": {
        "id": "pNjuz3toOqif"
      },
      "outputs": [],
      "source": [
        "my_int = 10\n",
        "print(my_int)\n",
        "print(type(my_int))"
      ]
    },
    {
      "cell_type": "markdown",
      "source": [
        "**my own example 166**"
      ],
      "metadata": {
        "id": "v1zaTDn8S0PT"
      }
    },
    {
      "cell_type": "code",
      "source": [
        "int1010 = 456478946\n",
        "print(int1010)\n",
        "print(type(int1010))"
      ],
      "metadata": {
        "id": "nkYwWsZ_Yn9p"
      },
      "execution_count": null,
      "outputs": []
    },
    {
      "cell_type": "markdown",
      "metadata": {
        "id": "_1ZanWrYSnzF"
      },
      "source": [
        "The built-in function int() can convert a string into an integer."
      ]
    },
    {
      "cell_type": "code",
      "execution_count": null,
      "metadata": {
        "id": "zPwGb20FOqif"
      },
      "outputs": [],
      "source": [
        "my_string = \"100\"\n",
        "print(type(my_string))\n",
        "my_int = int(my_string)\n",
        "print(type(my_int))"
      ]
    },
    {
      "cell_type": "markdown",
      "source": [
        "**my own example 167**"
      ],
      "metadata": {
        "id": "xLhK21plS3sb"
      }
    },
    {
      "cell_type": "code",
      "source": [
        "string1010 = \"54648\"\n",
        "print(type(string1010))\n",
        "int1010 = int(string1010)\n",
        "print(type(int1010))"
      ],
      "metadata": {
        "id": "Wl05Lzn4Yplz"
      },
      "execution_count": null,
      "outputs": []
    },
    {
      "cell_type": "markdown",
      "metadata": {
        "id": "WqMDPDTHSrE9"
      },
      "source": [
        "A floating point number, or a float, is a real number in mathematics. In Python we need to include a value after a decimal point to define it as a float"
      ]
    },
    {
      "cell_type": "code",
      "execution_count": null,
      "metadata": {
        "id": "otCzKKW9Oqig"
      },
      "outputs": [],
      "source": [
        "my_string = \"100\"\n",
        "my_float = float(my_string)\n",
        "print(type(my_float))"
      ]
    },
    {
      "cell_type": "markdown",
      "source": [
        "**my own example 168**"
      ],
      "metadata": {
        "id": "_s66ipQwS7By"
      }
    },
    {
      "cell_type": "code",
      "source": [
        "string1010 = \"45648\"\n",
        "float1010 = float(string1010)\n",
        "print(type(float1010))"
      ],
      "metadata": {
        "id": "zkjsx19BYwJX"
      },
      "execution_count": null,
      "outputs": []
    },
    {
      "cell_type": "markdown",
      "metadata": {
        "id": "2iuyv8Q7StTJ"
      },
      "source": [
        "As you can see above, if we don't include a decimal value, the variable would be defined as an integer. The built-in function float() can convert a string or an integer into a float."
      ]
    },
    {
      "cell_type": "code",
      "execution_count": null,
      "metadata": {
        "id": "wwLw5VthOqig"
      },
      "outputs": [],
      "source": [
        "my_bool = False\n",
        "print(my_bool)\n",
        "print(type(my_bool))"
      ]
    },
    {
      "cell_type": "markdown",
      "source": [
        "**my own example 169**"
      ],
      "metadata": {
        "id": "czG-DckqS9k1"
      }
    },
    {
      "cell_type": "code",
      "source": [
        "bool1010 = False\n",
        "print(bool1010)\n",
        "print(type(bool1010))"
      ],
      "metadata": {
        "id": "XkkCfHkmYrKG"
      },
      "execution_count": null,
      "outputs": []
    },
    {
      "cell_type": "markdown",
      "metadata": {
        "id": "bnGMwH21Szr_"
      },
      "source": [
        "A boolean, or bool, is a binary variable. Its value can only be True or False. It is useful when we do some logic operations, which would be covered in our next chapter."
      ]
    },
    {
      "cell_type": "code",
      "execution_count": null,
      "metadata": {
        "id": "DMa6pDl5Oqig"
      },
      "outputs": [],
      "source": [
        "print(\"Addition \", 1+1)\n",
        "print(\"Subtraction \", 5-2)\n",
        "print(\"Multiplication \", 2*3)\n",
        "print(\"Division \", 10/2)\n",
        "print('exponent', 2**3)"
      ]
    },
    {
      "cell_type": "markdown",
      "source": [
        "**my own example 170**"
      ],
      "metadata": {
        "id": "S-V3JTEzTBUJ"
      }
    },
    {
      "cell_type": "code",
      "source": [
        "print(\"Addition \", 45681+1546)\n",
        "print(\"Subtraction \", 587945698-23456)\n",
        "print(\"Multiplication \", 28494*34648)\n",
        "print(\"Division \", 1078979/254)\n",
        "print('exponent', 246**32)"
      ],
      "metadata": {
        "id": "cd6a-r7uYzet"
      },
      "execution_count": null,
      "outputs": []
    },
    {
      "cell_type": "markdown",
      "metadata": {
        "id": "1Xc9G9_sS2ju"
      },
      "source": [
        "# Basic Math Operations\n",
        "\n",
        "The basic math operators in python are demonstrated below:"
      ]
    },
    {
      "cell_type": "code",
      "execution_count": null,
      "metadata": {
        "id": "KE9gUryAOqig"
      },
      "outputs": [],
      "source": [
        "print(1/3)\n",
        "print(1.0/3)"
      ]
    },
    {
      "cell_type": "markdown",
      "source": [
        "**my own example 171**"
      ],
      "metadata": {
        "id": "tQV1fGewTDvy"
      }
    },
    {
      "cell_type": "code",
      "source": [
        "print(123/3846)\n",
        "print(15.546/32)"
      ],
      "metadata": {
        "id": "xqYNuj5JY111"
      },
      "execution_count": null,
      "outputs": []
    },
    {
      "cell_type": "markdown",
      "metadata": {
        "id": "AN5Oa3DoS_Nf"
      },
      "source": [
        "# Data Collections\n",
        "\n",
        "## List\n",
        "A list is an ordered collection of values. A list is mutable, which means you can change a list's value without changing the list itself. Creating a list is simply putting different comma-separated values between square brackets."
      ]
    },
    {
      "cell_type": "code",
      "execution_count": null,
      "metadata": {
        "id": "-tQdNqCvOqig"
      },
      "outputs": [],
      "source": [
        "my_list = ['Quant', 'Connect', 1,2,3]\n",
        "print(my_list)"
      ]
    },
    {
      "cell_type": "markdown",
      "source": [
        "**my own example 172**"
      ],
      "metadata": {
        "id": "N4Hm-GA6TGL_"
      }
    },
    {
      "cell_type": "code",
      "source": [
        "list1010 =['Quant', 'Connect', 1,2,3, True, 10.2]\n",
        "print(list1010)"
      ],
      "metadata": {
        "id": "a9aLk7R8Y4Vr"
      },
      "execution_count": null,
      "outputs": []
    },
    {
      "cell_type": "markdown",
      "metadata": {
        "id": "1O0TsgZCTHrM"
      },
      "source": [
        "The values in a list are called \"elements\". We can access list elements by indexing. Python index starts from 0. So if you have a list of length n, the index of the first element will be 0, and that of the last element will be n − 1. By the way, the length of a list can be obtained by the built-in function len()."
      ]
    },
    {
      "cell_type": "code",
      "execution_count": null,
      "metadata": {
        "id": "QhuVhRR5Oqih"
      },
      "outputs": [],
      "source": [
        "my_list = ['Quant', 'Connect', 1,2,3]\n",
        "print(len(my_list))\n",
        "print(my_list[0])\n",
        "print(my_list[len(my_list) -1])"
      ]
    },
    {
      "cell_type": "markdown",
      "source": [
        "**my own example 173**"
      ],
      "metadata": {
        "id": "N3uwuwWeTIk9"
      }
    },
    {
      "cell_type": "code",
      "source": [
        "list1010 =['Quant', 'Connect', 1,2,3, True, 10.2]\n",
        "print(len(list1010))\n",
        "print(list1010[0])\n",
        "print(list1010[len(list1010) -1])"
      ],
      "metadata": {
        "id": "zJkU4BXjY6PZ"
      },
      "execution_count": null,
      "outputs": []
    },
    {
      "cell_type": "markdown",
      "metadata": {
        "id": "jgSZy1VGTKSc"
      },
      "source": [
        "You can also change the elements in the list by accessing an index and assigning a new value."
      ]
    },
    {
      "cell_type": "code",
      "execution_count": null,
      "metadata": {
        "id": "NQBNLjAvOqih"
      },
      "outputs": [],
      "source": [
        "my_list = ['Quant','Connect',1,2,3]\n",
        "my_list[2] = 'go'\n",
        "print(my_list)"
      ]
    },
    {
      "cell_type": "markdown",
      "source": [
        "**my own example 174**"
      ],
      "metadata": {
        "id": "vDi05Td2TLqh"
      }
    },
    {
      "cell_type": "code",
      "source": [
        "list1010[2] = 'go'\n",
        "print(list1010)"
      ],
      "metadata": {
        "id": "jJnXu8ZGY8hO"
      },
      "execution_count": null,
      "outputs": []
    },
    {
      "cell_type": "markdown",
      "metadata": {
        "id": "EQPs5ojoTVrk"
      },
      "source": [
        "A list can also be sliced with a colon:"
      ]
    },
    {
      "cell_type": "code",
      "execution_count": null,
      "metadata": {
        "id": "keNX2RbtOqii"
      },
      "outputs": [],
      "source": [
        "my_list = ['Quant','Connect',1,2,3]\n",
        "print(my_list[1:3])"
      ]
    },
    {
      "cell_type": "markdown",
      "source": [
        "**my own example 175**"
      ],
      "metadata": {
        "id": "lXTEOQ1MTOa3"
      }
    },
    {
      "cell_type": "code",
      "source": [
        "list1010 =['Quant', 'Connect', 1,2,3, True, 10.2]\n",
        "print(list1010[1:5])"
      ],
      "metadata": {
        "id": "B3z1fPHfY-Dl"
      },
      "execution_count": null,
      "outputs": []
    },
    {
      "cell_type": "markdown",
      "metadata": {
        "id": "AZqQd0K8TYul"
      },
      "source": [
        "The slice starts from the first element indicated, but excludes the last element indicated. Here we select all elements starting from index 1, which refers to the second element:"
      ]
    },
    {
      "cell_type": "code",
      "execution_count": null,
      "metadata": {
        "id": "0-76sLfkOqii"
      },
      "outputs": [],
      "source": [
        "print(my_list[1:])"
      ]
    },
    {
      "cell_type": "markdown",
      "source": [
        "**my own example 176**"
      ],
      "metadata": {
        "id": "dZIG8xHxTRiJ"
      }
    },
    {
      "cell_type": "code",
      "source": [
        "print(list1010[1:])"
      ],
      "metadata": {
        "id": "cTY8ic8gZAOr"
      },
      "execution_count": null,
      "outputs": []
    },
    {
      "cell_type": "markdown",
      "metadata": {
        "id": "XBqvhUdZVKWs"
      },
      "source": [
        "And all elements up to but excluding index 3:"
      ]
    },
    {
      "cell_type": "code",
      "execution_count": null,
      "metadata": {
        "id": "5NWr75L9Oqii"
      },
      "outputs": [],
      "source": [
        "print(my_list[:3])"
      ]
    },
    {
      "cell_type": "markdown",
      "source": [
        "**my own example 177**"
      ],
      "metadata": {
        "id": "FrMVfMfrTVsC"
      }
    },
    {
      "cell_type": "code",
      "source": [
        "print(list1010[:3])"
      ],
      "metadata": {
        "id": "8xklRxgUZCUr"
      },
      "execution_count": null,
      "outputs": []
    },
    {
      "cell_type": "markdown",
      "metadata": {
        "id": "eAFmM6bkTZz9"
      },
      "source": [
        "If you wish to add or remove an element from a list, you can use the append() and remove() methods for lists as follows:"
      ]
    },
    {
      "cell_type": "code",
      "execution_count": null,
      "metadata": {
        "id": "pHmgTPElTo19"
      },
      "outputs": [],
      "source": [
        "my_list = ['Hello', 'Quant']\n",
        "my_list.append('Hello')\n",
        "print(my_list)\n",
        "\n"
      ]
    },
    {
      "cell_type": "code",
      "execution_count": null,
      "metadata": {
        "id": "4C4U1Yf0Tr8l"
      },
      "outputs": [],
      "source": [
        "my_list.remove('Hello')\n",
        "print(my_list)"
      ]
    },
    {
      "cell_type": "markdown",
      "source": [
        "**my own example 178**"
      ],
      "metadata": {
        "id": "kCswkMDETfmx"
      }
    },
    {
      "cell_type": "code",
      "source": [
        "list1010 = ['Hello', 'Quant']\n",
        "list1010.append('Hello')\n",
        "print(list1010)\n",
        "\n",
        "list1010.remove('Hello')\n",
        "print(list1010)"
      ],
      "metadata": {
        "id": "8v6O6oZ1ZEKz"
      },
      "execution_count": null,
      "outputs": []
    },
    {
      "cell_type": "markdown",
      "metadata": {
        "id": "11W1gG-cVmOU"
      },
      "source": [
        "When there are repeated instances of \"Hello\", the first one is removed.\n",
        "\n",
        "## Tuple\n",
        "A tuple is a data structure type similar to a list. The difference is that a tuple is immutable, which means you can't change the elements in it once it's defined. We create a tuple by putting comma-separated values between parentheses."
      ]
    },
    {
      "cell_type": "code",
      "execution_count": null,
      "metadata": {
        "collapsed": true,
        "id": "vPmn6BAaOqii"
      },
      "outputs": [],
      "source": [
        "my_tuple = ('Welcome','to','QuantConnect')"
      ]
    },
    {
      "cell_type": "markdown",
      "source": [
        "**my own example 179**"
      ],
      "metadata": {
        "id": "jWpgaP3uTiM5"
      }
    },
    {
      "cell_type": "code",
      "source": [
        "tuple1010 = (\"Hola1\", \"Hola2\", \"Hola3\")"
      ],
      "metadata": {
        "id": "H6wZLV9AZGDi"
      },
      "execution_count": null,
      "outputs": []
    },
    {
      "cell_type": "markdown",
      "metadata": {
        "id": "zMIme4dDV0Wz"
      },
      "source": [
        "Just like a list, a tuple can be sliced by using index."
      ]
    },
    {
      "cell_type": "code",
      "execution_count": null,
      "metadata": {
        "id": "8P-ddO0sOqii"
      },
      "outputs": [],
      "source": [
        "my_tuple = ('Welcome','to','QuantConnect')\n",
        "print(my_tuple[1:])"
      ]
    },
    {
      "cell_type": "markdown",
      "source": [
        "**my own example 180**"
      ],
      "metadata": {
        "id": "VhwfK2OnTkcT"
      }
    },
    {
      "cell_type": "code",
      "source": [
        "tuple1010 = (\"Hola1\", \"Hola2\", \"Hola3\")\n",
        "print(tuple1010[1:])"
      ],
      "metadata": {
        "id": "z5kgz1piZHrg"
      },
      "execution_count": null,
      "outputs": []
    },
    {
      "cell_type": "markdown",
      "metadata": {
        "id": "l2JqbusAV1Y2"
      },
      "source": [
        "## Set\n",
        "A set is an **unordered**  collection with **no duplicate** elements. The built-in function **set()** can be used to create sets."
      ]
    },
    {
      "cell_type": "code",
      "execution_count": null,
      "metadata": {
        "id": "Plau8r-UOqij"
      },
      "outputs": [],
      "source": [
        "stock_list = ['AAPL','GOOG','IBM','AAPL','IBM','FB','F','GOOG']\n",
        "stock_set = set(stock_list)\n",
        "print(stock_set)"
      ]
    },
    {
      "cell_type": "markdown",
      "source": [
        "**my own example 181**"
      ],
      "metadata": {
        "id": "paVeIDr9TnD-"
      }
    },
    {
      "cell_type": "code",
      "source": [
        "stock_list1010 = ['uno','dos','tres','cuatro','cinco','seis','siete','ocho']\n",
        "stock_set1010 = set(stock_list1010)\n",
        "print(stock_set1010)"
      ],
      "metadata": {
        "id": "_6y8Qf4-ZJry"
      },
      "execution_count": null,
      "outputs": []
    },
    {
      "cell_type": "markdown",
      "metadata": {
        "id": "Jyb4GGIoWIHk"
      },
      "source": [
        "Set is an easy way to remove duplicate elements from a list.\n",
        "\n",
        "##Dictionary\n",
        "A dictionary is one of the most important data structures in Python. Unlike sequences which are indexed by integers, dictionaries are indexed by keys which can be either strings or floats.\n",
        "\n",
        "A dictionary is an **unordered** collection of key : value pairs, with the requirement that the keys are unique. We create a dictionary by placing a comma-separated list of key : value pairs within the braces."
      ]
    },
    {
      "cell_type": "code",
      "execution_count": null,
      "metadata": {
        "collapsed": true,
        "id": "36mTe5BaOqij"
      },
      "outputs": [],
      "source": [
        "my_dic = {'AAPL':'AAPLE', 'FB':'FaceBook', 'GOOG':'Alphabet'}"
      ]
    },
    {
      "cell_type": "markdown",
      "source": [
        "**my own example 182**"
      ],
      "metadata": {
        "id": "S0FJI80qTpsi"
      }
    },
    {
      "cell_type": "code",
      "source": [
        "dic1010 = {\"uno\": 1, \"dos\": 2, \"tres\": 3}"
      ],
      "metadata": {
        "id": "dqTtfPTHZN_K"
      },
      "execution_count": null,
      "outputs": []
    },
    {
      "cell_type": "code",
      "execution_count": null,
      "metadata": {
        "id": "KUfdVf43Oqij"
      },
      "outputs": [],
      "source": [
        "print(my_dic['GOOG'])"
      ]
    },
    {
      "cell_type": "markdown",
      "source": [
        "**my own example 183**"
      ],
      "metadata": {
        "id": "VPgB0Iv4TrxN"
      }
    },
    {
      "cell_type": "code",
      "source": [
        "print(dic1010)"
      ],
      "metadata": {
        "id": "K6fVXZhtZPRt"
      },
      "execution_count": null,
      "outputs": []
    },
    {
      "cell_type": "markdown",
      "metadata": {
        "id": "gSicoNqDWP4c"
      },
      "source": [
        "After defining a dictionary, we can access any value by indicating its key in brackets."
      ]
    },
    {
      "cell_type": "code",
      "execution_count": null,
      "metadata": {
        "id": "IrTZdq9FOqij"
      },
      "outputs": [],
      "source": [
        "my_dic['GOOG'] = 'Alphabet Company'\n",
        "print(my_dic['GOOG'])"
      ]
    },
    {
      "cell_type": "markdown",
      "source": [
        "**my own example 184**"
      ],
      "metadata": {
        "id": "UliO1SqBTuHE"
      }
    },
    {
      "cell_type": "code",
      "source": [
        "dic1010[\"dos\"] = \"2\"\n",
        "print(dic1010)"
      ],
      "metadata": {
        "id": "YPhF6BnEZRiy"
      },
      "execution_count": null,
      "outputs": []
    },
    {
      "cell_type": "markdown",
      "metadata": {
        "id": "M9sDsTEMWQvc"
      },
      "source": [
        "We can also change the value associated with a specified key:"
      ]
    },
    {
      "cell_type": "code",
      "execution_count": null,
      "metadata": {
        "id": "lupRHf1_Oqij"
      },
      "outputs": [],
      "source": [
        "print(my_dic.keys())"
      ]
    },
    {
      "cell_type": "markdown",
      "source": [
        "**my own example 185**"
      ],
      "metadata": {
        "id": "-YVOPIrITw9s"
      }
    },
    {
      "cell_type": "code",
      "source": [
        "print(dic1010.keys())"
      ],
      "metadata": {
        "id": "DDi50Jx8ZTjB"
      },
      "execution_count": null,
      "outputs": []
    },
    {
      "cell_type": "markdown",
      "metadata": {
        "id": "VPuDinlwWS9D"
      },
      "source": [
        "The built-in method of the dictionary object dict.keys() returns a list of all the keys used in the dictionary."
      ]
    },
    {
      "cell_type": "markdown",
      "metadata": {
        "id": "kSGzgNb2Womz"
      },
      "source": [
        "# Common String Operations\n",
        "A string is an immutable sequence of characters. It can be sliced by index just like a tuple:"
      ]
    },
    {
      "cell_type": "code",
      "execution_count": null,
      "metadata": {
        "id": "xPojDnm9Oqik"
      },
      "outputs": [],
      "source": [
        "my_str = 'Welcome to QuantConnect'\n",
        "print(my_str[8:])"
      ]
    },
    {
      "cell_type": "markdown",
      "source": [
        "**my own example 186**"
      ],
      "metadata": {
        "id": "Ze-IUQTiTzPz"
      }
    },
    {
      "cell_type": "code",
      "source": [
        "string1010 = \"texto de prueba\"\n",
        "print(string1010[5:])"
      ],
      "metadata": {
        "id": "yoKisnj-ZVR4"
      },
      "execution_count": null,
      "outputs": []
    },
    {
      "cell_type": "markdown",
      "metadata": {
        "id": "wuJYy7tvWtM7"
      },
      "source": [
        "There are many methods associated with strings. We can use string.count() to count the occurrences of a character in a string, use string.find() to return the index of a specific character, and use string.replace() to replace characters"
      ]
    },
    {
      "cell_type": "code",
      "execution_count": null,
      "metadata": {
        "id": "u9deZq1SOqik"
      },
      "outputs": [],
      "source": [
        "print('Counting the number of e appears in this sentence'.count('e'))\n",
        "print('The first time e appears in this sentence'.find('e'))\n",
        "print('all the a in this sentence now becomes e'.replace('a','e'))"
      ]
    },
    {
      "cell_type": "markdown",
      "source": [
        "**my own example 187**"
      ],
      "metadata": {
        "id": "cc6nYjpFT1ig"
      }
    },
    {
      "cell_type": "code",
      "source": [
        "print('Primer Texto de prueba'.count('a'))\n",
        "print('Segundo Texto de prueba'.find('a'))\n",
        "print('Tercer Texto de prueba'.replace('a','e'))"
      ],
      "metadata": {
        "id": "bnYMGDdvZXS1"
      },
      "execution_count": null,
      "outputs": []
    },
    {
      "cell_type": "markdown",
      "metadata": {
        "id": "sJPn3rkvWwHN"
      },
      "source": [
        "The most commonly used method for strings is string.split(). This method will split the string by the indicated character and return a list:"
      ]
    },
    {
      "cell_type": "code",
      "execution_count": null,
      "metadata": {
        "id": "hbIaFLFHOqik"
      },
      "outputs": [],
      "source": [
        "Time = '2016-04-01 09:43:00'\n",
        "splited_list = Time.split(' ')\n",
        "date = splited_list[0]\n",
        "time = splited_list[1]\n",
        "print(date, time)\n",
        "hour = time.split(':')[0]\n",
        "print(hour)"
      ]
    },
    {
      "cell_type": "markdown",
      "source": [
        "**my own example 188**"
      ],
      "metadata": {
        "id": "54rS8JbcT3ps"
      }
    },
    {
      "cell_type": "code",
      "source": [
        "time1010 = \"2016-04-01 09:43:00\"\n",
        "list1010 = time1010.split(\" \")\n",
        "date = list1010[0]\n",
        "time = list1010[1]\n",
        "print(date, time)\n",
        "hour = time1010.split(\":\")[0]\n",
        "print(hour)"
      ],
      "metadata": {
        "id": "rMbXexi-ZZld"
      },
      "execution_count": null,
      "outputs": []
    },
    {
      "cell_type": "markdown",
      "metadata": {
        "id": "9cJQGk96WyVc"
      },
      "source": [
        "We can replace parts of a string by our variable. This is called string formatting."
      ]
    },
    {
      "cell_type": "code",
      "execution_count": null,
      "metadata": {
        "id": "-E_rIvv6Oqik"
      },
      "outputs": [],
      "source": [
        "my_time = 'Hour: {}, Minute:{}'.format('09','43')\n",
        "print(my_time)"
      ]
    },
    {
      "cell_type": "markdown",
      "source": [
        "**my own example 189**"
      ],
      "metadata": {
        "id": "-MsJjaQ-T8fj"
      }
    },
    {
      "cell_type": "code",
      "source": [
        "time1010 = 'Hour: {}, Minute:{}'.format('12','35')\n",
        "print(time1010)"
      ],
      "metadata": {
        "id": "l61HAy--Zb2e"
      },
      "execution_count": null,
      "outputs": []
    },
    {
      "cell_type": "code",
      "execution_count": null,
      "metadata": {
        "id": "4rZ4rkD2Oqik"
      },
      "outputs": [],
      "source": [
        "print('the pi number is %f'%3.14)\n",
        "print('%s to %s'%('Welcome','Quantconnect'))"
      ]
    },
    {
      "cell_type": "markdown",
      "source": [
        "**my own example 190**"
      ],
      "metadata": {
        "id": "J9W0edu4T_eQ"
      }
    },
    {
      "cell_type": "code",
      "source": [
        "print('the pi number is %f'%3.1416)\n",
        "print('%s de %s'%('texto','prueba'))"
      ],
      "metadata": {
        "id": "R_koB89oZeF8"
      },
      "execution_count": null,
      "outputs": []
    },
    {
      "cell_type": "markdown",
      "metadata": {
        "id": "v_5cocrDW3MN"
      },
      "source": [
        "# Summary\n",
        "\n",
        "Weave seen the basic data types and data structures in Python. It's important to keep practicing to become familiar with these data structures. In the next tutorial, we will cover for and while loops and logical operations in Python."
      ]
    },
    {
      "cell_type": "markdown",
      "metadata": {
        "id": "QL6dNxwCXNEt"
      },
      "source": [
        "<div align=\"center\">\n",
        "<img style=\"display: block; margin: auto;\" alt=\"photo\" src=\"https://cdn.quantconnect.com/web/i/icon.png\">\n",
        "</div> \n",
        "\n",
        "Quantconnect\n",
        "\n",
        "Introduction to Financial Python\n",
        "</div>\n",
        "\n",
        "# Logical Operations and Loops\n",
        "\n",
        "# Introduction\n",
        "We discussed the basic data types and data structures in Python in the last tutorial. This chapter covers logical operations and loops in Python, which are very common in programming.\n",
        "\n",
        "# Logical Operations\n",
        "Like most programming languages, Python has comparison operators:"
      ]
    },
    {
      "cell_type": "code",
      "execution_count": null,
      "metadata": {
        "id": "70Guys_rOv7a"
      },
      "outputs": [],
      "source": [
        "print(1 == 0)\n",
        "print(1 == 1)\n",
        "print(1 != 0)\n",
        "print(5 >= 5)\n",
        "print(5 >= 6)"
      ]
    },
    {
      "cell_type": "markdown",
      "source": [
        "**my own example 191**"
      ],
      "metadata": {
        "id": "MHHHNpHOUDR1"
      }
    },
    {
      "cell_type": "code",
      "source": [
        "print(14564 == 2131)\n",
        "print(123 == 123)\n",
        "print(145789 != 45670)\n",
        "print(50235 >= 50235)\n",
        "print(5465 >= 6564)"
      ],
      "metadata": {
        "id": "4FcDuRVBZg7l"
      },
      "execution_count": null,
      "outputs": []
    },
    {
      "cell_type": "markdown",
      "metadata": {
        "id": "8aFHYDj-YTXt"
      },
      "source": [
        "Each statement above has a boolean value, which must be either True or False, but not both.\n",
        "\n",
        "We can combine simple statements P and Q to form complex statements using logical operators:\n",
        "\n",
        "- The statement \"P and Q\" is true if both P and Q are true, otherwise it is false.\n",
        "- The statement \"P or Q\" is false if both P and Q are false, otherwise it is true.\n",
        "- The statement \"not P\" is true if P is false, and vice versa."
      ]
    },
    {
      "cell_type": "code",
      "execution_count": null,
      "metadata": {
        "id": "O5YEEcUbOv7d"
      },
      "outputs": [],
      "source": [
        "print(2 > 1 and 3 > 2)\n",
        "print(2 > 1 and 3 < 2) \n",
        "print(2 > 1 or 3 < 2)\n",
        "print(2 < 1 and 3 < 2)"
      ]
    },
    {
      "cell_type": "markdown",
      "source": [
        "**my own example 192**"
      ],
      "metadata": {
        "id": "r7J-R8bVUHF4"
      }
    },
    {
      "cell_type": "code",
      "source": [
        "print(24564 > 1213 and 323 > 220)\n",
        "print(233 > 155 and 384 < 256) \n",
        "print(249 > 149 or 365 < 225)\n",
        "print(265 < 123 and 384 < 222)"
      ],
      "metadata": {
        "id": "_OXoldg0ZjJs"
      },
      "execution_count": null,
      "outputs": []
    },
    {
      "cell_type": "markdown",
      "metadata": {
        "id": "Dy7yzoSXYXmL"
      },
      "source": [
        "When dealing with a very complex logical statement that involves in several statements, we can use brackets to separate and combine them."
      ]
    },
    {
      "cell_type": "code",
      "execution_count": null,
      "metadata": {
        "id": "QZ-W2xJZOv7d"
      },
      "outputs": [],
      "source": [
        "print((3 > 2 or 1 < 3) and (1!=3 and 4>3) and not ( 3 < 2 or 1 < 3 and (1!=3 and 4>3)))\n",
        "print(3 > 2 or 1 < 3 and (1!=3 and 4>3) and not ( 3 < 2 or 1 < 3 and (1!=3 and 4>3)))"
      ]
    },
    {
      "cell_type": "markdown",
      "source": [
        "**my own example 193**"
      ],
      "metadata": {
        "id": "Sbn4Y4fOUKSa"
      }
    },
    {
      "cell_type": "code",
      "source": [
        "print((389 > 220 or 145 < 365) and (122!=333 and 442>365) and not ( 389 < 245 or 120 < 350 and (100!=323 and 450>360)))\n",
        "print(325 > 265 or 160 < 384 and (123!=345 and 480>365) and not ( 378 < 245 or 145 < 398 and (184!=365 and 432>358)))"
      ],
      "metadata": {
        "id": "_MrMTTDWZluY"
      },
      "execution_count": null,
      "outputs": []
    },
    {
      "cell_type": "markdown",
      "metadata": {
        "id": "s95xoRYMYaPD"
      },
      "source": [
        "Comparing the above two statements, we can see that it's wise to use brackets when we make a complex logical statement.\n",
        "\n",
        "# If Statement\n",
        "An if statement executes a segment of code only if its condition is true. A standard if statement consists of 3 segments: if, elif and else."
      ]
    },
    {
      "cell_type": "markdown",
      "metadata": {
        "id": "aRzMMitAaBOL"
      },
      "source": [
        "```python\n",
        "if statement1:\n",
        "    # if the statement1 is true, execute the code here.\n",
        "    # code.....\n",
        "    # code.....\n",
        "elif statement2:\n",
        "    # if the statement 1 is false, skip the codes above to this part.\n",
        "    # code......\n",
        "    # code......\n",
        "else:\n",
        "    # if none of the above statements is True, skip to this part\n",
        "    # code......\n",
        "```"
      ]
    },
    {
      "cell_type": "markdown",
      "metadata": {
        "id": "l59R2AS8aH2K"
      },
      "source": [
        "An if statement doesn't necessarily has elif and else part. If it's not specified, the indented block of code will be executed when the condition is true, otherwise the whole if statement will be skipped."
      ]
    },
    {
      "cell_type": "code",
      "execution_count": null,
      "metadata": {
        "id": "FZ5GoTXfOv7e"
      },
      "outputs": [],
      "source": [
        "i = 0\n",
        "if i == 0:\n",
        "    print('i==0 is True')"
      ]
    },
    {
      "cell_type": "markdown",
      "source": [
        "**my own example 194**"
      ],
      "metadata": {
        "id": "_5a1YZ7HUM_H"
      }
    },
    {
      "cell_type": "code",
      "source": [
        "i1010 = 456\n",
        "if i1010 == 456:\n",
        "  print(\"i1010 == 456 is True\")"
      ],
      "metadata": {
        "id": "G5-Aix02ZogY"
      },
      "execution_count": null,
      "outputs": []
    },
    {
      "cell_type": "markdown",
      "metadata": {
        "id": "nPNW-l5eaJn8"
      },
      "source": [
        "As we mentioned above, we can write some complex statements here:"
      ]
    },
    {
      "cell_type": "code",
      "execution_count": null,
      "metadata": {
        "id": "gh-U6nMzOv7e"
      },
      "outputs": [],
      "source": [
        "p = 1 > 0\n",
        "q = 2 > 3\n",
        "if p and q:\n",
        "    print('p and q is true')\n",
        "elif p and not q:\n",
        "    print('q is false')\n",
        "elif q and not p:\n",
        "    print('p is false')\n",
        "else:\n",
        "    print('None of p and q is true')"
      ]
    },
    {
      "cell_type": "markdown",
      "source": [
        "**my own example 195**"
      ],
      "metadata": {
        "id": "udH5yB8GUPtg"
      }
    },
    {
      "cell_type": "code",
      "source": [
        "p1010 = 456 > 230\n",
        "q1010 = 298 > 365\n",
        "if p1010 and q1010:\n",
        "  print(\"p and q is true\")\n",
        "elif p1010 and not q1010:\n",
        "  print(\"q is false\")\n",
        "elif q1010 and not p1010:\n",
        "  print(\"p is false\")\n",
        "else:\n",
        "  print(\"None of p and q is true\")"
      ],
      "metadata": {
        "id": "LSMaZcqwZqnX"
      },
      "execution_count": null,
      "outputs": []
    },
    {
      "cell_type": "markdown",
      "metadata": {
        "id": "tgRDwiAsaMOL"
      },
      "source": [
        "# Loop Structure\n",
        "Loops are an essential part of programming. The \"for\" and \"while\" loops run a block of code repeatedly.\n",
        "\n",
        "## While Loop\n",
        "A \"while\" loop will run repeatedly until a certain condition has been met."
      ]
    },
    {
      "cell_type": "code",
      "execution_count": null,
      "metadata": {
        "id": "uQLau8d5Ov7f"
      },
      "outputs": [],
      "source": [
        "i = 0\n",
        "while i < 5:\n",
        "    print(i)\n",
        "    i += 1  "
      ]
    },
    {
      "cell_type": "markdown",
      "source": [
        "**my own example 196**"
      ],
      "metadata": {
        "id": "XCotUq2yUSO7"
      }
    },
    {
      "cell_type": "code",
      "source": [
        "i1010 = 250\n",
        "while i1010 < 278:\n",
        "  print(i1010)\n",
        "  i1010 += 3"
      ],
      "metadata": {
        "id": "gYh_wn9sZsji"
      },
      "execution_count": null,
      "outputs": []
    },
    {
      "cell_type": "markdown",
      "metadata": {
        "id": "ydLddFAPaTOE"
      },
      "source": [
        "When making a while loop, we need to ensure that something changes from iteration to iteration so that the while loop will terminate, otherwise, it will run forever. Here we used i += 1 (short for i = i + 1) to make i larger after each iteration. This is the most commonly used method to control a while loop.\n",
        "\n",
        "## For Loop\n",
        "A \"for\" loop will iterate over a sequence of value and terminate when the sequence has ended."
      ]
    },
    {
      "cell_type": "code",
      "execution_count": null,
      "metadata": {
        "id": "kt8Ie8u1Ov7f"
      },
      "outputs": [],
      "source": [
        "for i in [1,2,3,4,5]:\n",
        "    print(i)"
      ]
    },
    {
      "cell_type": "markdown",
      "source": [
        "**my own example 197**"
      ],
      "metadata": {
        "id": "WAhyNhbSUUmu"
      }
    },
    {
      "cell_type": "code",
      "source": [
        "for i1010 in [45, 56, 78, 90, 120]:\n",
        "  print(i1010)"
      ],
      "metadata": {
        "id": "3j_FHDwiZulE"
      },
      "execution_count": null,
      "outputs": []
    },
    {
      "cell_type": "markdown",
      "metadata": {
        "id": "yWStqpreaX-T"
      },
      "source": [
        "We can also add if statements in a for loop. Here is a real example from our pairs trading algorithm:"
      ]
    },
    {
      "cell_type": "code",
      "execution_count": null,
      "metadata": {
        "id": "kElmffvFOv7f"
      },
      "outputs": [],
      "source": [
        "stocks = ['AAPL','GOOG','IBM','FB','F','V', 'G', 'GE']\n",
        "selected = ['AAPL','IBM']\n",
        "new_list = []\n",
        "for i in stocks:\n",
        "    if i not in selected:\n",
        "        new_list.append(i)\n",
        "print(stocks)"
      ]
    },
    {
      "cell_type": "markdown",
      "source": [
        "**my own example 198**"
      ],
      "metadata": {
        "id": "4P3IV27CUXEQ"
      }
    },
    {
      "cell_type": "code",
      "source": [
        "stocks1010 = ['uno','dos','tres','cuatro','cinco','seis', 'siete', 'ocho']\n",
        "selected1010 = ['tres','siete']\n",
        "list1010 = []\n",
        "for i in stocks1010:\n",
        "    if i not in selected1010:\n",
        "        list1010.append(i)\n",
        "print(stocks1010)"
      ],
      "metadata": {
        "id": "bNtNBmOtZwkj"
      },
      "execution_count": null,
      "outputs": []
    },
    {
      "cell_type": "markdown",
      "metadata": {
        "id": "wb2hry9dahE0"
      },
      "source": [
        "Here we iterated all the elements in the list 'stocks'. Later in this chapter, we will introduce a smarter way to do this, which is just a one-line code.\n",
        "\n",
        "## Break and continue\n",
        "These are two commonly used commands in a for loop. If \"break\" is triggered while a loop is executing, the loop will terminate immediately:"
      ]
    },
    {
      "cell_type": "code",
      "execution_count": null,
      "metadata": {
        "id": "yF5wMVItOv7g"
      },
      "outputs": [],
      "source": [
        "stocks = ['AAPL','GOOG','IBM','FB','F','V', 'G', 'GE']\n",
        "for i in stocks:\n",
        "    print(i)\n",
        "    if i == 'FB':\n",
        "        break"
      ]
    },
    {
      "cell_type": "markdown",
      "source": [
        "**my own example 199**"
      ],
      "metadata": {
        "id": "wUlPqxG3UaN0"
      }
    },
    {
      "cell_type": "code",
      "source": [
        "stocks1010 = ['uno','dos','tres','cuatro','cinco','seis', 'siete', 'ocho']\n",
        "for i in stocks1010:\n",
        "    print(i)\n",
        "    if i == 'cinco':\n",
        "        break"
      ],
      "metadata": {
        "id": "aemuFSCZZyx6"
      },
      "execution_count": null,
      "outputs": []
    },
    {
      "cell_type": "markdown",
      "metadata": {
        "id": "R0toxyp3ao0T"
      },
      "source": [
        "The \"continue\" command tells the loop to end this iteration and skip to the next iteration:"
      ]
    },
    {
      "cell_type": "code",
      "execution_count": null,
      "metadata": {
        "id": "Stg-CH6IOv7g"
      },
      "outputs": [],
      "source": [
        "stocks = ['AAPL','GOOG','IBM','FB','F','V', 'G', 'GE']\n",
        "for i in stocks:\n",
        "    if i == 'FB':\n",
        "        continue\n",
        "    print(i)"
      ]
    },
    {
      "cell_type": "markdown",
      "source": [
        "**my own example 200**"
      ],
      "metadata": {
        "id": "weYE6i0TUdxA"
      }
    },
    {
      "cell_type": "code",
      "source": [
        "stocks1010 = ['uno','dos','tres','cuatro','cinco','seis', 'siete', 'ocho']\n",
        "for i in stocks1010:\n",
        "    if i == 'cinco':\n",
        "        continue\n",
        "    print(i)"
      ],
      "metadata": {
        "id": "hdT1fETtZ0Vw"
      },
      "execution_count": null,
      "outputs": []
    },
    {
      "cell_type": "markdown",
      "metadata": {
        "id": "4NusvdhBaxpZ"
      },
      "source": [
        "# List Comprehension\n",
        "List comprehension is a Pythonic way to create lists. Common applications are to make new lists where each element is the result of some operations applied to each member of another sequence. For example, if we want to create a list of squares using for loop:"
      ]
    },
    {
      "cell_type": "code",
      "execution_count": null,
      "metadata": {
        "id": "bdxxeOABOv7h"
      },
      "outputs": [],
      "source": [
        "squares = []\n",
        "for i in [1,2,3,4,5]:\n",
        "    squares.append(i**2)\n",
        "print(squares)"
      ]
    },
    {
      "cell_type": "markdown",
      "metadata": {
        "id": "--KliJBOa1CC"
      },
      "source": [
        "Using list comprehension:"
      ]
    },
    {
      "cell_type": "code",
      "execution_count": null,
      "metadata": {
        "id": "440-yjG8Ov7h"
      },
      "outputs": [],
      "source": [
        "list = [1,2,3,4,5]\n",
        "squares = [x**2 for x in list]\n",
        "print(squares)"
      ]
    },
    {
      "cell_type": "markdown",
      "metadata": {
        "id": "uMuCfR3ya3zT"
      },
      "source": [
        "Recall the example above where we used a for loop to select stocks. Here we use list comprehension:"
      ]
    },
    {
      "cell_type": "code",
      "execution_count": null,
      "metadata": {
        "id": "ZGtCtog2Ov7h"
      },
      "outputs": [],
      "source": [
        "stocks = ['AAPL','GOOG','IBM','FB','F','V', 'G', 'GE']\n",
        "selected = ['AAPL','IBM']\n",
        "new_list = [x for x in stocks if x in selected]\n",
        "print(new_list)"
      ]
    },
    {
      "cell_type": "markdown",
      "metadata": {
        "id": "EPeUv6Lia5oD"
      },
      "source": [
        "A list comprehension consists of square brackets containing an expression followed by a \"for\" clause, and possibly \"for\" or \"if\" clauses. For example:"
      ]
    },
    {
      "cell_type": "code",
      "execution_count": null,
      "metadata": {
        "id": "O1AMB5d7Ov7i"
      },
      "outputs": [],
      "source": [
        "print([(x, y) for x in [1,2,3] for y in [3,1,4] if x != y])\n",
        "print([str(x)+' vs '+str(y) for x in ['AAPL','GOOG','IBM','FB'] for y in ['F','V','G','GE'] if x!=y])"
      ]
    },
    {
      "cell_type": "markdown",
      "metadata": {
        "id": "jJpvq-o4a8P7"
      },
      "source": [
        "List comprehension is an elegant way to organize one or more for loops when creating a list.\n",
        "\n",
        "# Summary\n",
        "This chapter has introduced logical operations, loops, and list comprehension. In the next chapter, we will introduce functions and object-oriented programming, which will enable us to make our codes clean and versatile."
      ]
    },
    {
      "cell_type": "markdown",
      "metadata": {
        "id": "Tef_X2wJbdhn"
      },
      "source": [
        "<div align=\"center\">\n",
        "<img style=\"display: block; margin: auto;\" alt=\"photo\" src=\"https://cdn.quantconnect.com/web/i/icon.png\">\n",
        "\n",
        "Quantconnect\n",
        "\n",
        "Introduction to Financial Python\n",
        "</div>\n",
        "\n",
        "# Functions and Object-Oriented Programming\n",
        "\n",
        "# Introduction\n",
        "\n",
        "In the last tutorial we introduced logical operations, loops and list comprehension. We will introduce functions and object-oriented programming in this chapter, which will enable us to build complex algorithms in more flexible ways.\n",
        "\n",
        "# Functions\n",
        "A function is a reusable block of code. We can use a function to output a value, or do anything else we want. We can easily define our own function by using the keyword \"def\"."
      ]
    },
    {
      "cell_type": "code",
      "execution_count": null,
      "metadata": {
        "id": "eE_NkTiSO2PO"
      },
      "outputs": [],
      "source": [
        "def product(x,y):\n",
        "    return x*y\n",
        "print(product(2,3))\n",
        "print(product(5,10))"
      ]
    },
    {
      "cell_type": "markdown",
      "metadata": {
        "id": "4oRU_dVJbsdD"
      },
      "source": [
        "The keyword \"def\" is followed by the function name and the parenthesized list of formal parameters. The statements that form the body of the function start at the next line, and must be indented. The product() function above has \"x\" and \"y\" as its parameters. A function doesn't necessarily have parameters:"
      ]
    },
    {
      "cell_type": "code",
      "execution_count": null,
      "metadata": {
        "id": "JhdWVLbUO2PQ"
      },
      "outputs": [],
      "source": [
        "def say_hi():\n",
        "    print('Welcome to QuantConnect')\n",
        "say_hi()"
      ]
    },
    {
      "cell_type": "markdown",
      "metadata": {
        "id": "lHwqVpWVb1Jr"
      },
      "source": [
        "# Built-in Function\n",
        "**range()** is a function that creates a list containing an arithmetic sequence. It's often used in for loops. The arguments must be integers. If the \"step\" argument is omitted, it defaults to 1."
      ]
    },
    {
      "cell_type": "code",
      "execution_count": null,
      "metadata": {
        "id": "VVOTELcIO2PQ"
      },
      "outputs": [],
      "source": [
        "print(range(10))\n",
        "print(range(1,11))\n",
        "print(range(1,11,2))"
      ]
    },
    {
      "cell_type": "markdown",
      "metadata": {
        "id": "PD0cSgiwcQ4L"
      },
      "source": [
        "**len()** is another function used together with range() to create a for loop. This function returns the length of an object. The argument must be a sequence or a collection."
      ]
    },
    {
      "cell_type": "code",
      "execution_count": null,
      "metadata": {
        "id": "Hg18c7v-O2PR"
      },
      "outputs": [],
      "source": [
        "tickers = ['AAPL','GOOG','IBM','FB','F','V', 'G', 'GE']\n",
        "print('The length of tickers is {}'.format(len(tickers)))\n",
        "for i in range(len(tickers)):\n",
        "    print(tickers[i])"
      ]
    },
    {
      "cell_type": "markdown",
      "metadata": {
        "id": "OIQSuub1cWgi"
      },
      "source": [
        "Note: If you want to print only the tickers without those numbers, then simply write \"for ticker in tickers: print ticker\"\n",
        "\n",
        "**map(**) is a function that applies a specific function to every item of a sequence or collection, and returns a list of the results."
      ]
    },
    {
      "cell_type": "code",
      "execution_count": null,
      "metadata": {
        "id": "78DyKVOyO2PR"
      },
      "outputs": [],
      "source": [
        "tickers = ['AAPL','GOOG','IBM','FB','F','V', 'G', 'GE']\n",
        "print(list(map(len,tickers)))"
      ]
    },
    {
      "cell_type": "markdown",
      "metadata": {
        "id": "mvr06UM7ca7b"
      },
      "source": [
        "The **lambda operator** is a way to create small anonymous functions. These functions are just needed where they have been created. For example:"
      ]
    },
    {
      "cell_type": "code",
      "execution_count": null,
      "metadata": {
        "id": "pAEHADYXO2PR"
      },
      "outputs": [],
      "source": [
        "list(map(lambda x: x**2, range(10)))"
      ]
    },
    {
      "cell_type": "markdown",
      "metadata": {
        "id": "Mgixpxomcj3T"
      },
      "source": [
        "map() can be applied to more than one list. The lists have to have the same length."
      ]
    },
    {
      "cell_type": "code",
      "execution_count": null,
      "metadata": {
        "id": "HtckhAaJO2PS"
      },
      "outputs": [],
      "source": [
        "list(map(lambda x, y: x+y, [1,2,3,4,5],[5,4,3,2,1]))"
      ]
    },
    {
      "cell_type": "markdown",
      "metadata": {
        "id": "ZDnMTH-KcklT"
      },
      "source": [
        "**sorted()** takes a list or set and returns a new sorted list"
      ]
    },
    {
      "cell_type": "code",
      "execution_count": null,
      "metadata": {
        "id": "P0sHUMFWO2PS"
      },
      "outputs": [],
      "source": [
        "sorted([5,2,3,4,1])"
      ]
    },
    {
      "cell_type": "markdown",
      "metadata": {
        "id": "-N5_EDOFcnsc"
      },
      "source": [
        "We can add a \"key\" parameter to specify a function to be called on each list element prior to making comparisons. For example:"
      ]
    },
    {
      "cell_type": "code",
      "execution_count": null,
      "metadata": {
        "id": "0i3peZ0bO2PS"
      },
      "outputs": [],
      "source": [
        "price_list = [('AAPL',144.09),('GOOG',911.71),('MSFT',69),('FB',150),('WMT',75.32)]\n",
        "sorted(price_list, key = lambda x: x[1])"
      ]
    },
    {
      "cell_type": "markdown",
      "metadata": {
        "id": "yun2zptKcxe_"
      },
      "source": [
        "By default the values are sorted by ascending order. We can change it to descending by adding an optional parameter \"reverse'."
      ]
    },
    {
      "cell_type": "code",
      "execution_count": null,
      "metadata": {
        "id": "dEZqdl94O2PT"
      },
      "outputs": [],
      "source": [
        "price_list = [('AAPL',144.09),('GOOG',911.71),('MSFT',69),('FB',150),('WMT',75.32)]\n",
        "sorted(price_list, key = lambda x: x[1],reverse = True)"
      ]
    },
    {
      "cell_type": "markdown",
      "metadata": {
        "id": "OA2wYAa0c6Dn"
      },
      "source": [
        "Lists also have a function list.sort(). This function takes the same \"key\" and \"reverse\" arguments as sorted(), but it doesn't return a new list."
      ]
    },
    {
      "cell_type": "code",
      "execution_count": null,
      "metadata": {
        "id": "pG9VQCLnO2PT"
      },
      "outputs": [],
      "source": [
        "price_list = [('AAPL',144.09),('GOOG',911.71),('MSFT',69),('FB',150),('WMT',75.32)]\n",
        "price_list.sort(key = lambda x: x[1])\n",
        "print(price_list)"
      ]
    },
    {
      "cell_type": "markdown",
      "metadata": {
        "id": "mxljL1W1c_c5"
      },
      "source": [
        "# Object-Oriented Programming\n",
        "Python is an object-oriented programming language. It's important to understand the concept of \"objects\" because almost every kind of data from QuantConnect API is an object.\n",
        "\n",
        "## Class\n",
        "A class is a type of data, just like a string, float, or list. When we create an object of that data type, we call it an instance of a class.\n",
        "\n",
        "In Python, everything is an object - everything is an instance of some class. The data stored inside an object are called attributes, and the functions which are associated with the object are called methods.\n",
        "\n",
        "For example, as mentioned above, a list is an object of the \"list\" class, and it has a method list.sort().\n",
        "\n",
        "We can create our own objects by defining a class. We would do this when it's helpful to group certain functions together. For example, we define a class named \"Stock\" here:"
      ]
    },
    {
      "cell_type": "code",
      "execution_count": null,
      "metadata": {
        "id": "zC4Y4PgDO2PT"
      },
      "outputs": [],
      "source": [
        "class stock:\n",
        "    def __init__(self, ticker, open, close, volume):\n",
        "        self.ticker = ticker\n",
        "        self.open = open\n",
        "        self.close = close\n",
        "        self.volume = volume\n",
        "        self.rate_return = float(close)/open - 1\n",
        " \n",
        "    def update(self, open, close):\n",
        "        self.open = open\n",
        "        self.close = close\n",
        "        self.rate_return = float(self.close)/self.open - 1\n",
        " \n",
        "    def print_return(self):\n",
        "        print(self.rate_return)"
      ]
    },
    {
      "cell_type": "markdown",
      "metadata": {
        "id": "rV06INT5dETi"
      },
      "source": [
        "The \"Stock\" class has attributes \"ticker\", \"open\", \"close\", \"volume\" and \"rate_return\". Inside the class body, the first method is called __init__, which is a special method. When we create a new instance of the class, the __init__ method is immediately executed with all the parameters that we pass to the \"Stock\" object. The purpose of this method is to set up a new \"Stock\" object using data we have provided.\n",
        "\n",
        "Here we create two Stock objects named \"apple\" and \"google\"."
      ]
    },
    {
      "cell_type": "code",
      "execution_count": null,
      "metadata": {
        "id": "8tIpNk93O2PU"
      },
      "outputs": [],
      "source": [
        "apple = stock('AAPL', 143.69, 144.09, 20109375)\n",
        "google = stock('GOOG', 898.7, 911.7, 1561616)"
      ]
    },
    {
      "cell_type": "markdown",
      "metadata": {
        "id": "VxmELNiHdPKS"
      },
      "source": [
        "Stock objects also have two other methods: update() and print_return(). We can access the attribues of a Stock object and call its methods:"
      ]
    },
    {
      "cell_type": "code",
      "execution_count": null,
      "metadata": {
        "id": "SsiIkmekO2PU"
      },
      "outputs": [],
      "source": [
        "apple.ticker\n",
        "google.print_return()\n",
        "google.update(912.8,913.4)\n",
        "google.print_return()"
      ]
    },
    {
      "cell_type": "markdown",
      "metadata": {
        "id": "Q8fl7keNdVKF"
      },
      "source": [
        "By calling the update() function, we updated the open and close prices of a stock. Please note that when we use the attributes or call the methods **inside a class**, we need to specify them as self.attribute or self.method(), otherwise Python will deem them as global variables and thus raise an error.\n",
        "\n",
        "We can add an attribute to an object anywhere:"
      ]
    },
    {
      "cell_type": "code",
      "execution_count": null,
      "metadata": {
        "id": "rO4OLnqOO2PU"
      },
      "outputs": [],
      "source": [
        "apple.ceo = 'Tim Cook'\n",
        "apple.ceo"
      ]
    },
    {
      "cell_type": "markdown",
      "metadata": {
        "id": "WyfnFgVidh4J"
      },
      "source": [
        "We can check what names (i.e. attributes and methods) are defined on an object using the dir() function:"
      ]
    },
    {
      "cell_type": "code",
      "execution_count": null,
      "metadata": {
        "id": "pPoz0LA8O2PU"
      },
      "outputs": [],
      "source": [
        "dir(apple)"
      ]
    },
    {
      "cell_type": "markdown",
      "metadata": {
        "id": "Qpemj1UZd2aa"
      },
      "source": [
        "## Inheritance\n",
        "Inheritance is a way of arranging classes in a hierarchy from the most general to the most specific. A \"child\" class is a more specific type of a \"parent\" class because a child class will inherit all the attribues and methods of its parent. For example, we define a class named \"Child\" which inherits \"Stock\":"
      ]
    },
    {
      "cell_type": "code",
      "execution_count": null,
      "metadata": {
        "id": "UELXnxomO2PV"
      },
      "outputs": [],
      "source": [
        "class child(stock):\n",
        "    def __init__(self,name):\n",
        "        self.name = name"
      ]
    },
    {
      "cell_type": "code",
      "execution_count": null,
      "metadata": {
        "id": "ffS2THZyO2PV"
      },
      "outputs": [],
      "source": [
        "aa = child('aa')\n",
        "print(aa.name)\n",
        "aa.update(100,102)\n",
        "print(aa.open)\n",
        "print(aa.close)\n",
        "print(aa.print_return())"
      ]
    },
    {
      "cell_type": "markdown",
      "metadata": {
        "id": "pdIEjUv2eJqL"
      },
      "source": [
        "As seen above, the new class Child has inherited the methods from Stock.\n",
        "\n",
        "#Summary\n",
        "\n",
        "In this chapter we have introduced functions and classes. When we write a QuantConnect algorithm, we would define our algorithm as a class (QCAlgorithm). This means our algorithm inherited the QC API methods from QCAlgorithm class.\n",
        "\n",
        "In the next chapter, we will introduce NumPy and Pandas, which enable us to conduct scientific calculations in Python."
      ]
    },
    {
      "cell_type": "markdown",
      "metadata": {
        "id": "wVaJf76bHBG2"
      },
      "source": [
        "<div align=\"center\">\n",
        "<img style=\"display: block; margin: auto;\" alt=\"photo\" src=\"https://upload.wikimedia.org/wikipedia/en/d/de/Quantopian_logo_2017.png\">\n",
        "</div> \n",
        "\n",
        "# Introduction to NumPy\n",
        "by Maxwell Margenot\n",
        "\n",
        "Part of the Quantopian Lecture Series:\n",
        "\n",
        "* [www.quantopian.com/lectures](https://www.quantopian.com/lectures)\n",
        "* [github.com/quantopian/research_public](https://github.com/quantopian/research_public)\n",
        "\n",
        "Notebook released under the Creative Commons Attribution 4.0 License."
      ]
    },
    {
      "cell_type": "markdown",
      "metadata": {
        "id": "IAK83zxDHBG5"
      },
      "source": [
        "NumPy is an incredibly powerful package in Python that is ubiquitous throughout the Quantopian platform. It has strong integration with Pandas, another tool we will be covering in the lecture series. NumPy adds support for multi-dimensional arrays and mathematical functions that allow you to easily perform linear algebra calculations. This lecture will be a collection of linear algebra examples computed using NumPy."
      ]
    },
    {
      "cell_type": "code",
      "execution_count": null,
      "metadata": {
        "collapsed": true,
        "id": "dM_wDhYaHBG6"
      },
      "outputs": [],
      "source": [
        "import numpy as np\n",
        "import matplotlib.pyplot as plt"
      ]
    },
    {
      "cell_type": "markdown",
      "metadata": {
        "id": "WRqhcyh8HBG7"
      },
      "source": [
        "### Basic NumPy arrays"
      ]
    },
    {
      "cell_type": "markdown",
      "metadata": {
        "id": "RwBafjlxHBG7"
      },
      "source": [
        "The most basic way that we could make use of NumPy in finance is calculating the mean return of a portfolio. Say that we have a list containing the historical return of several stocks."
      ]
    },
    {
      "cell_type": "code",
      "execution_count": null,
      "metadata": {
        "collapsed": true,
        "id": "FUQksY7SHBG7"
      },
      "outputs": [],
      "source": [
        "stock_list = [3.5, 5, 2, 8, 4.2]"
      ]
    },
    {
      "cell_type": "markdown",
      "metadata": {
        "id": "C18w8L6DHBG8"
      },
      "source": [
        "We can make an array by calling a function on the list:"
      ]
    },
    {
      "cell_type": "code",
      "execution_count": null,
      "metadata": {
        "id": "Mr7MYGIeHBG8"
      },
      "outputs": [],
      "source": [
        "returns = np.array(stock_list)\n",
        "print returns, type(returns)"
      ]
    },
    {
      "cell_type": "markdown",
      "metadata": {
        "id": "1HqIY_bRHBG-"
      },
      "source": [
        "You'll notice that the type of our array is 'ndarray', not just 'array'. This is because NumPy arrays can be created with multiple dimensions. If we pass np.array() a list of lists, it will create a 2-dimensional array. If we pass a list of lists of lists, it will create a 3-dimensional array, and so on and so forth."
      ]
    },
    {
      "cell_type": "code",
      "execution_count": null,
      "metadata": {
        "id": "SkVTB_FhHBG-"
      },
      "outputs": [],
      "source": [
        "A = np.array([[1, 2], [3, 4]])\n",
        "print A, type(A)"
      ]
    },
    {
      "cell_type": "markdown",
      "metadata": {
        "id": "4VKkEby_HBG_"
      },
      "source": [
        "We can access the dimensions of an array by looking at its `shape` member variable."
      ]
    },
    {
      "cell_type": "code",
      "execution_count": null,
      "metadata": {
        "id": "7LTqF61fHBG_"
      },
      "outputs": [],
      "source": [
        "print A.shape"
      ]
    },
    {
      "cell_type": "markdown",
      "metadata": {
        "id": "MZ4c2ugEHBG_"
      },
      "source": [
        "Arrays are indexed in much the same way as lists in Python. Elements of a list begin indexing from $0$ and end at $n - 1$, where $n$ is the length of the array."
      ]
    },
    {
      "cell_type": "code",
      "execution_count": null,
      "metadata": {
        "id": "dGmwVWJ7HBHA"
      },
      "outputs": [],
      "source": [
        "print returns[0], returns[len(returns) - 1]"
      ]
    },
    {
      "cell_type": "markdown",
      "metadata": {
        "id": "FQjELc7_HBHA"
      },
      "source": [
        "We can take a slice of an array using a colon, just like in a list."
      ]
    },
    {
      "cell_type": "code",
      "execution_count": null,
      "metadata": {
        "id": "htvKur0-HBHA"
      },
      "outputs": [],
      "source": [
        "print returns[1:3]"
      ]
    },
    {
      "cell_type": "markdown",
      "metadata": {
        "id": "-H58RLTUHBHB"
      },
      "source": [
        "A slice of an array, like in a list, will select a group of elements in the array starting from the first element indicated and going up to (but not including) the last element indicated.\n",
        "\n",
        "In the case of multidimensional arrays, many of the same conventions with slicing and indexing hold. We can access the first column of a 2-dimensional array like so:"
      ]
    },
    {
      "cell_type": "code",
      "execution_count": null,
      "metadata": {
        "id": "yYijy0W9HBHB"
      },
      "outputs": [],
      "source": [
        "print A[:, 0]"
      ]
    },
    {
      "cell_type": "markdown",
      "metadata": {
        "id": "xhQVM7NnHBHB"
      },
      "source": [
        "And the first row of a 2-dimensional array like so:"
      ]
    },
    {
      "cell_type": "code",
      "execution_count": null,
      "metadata": {
        "id": "wkSgQPPwHBHC"
      },
      "outputs": [],
      "source": [
        "print A[0, :]"
      ]
    },
    {
      "cell_type": "markdown",
      "metadata": {
        "id": "SDTAtESGHBHC"
      },
      "source": [
        "Notice that each slice of the array returns yet another array!"
      ]
    },
    {
      "cell_type": "code",
      "execution_count": null,
      "metadata": {
        "id": "i-b_etOwHBHC"
      },
      "outputs": [],
      "source": [
        "print type(A[0,:])"
      ]
    },
    {
      "cell_type": "markdown",
      "metadata": {
        "id": "nU9uyhBoHBHC"
      },
      "source": [
        "Passing only one index to a 2-dimensional array will result in returning the row with the given index as well, providing us with another way to access individual rows."
      ]
    },
    {
      "cell_type": "code",
      "execution_count": null,
      "metadata": {
        "id": "3TKqNl1HHBHD"
      },
      "outputs": [],
      "source": [
        "print A[0]"
      ]
    },
    {
      "cell_type": "markdown",
      "metadata": {
        "id": "YU3JrOlTHBHD"
      },
      "source": [
        "Accessing the index of an individual element will return only the element."
      ]
    },
    {
      "cell_type": "code",
      "execution_count": null,
      "metadata": {
        "id": "wRAqWXdMHBHD"
      },
      "outputs": [],
      "source": [
        "print A[1, 1]"
      ]
    },
    {
      "cell_type": "markdown",
      "metadata": {
        "id": "xFQO6Fs6HBHD"
      },
      "source": [
        "#### Array functions\n",
        "\n",
        "Functions built into NumPy can be easily called on arrays. Most functions are applied to an array element-wise (as scalar multiplication is). For example, if we call `log()` on an array, the logarithm will be taken of each element."
      ]
    },
    {
      "cell_type": "code",
      "execution_count": null,
      "metadata": {
        "id": "DjSH9iNsHBHE"
      },
      "outputs": [],
      "source": [
        "print np.log(returns)"
      ]
    },
    {
      "cell_type": "markdown",
      "metadata": {
        "id": "_V-GzEzEHBHE"
      },
      "source": [
        "Some functions return a single value. This is because they treat the array as a collection (similar to a list), performing the designated function. For example, the `mean()` function will do exactly what you expect, calculating the mean of an array."
      ]
    },
    {
      "cell_type": "code",
      "execution_count": null,
      "metadata": {
        "id": "R282crA5HBHE"
      },
      "outputs": [],
      "source": [
        "print np.mean(returns)"
      ]
    },
    {
      "cell_type": "markdown",
      "metadata": {
        "id": "OxaJ11yqHBHE"
      },
      "source": [
        "Or the `max()` function will return the maximum element of an array."
      ]
    },
    {
      "cell_type": "code",
      "execution_count": null,
      "metadata": {
        "id": "Eh2nhunpHBHE"
      },
      "outputs": [],
      "source": [
        "print np.max(returns)"
      ]
    },
    {
      "cell_type": "markdown",
      "metadata": {
        "id": "eH1KYrrWHBHF"
      },
      "source": [
        "For further reading on the universal functions in NumPy, check out the [documentation](https://docs.scipy.org/doc/numpy/user/quickstart.html#universal-functions)."
      ]
    },
    {
      "cell_type": "markdown",
      "metadata": {
        "id": "oEcjMM3IHBHF"
      },
      "source": [
        "### Return to the returns\n",
        "\n",
        "Now let's modify our returns array with scalar values. If we add a scalar value to an array it will be added to every element of the array. If we multiply an array by a scalar value it will be multiplied against every element of the array. If we do both, both will happen!"
      ]
    },
    {
      "cell_type": "code",
      "execution_count": null,
      "metadata": {
        "id": "Jv4n194OHBHF",
        "scrolled": false
      },
      "outputs": [],
      "source": [
        "returns*2 + 5"
      ]
    },
    {
      "cell_type": "markdown",
      "metadata": {
        "id": "M73hAzi8HBHF"
      },
      "source": [
        "NumPy also has functions specifically built to operate on arrays. Let's take the mean and standard deviation of this group of returns."
      ]
    },
    {
      "cell_type": "code",
      "execution_count": null,
      "metadata": {
        "id": "fw5ln9DRHBHF"
      },
      "outputs": [],
      "source": [
        "print \"Mean: \", np.mean(returns), \"Std Dev: \", np.std(returns)"
      ]
    },
    {
      "cell_type": "markdown",
      "metadata": {
        "id": "3_BKgW1pHBHF"
      },
      "source": [
        "Let's simulate a universe of stocks using NumPy's functions. First we need to create the arrays to hold the assets and returns that we will use to build a portfolio. This is because arrays are created with a fixed size. Their dimensions can't be changed without creating a new array."
      ]
    },
    {
      "cell_type": "code",
      "execution_count": null,
      "metadata": {
        "collapsed": true,
        "id": "EtDKFh5-HBHG"
      },
      "outputs": [],
      "source": [
        "N = 10\n",
        "assets = np.zeros((N, 100))\n",
        "returns = np.zeros((N, 100))"
      ]
    },
    {
      "cell_type": "markdown",
      "metadata": {
        "id": "GVcY465tHBHG"
      },
      "source": [
        "This function, `zeroes()`, creates a NumPy array with the given dimensions that is entirely filled in with $0$. We can pass a single value or a tuple of as many dimensions as we like. Passing in the tuple `(N, 100)`, will return a two-dimensional array with $N$ rows and $100$ columns. Our result is a $N \\times 100$ array.\n",
        "\n",
        "Now we will simulate a base asset. We want the universe of stocks to be correlated with each other so we will use this initial value to generate the others."
      ]
    },
    {
      "cell_type": "code",
      "execution_count": null,
      "metadata": {
        "id": "Qipf5egbHBHG"
      },
      "outputs": [],
      "source": [
        "R_1 = np.random.normal(1.01, 0.03, 100)\n",
        "returns[0] = R_1\n",
        "assets[0] = np.cumprod(R_1)"
      ]
    },
    {
      "cell_type": "markdown",
      "metadata": {
        "id": "ToLVQXotHBHG"
      },
      "source": [
        "The `random` module in NumPy is exceedingly useful. It contains methods for sampling from many different probability distributions, some of which are covered in the [random variables lecture](https://www.quantopian.com/lectures/random-variables) in the Quantopian lecture series. In this case we draw $N = 100$ random samples from a normal distribution with mean $1.01$ and standard deviation $0.03$. We treat these as the daily percentage returns of our asset and take the cumulative product of these samples to get the current price.\n",
        "\n",
        "The way we have generated our universe, the the individual $R_i$ vectors are each 1-dimensional arrays and the `returns` and `assets` variables contain 2-dimensional arrays. Above, we set the initial row of both `returns` and `assets` to be the first $R_i$ vector and the cumulative asset price based on those returns, respectively.\n",
        "\n",
        "We will now use this base asset to create a few other random assets that are correlated with it."
      ]
    },
    {
      "cell_type": "code",
      "execution_count": null,
      "metadata": {
        "id": "LgPyF_6kHBHG"
      },
      "outputs": [],
      "source": [
        "# Generate assets that are correlated with R_1\n",
        "for i in range(1, N):\n",
        "    R_i = R_1 + np.random.normal(0.001, 0.02, 100)\n",
        "    returns[i] = R_i # Set each row of returns equal to the new R_i array\n",
        "    assets[i] = np.cumprod(R_i)\n",
        "    \n",
        "mean_returns = [(np.mean(R) - 1)*100 for R in returns]\n",
        "return_volatilities = [np.std(R) for R in returns]"
      ]
    },
    {
      "cell_type": "markdown",
      "metadata": {
        "id": "tv3LuKy-HBHG"
      },
      "source": [
        "Here we generate the remaining $N - 1$ securities that we want in our universe by adding random noise to $R_1$. This ensures that our $N - 1$ other assets will be correlated with the base asset because they have some underlying information that is shared.\n",
        "\n",
        "Let's plot what the mean return of each asset looks like:"
      ]
    },
    {
      "cell_type": "code",
      "execution_count": null,
      "metadata": {
        "id": "mJReUq0aHBHH",
        "scrolled": false
      },
      "outputs": [],
      "source": [
        "plt.bar(np.arange(len(mean_returns)), mean_returns)\n",
        "plt.xlabel('Stock')\n",
        "plt.ylabel('Returns')\n",
        "plt.title('Returns for {0} Random Assets'.format(N));"
      ]
    },
    {
      "cell_type": "markdown",
      "metadata": {
        "id": "OY0_iqBMHBHH"
      },
      "source": [
        "### Calculating Expected Return\n",
        "\n",
        "So we have a universe of stocks. Great! Now let's put them together in a portfolio and calculate its expected return and risk.\n",
        "\n",
        "We will start off by generating $N$ random weights for each asset in our portfolio."
      ]
    },
    {
      "cell_type": "code",
      "execution_count": null,
      "metadata": {
        "id": "9YjglefxHBHH"
      },
      "outputs": [],
      "source": [
        "weights = np.random.uniform(0, 1, N)\n",
        "weights = weights/np.sum(weights)"
      ]
    },
    {
      "cell_type": "markdown",
      "metadata": {
        "id": "CnycaAodHBHH"
      },
      "source": [
        "We have to rescale the weights so that they all add up to $1$. We do this by scaling the weights vector by the sum total of all the weights. This step ensures that we will be using $100\\%$ of the portfolio's cash.\n",
        "\n",
        "To calculate the mean return of the portfolio, we have to scale each asset's return by its designated weight. We can pull each element of each array and multiply them individually, but it's quicker to use NumPy's linear algebra methods. The function that we want is `dot()`. This will calculate the dot product between two arrays for us. So if $v = \\left[ 1, 2, 3 \\right]$ and $w = \\left[4, 5, 6 \\right]$, then:\n",
        "\n",
        "$$ v \\cdot w = 1 \\times 4 + 2 \\times 5 + 3 \\times 6 $$\n",
        "\n",
        "For a one-dimensional vector, the dot product will multiply each element pointwise and add all the products together! In our case, we have a vector of weights, $\\omega = \\left[ \\omega_1, \\omega_2, \\dots \\omega_N\\right]$ and a vector of returns, $\\mu = \\left[ \\mu_1, \\mu_2, \\dots, \\mu_N\\right]$. If we take the dot product of these two we will get:\n",
        "\n",
        "$$ \\omega \\cdot \\mu = \\omega_1\\mu_1 + \\omega_2\\mu_2 + \\dots + \\omega_N\\mu_N = \\mu_P $$\n",
        "\n",
        "This yields the sum of all the asset returns scaled by their respective weights. This the the portfolio's overall expected return!"
      ]
    },
    {
      "cell_type": "code",
      "execution_count": null,
      "metadata": {
        "id": "QfJNTq81HBHH"
      },
      "outputs": [],
      "source": [
        "p_returns = np.dot(weights, mean_returns)\n",
        "print \"Expected return of the portfolio: \", p_returns"
      ]
    },
    {
      "cell_type": "markdown",
      "metadata": {
        "id": "ehttm4bbHBHH"
      },
      "source": [
        "Calculating the mean return is fairly intuitive and does not require too much explanation of linear algebra. However, calculating the variance of our portfolio requires a bit more background."
      ]
    },
    {
      "cell_type": "markdown",
      "metadata": {
        "id": "TJ8BiACSHBHI"
      },
      "source": [
        "#### Beware of NaN values\n",
        "\n",
        "Most of the time, all of these calculations will work without an issue. However, when working with real data we run the risk of having `nan` values in our arrays. This is NumPy's way of saying that the data there is missing or doesn't exist. These `nan` values can lead to errors in mathematical calculations so it is important to be aware of whether your array contains `nan` values and to know how to drop them."
      ]
    },
    {
      "cell_type": "code",
      "execution_count": null,
      "metadata": {
        "id": "FqxKQxBxHBHK"
      },
      "outputs": [],
      "source": [
        "v = np.array([1, 2, np.nan, 4, 5])\n",
        "print v"
      ]
    },
    {
      "cell_type": "markdown",
      "metadata": {
        "id": "jovsVDZhHBHK"
      },
      "source": [
        "Let's see what happens when we try to take the mean of this array."
      ]
    },
    {
      "cell_type": "code",
      "execution_count": null,
      "metadata": {
        "id": "ZpyttI4aHBHK"
      },
      "outputs": [],
      "source": [
        "print np.mean(v)"
      ]
    },
    {
      "cell_type": "markdown",
      "metadata": {
        "id": "LalxZM_tHBHK"
      },
      "source": [
        "Clearly, `nan` values can have a large impact on our calculations. Fortunately, we can check for `nan` values with the `isnan()` function."
      ]
    },
    {
      "cell_type": "code",
      "execution_count": null,
      "metadata": {
        "id": "GtE-Kib4HBHL"
      },
      "outputs": [],
      "source": [
        "np.isnan(v)"
      ]
    },
    {
      "cell_type": "markdown",
      "metadata": {
        "id": "06Lh33QAHBHL"
      },
      "source": [
        "Calling `isnan()` on an array will call the function on each value of the array, returning a value of `True` if the element is `nan` and `False` if the element is valid. Now, knowing whether your array contains `nan` values is all well and good, but how do we remove `nan`s? Handily enough, NumPy arrays can be indexed by boolean values (`True` or `False`). If we use a boolean array to index an array, we will remove all values of the array that register as `False` under the condition. We use the `isnan()` function in create a boolean array, assigning a `True` value to everything that is *not* `nan` and a `False` to the `nan`s and we use that to index the same array."
      ]
    },
    {
      "cell_type": "code",
      "execution_count": null,
      "metadata": {
        "id": "RMHjCUzxHBHL"
      },
      "outputs": [],
      "source": [
        "ix = ~np.isnan(v) # the ~ indicates a logical not, inverting the bools\n",
        "print v[ix] # We can also just write v = v[~np.isnan(v)]"
      ]
    },
    {
      "cell_type": "code",
      "execution_count": null,
      "metadata": {
        "id": "RKoso7f-HBHL"
      },
      "outputs": [],
      "source": [
        "print np.mean(v[ix])"
      ]
    },
    {
      "cell_type": "markdown",
      "metadata": {
        "id": "S5KkmW4lHBHL"
      },
      "source": [
        "There are a few shortcuts to this process in the form of NumPy functions specifically built to handle them, such as `nanmean()`."
      ]
    },
    {
      "cell_type": "code",
      "execution_count": null,
      "metadata": {
        "id": "th_l3CojHBHL"
      },
      "outputs": [],
      "source": [
        "print np.nanmean(v)"
      ]
    },
    {
      "cell_type": "markdown",
      "metadata": {
        "id": "CYSm8JaqHBHM"
      },
      "source": [
        "The `nanmean()` function simply calculates the mean of the array as if there were no `nan` values at all! There are a few more of these functions, so feel free to read more about them in the [documentation](https://docs.scipy.org/doc/numpy/user/index.html). These indeterminate values are more an issue with data than linear algebra itself so it is helpful that there are ways to handle them."
      ]
    },
    {
      "cell_type": "markdown",
      "metadata": {
        "id": "w6HW_O7IHBHM"
      },
      "source": [
        "### Conclusion\n",
        "\n",
        "Linear algebra is pervasive in finance and in general. For example, the calculation of *optimal* weights according to modern portfolio theory is done using linear algebra techniques. The arrays and functions in NumPy allow us to handle these calculations in an intuitive way. For a quick intro to linear algebra and how to use NumPy to do more significant matrix calculations, proceed to the next section."
      ]
    },
    {
      "cell_type": "markdown",
      "metadata": {
        "id": "S3RL2XaeHBHM"
      },
      "source": [
        "## A brief foray into linear algebra\n",
        "\n",
        "Let's start with a basic overview of some linear algebra. Linear algebra comes down to the multiplication and composition of scalar and matrix values. A scalar value is just a real number that we multiply against an array. When we scale a matrix or array using a scalar, we multiply each individual element of that matrix or array by the scalar.\n",
        "\n",
        "A matrix is a collection of values, typically represented by an $m \\times n$ grid, where $m$ is the number of rows and $n$ is the number of columns. The edge lengths $m$ and $n$ do not necessarily have to be different. If we have $m = n$, we call this a square matrix. A particularly interesting case of a matrix is when $m = 1$ or $n = 1$. In this case we have a special case of a matrix that we call a vector. While there is a matrix object in NumPy we will be doing everything using NumPy arrays because they can have dimensions greater than $2$. For the purpose of this section, we will be using matrix and array interchangeably.\n",
        "\n",
        "We can express the matrix equation as:\n",
        "\n",
        "$$ y = A\\cdot x $$\n",
        "\n",
        "Where $A$ is an $m \\times n$ matrix, $y$ is a $m \\times 1$ vector, and $x$ is a $n \\times 1$ vector. On the right-hand side of the equation we are multiplying a matrix by a vector. This requires a little bit more clarification, lest we think that we can go about multiplying any matrices by any other matrices.\n",
        "\n",
        "#### Matrix multiplication\n",
        "\n",
        "With matrix multiplication, the order in which the matrices are multiplied matters. Multiplying a matrix on the left side by another matrix may be just fine, but multiplying on the right may be undefined."
      ]
    },
    {
      "cell_type": "code",
      "execution_count": null,
      "metadata": {
        "collapsed": true,
        "id": "_mdCveHyHBHM"
      },
      "outputs": [],
      "source": [
        "A = np.array([\n",
        "        [1, 2, 3, 12, 6],\n",
        "        [4, 5, 6, 15, 20],\n",
        "        [7, 8, 9, 10, 10]        \n",
        "    ])\n",
        "B = np.array([\n",
        "        [4, 4, 2],\n",
        "        [2, 3, 1],\n",
        "        [6, 5, 8],\n",
        "        [9, 9, 9]\n",
        "    ])"
      ]
    },
    {
      "cell_type": "markdown",
      "metadata": {
        "id": "ucJsqPTgHBHM"
      },
      "source": [
        "Notice that the above-defined matrices, $A$ and $B$, have different dimensions. $A$ is $3 \\times 5$ and $B$ is $4 \\times 3$. The general rule of what can and cannot be multiplied in which order is based on the dimensions of the matrices. Specifically, the number of columns in the matrix on the left must be equal to the number of rows in the matrix on the right. In super informal terms, let's say that we have an $m \\times n$ matrix and a $p \\times q$ matrix. If we multiply the first by the second on the right, we get the following:\n",
        "\n",
        "$$ (m \\times n) \\cdot (p \\times q) = (m \\times q) $$\n",
        "\n",
        "So the resultant product has the same number of rows as the left matrix and the same number of columns as the right matrix. This limitation of matrix multiplication with regards to dimensions is important to keep track of when writing code. To demonstrate this, we use the `dot()` function to multiply our matrices below:"
      ]
    },
    {
      "cell_type": "code",
      "execution_count": null,
      "metadata": {
        "id": "olOhfTedHBHM"
      },
      "outputs": [],
      "source": [
        "print np.dot(A, B)"
      ]
    },
    {
      "cell_type": "markdown",
      "metadata": {
        "id": "tAXRuTTsHBHN"
      },
      "source": [
        "These results make sense in accordance with our rule. Multiplying a $3 \\times 5$ matrix on the right by a $4 \\times 3$ matrix results in an error while multiplying a $4 \\times 3$ matrix on the right by a $3 \\times 5$ matrix results in a $4 \\times 5$ matrix."
      ]
    },
    {
      "cell_type": "code",
      "execution_count": null,
      "metadata": {
        "id": "fLaCWrVeHBHN"
      },
      "outputs": [],
      "source": [
        "print np.dot(B, A)"
      ]
    },
    {
      "cell_type": "markdown",
      "metadata": {
        "id": "wzxdWcAmHBHN"
      },
      "source": [
        "### Portfolio Variance\n",
        "\n",
        "Let's return to our portfolio example from before. We calculated the expected return of the portfolio, but how do we calculate the variance? We start by trying to evaluate the portfolio as a sum of each individual asset, scaled by it's weight.\n",
        "\n",
        "$$ VAR[P] = VAR[\\omega_1 S_1 + \\omega_2 S_2 + \\cdots + \\omega_N S_N] $$\n",
        "\n",
        "Where $S_0, \\cdots, S_N$ are the assets contained within our universe. If all of our assets were independent of each other, we could simply evaluate this as\n",
        "\n",
        "$$ VAR[P] = VAR[\\omega_1 S_1] + VAR[\\omega_2 S_2] + \\cdots + VAR[\\omega_N S_N] = \\omega_1^2\\sigma_1^2 + \\omega_2^2\\sigma_2^2 + \\cdots + \\omega_N^2\\sigma_N^2 $$\n",
        "\n",
        "However, all of our assets depend on each other by their construction. They are all in some way related to our base asset and therefore each other. We thus have to calculate the variance of the portfolio by including the individual pairwise covariances of each asset. Our formula for the variance of the portfolio:\n",
        "\n",
        "$$ VAR[P] = \\sigma_P^2 = \\sum_i \\omega_i^2\\sigma_i^2 + \\sum_i\\sum_{i\\neq j} \\omega_i\\omega_j\\sigma_i\\sigma_j\\rho_{i, j}, \\ i, j \\in \\lbrace 1, 2, \\cdots, N \\rbrace $$\n",
        "\n",
        "Where $\\rho_{i,j}$ is the correlation between $S_i$ and $S_j$, $\\rho_{i, j} = \\frac{COV[S_i, S_j]}{\\sigma_i\\sigma_j}$. This seems exceedingly complicated, but we can easily handle all of this using NumPy arrays. First, we calculate the covariance matrix that relates all the individual stocks in our universe."
      ]
    },
    {
      "cell_type": "code",
      "execution_count": null,
      "metadata": {
        "id": "ij-oswm1HBHN"
      },
      "outputs": [],
      "source": [
        "cov_mat = np.cov(returns)\n",
        "print cov_mat"
      ]
    },
    {
      "cell_type": "markdown",
      "metadata": {
        "id": "7KplrG4QHBHN"
      },
      "source": [
        "This array is not formatted particularly nicely, but a covariance matrix is a very important concept. The covariance matrix is of the form:\n",
        "\n",
        "$$ \\left[\\begin{matrix}\n",
        "VAR[S_1] & COV[S_1, S_2] & \\cdots & COV[S_1, S_N] \\\\\n",
        "COV[S_2, S_1] & VAR[S_2] & \\cdots & COV[S_2, S_N] \\\\\n",
        "\\vdots & \\vdots & \\ddots & \\vdots \\\\\n",
        "COV[S_N, S_1] & COV[S_N, S_2] & \\cdots & VAR[S_N]\n",
        "\\end{matrix}\\right] $$\n",
        "\n",
        "So each diagonal entry is the variance of that asset at that index and each off-diagonal holds the covariance of two assets indexed by the column and row number. What is important is that once we have the covariance matrix we are able to do some very quick linear algebra to calculate the variance of the overall portfolio. We can represent the variance of the portfolio in array form as:\n",
        "\n",
        "$$ \\sigma_p^2 = \\omega \\ C \\ \\omega^\\intercal$$\n",
        "\n",
        "Where $C$ is the covariance matrix of all the assets and $\\omega$ is the array containing the weights of each individual asset. The superscript $\\intercal$ on the second $\\omega$ listed above denotes the **transpose** of $\\omega$. For a reference on the evaluation of the variance of a portfolio as a matrix equation, please see the Wikipedia article on [modern portfolio theory](https://en.wikipedia.org/wiki/Modern_portfolio_theory).\n",
        "\n",
        "The transpose of an array is what you get when you switch the rows and columns of an array. This has the effect of reflecting an array across what you might imagine as a diagonal. For example, take our array $A$ from before:"
      ]
    },
    {
      "cell_type": "code",
      "execution_count": null,
      "metadata": {
        "id": "kDlUVI4BHBHN"
      },
      "outputs": [],
      "source": [
        "print A"
      ]
    },
    {
      "cell_type": "markdown",
      "metadata": {
        "id": "w8Is5m9VHBHO"
      },
      "source": [
        "The transpose looks like a mirror image of the same array."
      ]
    },
    {
      "cell_type": "code",
      "execution_count": null,
      "metadata": {
        "id": "Xip_lJLtHBHO"
      },
      "outputs": [],
      "source": [
        "print np.transpose(A)"
      ]
    },
    {
      "cell_type": "markdown",
      "metadata": {
        "id": "XIvEKOu-HBHO"
      },
      "source": [
        "But $\\omega$ here is a 1-dimensional array, a vector! It makes perfect to take the transpose of $A$, a $3 \\times 5$ array, as the output will be a $5 \\times 3$ array, but a 1-dimensional array is not quite as intuitive. A typical 1-dimensional array can be thought of as a $1 \\times n$ horizontal vector. Thus, taking the tranpose of this array essentially means changing it into a $n \\times 1$ vertical vector. This makes sense because 1-dimensional arrays are still arrays and any multiplication done between 1-dimensional and higher dimensional arrays must keep in line with our dimensionality issue of matrix multiplication.\n",
        "\n",
        "To make a long story short, we think of $\\omega$ as $1 \\times N$ since we have $N$ securities. This makes it so that $\\omega^\\intercal$ is $N \\times 1$. Again, our covariance matrix is $N \\times N$. So the overall multiplication works out like so, in informal terms:\n",
        "\n",
        "$$ \\text{Dimensions}(\\sigma_p^2) = \\text{Dimensions}(\\omega C \\omega^\\intercal) = (1 \\times N)\\cdot (N \\times N)\\cdot (N \\times 1) = (1 \\times 1)$$\n",
        "\n",
        "Multiplying the covariance matrix on the left by the plain horizontal vector and on the right by that vector's transpose results in the calculation of a single scalar ($1 \\times 1$) value, our portfolio's variance.\n",
        "\n",
        "So knowing this, let's proceed and calculate the portfolio variance! We can easily calculate the product of these arrays by using `dot()` for matrix multiplication, though this time we have to do it twice."
      ]
    },
    {
      "cell_type": "code",
      "execution_count": null,
      "metadata": {
        "id": "VE5Ospd4HBHO",
        "scrolled": false
      },
      "outputs": [],
      "source": [
        "# Calculating the portfolio volatility\n",
        "var_p = np.dot(np.dot(weights, cov_mat), weights.T)\n",
        "vol_p = np.sqrt(var_p)\n",
        "print \"Portfolio volatility: \", vol_p"
      ]
    },
    {
      "cell_type": "markdown",
      "metadata": {
        "id": "DO5FGgTXHBHO"
      },
      "source": [
        "To confirm this calculation, let's simply evaluate the volatility of the portfolio using only NumPy functions."
      ]
    },
    {
      "cell_type": "code",
      "execution_count": null,
      "metadata": {
        "id": "UrBAgZKUHBHO"
      },
      "outputs": [],
      "source": [
        "# Confirming calculation\n",
        "vol_p_alt = np.sqrt(np.var(np.dot(weights, returns), ddof=1))\n",
        "print \"Portfolio volatility: \", vol_p_alt"
      ]
    },
    {
      "cell_type": "markdown",
      "metadata": {
        "id": "B5ysQYmaHBHP"
      },
      "source": [
        "The `ddof` parameter is a simple integer input that tells the function the number of degrees of freedom to take into account. This is a more statistical concept, but what this tells us that our matrix calculation is correct!\n",
        "\n",
        "A lot of this might not make sense at first glance. It helps to go back and forth between the theory and the code representations until you have a better grasp of the mathematics involved. It is definitely not necessary to be an expert on linear algebra and on matrix operations, but linear algebra can help to streamline the process of working with large amounts of data. For further reading on NumPy, check out the [documentation](https://docs.scipy.org/doc/numpy/user/index.html)."
      ]
    },
    {
      "cell_type": "markdown",
      "metadata": {
        "id": "bgFMYg12HBHP"
      },
      "source": [
        "*This presentation is for informational purposes only and does not constitute an offer to sell, a solicitation to buy, or a recommendation for any security; nor does it constitute an offer to provide investment advisory or other services by Quantopian, Inc. (\"Quantopian\"). Nothing contained herein constitutes investment advice or offers any opinion with respect to the suitability of any security, and any views expressed herein should not be taken as advice to buy, sell, or hold any security or as an endorsement of any security or company.  In preparing the information contained herein, Quantopian, Inc. has not taken into account the investment needs, objectives, and financial circumstances of any particular investor. Any views expressed and data illustrated herein were prepared based upon information, believed to be reliable, available to Quantopian, Inc. at the time of publication. Quantopian makes no guarantees as to their accuracy or completeness. All information is subject to change and may quickly become unreliable for various reasons, including changes in market conditions or economic circumstances.*"
      ]
    },
    {
      "cell_type": "markdown",
      "metadata": {
        "id": "o9rN1ox_WUVf"
      },
      "source": [
        "<div align=\"center\">\n",
        "<img style=\"display: block; margin: auto;\" alt=\"photo\" src=\"https://upload.wikimedia.org/wikipedia/en/d/de/Quantopian_logo_2017.png\">\n",
        "</div> \n",
        "\n",
        "# Introduction to pandas\n",
        "by Maxwell Margenot\n",
        "\n",
        "Part of the Quantopian Lecture Series:\n",
        "\n",
        "* [www.quantopian.com/lectures](https://www.quantopian.com/lectures)\n",
        "* [github.com/quantopian/research_public](https://github.com/quantopian/research_public)\n",
        "\n"
      ]
    },
    {
      "cell_type": "markdown",
      "metadata": {
        "id": "M0wRHgUuWUVf"
      },
      "source": [
        "pandas is a Python library that provides a collection of powerful data structures to better help you manage data. In this lecture, we will cover how to use the `Series` and `DataFrame` objects to handle data. These objects have a strong integration with NumPy, covered elsewhere in the [lecture series](http://www.quantopian.com/lectures#Introduction-to-NumPy), allowing us to easily do the necessary statistical and mathematical calculations that we need for finance."
      ]
    },
    {
      "cell_type": "code",
      "execution_count": null,
      "metadata": {
        "id": "ddukGiVJWUVf"
      },
      "outputs": [],
      "source": [
        "import numpy as np\n",
        "import pandas as pd\n",
        "import matplotlib.pyplot as plt"
      ]
    },
    {
      "cell_type": "markdown",
      "metadata": {
        "id": "02jmKAoOWUVf"
      },
      "source": [
        "With pandas, it is easy to store, visualize, and perform calculations on your data. With only a few lines of code we can modify our data and present it in an easily-understandable way. Here we simulate some returns in NumPy, put them into a pandas `DataFrame`, and perform calculations to turn them into prices and plot them, all only using a few lines of code."
      ]
    },
    {
      "cell_type": "code",
      "execution_count": null,
      "metadata": {
        "id": "XKsuLeNHWUVf"
      },
      "outputs": [],
      "source": [
        "returns = pd.DataFrame(np.random.normal(1.0, 0.03, (100, 10)))\n",
        "prices = returns.cumprod()\n",
        "prices.plot()\n",
        "plt.title('Randomly-generated Prices')\n",
        "plt.xlabel('Time')\n",
        "plt.ylabel('Price')\n",
        "plt.legend(loc=0);"
      ]
    },
    {
      "cell_type": "markdown",
      "metadata": {
        "id": "BwPET7h_WUVf"
      },
      "source": [
        "So let's have a look at how we actually build up to this point!"
      ]
    },
    {
      "cell_type": "markdown",
      "metadata": {
        "id": "XAXDA7ePWUVg"
      },
      "source": [
        "## pandas Data Structures\n",
        "\n",
        "### `Series`\n",
        "\n",
        "A pandas `Series` is a 1-dimensional array with labels that can contain any data type. We primarily use them for handling time series data. Creating a `Series` is as easy as calling `pandas.Series()` on a Python list or NumPy array."
      ]
    },
    {
      "cell_type": "code",
      "execution_count": null,
      "metadata": {
        "id": "PmBPiEATWUVg"
      },
      "outputs": [],
      "source": [
        "s = pd.Series([1, 2, np.nan, 4, 5])\n",
        "print s"
      ]
    },
    {
      "cell_type": "markdown",
      "metadata": {
        "id": "SqNGFmp4WUVg"
      },
      "source": [
        "Every `Series` has a name. We can give the series a name as a parameter or we can define it afterwards by directly accessing the name attribute. In this case, we have given our time series no name so the attribute should be empty."
      ]
    },
    {
      "cell_type": "code",
      "execution_count": null,
      "metadata": {
        "id": "KPlx1cJBWUVg"
      },
      "outputs": [],
      "source": [
        "print s.name"
      ]
    },
    {
      "cell_type": "markdown",
      "metadata": {
        "id": "jYHbrf__WUVg"
      },
      "source": [
        "This name can be directly modified with no repercussions."
      ]
    },
    {
      "cell_type": "code",
      "execution_count": null,
      "metadata": {
        "id": "sQhOcL4QWUVg"
      },
      "outputs": [],
      "source": [
        "s.name = \"Toy Series\"\n",
        "print s.name"
      ]
    },
    {
      "cell_type": "markdown",
      "metadata": {
        "id": "ELgJbaEEWUVg"
      },
      "source": [
        "We call the collected axis labels of a `Series` its index. An index can either passed to a `Series` as a parameter or added later, similarly to its name. In the absence of an index, a `Series` will simply contain an index composed of integers, starting at $0$, as in the case of our \"Toy Series\"."
      ]
    },
    {
      "cell_type": "code",
      "execution_count": null,
      "metadata": {
        "id": "H5nmCkjeWUVg"
      },
      "outputs": [],
      "source": [
        "print s.index"
      ]
    },
    {
      "cell_type": "markdown",
      "metadata": {
        "id": "-MXhbtSJWUVg"
      },
      "source": [
        "pandas has a built-in function specifically for creating date indices, `date_range()`. We use the function here to create a new index for `s`."
      ]
    },
    {
      "cell_type": "code",
      "execution_count": null,
      "metadata": {
        "id": "m3XY7XukWUVg"
      },
      "outputs": [],
      "source": [
        "new_index = pd.date_range(\"2016-01-01\", periods=len(s), freq=\"D\")\n",
        "print new_index"
      ]
    },
    {
      "cell_type": "markdown",
      "metadata": {
        "id": "5BWf6tXXWUVg"
      },
      "source": [
        "An index must be exactly the same length as the `Series` itself. Each index must match one-to-one with each element of the `Series`. Once this is satisfied, we can directly modify the `Series` index, as with the name, to use our new and more informative index (relatively speaking)."
      ]
    },
    {
      "cell_type": "code",
      "execution_count": null,
      "metadata": {
        "id": "h7Ae0YWzWUVh"
      },
      "outputs": [],
      "source": [
        "s.index = new_index\n",
        "print s.index"
      ]
    },
    {
      "cell_type": "markdown",
      "metadata": {
        "id": "RPJzF0-nWUVh"
      },
      "source": [
        "The index of the `Series` is crucial for handling time series, which we will get into a little later."
      ]
    },
    {
      "cell_type": "markdown",
      "metadata": {
        "id": "iE5pucOdWUVh"
      },
      "source": [
        "#### Accessing `Series` Elements\n",
        "\n",
        "`Series` are typically accessed using the `iloc[]` and `loc[]` methods. We use `iloc[]` to access elements by integer index and we use `loc[]` to access the index of the Series."
      ]
    },
    {
      "cell_type": "code",
      "execution_count": null,
      "metadata": {
        "id": "3s5J5BccWUVh"
      },
      "outputs": [],
      "source": [
        "print \"First element of the series: \", s.iloc[0]\n",
        "print \"Last element of the series: \", s.iloc[len(s)-1]"
      ]
    },
    {
      "cell_type": "markdown",
      "metadata": {
        "id": "4BOdPHyUWUVh"
      },
      "source": [
        "We can slice a `Series` similarly to our favorite collections, Python lists and NumPy arrays. We use the colon operator to indicate the slice."
      ]
    },
    {
      "cell_type": "code",
      "execution_count": null,
      "metadata": {
        "id": "mmtAJ2c1WUVh"
      },
      "outputs": [],
      "source": [
        "s.iloc[:2]"
      ]
    },
    {
      "cell_type": "markdown",
      "metadata": {
        "id": "EWA1vFxfWUVh"
      },
      "source": [
        "When creating a slice, we have the options of specifying a beginning, an end, and a step. The slice will begin at the start index, and take steps of size `step` until it passes the end index, not including the end."
      ]
    },
    {
      "cell_type": "code",
      "execution_count": null,
      "metadata": {
        "id": "5J7S8NJ7WUVh"
      },
      "outputs": [],
      "source": [
        "start = 0\n",
        "end = len(s) - 1\n",
        "step = 1\n",
        "\n",
        "s.iloc[start:end:step]"
      ]
    },
    {
      "cell_type": "markdown",
      "metadata": {
        "id": "uWT9BL9GWUVh"
      },
      "source": [
        "We can even reverse a `Series` by specifying a negative step size. Similarly, we can index the start and end with a negative integer value."
      ]
    },
    {
      "cell_type": "code",
      "execution_count": null,
      "metadata": {
        "id": "Af7qDShLWUVh"
      },
      "outputs": [],
      "source": [
        "s.iloc[::-1]"
      ]
    },
    {
      "cell_type": "markdown",
      "metadata": {
        "id": "SWPyoy8mWUVi"
      },
      "source": [
        "This returns a slice of the series that starts from the second to last element and ends at the third to last element (because the fourth to last is not included, taking steps of size $1$)."
      ]
    },
    {
      "cell_type": "code",
      "execution_count": null,
      "metadata": {
        "id": "XA1wjMqDWUVi"
      },
      "outputs": [],
      "source": [
        "s.iloc[-2:-4:-1]"
      ]
    },
    {
      "cell_type": "markdown",
      "metadata": {
        "id": "ItqK6nNuWUVi"
      },
      "source": [
        "We can also access a series by using the values of its index. Since we indexed `s` with a collection of dates (`Timestamp` objects) we can look at the value contained in `s` for a particular date."
      ]
    },
    {
      "cell_type": "code",
      "execution_count": null,
      "metadata": {
        "id": "ZVLzaxcWWUVi"
      },
      "outputs": [],
      "source": [
        "s.loc['2016-01-01']"
      ]
    },
    {
      "cell_type": "markdown",
      "metadata": {
        "id": "RrZJp46RWUVi"
      },
      "source": [
        "Or even for a range of dates!"
      ]
    },
    {
      "cell_type": "code",
      "execution_count": null,
      "metadata": {
        "id": "j2CUPNuaWUVi"
      },
      "outputs": [],
      "source": [
        "s.loc['2016-01-02':'2016-01-04']"
      ]
    },
    {
      "cell_type": "markdown",
      "metadata": {
        "id": "yZP8Pze7WUVi"
      },
      "source": [
        "With `Series`, we *can* just use the brackets (`[]`) to access elements, but this is not best practice. The brackets are ambiguous because they can be used to access `Series` (and `DataFrames`) using both index and integer values and the results will change based on context (especially with `DataFrames`)."
      ]
    },
    {
      "cell_type": "markdown",
      "metadata": {
        "id": "-X9AIHIcWUVi"
      },
      "source": [
        "#### Boolean Indexing\n",
        "\n",
        "In addition to the above-mentioned access methods, you can filter `Series` using boolean arrays. `Series` are compatible with your standard comparators. Once compared with whatever condition you like, you get back yet another `Series`, this time filled with boolean values."
      ]
    },
    {
      "cell_type": "code",
      "execution_count": null,
      "metadata": {
        "id": "eGLYHgfxWUVi"
      },
      "outputs": [],
      "source": [
        "print s < 3"
      ]
    },
    {
      "cell_type": "markdown",
      "metadata": {
        "id": "IdFD3xhbWUVi"
      },
      "source": [
        "We can pass *this* `Series` back into the original `Series` to filter out only the elements for which our condition is `True`."
      ]
    },
    {
      "cell_type": "code",
      "execution_count": null,
      "metadata": {
        "id": "m90FHdY_WUVi"
      },
      "outputs": [],
      "source": [
        "print s.loc[s < 3]"
      ]
    },
    {
      "cell_type": "markdown",
      "metadata": {
        "id": "8xtHks1TWUVj"
      },
      "source": [
        "If we so desire, we can group multiple conditions together using the logical operators `&`, `|`, and `~` (and, or, and not, respectively)."
      ]
    },
    {
      "cell_type": "code",
      "execution_count": null,
      "metadata": {
        "id": "n3DOVLJ-WUVj"
      },
      "outputs": [],
      "source": [
        "print s.loc[(s < 3) & (s > 1)]"
      ]
    },
    {
      "cell_type": "markdown",
      "metadata": {
        "id": "Ogp1hxPoWUVj"
      },
      "source": [
        "This is very convenient for getting only elements of a `Series` that fulfill specific criteria that we need. It gets even more convenient when we are handling `DataFrames`."
      ]
    },
    {
      "cell_type": "markdown",
      "metadata": {
        "id": "dTxVocTZWUVj"
      },
      "source": [
        "#### Indexing and Time Series\n",
        "\n",
        "Since we use `Series` for handling time series, it's worth covering a little bit of how we handle the time component. For our purposes we use pandas `Timestamp` objects. Let's pull a full time series, complete with all the appropriate labels, by using our `get_pricing()` method. All data pulled with `get_pricing()` or using our Pipeline API will be in either `Series` or `DataFrame` format. We can modify this index however we like."
      ]
    },
    {
      "cell_type": "code",
      "execution_count": null,
      "metadata": {
        "id": "WYLYzqjHWUVj"
      },
      "outputs": [],
      "source": [
        "symbol = \"CMG\"\n",
        "start = \"2012-01-01\"\n",
        "end = \"2016-01-01\"\n",
        "prices = get_pricing(symbol, start_date=start, end_date=end, fields=\"price\")"
      ]
    },
    {
      "cell_type": "markdown",
      "metadata": {
        "id": "Fjp1HyOGWUVj"
      },
      "source": [
        "We can display the first few elements of our series by using the `head()` method and specifying the number of elements that we want. The analogous method for the last few elements is `tail()`."
      ]
    },
    {
      "cell_type": "code",
      "execution_count": null,
      "metadata": {
        "id": "Zuk7RuqIWUVj"
      },
      "outputs": [],
      "source": [
        "print \"\\n\", type(prices)\n",
        "prices.head(5) "
      ]
    },
    {
      "cell_type": "markdown",
      "metadata": {
        "id": "h6vrSq_RWUVj"
      },
      "source": [
        "As with our toy example, we can specify a name for our time series, if only to clarify the name the `get_pricing()` provides us."
      ]
    },
    {
      "cell_type": "code",
      "execution_count": null,
      "metadata": {
        "id": "8Yzdxg0-WUVj",
        "scrolled": true
      },
      "outputs": [],
      "source": [
        "print 'Old name: ', prices.name\n",
        "prices.name = symbol\n",
        "print 'New name: ', prices.name"
      ]
    },
    {
      "cell_type": "markdown",
      "metadata": {
        "id": "ML41OEGDWUVj"
      },
      "source": [
        "Let's take a closer look at the `DatetimeIndex` of our `prices` time series."
      ]
    },
    {
      "cell_type": "code",
      "execution_count": null,
      "metadata": {
        "id": "l1dp5TQvWUVj"
      },
      "outputs": [],
      "source": [
        "print prices.index"
      ]
    },
    {
      "cell_type": "markdown",
      "metadata": {
        "id": "gR4EHUb-WUVk"
      },
      "source": [
        "Notice that this `DatetimeIndex` has a collection of associated information. In particular it has an associated frequency (`freq`) and an associated timezone (`tz`). The frequency indicates whether the data is daily vs monthly vs some other period while the timezone indicates what locale this index is relative to. We can modify all of this extra information!\n",
        "\n",
        "If we resample our `Series`, we can adjust the frequency of our data. We currently have daily data (excluding weekends) because `get_pricing()` pulls only data from market days. Let's up-sample from this daily data to monthly data using the `resample()` method."
      ]
    },
    {
      "cell_type": "code",
      "execution_count": null,
      "metadata": {
        "id": "YSgbAvGFWUVk"
      },
      "outputs": [],
      "source": [
        "monthly_prices = prices.resample('M')\n",
        "monthly_prices.head(10)"
      ]
    },
    {
      "cell_type": "markdown",
      "metadata": {
        "id": "V9CkYiw_WUVk"
      },
      "source": [
        "The `resample()` method defaults to using the mean of the lower level data to create the higher level data. We can specify how else we might want the up-sampling to be calculated by specifying the `how` parameter."
      ]
    },
    {
      "cell_type": "code",
      "execution_count": null,
      "metadata": {
        "id": "2Epbp_7GWUVk"
      },
      "outputs": [],
      "source": [
        "monthly_prices_med = prices.resample('M', how='median')\n",
        "monthly_prices_med.head(10)"
      ]
    },
    {
      "cell_type": "markdown",
      "metadata": {
        "id": "7XmFb8kZWUVk"
      },
      "source": [
        "We can even specify how we want the calculation of the new period to be done. Here we create a `custom_resampler()` function that will return the first value of the period. In our specific case, this will return a `Series` where the monthly value is the first value of that month."
      ]
    },
    {
      "cell_type": "code",
      "execution_count": null,
      "metadata": {
        "id": "SQCKAbYLWUVk"
      },
      "outputs": [],
      "source": [
        "def custom_resampler(array_like):\n",
        "    \"\"\" Returns the first value of the period \"\"\"\n",
        "    return array_like[0]\n",
        "\n",
        "first_of_month_prices = prices.resample('M', how=custom_resampler)\n",
        "first_of_month_prices.head(10)"
      ]
    },
    {
      "cell_type": "markdown",
      "metadata": {
        "id": "gfY9Vey4WUVk"
      },
      "source": [
        "We can also adjust the timezone of a `Series` to adapt the time of real-world data. In our case, our time series is already localized to UTC, but let's say that we want to adjust the time to be 'US/Eastern'. In this case we use the `tz_convert()` method, since the time is already localized."
      ]
    },
    {
      "cell_type": "code",
      "execution_count": null,
      "metadata": {
        "id": "x4JvuF87WUVk"
      },
      "outputs": [],
      "source": [
        "eastern_prices = prices.tz_convert('US/Eastern')\n",
        "eastern_prices.head(10)"
      ]
    },
    {
      "cell_type": "markdown",
      "metadata": {
        "id": "-dkMrKm2WUVk"
      },
      "source": [
        "In addition to the capacity for timezone and frequency management, each time series has a built-in `reindex()` method that we can use to realign the existing data according to a new set of index labels. If data does not exist for a particular label, the data will be filled with a placeholder value. This is typically `np.nan`, though we can provide a fill method.\n",
        "\n",
        "The data that we `get_pricing()` only includes market days. But what if we want prices for every single calendar day? This will include holidays and weekends, times when you normally cannot trade equities.  First let's create a new `DatetimeIndex` that contains all that we want."
      ]
    },
    {
      "cell_type": "code",
      "execution_count": null,
      "metadata": {
        "id": "MGwqCzSYWUVk",
        "scrolled": false
      },
      "outputs": [],
      "source": [
        "calendar_dates = pd.date_range(start=start, end=end, freq='D', tz='UTC')\n",
        "print calendar_dates"
      ]
    },
    {
      "cell_type": "markdown",
      "metadata": {
        "id": "9Xj-S57GWUVl"
      },
      "source": [
        "Now let's use this new set of dates to reindex our time series. We tell the function that the fill method that we want is `ffill`. This denotes \"forward fill\". Any `NaN` values will be filled by the *last value* listed. So the price on the weekend or on a holiday will be listed as the price on the last market day that we know about."
      ]
    },
    {
      "cell_type": "code",
      "execution_count": null,
      "metadata": {
        "id": "8sIdKskWWUVl"
      },
      "outputs": [],
      "source": [
        "calendar_prices = prices.reindex(calendar_dates, method='ffill')\n",
        "calendar_prices.head(15)"
      ]
    },
    {
      "cell_type": "markdown",
      "metadata": {
        "id": "AylilkKPWUVl"
      },
      "source": [
        "You'll notice that we still have a couple of `NaN` values right at the beginning of our time series. This is because the first of January in 2012 was a Sunday and the second was a market holiday! Because these are the earliest data points and we don't have any information from before them, they cannot be forward-filled. We will take care of these `NaN` values in the next section, when we deal with missing data."
      ]
    },
    {
      "cell_type": "markdown",
      "metadata": {
        "id": "EORxqEobWUVl"
      },
      "source": [
        "#### Missing Data\n",
        "\n",
        "Whenever we deal with real data, there is a very real possibility of encountering missing values. Real data is riddled with holes and pandas provides us with ways to handle them. Sometimes resampling or reindexing can create `NaN` values. Fortunately, pandas provides us with ways to handle them. We have two primary means of coping with missing data. The first of these is filling in the missing data with  `fillna()`. For example, say that we want to fill in the missing days with the mean price of all days."
      ]
    },
    {
      "cell_type": "code",
      "execution_count": null,
      "metadata": {
        "id": "QYCzkCZWWUVl"
      },
      "outputs": [],
      "source": [
        "meanfilled_prices = calendar_prices.fillna(calendar_prices.mean())\n",
        "meanfilled_prices.head(10)"
      ]
    },
    {
      "cell_type": "markdown",
      "metadata": {
        "id": "JoqzI7YrWUVl"
      },
      "source": [
        "Using `fillna()` is fairly easy. It is just a matter of indicating the value that you want to fill the spaces with. Unfortunately, this particular case doesn't make a whole lot of sense, for reasons discussed in the [lecture on stationarity](https://www.quantopian.com/lectures/integration-cointegration-and-stationarity) in the Lecture series. We could fill them with with $0$, simply, but that's similarly uninformative.\n",
        "\n",
        "Rather than filling in specific values, we can use the `method` parameter, similarly to how the `reindex()` method works. We could use \"backward fill\", where `NaN`s are filled with the *next* filled value (instead of forward fill's *last* filled value) like so:"
      ]
    },
    {
      "cell_type": "code",
      "execution_count": null,
      "metadata": {
        "id": "8ZsxTRTRWUVl"
      },
      "outputs": [],
      "source": [
        "bfilled_prices = calendar_prices.fillna(method='bfill')\n",
        "bfilled_prices.head(10)"
      ]
    },
    {
      "cell_type": "markdown",
      "metadata": {
        "id": "G5DxvkPeWUVl"
      },
      "source": [
        "But again, this is a bad idea for the same reasons as the previous option. Both of these so-called solutions take into account *future data* that was not available at the time of the data points that we are trying to fill. In the case of using the mean or the median, these summary statistics are calculated by taking into account the entire time series. Backward filling is equivalent to saying that the price of a particular security today, right now, tomorrow's price. This also makes no sense. These two options are both examples of look-ahead bias, using data that would be unknown or unavailable at the desired time, and should be avoided.\n",
        "\n",
        "Our next option is significantly more appealing. We could simply drop the missing data using the `dropna()` method. This is much better alternative than filling `NaN` values in with arbitrary numbers."
      ]
    },
    {
      "cell_type": "code",
      "execution_count": null,
      "metadata": {
        "id": "Ib0eW-lVWUVl"
      },
      "outputs": [],
      "source": [
        "dropped_prices = calendar_prices.dropna()\n",
        "dropped_prices.head(10)"
      ]
    },
    {
      "cell_type": "markdown",
      "metadata": {
        "id": "bmusrf2NWUVl"
      },
      "source": [
        "Now our time series is cleaned for the calendar year, with all of our `NaN` values properly handled. It is time to talk about how to actually do time series analysis with pandas data structures."
      ]
    },
    {
      "cell_type": "markdown",
      "metadata": {
        "id": "zhMpxOZZWUVl"
      },
      "source": [
        "#### Time Series Analysis with pandas\n",
        "\n",
        "Let's do some basic time series analysis on our original prices. Each pandas `Series` has a built-in plotting method."
      ]
    },
    {
      "cell_type": "code",
      "execution_count": null,
      "metadata": {
        "id": "xfc8UOadWUVm"
      },
      "outputs": [],
      "source": [
        "prices.plot();\n",
        "# We still need to add the axis labels and title ourselves\n",
        "plt.title(symbol + \" Prices\")\n",
        "plt.ylabel(\"Price\")\n",
        "plt.xlabel(\"Date\");"
      ]
    },
    {
      "cell_type": "markdown",
      "metadata": {
        "id": "nwzNqnSKWUVm"
      },
      "source": [
        "As well as some built-in descriptive statistics. We can either calculate these individually or using the `describe()` method."
      ]
    },
    {
      "cell_type": "code",
      "execution_count": null,
      "metadata": {
        "id": "xrSqaET2WUVm"
      },
      "outputs": [],
      "source": [
        "print \"Mean: \", prices.mean()\n",
        "print \"Standard deviation: \", prices.std()"
      ]
    },
    {
      "cell_type": "code",
      "execution_count": null,
      "metadata": {
        "id": "bPTdDa6FWUVm"
      },
      "outputs": [],
      "source": [
        "print \"Summary Statistics\"\n",
        "print prices.describe()"
      ]
    },
    {
      "cell_type": "markdown",
      "metadata": {
        "id": "qT7Y2Y2HWUVm"
      },
      "source": [
        "We can easily modify `Series` with scalars using our basic mathematical operators."
      ]
    },
    {
      "cell_type": "code",
      "execution_count": null,
      "metadata": {
        "id": "5On0u0x4WUVm"
      },
      "outputs": [],
      "source": [
        "modified_prices = prices * 2 - 10\n",
        "modified_prices.head(5)"
      ]
    },
    {
      "cell_type": "markdown",
      "metadata": {
        "id": "L5q-mCShWUVm"
      },
      "source": [
        "And we can create linear combinations of `Series` themselves using the basic mathematical operators. pandas will group up matching indices and perform the calculations elementwise to produce a new `Series`. "
      ]
    },
    {
      "cell_type": "code",
      "execution_count": null,
      "metadata": {
        "id": "6-cdiZn8WUVm"
      },
      "outputs": [],
      "source": [
        "noisy_prices = prices + 5 * pd.Series(np.random.normal(0, 5, len(prices)), index=prices.index) + 20\n",
        "noisy_prices.head(5)"
      ]
    },
    {
      "cell_type": "markdown",
      "metadata": {
        "id": "DHS7VaGeWUVm"
      },
      "source": [
        "If there are no matching indices, however, we may get an empty `Series` in return."
      ]
    },
    {
      "cell_type": "code",
      "execution_count": null,
      "metadata": {
        "id": "TM_PrIRKWUVm"
      },
      "outputs": [],
      "source": [
        "empty_series = prices + pd.Series(np.random.normal(0, 1, len(prices)))\n",
        "empty_series.head(5)"
      ]
    },
    {
      "cell_type": "markdown",
      "metadata": {
        "id": "4L_gX8XcWUVn"
      },
      "source": [
        "Rather than looking at a time series itself, we may want to look at its first-order differences or percent change (in order to get additive or multiplicative returns, in our particular case). Both of these are built-in methods."
      ]
    },
    {
      "cell_type": "code",
      "execution_count": null,
      "metadata": {
        "collapsed": true,
        "id": "t1RQeBm3WUVn"
      },
      "outputs": [],
      "source": [
        "add_returns = prices.diff()[1:]\n",
        "mult_returns = prices.pct_change()[1:]"
      ]
    },
    {
      "cell_type": "code",
      "execution_count": null,
      "metadata": {
        "id": "NrpmE0uCWUVn"
      },
      "outputs": [],
      "source": [
        "plt.title(\"Multiplicative returns of \" + symbol)\n",
        "plt.xlabel(\"Date\")\n",
        "plt.ylabel(\"Percent Returns\")\n",
        "mult_returns.plot();"
      ]
    },
    {
      "cell_type": "markdown",
      "metadata": {
        "id": "KF4ZgpVrWUVn"
      },
      "source": [
        "pandas has convenient functions for calculating rolling means and standard deviations, as well!"
      ]
    },
    {
      "cell_type": "code",
      "execution_count": null,
      "metadata": {
        "id": "mynnGhuDWUVn"
      },
      "outputs": [],
      "source": [
        "rolling_mean = pd.rolling_mean(prices, 30)\n",
        "rolling_mean.name = \"30-day rolling mean\""
      ]
    },
    {
      "cell_type": "code",
      "execution_count": null,
      "metadata": {
        "id": "2bXFjX8iWUVn",
        "scrolled": false
      },
      "outputs": [],
      "source": [
        "prices.plot()\n",
        "rolling_mean.plot()\n",
        "plt.title(symbol + \"Price\")\n",
        "plt.xlabel(\"Date\")\n",
        "plt.ylabel(\"Price\")\n",
        "plt.legend();"
      ]
    },
    {
      "cell_type": "code",
      "execution_count": null,
      "metadata": {
        "collapsed": true,
        "id": "818Z2ObUWUVn"
      },
      "outputs": [],
      "source": [
        "rolling_std = pd.rolling_std(prices, 30)\n",
        "rolling_std.name = \"30-day rolling volatility\""
      ]
    },
    {
      "cell_type": "code",
      "execution_count": null,
      "metadata": {
        "id": "HV68dx0QWUVn"
      },
      "outputs": [],
      "source": [
        "rolling_std.plot()\n",
        "plt.title(rolling_std.name);\n",
        "plt.xlabel(\"Date\")\n",
        "plt.ylabel(\"Standard Deviation\");"
      ]
    },
    {
      "cell_type": "markdown",
      "metadata": {
        "id": "Xog0a615WUVn"
      },
      "source": [
        "Many NumPy functions will work on `Series` the same way that they work on 1-dimensional NumPy arrays."
      ]
    },
    {
      "cell_type": "code",
      "execution_count": null,
      "metadata": {
        "id": "kpiRKsHtWUVn"
      },
      "outputs": [],
      "source": [
        "print np.median(mult_returns)"
      ]
    },
    {
      "cell_type": "markdown",
      "metadata": {
        "id": "hD-OY99ZWUVn"
      },
      "source": [
        "The majority of these functions, however, are already implemented directly as `Series` and `DataFrame` methods."
      ]
    },
    {
      "cell_type": "code",
      "execution_count": null,
      "metadata": {
        "id": "DugbNwDsWUVo"
      },
      "outputs": [],
      "source": [
        "print mult_returns.median()"
      ]
    },
    {
      "cell_type": "markdown",
      "metadata": {
        "id": "aAl1l6d-WUVo"
      },
      "source": [
        "In every case, using the built-in pandas method will be better than using the NumPy function on a pandas data structure due to improvements in performance. Make sure to check out the `Series` [documentation](http://pandas.pydata.org/pandas-docs/stable/generated/pandas.Series.html) before resorting to other calculations of common functions."
      ]
    },
    {
      "cell_type": "markdown",
      "metadata": {
        "id": "eH9CwiinWUVo"
      },
      "source": [
        "### `DataFrames`\n",
        "\n",
        "Many of the aspects of working with `Series` carry over into `DataFrames`. pandas `DataFrames` allow us to easily manage our data with their intuitive structure. \n",
        "\n",
        "Like `Series`, `DataFrames` can hold multiple types of data, but `DataFrames` are 2-dimensional objects, unlike `Series`. Each `DataFrame` has an index and a columns attribute, which we will cover more in-depth when we start actually playing with an object. The index attribute is like the index of a `Series`, though indices in pandas have some extra features that we will unfortunately not be able to cover here. If you are interested in this, check out the [pandas documentation](http://pandas.pydata.org/pandas-docs/version/0.18.1/advanced.html) on advanced indexing. The columns attribute is what provides the second dimension of our `DataFrames`, allowing us to combine named columns (all `Series`), into a cohesive object with the index lined-up.\n",
        "\n",
        "We can create a `DataFrame` by calling `pandas.DataFrame()` on a dictionary or NumPy `ndarray`. We can also concatenate a group of pandas `Series` into a `DataFrame` using `pandas.concat()`."
      ]
    },
    {
      "cell_type": "code",
      "execution_count": null,
      "metadata": {
        "id": "z85Mq4BhWUVo"
      },
      "outputs": [],
      "source": [
        "dict_data = {\n",
        "    'a' : [1, 2, 3, 4, 5],\n",
        "    'b' : ['L', 'K', 'J', 'M', 'Z'],\n",
        "    'c' : np.random.normal(0, 1, 5)\n",
        "}\n",
        "print dict_data"
      ]
    },
    {
      "cell_type": "markdown",
      "metadata": {
        "id": "WeiG7PIBWUVo"
      },
      "source": [
        "Each `DataFrame` has a few key attributes that we need to keep in mind. The first of these is the index attribute. We can easily include an index of `Timestamp` objects like we did with `Series`."
      ]
    },
    {
      "cell_type": "code",
      "execution_count": null,
      "metadata": {
        "id": "IzuzBUAYWUVo",
        "scrolled": false
      },
      "outputs": [],
      "source": [
        "frame_data = pd.DataFrame(dict_data, index=pd.date_range('2016-01-01', periods=5))\n",
        "print frame_data"
      ]
    },
    {
      "cell_type": "markdown",
      "metadata": {
        "id": "LgPfObhFWUVo"
      },
      "source": [
        "As mentioned above, we can combine `Series` into `DataFrames`. Concatatenating `Series` like this will match elements up based on their corresponding index. As the following `Series` do not have an index assigned, they each default to an integer index. "
      ]
    },
    {
      "cell_type": "code",
      "execution_count": null,
      "metadata": {
        "id": "Wtl42IW0WUVo",
        "scrolled": true
      },
      "outputs": [],
      "source": [
        "s_1 = pd.Series([2, 4, 6, 8, 10], name='Evens')\n",
        "s_2 = pd.Series([1, 3, 5, 7, 9], name=\"Odds\")\n",
        "numbers = pd.concat([s_1, s_2], axis=1)\n",
        "print numbers"
      ]
    },
    {
      "cell_type": "markdown",
      "metadata": {
        "id": "kdl0AB6jWUVo"
      },
      "source": [
        "We will use `pandas.concat()` again later to combine multiple `DataFrame`s into one. "
      ]
    },
    {
      "cell_type": "markdown",
      "metadata": {
        "id": "cyHQkLW6WUVo"
      },
      "source": [
        "Each `DataFrame` also has a `columns` attribute. These can either be assigned when we call `pandas.DataFrame` or they can be modified directly like the index. Note that when we concatenated the two `Series` above, the column names were the names of those `Series`."
      ]
    },
    {
      "cell_type": "code",
      "execution_count": null,
      "metadata": {
        "id": "7TdrD0V0WUVp"
      },
      "outputs": [],
      "source": [
        "print numbers.columns"
      ]
    },
    {
      "cell_type": "markdown",
      "metadata": {
        "id": "SPHSKbxJWUVp"
      },
      "source": [
        "To modify the columns after object creation, we need only do the following:"
      ]
    },
    {
      "cell_type": "code",
      "execution_count": null,
      "metadata": {
        "id": "QPV2Q6H6WUVp"
      },
      "outputs": [],
      "source": [
        "numbers.columns = ['Shmevens', 'Shmodds']\n",
        "print numbers"
      ]
    },
    {
      "cell_type": "markdown",
      "metadata": {
        "id": "NBHRY6syWUVp"
      },
      "source": [
        "In the same vein, the index of a `DataFrame` can be changed after the fact."
      ]
    },
    {
      "cell_type": "code",
      "execution_count": null,
      "metadata": {
        "id": "xr1SAGGqWUVp"
      },
      "outputs": [],
      "source": [
        "print numbers.index"
      ]
    },
    {
      "cell_type": "code",
      "execution_count": null,
      "metadata": {
        "id": "wQreFUxwWUVp"
      },
      "outputs": [],
      "source": [
        "numbers.index = pd.date_range(\"2016-01-01\", periods=len(numbers))\n",
        "print numbers"
      ]
    },
    {
      "cell_type": "markdown",
      "metadata": {
        "id": "QxbDlXyrWUVp"
      },
      "source": [
        "Separate from the columns and index of a `DataFrame`, we can also directly access the values they contain by looking at the values attribute."
      ]
    },
    {
      "cell_type": "code",
      "execution_count": null,
      "metadata": {
        "id": "zHSLDkVeWUVp"
      },
      "outputs": [],
      "source": [
        "numbers.values"
      ]
    },
    {
      "cell_type": "markdown",
      "metadata": {
        "id": "Hix3SJTpWUVp"
      },
      "source": [
        "This returns a NumPy array."
      ]
    },
    {
      "cell_type": "code",
      "execution_count": null,
      "metadata": {
        "id": "YsCG1eI0WUVp"
      },
      "outputs": [],
      "source": [
        "type(numbers.values)"
      ]
    },
    {
      "cell_type": "markdown",
      "metadata": {
        "id": "ulw_URpPWUVq"
      },
      "source": [
        "#### Accessing `DataFrame` elements\n",
        "\n",
        "Again we see a lot of carryover from `Series` in how we access the elements of `DataFrames`. The key sticking point here is that everything has to take into account multiple dimensions now. The main way that this happens is through the access of the columns of a `DataFrame`, either individually or in groups. We can do this either by directly accessing the attributes or by using the methods we already are familiar with."
      ]
    },
    {
      "cell_type": "code",
      "execution_count": null,
      "metadata": {
        "id": "qZ_r9swuWUVq"
      },
      "outputs": [],
      "source": [
        "symbol = [\"CMG\", \"MCD\", \"SHAK\", \"WFM\"]\n",
        "start = \"2012-01-01\"\n",
        "end = \"2016-01-01\"\n",
        "prices = get_pricing(symbol, start_date=start, end_date=end, fields=\"price\")\n",
        "if isinstance(symbol, list):\n",
        "    prices.columns = map(lambda x: x.symbol, prices.columns)\n",
        "else:\n",
        "    prices.name = symbol"
      ]
    },
    {
      "cell_type": "markdown",
      "metadata": {
        "id": "z0gzYPBSWUVq"
      },
      "source": [
        "Here we directly access the `CMG` column. Note that this style of access will only work if your column name has no spaces or unfriendly characters in it."
      ]
    },
    {
      "cell_type": "code",
      "execution_count": null,
      "metadata": {
        "id": "SYkX2Xf9WUVq"
      },
      "outputs": [],
      "source": [
        "prices.CMG.head()"
      ]
    },
    {
      "cell_type": "markdown",
      "metadata": {
        "id": "lEZQ1JVVWUVq"
      },
      "source": [
        "We can also use `loc[]` to access an individual column like so."
      ]
    },
    {
      "cell_type": "code",
      "execution_count": null,
      "metadata": {
        "id": "I8LOJ0JUWUVq"
      },
      "outputs": [],
      "source": [
        "prices.loc[:, 'CMG'].head()"
      ]
    },
    {
      "cell_type": "markdown",
      "metadata": {
        "id": "nmaNmKQAWUVq"
      },
      "source": [
        "Accessing an individual column will return a `Series`, regardless of how we get it."
      ]
    },
    {
      "cell_type": "code",
      "execution_count": null,
      "metadata": {
        "id": "elVEk1bRWUVt"
      },
      "outputs": [],
      "source": [
        "print type(prices.CMG)\n",
        "print type(prices.loc[:, 'CMG'])"
      ]
    },
    {
      "cell_type": "markdown",
      "metadata": {
        "id": "t_n_NTdkWUVt"
      },
      "source": [
        "Notice how we pass a tuple into the `loc[]` method? This is a key difference between accessing a `Series` and accessing a `DataFrame`, grounded in the fact that a `DataFrame` has multiple dimensions. When you pass a 2-dimensional tuple into a `DataFrame`, the first element of the tuple is applied to the rows and the second is applied to the columns. So, to break it down, the above line of code tells the `DataFrame` to return every single row of the column with label `'CMG'`. Lists of columns are also supported."
      ]
    },
    {
      "cell_type": "code",
      "execution_count": null,
      "metadata": {
        "id": "e_sVdcErWUVt"
      },
      "outputs": [],
      "source": [
        "prices.loc[:, ['CMG', 'MCD']].head()"
      ]
    },
    {
      "cell_type": "markdown",
      "metadata": {
        "id": "J2SmCaWMWUVt"
      },
      "source": [
        "We can also simply access the `DataFrame` by index value using `loc[]`, as with `Series`."
      ]
    },
    {
      "cell_type": "code",
      "execution_count": null,
      "metadata": {
        "id": "g3vYIXWxWUVt",
        "scrolled": true
      },
      "outputs": [],
      "source": [
        "prices.loc['2015-12-15':'2015-12-22']"
      ]
    },
    {
      "cell_type": "markdown",
      "metadata": {
        "id": "DDhvCbEpWUVt"
      },
      "source": [
        "This plays nicely with lists of columns, too."
      ]
    },
    {
      "cell_type": "code",
      "execution_count": null,
      "metadata": {
        "id": "gkAgMnJJWUVt"
      },
      "outputs": [],
      "source": [
        "prices.loc['2015-12-15':'2015-12-22', ['CMG', 'MCD']]"
      ]
    },
    {
      "cell_type": "markdown",
      "metadata": {
        "id": "HLLVsn2kWUVt"
      },
      "source": [
        "Using `iloc[]` also works similarly, allowing you to access parts of the `DataFrame` by integer index."
      ]
    },
    {
      "cell_type": "code",
      "execution_count": null,
      "metadata": {
        "id": "WOhYJF69WUVt"
      },
      "outputs": [],
      "source": [
        "prices.iloc[0:2, 1]"
      ]
    },
    {
      "cell_type": "code",
      "execution_count": null,
      "metadata": {
        "id": "V2p_krTyWUVu"
      },
      "outputs": [],
      "source": [
        "# Access prices with integer index in\n",
        "# [1, 3, 5, 7, 9, 11, 13, ..., 99]\n",
        "# and in column 0 or 3\n",
        "prices.iloc[[1, 3, 5] + range(7, 100, 2), [0, 3]].head(20)"
      ]
    },
    {
      "cell_type": "markdown",
      "metadata": {
        "id": "JhgW4jJZWUVu"
      },
      "source": [
        "#### Boolean indexing\n",
        "\n",
        "As with `Series`, sometimes we want to filter a `DataFrame` according to a set of criteria. We do this by indexing our `DataFrame` with boolean values."
      ]
    },
    {
      "cell_type": "code",
      "execution_count": null,
      "metadata": {
        "id": "XW5Jwdy4WUVu"
      },
      "outputs": [],
      "source": [
        "prices.loc[prices.MCD > prices.WFM].head()"
      ]
    },
    {
      "cell_type": "markdown",
      "metadata": {
        "id": "UxSbcNzbWUVu"
      },
      "source": [
        "We can add multiple boolean conditions by using the logical operators `&`, `|`, and `~` (and, or, and not, respectively) again!"
      ]
    },
    {
      "cell_type": "code",
      "execution_count": null,
      "metadata": {
        "id": "1WAE9k0YWUVu"
      },
      "outputs": [],
      "source": [
        "prices.loc[(prices.MCD > prices.WFM) & ~prices.SHAK.isnull()].head()"
      ]
    },
    {
      "cell_type": "markdown",
      "metadata": {
        "id": "qNKnyKq9WUVu"
      },
      "source": [
        "#### Adding, Removing Columns, Combining `DataFrames`/`Series`\n",
        "\n",
        "It is all well and good when you already have a `DataFrame` filled with data, but it is also important to be able to add to the data that you have.\n",
        "\n",
        "We add a new column simply by assigning data to a column that does not already exist. Here we use the `.loc[:, 'COL_NAME']` notation and store the output of `get_pricing()` (which returns a pandas `Series` if we only pass one security) there. This is the method that we would use to add a `Series` to an existing `DataFrame`."
      ]
    },
    {
      "cell_type": "code",
      "execution_count": null,
      "metadata": {
        "id": "IwO4y2VuWUVu",
        "scrolled": true
      },
      "outputs": [],
      "source": [
        "s_1 = get_pricing('TSLA', start_date=start, end_date=end, fields='price')\n",
        "prices.loc[:, 'TSLA'] = s_1\n",
        "prices.head(5)"
      ]
    },
    {
      "cell_type": "markdown",
      "metadata": {
        "id": "VSgc0MTvWUVu"
      },
      "source": [
        "It is also just as easy to remove a column."
      ]
    },
    {
      "cell_type": "code",
      "execution_count": null,
      "metadata": {
        "id": "qeHR_UEwWUVu",
        "scrolled": true
      },
      "outputs": [],
      "source": [
        "prices = prices.drop('TSLA', axis=1)\n",
        "prices.head(5)"
      ]
    },
    {
      "cell_type": "markdown",
      "metadata": {
        "id": "XQliTEFlWUVu"
      },
      "source": [
        "If we instead want to combine multiple `DataFrame`s into one, we use the `pandas.concat()` method."
      ]
    },
    {
      "cell_type": "code",
      "execution_count": null,
      "metadata": {
        "id": "SpxCPh_CWUVu",
        "scrolled": false
      },
      "outputs": [],
      "source": [
        "df_1 = get_pricing(['SPY', 'VXX'], start_date=start, end_date=end, fields='price')\n",
        "df_2 = get_pricing(['MSFT', 'AAPL', 'GOOG'], start_date=start, end_date=end, fields='price')\n",
        "df_3 = pd.concat([df_1, df_2], axis=1)\n",
        "df_3.head()"
      ]
    },
    {
      "cell_type": "markdown",
      "metadata": {
        "id": "tT-xi9uHWUVv"
      },
      "source": [
        "#### Missing data (again)\n",
        "Bringing real-life data into a `DataFrame` brings us the same problems that we had with it in a `Series`, only this time in more dimensions. We have access to the same methods as with `Series`, as demonstrated below."
      ]
    },
    {
      "cell_type": "code",
      "execution_count": null,
      "metadata": {
        "id": "HE72V375WUVv"
      },
      "outputs": [],
      "source": [
        "filled0_prices = prices.fillna(0)\n",
        "filled0_prices.head(5)"
      ]
    },
    {
      "cell_type": "code",
      "execution_count": null,
      "metadata": {
        "id": "Dz7mJcbbWUVv"
      },
      "outputs": [],
      "source": [
        "bfilled_prices = prices.fillna(method='bfill')\n",
        "bfilled_prices.head(5)"
      ]
    },
    {
      "cell_type": "markdown",
      "metadata": {
        "id": "yEPAnHv-WUVv"
      },
      "source": [
        "But again, the best choice in this case (since we are still using time series data, handling multiple time series at once) is still to simply drop the missing values."
      ]
    },
    {
      "cell_type": "code",
      "execution_count": null,
      "metadata": {
        "id": "GSvmlqNlWUVv"
      },
      "outputs": [],
      "source": [
        "dropped_prices = prices.dropna()\n",
        "dropped_prices.head(5)"
      ]
    },
    {
      "cell_type": "markdown",
      "metadata": {
        "id": "F3-c1GLgWUVv"
      },
      "source": [
        "#### Time Series Analysis with pandas\n",
        "\n",
        "Using the built-in statistics methods for `DataFrames`, we can perform calculations on multiple time series at once! The code to perform calculations on `DataFrames` here is almost exactly the same as the methods used for `Series` above, so don't worry about re-learning everything.\n",
        "\n",
        "The `plot()` method makes another appearance here, this time with a built-in legend that corresponds to the names of the columns that you are plotting."
      ]
    },
    {
      "cell_type": "code",
      "execution_count": null,
      "metadata": {
        "id": "M5RSV_kGWUVv"
      },
      "outputs": [],
      "source": [
        "prices.plot()\n",
        "plt.title(\"Collected Stock Prices\")\n",
        "plt.ylabel(\"Price\")\n",
        "plt.xlabel(\"Date\");"
      ]
    },
    {
      "cell_type": "markdown",
      "metadata": {
        "id": "RV4mkYpcWUVv"
      },
      "source": [
        "The same statistical functions from our interactions with `Series` resurface here with the addition of the `axis` parameter. By specifying the `axis`, we tell pandas to calculate the desired function along either the rows (`axis=0`) or the columns (`axis=1`). We can easily calculate the mean of each columns like so:"
      ]
    },
    {
      "cell_type": "code",
      "execution_count": null,
      "metadata": {
        "id": "ft_URNMvWUVv"
      },
      "outputs": [],
      "source": [
        "prices.mean(axis=0)"
      ]
    },
    {
      "cell_type": "markdown",
      "metadata": {
        "id": "6nwJI1KLWUVw"
      },
      "source": [
        "As well as the standard deviation:"
      ]
    },
    {
      "cell_type": "code",
      "execution_count": null,
      "metadata": {
        "id": "BQ2E_RaJWUVw"
      },
      "outputs": [],
      "source": [
        "prices.std(axis=0)"
      ]
    },
    {
      "cell_type": "markdown",
      "metadata": {
        "id": "Q5r5GEufWUVw"
      },
      "source": [
        "Again, the `describe()` function will provide us with summary statistics of our data if we would rather have all of our typical statistics in a convenient visual instead of calculating them individually."
      ]
    },
    {
      "cell_type": "code",
      "execution_count": null,
      "metadata": {
        "id": "ySLuEkNBWUVw"
      },
      "outputs": [],
      "source": [
        "prices.describe()"
      ]
    },
    {
      "cell_type": "markdown",
      "metadata": {
        "id": "0bh3ubdSWUVw"
      },
      "source": [
        "We can scale and add scalars to our `DataFrame`, as you might suspect after dealing with `Series`. This again works element-wise."
      ]
    },
    {
      "cell_type": "code",
      "execution_count": null,
      "metadata": {
        "id": "f_L776O2WUVw"
      },
      "outputs": [],
      "source": [
        "(2 * prices - 50).head(5)"
      ]
    },
    {
      "cell_type": "markdown",
      "metadata": {
        "id": "5_cg1eBiWUVw"
      },
      "source": [
        "Here we use the `pct_change()` method to get a `DataFrame` of the multiplicative returns of the securities that we are looking at."
      ]
    },
    {
      "cell_type": "code",
      "execution_count": null,
      "metadata": {
        "id": "zku7hk3zWUVw"
      },
      "outputs": [],
      "source": [
        "mult_returns = prices.pct_change()[1:]\n",
        "mult_returns.head()"
      ]
    },
    {
      "cell_type": "markdown",
      "metadata": {
        "id": "QkEAAINRWUVw"
      },
      "source": [
        "If we use our statistics methods to standardize the returns, a common procedure when examining data, then we can get a better idea of how they all move relative to each other on the same scale."
      ]
    },
    {
      "cell_type": "code",
      "execution_count": null,
      "metadata": {
        "id": "saPQR-AaWUVw"
      },
      "outputs": [],
      "source": [
        "norm_returns = (mult_returns - mult_returns.mean(axis=0))/mult_returns.std(axis=0)\n",
        "norm_returns.loc['2014-01-01':'2015-01-01'].plot();"
      ]
    },
    {
      "cell_type": "markdown",
      "metadata": {
        "id": "R8JwiheiWUVx"
      },
      "source": [
        "This makes it easier to compare the motion of the different time series contained in our example."
      ]
    },
    {
      "cell_type": "markdown",
      "metadata": {
        "id": "CdlJkcg5WUVx"
      },
      "source": [
        "Rolling means and standard deviations also work with `DataFrames`."
      ]
    },
    {
      "cell_type": "code",
      "execution_count": null,
      "metadata": {
        "collapsed": true,
        "id": "45qsA2VhWUVx"
      },
      "outputs": [],
      "source": [
        "rolling_mean = pd.rolling_mean(prices, 30)\n",
        "rolling_mean.columns = prices.columns"
      ]
    },
    {
      "cell_type": "code",
      "execution_count": null,
      "metadata": {
        "id": "k4nKj3r5WUVx"
      },
      "outputs": [],
      "source": [
        "rolling_mean.plot()\n",
        "plt.title(\"Rolling Mean of Prices\")\n",
        "plt.xlabel(\"Date\")\n",
        "plt.ylabel(\"Price\")\n",
        "plt.legend();"
      ]
    },
    {
      "cell_type": "markdown",
      "metadata": {
        "id": "h4ZJABVIWUVx"
      },
      "source": [
        "For a complete list of all the methods that are built into `DataFrame`s, check out the [documentation](http://pandas.pydata.org/pandas-docs/stable/generated/pandas.DataFrame.html)."
      ]
    },
    {
      "cell_type": "markdown",
      "metadata": {
        "id": "5n59MVIiWUVx"
      },
      "source": [
        "# Next Steps\n",
        "\n",
        "Managing data gets a lot easier when you deal with pandas, though this has been a very general introduction. There are many more tools within the package which you may discover while trying to get your data to do precisely what you want. If you would rather read more on the additional capabilities of pandas, check out the [documentation](http://pandas.pydata.org/pandas-docs/stable/)."
      ]
    },
    {
      "cell_type": "markdown",
      "metadata": {
        "collapsed": true,
        "id": "1srsOru6WUVx"
      },
      "source": [
        "*This presentation is for informational purposes only and does not constitute an offer to sell, a solicitation to buy, or a recommendation for any security; nor does it constitute an offer to provide investment advisory or other services by Quantopian, Inc. (\"Quantopian\"). Nothing contained herein constitutes investment advice or offers any opinion with respect to the suitability of any security, and any views expressed herein should not be taken as advice to buy, sell, or hold any security or as an endorsement of any security or company.  In preparing the information contained herein, Quantopian, Inc. has not taken into account the investment needs, objectives, and financial circumstances of any particular investor. Any views expressed and data illustrated herein were prepared based upon information, believed to be reliable, available to Quantopian, Inc. at the time of publication. Quantopian makes no guarantees as to their accuracy or completeness. All information is subject to change and may quickly become unreliable for various reasons, including changes in market conditions or economic circumstances.*"
      ]
    },
    {
      "cell_type": "markdown",
      "metadata": {
        "id": "dQbENH6mexTd"
      },
      "source": [
        "<div align=\"center\">\n",
        "<img style=\"display: block; margin: auto;\" alt=\"photo\" src=\"https://cdn.quantconnect.com/web/i/icon.png\">\n",
        "</div>\n",
        "\n",
        "Quantconnect\n",
        "\n",
        "Introduction to Financial Python\n",
        "</div>\n",
        "\n",
        "# NumPy and Basic Pandas\n",
        "\n",
        "# Introduction\n",
        "\n",
        "Now that we have introduced the fundamentals of Python, it's time to learn about NumPy and Pandas.\n",
        "\n",
        "# NumPy\n",
        "NumPy is the core library for scientific computing in Python. It provides a high-performance multidimensional array object, and tools for working with these arrays. It also has strong integration with Pandas, which is another powerful tool for manipulating financial data.\n",
        "\n",
        "Python packages like NumPy and Pandas contain classes and methods which we can use by importing the package:"
      ]
    },
    {
      "cell_type": "code",
      "execution_count": null,
      "metadata": {
        "id": "aIESp-rdO58h"
      },
      "outputs": [],
      "source": [
        "import numpy as np"
      ]
    },
    {
      "cell_type": "markdown",
      "metadata": {
        "id": "GScHHJ5ke7ea"
      },
      "source": [
        "## Basic NumPy Arrays\n",
        "A NumPy array is a grid of values, all of the same type, and is indexed by a tuple of nonnegative integers. Here we make an array by passing a list of Apple stock prices:"
      ]
    },
    {
      "cell_type": "code",
      "execution_count": null,
      "metadata": {
        "id": "lZI1wkwDO58i"
      },
      "outputs": [],
      "source": [
        "price_list = [143.73, 145.83, 143.68, 144.02, 143.5, 142.62]\n",
        "price_array = np.array(price_list)\n",
        "print(price_array, type(price_array))"
      ]
    },
    {
      "cell_type": "markdown",
      "metadata": {
        "id": "-5Yj6u9ifB-t"
      },
      "source": [
        "Notice that the type of array is \"ndarray\" which is a multi-dimensional array. If we pass np.array() a list of lists, it will create a 2-dimensional array."
      ]
    },
    {
      "cell_type": "code",
      "execution_count": null,
      "metadata": {
        "id": "obvIZrK-O58j"
      },
      "outputs": [],
      "source": [
        "Ar = np.array([[1,3],[2,4]])\n",
        "print(Ar, type(Ar))"
      ]
    },
    {
      "cell_type": "markdown",
      "metadata": {
        "id": "uDdfLD9HfHkl"
      },
      "source": [
        "We get the dimensions of an ndarray using the .shape attribute:"
      ]
    },
    {
      "cell_type": "code",
      "execution_count": null,
      "metadata": {
        "id": "G2txdn73O58j"
      },
      "outputs": [],
      "source": [
        "print(Ar.shape)"
      ]
    },
    {
      "cell_type": "markdown",
      "metadata": {
        "id": "87W5ueORfPEy"
      },
      "source": [
        "If we create an 2-dimensional array (i.e. matrix), each row can be accessed by index:"
      ]
    },
    {
      "cell_type": "code",
      "execution_count": null,
      "metadata": {
        "id": "x_QV9aPbO58j"
      },
      "outputs": [],
      "source": [
        "print(Ar[0])\n",
        "print(Ar[1])"
      ]
    },
    {
      "cell_type": "markdown",
      "metadata": {
        "id": "5Hke7Vt-fSGB"
      },
      "source": [
        "If we want to access the matrix by column instead:"
      ]
    },
    {
      "cell_type": "code",
      "execution_count": null,
      "metadata": {
        "id": "gHVwbPfOO58j"
      },
      "outputs": [],
      "source": [
        "print('the first column: ', Ar[:,0])\n",
        "print('the second column: ', Ar[:,1])"
      ]
    },
    {
      "cell_type": "markdown",
      "metadata": {
        "id": "T61cD0HMfStB"
      },
      "source": [
        "## Array Functions\n",
        "Some functions built in NumPy that allow us to perform calculations on arrays. For example, we can apply the natural logarithm to each element of an array:"
      ]
    },
    {
      "cell_type": "code",
      "execution_count": null,
      "metadata": {
        "id": "PKhwtJ7XO58k"
      },
      "outputs": [],
      "source": [
        "print(np.log(price_array))"
      ]
    },
    {
      "cell_type": "markdown",
      "metadata": {
        "id": "uzjBRFBLfZ-D"
      },
      "source": [
        "Other functions return a single value:"
      ]
    },
    {
      "cell_type": "code",
      "execution_count": null,
      "metadata": {
        "id": "nQuABZqUO58k"
      },
      "outputs": [],
      "source": [
        "print(np.mean(price_array))\n",
        "print(np.std(price_array))\n",
        "print(np.sum(price_array))\n",
        "print(np.max(price_array))"
      ]
    },
    {
      "cell_type": "markdown",
      "metadata": {
        "id": "IRW95BsifgDB"
      },
      "source": [
        "The functions above return the mean, standard deviation, total and maximum value of an array.\n",
        "\n",
        "# Pandas\n",
        "Pandas is one of the most powerful tools for dealing with financial data. \n",
        "\n",
        "First we need to import Pandas:"
      ]
    },
    {
      "cell_type": "code",
      "execution_count": null,
      "metadata": {
        "id": "xIYH4oUfO58k"
      },
      "outputs": [],
      "source": [
        "import pandas as pd"
      ]
    },
    {
      "cell_type": "markdown",
      "metadata": {
        "id": "zOig5gORfnJU"
      },
      "source": [
        "## Series\n",
        "Series is a one-dimensional labeled array capable of holding any data type (integers, strings, float, Python object, etc.)\n",
        "\n",
        "We create a Series by calling pd.Series(data), where data can be a dictionary, an array or just a scalar value."
      ]
    },
    {
      "cell_type": "code",
      "execution_count": null,
      "metadata": {
        "id": "JmzoNzrPO58k"
      },
      "outputs": [],
      "source": [
        "price = [143.73, 145.83, 143.68, 144.02, 143.5, 142.62]\n",
        "s = pd.Series(price)\n",
        "s"
      ]
    },
    {
      "cell_type": "markdown",
      "metadata": {
        "id": "tP5iDnunfq46"
      },
      "source": [
        "We can customize the indices of a new Series:"
      ]
    },
    {
      "cell_type": "code",
      "execution_count": null,
      "metadata": {
        "id": "eswQC3ZPO58l"
      },
      "outputs": [],
      "source": [
        "s = pd.Series(price,index = ['a','b','c','d','e','f'])\n",
        "s"
      ]
    },
    {
      "cell_type": "markdown",
      "metadata": {
        "id": "wdZrb8pEfuua"
      },
      "source": [
        "Or we can change the indices of an existing Series:"
      ]
    },
    {
      "cell_type": "code",
      "execution_count": null,
      "metadata": {
        "id": "MwlRnPF6O58l"
      },
      "outputs": [],
      "source": [
        "s.index = [6,5,4,3,2,1]\n",
        "s"
      ]
    },
    {
      "cell_type": "markdown",
      "metadata": {
        "id": "6cGNQZwLfxIz"
      },
      "source": [
        "Series is like a list since it can be sliced by index:"
      ]
    },
    {
      "cell_type": "code",
      "execution_count": null,
      "metadata": {
        "id": "N9bBSg6cO58l"
      },
      "outputs": [],
      "source": [
        "print(s[1:])\n",
        "print(s[:-2])"
      ]
    },
    {
      "cell_type": "markdown",
      "metadata": {
        "id": "5V25nViZfz3Z"
      },
      "source": [
        "Series is also like a dictionary whose values can be set or fetched by index label:"
      ]
    },
    {
      "cell_type": "code",
      "execution_count": null,
      "metadata": {
        "id": "b3Y0kKGYO58l"
      },
      "outputs": [],
      "source": [
        "print(s[4])\n",
        "s[4] = 0\n",
        "print(s)"
      ]
    },
    {
      "cell_type": "markdown",
      "metadata": {
        "id": "RQ1P7Gkyf060"
      },
      "source": [
        "Series can also have a name attribute, which will be used when we make up a Pandas DataFrame using several series."
      ]
    },
    {
      "cell_type": "code",
      "execution_count": null,
      "metadata": {
        "id": "ZeD4-p7KO58m"
      },
      "outputs": [],
      "source": [
        "s = pd.Series(price, name = 'Apple Price List')\n",
        "print(s)\n",
        "print(s.name)"
      ]
    },
    {
      "cell_type": "markdown",
      "metadata": {
        "id": "geJb1pGHf5Et"
      },
      "source": [
        "We can get the statistical summaries of a Series:"
      ]
    },
    {
      "cell_type": "code",
      "execution_count": null,
      "metadata": {
        "id": "mGPtFcjegm4i"
      },
      "outputs": [],
      "source": [
        "print(s.describe())"
      ]
    },
    {
      "cell_type": "markdown",
      "metadata": {
        "id": "LkdZu-CDgvlR"
      },
      "source": [
        "## Time Index\n",
        "Pandas has a built-in function specifically for creating date indices: pd.date_range(). We use it to create a new index for our Series:"
      ]
    },
    {
      "cell_type": "code",
      "execution_count": null,
      "metadata": {
        "id": "HJe5hU4zO58m"
      },
      "outputs": [],
      "source": [
        "time_index = pd.date_range('2017-01-01',periods = len(s),freq = 'D')\n",
        "print(time_index)\n",
        "s.index = time_index\n",
        "print(s)"
      ]
    },
    {
      "cell_type": "markdown",
      "metadata": {
        "id": "7WedejFZg19J"
      },
      "source": [
        "Series are usually accessed using the iloc[] and loc[] methods. iloc[] is used to access elements by integer index, and loc[] is used to access the index of the series.\n",
        "\n",
        "iloc[] is necessary when the index of a series are integers, take our previous defined series as example:"
      ]
    },
    {
      "cell_type": "code",
      "execution_count": null,
      "metadata": {
        "id": "KrVSOyMvO58m"
      },
      "outputs": [],
      "source": [
        "s.index = [6,5,4,3,2,1]\n",
        "print(s)\n",
        "print(s[1])"
      ]
    },
    {
      "cell_type": "markdown",
      "metadata": {
        "id": "r30VKPtpg61p"
      },
      "source": [
        "If we intended to take the second element of the series, we would make a mistake here, because the index are integers. In order to access to the element we want, we use iloc[] here:"
      ]
    },
    {
      "cell_type": "code",
      "execution_count": null,
      "metadata": {
        "id": "bHukfaAmO58m"
      },
      "outputs": [],
      "source": [
        "print(s.iloc[1])"
      ]
    },
    {
      "cell_type": "markdown",
      "metadata": {
        "id": "kHVBRL_Rg84j"
      },
      "source": [
        "While working with time series data, we often use time as the index. Pandas provides us with various methods to access the data by time index"
      ]
    },
    {
      "cell_type": "code",
      "execution_count": null,
      "metadata": {
        "id": "FCf8Hg7jO58n"
      },
      "outputs": [],
      "source": [
        "s.index = time_index\n",
        "print(s['2017-01-03'])"
      ]
    },
    {
      "cell_type": "markdown",
      "metadata": {
        "id": "XJXcrSFpg-To"
      },
      "source": [
        "We can even access to a range of dates:"
      ]
    },
    {
      "cell_type": "code",
      "execution_count": null,
      "metadata": {
        "id": "NsE-Lr_9O58n"
      },
      "outputs": [],
      "source": [
        "print(s['2017-01-02':'2017-01-05'])"
      ]
    },
    {
      "cell_type": "markdown",
      "metadata": {
        "id": "cWA3NCXEhCLB"
      },
      "source": [
        "Series[] provides us a very flexible way to index data. We can add any condition in the square brackets:"
      ]
    },
    {
      "cell_type": "code",
      "execution_count": null,
      "metadata": {
        "id": "aawbrg2EO58n"
      },
      "outputs": [],
      "source": [
        "print(s[s < np.mean(s)] )\n",
        "print([(s > np.mean(s)) & (s < np.mean(s) + 1.64*np.std(s))])"
      ]
    },
    {
      "cell_type": "markdown",
      "metadata": {
        "id": "jAByChIwhEuI"
      },
      "source": [
        "As demonstrated, we can use logical operators like & (and), | (or) and ~ (not) to group multiple conditions.\n",
        "\n",
        "# Summary\n",
        "Here we have introduced NumPy and Pandas for scientific computing in Python. In the next chapter, we will dive into Pandas to learn resampling and manipulating Pandas DataFrame, which are commonly used in financial data analysis."
      ]
    },
    {
      "cell_type": "markdown",
      "metadata": {
        "id": "OtjOpw6oJp6z"
      },
      "source": [
        "<div align=\"center\">\n",
        "<img style=\"display: block; margin: auto;\" alt=\"photo\" src=\"https://cdn.quantconnect.com/web/i/icon.png\"> <img style=\"display: block; margin: auto;\" alt=\"photo\" src=\"https://www.marketing-branding.com/wp-content/uploads/2020/07/google-colaboratory-colab-guia-completa.jpg \" width=\"50\" height=\"50\">\n",
        "<img style=\"display: block; margin: auto;\" alt=\"photo\" src=\"https://upload.wikimedia.org/wikipedia/commons/3/37/Yahoo_Finance_Logo_2019.png\" width=\"50\" height=\"50\">  \n",
        "</div>\n",
        "\n",
        "Quantconnect -> Google Colab with Yahoo Finance data\n",
        "\n",
        "Introduction to Financial Python\n",
        "</div>\n",
        "\n",
        "# Pandas-Resampling and DataFrame\n",
        "\n",
        "# Introduction\n",
        "In the last chapter we had a glimpse of Pandas. In this chapter we will learn about resampling methods and the DataFrame object, which is a powerful tool for financial data analysis.\n",
        "\n",
        "# Fetching Data\n",
        "Here we use the Yahoo Finance to retrieve data.\n"
      ]
    },
    {
      "cell_type": "code",
      "execution_count": null,
      "metadata": {
        "id": "luU8mZTsHW9x"
      },
      "outputs": [],
      "source": [
        "!pip install yfinance"
      ]
    },
    {
      "cell_type": "code",
      "execution_count": null,
      "metadata": {
        "id": "mWZ-nirTZHrE"
      },
      "outputs": [],
      "source": [
        "import yfinance as yf\n",
        "\n",
        "aapl = yf.Ticker(\"AAPL\")\n",
        "\n",
        "# get stock info\n",
        "print(aapl.info)\n",
        "\n",
        "# get historical market data\n",
        "aapl_table = aapl.history(start=\"2016-01-01\",  end=\"2017-12-31\")\n",
        "aapl_table"
      ]
    },
    {
      "cell_type": "markdown",
      "metadata": {
        "id": "NkFztSYhJyVA"
      },
      "source": [
        "We will create a Series named \"aapl\" whose values are Apple's daily closing prices, which are of course indexed by dates:"
      ]
    },
    {
      "cell_type": "code",
      "execution_count": null,
      "metadata": {
        "id": "QDJbOpCeHW91"
      },
      "outputs": [],
      "source": [
        "aapl = aapl_table['Close']['2017']"
      ]
    },
    {
      "cell_type": "code",
      "execution_count": null,
      "metadata": {
        "id": "SXfgCQJOHW91"
      },
      "outputs": [],
      "source": [
        "print(aapl)"
      ]
    },
    {
      "cell_type": "markdown",
      "metadata": {
        "id": "waUEgBhzKEcA"
      },
      "source": [
        "Recall that we can fetch a specific data point using series['yyyy-mm-dd']. We can also fetch the data in a specific month using series['yyyy-mm']."
      ]
    },
    {
      "cell_type": "code",
      "execution_count": null,
      "metadata": {
        "id": "2gS50G0zHW92"
      },
      "outputs": [],
      "source": [
        "print(aapl['2017-3'])"
      ]
    },
    {
      "cell_type": "code",
      "execution_count": null,
      "metadata": {
        "id": "vpvxGwXtHW92"
      },
      "outputs": [],
      "source": [
        "aapl['2017-2':'2017-4']"
      ]
    },
    {
      "cell_type": "markdown",
      "metadata": {
        "id": "lWwoD39pKNKb"
      },
      "source": [
        ".head(N) and .tail(N) are methods for quickly accessing the first or last N elements."
      ]
    },
    {
      "cell_type": "code",
      "execution_count": null,
      "metadata": {
        "id": "1eU218ALHW93"
      },
      "outputs": [],
      "source": [
        "print(aapl.head(5))\n",
        "print(aapl.tail(10))"
      ]
    },
    {
      "cell_type": "markdown",
      "metadata": {
        "id": "IxhKxtj-KQ66"
      },
      "source": [
        "# Resampling\n",
        "**_series.resample(freq)_** is a class called \"DatetimeIndexResampler\" which groups data in a Series object into regular time intervals. The argument \"freq\" determines the length of each interval.\n",
        "\n",
        "**_series.resample.mean()_** is a complete statement that groups data into intervals, and then compute the mean of each interval. For example, if we want to aggregate the daily data into monthly data by mean:"
      ]
    },
    {
      "cell_type": "code",
      "execution_count": null,
      "metadata": {
        "id": "rAV8NkHkHW93"
      },
      "outputs": [],
      "source": [
        "by_month = aapl.resample('M').mean()\n",
        "print(by_month)"
      ]
    },
    {
      "cell_type": "markdown",
      "metadata": {
        "id": "QDPfVzBEKV6Q"
      },
      "source": [
        "We can also aggregate the data by week:"
      ]
    },
    {
      "cell_type": "code",
      "execution_count": null,
      "metadata": {
        "id": "aAP3tKkBHW94"
      },
      "outputs": [],
      "source": [
        "by_week = aapl.resample('W').mean()\n",
        "print(by_week.head())"
      ]
    },
    {
      "cell_type": "markdown",
      "metadata": {
        "id": "o_MXSVsILoBS"
      },
      "source": [
        "We can also aggregate the data by month with max:"
      ]
    },
    {
      "cell_type": "code",
      "execution_count": null,
      "metadata": {
        "id": "gn0wqXBTHW95"
      },
      "outputs": [],
      "source": [
        "aapl.resample('M').max()"
      ]
    },
    {
      "cell_type": "markdown",
      "metadata": {
        "id": "Z8r46UFlLdAh"
      },
      "source": [
        "We can choose almost any frequency by using the format 'nf', where 'n' is an integer and 'f' is M for month, W for week and D for day."
      ]
    },
    {
      "cell_type": "code",
      "execution_count": null,
      "metadata": {
        "id": "kdVB_-JFHW96"
      },
      "outputs": [],
      "source": [
        "three_day = aapl.resample('3D').mean()\n",
        "two_week = aapl.resample('2W').mean()\n",
        "two_month = aapl.resample('2M').mean()\n",
        "\n",
        "\n",
        "print(three_day)\n",
        "print(two_week)\n",
        "print(two_month )"
      ]
    },
    {
      "cell_type": "markdown",
      "metadata": {
        "id": "iy4RqsnwL-Bw"
      },
      "source": [
        "Besides the mean() method, other methods can also be used with the resampler:\n",
        "\n"
      ]
    },
    {
      "cell_type": "code",
      "execution_count": null,
      "metadata": {
        "id": "DNT8Fx9dHW96"
      },
      "outputs": [],
      "source": [
        "std = aapl.resample('W').std()\n",
        "max = aapl.resample('W').max()\n",
        "min = aapl.resample('W').min()\n",
        "\n",
        "\n",
        "print(std)\n",
        "print(max)\n",
        "print(min)"
      ]
    },
    {
      "cell_type": "markdown",
      "metadata": {
        "id": "uqln0s5DMI3I"
      },
      "source": [
        "Often we want to calculate monthly returns of a stock, based on prices on the last day of each month. To fetch those prices, we use the series.resample.agg() method:"
      ]
    },
    {
      "cell_type": "code",
      "execution_count": null,
      "metadata": {
        "id": "A6FSYvqbHW97"
      },
      "outputs": [],
      "source": [
        "last_day = aapl.resample('M').agg(lambda x: x[-1])\n",
        "print(last_day)"
      ]
    },
    {
      "cell_type": "markdown",
      "metadata": {
        "id": "uwomY3aXMR46"
      },
      "source": [
        "Or directly calculate the monthly rates of return using the data for the first day and the last day:"
      ]
    },
    {
      "cell_type": "code",
      "execution_count": null,
      "metadata": {
        "id": "qK2NMJrNHW96"
      },
      "outputs": [],
      "source": [
        "monthly_return = aapl.resample('M').agg(lambda x: x[-1]/x[0] - 1)\n",
        "print(monthly_return)"
      ]
    },
    {
      "cell_type": "markdown",
      "metadata": {
        "id": "_DYbMTFWMj8J"
      },
      "source": [
        "Series object also provides us some convenient methods to do some quick calculation."
      ]
    },
    {
      "cell_type": "code",
      "execution_count": null,
      "metadata": {
        "id": "1Mxc0HwvHW98"
      },
      "outputs": [],
      "source": [
        "print(monthly_return.mean())\n",
        "print(monthly_return.std())\n",
        "print(monthly_return.max())"
      ]
    },
    {
      "cell_type": "markdown",
      "metadata": {
        "id": "mn59J5dqMpqX"
      },
      "source": [
        "Another two methods frequently used on Series are .diff() and .pct_change(). The former calculates the difference between consecutive elements, and the latter calculates the percentage change."
      ]
    },
    {
      "cell_type": "code",
      "execution_count": null,
      "metadata": {
        "id": "DupZTSqqHW99"
      },
      "outputs": [],
      "source": [
        "print(last_day.diff())\n",
        "print(last_day.pct_change())"
      ]
    },
    {
      "cell_type": "markdown",
      "metadata": {
        "id": "RaMAOFepM6Io"
      },
      "source": [
        "Notice that we induced a NaN value while calculating percentage changes i.e. returns.\n",
        "\n",
        "When dealing with NaN values, we usually either removing the data point or fill it with a specific value. Here we fill it with 0:"
      ]
    },
    {
      "cell_type": "code",
      "execution_count": null,
      "metadata": {
        "id": "-xyLb3A3HW99"
      },
      "outputs": [],
      "source": [
        "daily_return = last_day.pct_change()\n",
        "print(daily_return.fillna(0))"
      ]
    },
    {
      "cell_type": "markdown",
      "metadata": {
        "id": "BYS10Om1NQVC"
      },
      "source": [
        "Alternatively, we can fill a NaN with the next fitted value. This is called 'backward fill', or 'bfill' in short:"
      ]
    },
    {
      "cell_type": "code",
      "execution_count": null,
      "metadata": {
        "id": "J513kHeKHW9-"
      },
      "outputs": [],
      "source": [
        "daily_return = last_day.pct_change()\n",
        "print(daily_return.fillna(method = 'bfill'))"
      ]
    },
    {
      "cell_type": "markdown",
      "metadata": {
        "id": "bj8QUSgdNepf"
      },
      "source": [
        "As expected, since there is a 'backward fill' method, there must be a 'forward fill' method, or 'ffill' in short. However we can't use it here because the NaN is the first value.\n",
        "\n",
        "We can also simply remove NaN values by **_.dropna()_**"
      ]
    },
    {
      "cell_type": "code",
      "execution_count": null,
      "metadata": {
        "id": "WG5ux1lqHW9-"
      },
      "outputs": [],
      "source": [
        "daily_return = last_day.pct_change()\n",
        "daily_return.dropna()"
      ]
    },
    {
      "cell_type": "markdown",
      "metadata": {
        "id": "nQH2eBWkNjdC"
      },
      "source": [
        "# DataFrame\n",
        "The **DataFrame** is the most commonly used data structure in Pandas. It is essentially a table, just like an Excel spreadsheet.\n",
        "\n",
        "More precisely, a DataFrame is a collection of Series objects, each of which may contain different data types. A DataFrame can be created from various data types: dictionary, 2-D numpy.ndarray, a Series or another DataFrame.\n",
        "\n",
        "## Create DataFrames\n",
        "The most common method of creating a DataFrame is passing a dictionary:"
      ]
    },
    {
      "cell_type": "code",
      "execution_count": null,
      "metadata": {
        "id": "vd5Wf1ohHW9-"
      },
      "outputs": [],
      "source": [
        "import pandas as pd\n",
        "\n",
        "dict = {'AAPL': [143.5, 144.09, 142.73, 144.18, 143.77],'GOOG':[898.7, 911.71, 906.69, 918.59, 926.99],\n",
        "        'IBM':[155.58, 153.67, 152.36, 152.94, 153.49]}\n",
        "data_index = pd.date_range('2017-07-03',periods = 5, freq = 'D')\n",
        "df = pd.DataFrame(dict, index = data_index)\n",
        "print(df)"
      ]
    },
    {
      "cell_type": "markdown",
      "metadata": {
        "id": "0uYmLQTgOPnX"
      },
      "source": [
        "## Manipulating DataFrames\n",
        "We can fetch values in a DataFrame by columns and index. Each column in a DataFrame is essentially a Pandas Series. We can fetch a column by square brackets: **df['column_name']**\n",
        "\n",
        "If a column name contains no spaces, then we can also use df.column_name to fetch a column:"
      ]
    },
    {
      "cell_type": "code",
      "execution_count": null,
      "metadata": {
        "id": "2pB2f7lBHW9_"
      },
      "outputs": [],
      "source": [
        "df = aapl_table\n",
        "print(df.Close.tail(5))\n",
        "print(df['Volume'].tail(5))"
      ]
    },
    {
      "cell_type": "markdown",
      "metadata": {
        "id": "z0ugOel9O4-P"
      },
      "source": [
        "All the methods we applied to a Series index such as iloc[], loc[] and resampling methods, can also be applied to a DataFrame:"
      ]
    },
    {
      "cell_type": "code",
      "execution_count": null,
      "metadata": {
        "id": "_8dfjkedHW9_"
      },
      "outputs": [],
      "source": [
        "aapl_2016 = df['2016']\n",
        "aapl_month = aapl_2016.resample('M').agg(lambda x: x[-1])\n",
        "print(aapl_month)"
      ]
    },
    {
      "cell_type": "markdown",
      "metadata": {
        "id": "CqrbrbFZPTJe"
      },
      "source": [
        "We may select certain columns of a DataFrame using their names:"
      ]
    },
    {
      "cell_type": "code",
      "execution_count": null,
      "metadata": {
        "id": "7bQGeyCAHW9_"
      },
      "outputs": [],
      "source": [
        "aapl_bar = aapl_month[['Open', 'High', 'Low', 'Close']]\n",
        "print(aapl_bar)"
      ]
    },
    {
      "cell_type": "markdown",
      "metadata": {
        "id": "8CQaZCAQP68O"
      },
      "source": [
        "We can even specify both rows and columns using loc[]. The row indices and column names are separated by a comma:"
      ]
    },
    {
      "cell_type": "code",
      "execution_count": null,
      "metadata": {
        "id": "YjWWiHVpHW-A"
      },
      "outputs": [],
      "source": [
        "print(aapl_month.loc['2016-03':'2016-06',['Open', 'High', 'Low', 'Close']])"
      ]
    },
    {
      "cell_type": "markdown",
      "metadata": {
        "id": "Xcn_pHNLQBEH"
      },
      "source": [
        "The subset methods in DataFrame is quite useful. By writing logical statements in square brackets, we can make customized subsets:"
      ]
    },
    {
      "cell_type": "code",
      "execution_count": null,
      "metadata": {
        "id": "RxKg4dObHW-A"
      },
      "outputs": [],
      "source": [
        "import numpy as np\n",
        "\n",
        "above = aapl_bar[aapl_bar.Close > np.mean(aapl_bar.Close)]\n",
        "print(above)"
      ]
    },
    {
      "cell_type": "markdown",
      "metadata": {
        "id": "wcm_UadkQLL5"
      },
      "source": [
        "## Data Validation\n",
        "As mentioned, all methods that apply to a Series can also be applied to a DataFrame. Here we add a new column to an existing DataFrame:"
      ]
    },
    {
      "cell_type": "code",
      "execution_count": null,
      "metadata": {
        "id": "jZXFdOVFHW-A"
      },
      "outputs": [],
      "source": [
        "aapl_bar['rate_return'] = aapl_bar.Close.pct_change()\n",
        "print(aapl_bar)"
      ]
    },
    {
      "cell_type": "markdown",
      "metadata": {
        "id": "_or6n5-LQUa-"
      },
      "source": [
        "Here the calculation introduced a NaN value. If the DataFrame is large, we would not be able to observe it. **isnull()** provides a convenient way to check abnormal values."
      ]
    },
    {
      "cell_type": "code",
      "execution_count": null,
      "metadata": {
        "id": "V5wgmhIPHW-B"
      },
      "outputs": [],
      "source": [
        "missing = aapl_bar.isnull()\n",
        "print(missing)\n",
        "print('---------------------------------------------')\n",
        "print(missing.describe())"
      ]
    },
    {
      "cell_type": "markdown",
      "metadata": {
        "id": "d6KFV4i0QfLW"
      },
      "source": [
        "The row labelled \"unique\" indicates the number of unique values in each column. Since the \"rate_return\" column has 2 unique values, it has at least one missing value.\n",
        "\n",
        "We can deduce the number of missing values by comparing \"count\" with \"freq\". There are 12 counts and 11 False values, so there is one True value which corresponds to the missing value.\n",
        "\n",
        "We can also find the rows with missing values easily:"
      ]
    },
    {
      "cell_type": "code",
      "execution_count": null,
      "metadata": {
        "id": "Eo0ZAhCsHW-B"
      },
      "outputs": [],
      "source": [
        "print(missing[missing.rate_return == True])"
      ]
    },
    {
      "cell_type": "markdown",
      "metadata": {
        "id": "qgggpD8OQkZX"
      },
      "source": [
        "Usually when dealing with missing data, we either delete the whole row or fill it with some value. As we introduced in the Series chapter, the same method **dropna()** and **fillna()** can be applied to a DataFrame."
      ]
    },
    {
      "cell_type": "code",
      "execution_count": null,
      "metadata": {
        "id": "j8PaIokjHW-B"
      },
      "outputs": [],
      "source": [
        "drop = aapl_bar.dropna()\n",
        "print(drop)\n",
        "print('\\n--------------------------------------------------\\n')\n",
        "fill = aapl_bar.fillna(0)\n",
        "print(fill)"
      ]
    },
    {
      "cell_type": "markdown",
      "metadata": {
        "id": "0tvoFlKWQxYG"
      },
      "source": [
        "## DataFrame Concat\n",
        "We have seen how to extract a Series from a dataFrame. Now we need to consider how to merge a Series or a DataFrame into another one.\n",
        "\n",
        "In Pandas, the function **concat()** allows us to merge multiple Series into a DataFrame:"
      ]
    },
    {
      "cell_type": "code",
      "execution_count": null,
      "metadata": {
        "id": "uQrmLIWKHW-C"
      },
      "outputs": [],
      "source": [
        "s1 = pd.Series([143.5, 144.09, 142.73, 144.18, 143.77], name = 'AAPL')\n",
        "s2 = pd.Series([898.7, 911.71, 906.69, 918.59, 926.99], name = 'GOOG')\n",
        "data_frame = pd.concat([s1,s2], axis = 1)\n",
        "print(data_frame)"
      ]
    },
    {
      "cell_type": "markdown",
      "metadata": {
        "id": "3ojbNYJLR2vv"
      },
      "source": [
        "The \"axis = 1\" parameter will join two DataFrames by columns:"
      ]
    },
    {
      "cell_type": "code",
      "execution_count": null,
      "metadata": {
        "id": "DJsaLd-cRoIm"
      },
      "outputs": [],
      "source": [
        "log_price = np.log(aapl_bar.Close)\n",
        "log_price.name = 'log_price'\n",
        "print(log_price)\n",
        "print('\\n---------------------- separate line--------------------\\n')\n",
        "concat = pd.concat([aapl_bar, log_price], axis = 1)\n",
        "print(concat)"
      ]
    },
    {
      "cell_type": "markdown",
      "metadata": {
        "id": "mIZz-FUyR_62"
      },
      "source": [
        "We can also join two DataFrames by rows. Consider these two DataFrames:"
      ]
    },
    {
      "cell_type": "code",
      "execution_count": null,
      "metadata": {
        "id": "W7uXZptLHW-C"
      },
      "outputs": [],
      "source": [
        "df_volume = aapl_table.loc['2016-10':'2017-04',['Volume', 'Stock Splits']].resample('M').agg(lambda x: x[-1])\n",
        "print(df_volume)\n",
        "print('\\n---------------------- separate line--------------------\\n')\n",
        "df_2017 = aapl_table.loc['2016-10':'2017-04',['Open', 'High', 'Low', 'Close']].resample('M').agg(lambda x: x[-1])\n",
        "print(df_2017)"
      ]
    },
    {
      "cell_type": "markdown",
      "metadata": {
        "id": "iZk_C9aSSLeP"
      },
      "source": [
        "Now we merge the DataFrames with our DataFrame 'aapl_bar'"
      ]
    },
    {
      "cell_type": "code",
      "execution_count": null,
      "metadata": {
        "id": "aFqmjokOHW-C"
      },
      "outputs": [],
      "source": [
        "concat = pd.concat([aapl_bar, df_volume], axis = 1)\n",
        "print(concat)"
      ]
    },
    {
      "cell_type": "markdown",
      "metadata": {
        "id": "7yI3tgB4SR4O"
      },
      "source": [
        "By default the DataFrame are joined with all of the data. This default options results in zero information loss. We can also merge them by intersection, this is called 'inner join"
      ]
    },
    {
      "cell_type": "code",
      "execution_count": null,
      "metadata": {
        "id": "31QGLyijHW-C"
      },
      "outputs": [],
      "source": [
        "concat = pd.concat([aapl_bar,df_volume],axis = 1, join = 'inner')\n",
        "print(concat)"
      ]
    },
    {
      "cell_type": "markdown",
      "metadata": {
        "id": "oudcWMm5Sd0u"
      },
      "source": [
        "Only the intersection part was left if use 'inner join' method. Now let's try to append a DataFrame to another one:"
      ]
    },
    {
      "cell_type": "code",
      "execution_count": null,
      "metadata": {
        "id": "lgw0qaOsHW-D"
      },
      "outputs": [],
      "source": [
        "append = aapl_bar.append(df_2017)\n",
        "print(append)"
      ]
    },
    {
      "cell_type": "markdown",
      "metadata": {
        "id": "zXT6cMquSq_P"
      },
      "source": [
        "'Append' is essentially to concat two DataFrames by axis = 0, thus here is an alternative way to append:"
      ]
    },
    {
      "cell_type": "code",
      "execution_count": null,
      "metadata": {
        "id": "2EuSaFO9HW-D"
      },
      "outputs": [],
      "source": [
        "concat = pd.concat([aapl_bar, df_2017], axis = 0)\n",
        "print(concat)"
      ]
    },
    {
      "cell_type": "markdown",
      "metadata": {
        "id": "-YXL7V9ASst9"
      },
      "source": [
        "Please note that if the two DataFrame have some columns with the same column names, these columns are considered to be the same and will be merged. It's very important to have the right column names. If we change a column names here:"
      ]
    },
    {
      "cell_type": "code",
      "execution_count": null,
      "metadata": {
        "id": "aT1eoa8mHW-D"
      },
      "outputs": [],
      "source": [
        "df_2017.columns = ['Change', 'High','Low','Close']\n",
        "concat = pd.concat([aapl_bar, df_2017], axis = 0)\n",
        "print(concat)"
      ]
    },
    {
      "cell_type": "markdown",
      "metadata": {
        "id": "shbpOFyyS6uV"
      },
      "source": [
        "Since the column name of 'Open' has been changed, the new DataFrame has an new column named 'Change'.\n",
        "\n",
        "# Summary\n",
        "\n",
        "Hereby we introduced the most import part of python: resampling and DataFrame manipulation. We only introduced the most commonly used method in Financial data analysis. There are also many methods used in data mining, which are also beneficial. You can always check the [Pandas](https://pandas.pydata.org/pandas-docs/stable/index.html) official documentations for help."
      ]
    },
    {
      "cell_type": "markdown",
      "metadata": {
        "id": "xxHKurMNIgZQ"
      },
      "source": [
        "<div align=\"center\">\n",
        "<img style=\"display: block; margin: auto;\" alt=\"photo\" src=\"https://upload.wikimedia.org/wikipedia/en/d/de/Quantopian_logo_2017.png\">\n",
        "</div>\n",
        "\n",
        "# Colab Yahoo Graphical Representations of Data\n",
        "By Evgenia \"Jenny\" Nitishinskaya, Maxwell Margenot, and Delaney Granizo-Mackenzie.\n",
        "\n",
        "Part of the Quantopian Lecture Series:\n",
        "\n",
        "* [www.quantopian.com/lectures](https://www.quantopian.com/lectures)\n",
        "* [github.com/quantopian/research_public](https://github.com/quantopian/research_public)\n",
        "\n",
        "\n",
        "\n",
        "Representing data graphically can be incredibly useful for learning how the data behaves and seeing potential structure or flaws. Care should be taken, as humans are incredibly good at seeing only evidence that confirms our beliefs, and visual data lends itself well to that. Plots are good to use when formulating a hypothesis, but should not be used to test a hypothesis.\n",
        "\n",
        "We will go over some common plots here."
      ]
    },
    {
      "cell_type": "code",
      "execution_count": null,
      "metadata": {
        "collapsed": true,
        "id": "FnnO3C1AIgZT"
      },
      "outputs": [],
      "source": [
        "# Import our libraries\n",
        "\n",
        "# This is for numerical processing\n",
        "import numpy as np\n",
        "# This is the library most commonly used for plotting in Python.\n",
        "# Notice how we import it 'as' plt, this enables us to type plt\n",
        "# rather than the full string every time.\n",
        "import matplotlib.pyplot as plt"
      ]
    },
    {
      "cell_type": "code",
      "execution_count": null,
      "metadata": {
        "id": "5E6FkiPlR85Y"
      },
      "outputs": [],
      "source": [
        "!pip install yfinance"
      ]
    },
    {
      "cell_type": "markdown",
      "metadata": {
        "id": "QYLdaw9yIgZU"
      },
      "source": [
        "## Getting Some Data\n",
        "\n",
        "If we're going to plot data we need some data to plot. We'll get the pricing data of Apple (AAPL) and Microsoft (MSFT) to use in our examples.\n",
        "\n",
        "### Data Structure\n",
        "\n",
        "Knowing the structure of your data is very important. Normally you'll have to do a ton of work molding your data into the form you need for testing. Quantopian has done a lot of cleaning on the data, but you still need to put it into the right shapes and formats for your purposes.\n",
        "\n",
        "In this case the data will be returned as a pandas dataframe object. The rows are timestamps, and the columns are the two assets, AAPL and MSFT."
      ]
    },
    {
      "cell_type": "code",
      "execution_count": null,
      "metadata": {
        "id": "wsYGUYPISDgn"
      },
      "outputs": [],
      "source": [
        "import yfinance as yf\n",
        "\n",
        "data_all = yf.download(\"AAPL,MSFT\", start=\"2014-01-01\", end=\"2015-01-01\")\n",
        "data_all.head()"
      ]
    },
    {
      "cell_type": "code",
      "execution_count": null,
      "metadata": {
        "id": "8ScM9Jw8UHyB"
      },
      "outputs": [],
      "source": [
        "data = data_all[\"Close\"]\n",
        "data.head()"
      ]
    },
    {
      "cell_type": "code",
      "execution_count": null,
      "metadata": {
        "id": "RGMQcgQYIgZX"
      },
      "outputs": [],
      "source": [
        "data['MSFT'].head()"
      ]
    },
    {
      "cell_type": "markdown",
      "metadata": {
        "id": "vE2yW8_TIgZY"
      },
      "source": [
        "##Histogram\n",
        "\n",
        "A histogram is a visualization of how frequent different values of data are. By displaying a frequency distribution using bars, it lets us quickly see where most of the observations are clustered. The height of each bar represents the number of observations that lie in each interval. You can think of a histogram as an empirical and discrete Probability Density Function (PDF)."
      ]
    },
    {
      "cell_type": "code",
      "execution_count": null,
      "metadata": {
        "id": "Lk-o25YcIgZZ"
      },
      "outputs": [],
      "source": [
        "# Plot a histogram using 20 bins\n",
        "plt.hist(data['MSFT'], bins=20)\n",
        "plt.xlabel('Price')\n",
        "plt.ylabel('Number of Days Observed')\n",
        "plt.title('Frequency Distribution of MSFT Prices, 2014');"
      ]
    },
    {
      "cell_type": "markdown",
      "metadata": {
        "id": "tnd-CcEjIgZZ"
      },
      "source": [
        "### Returns Histogram\n",
        "\n",
        "In finance rarely will we look at the distribution of prices. The reason for this is that prices are non-stationary and move around a lot. For more info on non-stationarity please see [this lecture](https://www.quantopian.com/lectures/integration-cointegration-and-stationarity). Instead we will use daily returns. Let's try that now."
      ]
    },
    {
      "cell_type": "code",
      "execution_count": null,
      "metadata": {
        "id": "Yheega7DIgZa"
      },
      "outputs": [],
      "source": [
        "# Remove the first element because percent change from nothing to something is NaN\n",
        "R = data['MSFT'].pct_change()[1:]\n",
        "\n",
        "# Plot a histogram using 20 bins\n",
        "plt.hist(R, bins=20)\n",
        "plt.xlabel('Return')\n",
        "plt.ylabel('Number of Days Observed')\n",
        "plt.title('Frequency Distribution of MSFT Returns, 2014');"
      ]
    },
    {
      "cell_type": "markdown",
      "metadata": {
        "id": "SJI-zOd4IgZa"
      },
      "source": [
        "The graph above shows, for example, that the daily returns of MSFT were above 0.03 on fewer than 5 days in 2014. Note that we are completely discarding the dates corresponding to these returns. \n",
        "\n",
        "#####IMPORTANT: Note also that this does not imply that future returns will have the same distribution."
      ]
    },
    {
      "cell_type": "markdown",
      "metadata": {
        "id": "Uc-QNoXsIgZa"
      },
      "source": [
        "### Cumulative Histogram (Discrete Estimated CDF)\n",
        "\n",
        "An alternative way to display the data would be using a cumulative distribution function, in which the height of a bar represents the number of observations that lie in that bin or in one of the previous ones. This graph is always nondecreasing since you cannot have a negative number of observations. The choice of graph depends on the information you are interested in."
      ]
    },
    {
      "cell_type": "code",
      "execution_count": null,
      "metadata": {
        "id": "ieFhExxEIgZb"
      },
      "outputs": [],
      "source": [
        "# Remove the first element because percent change from nothing to something is NaN\n",
        "R = data['MSFT'].pct_change()[1:]\n",
        "\n",
        "# Plot a histogram using 20 bins\n",
        "plt.hist(R, bins=20, cumulative=True)\n",
        "plt.xlabel('Return')\n",
        "plt.ylabel('Number of Days Observed')\n",
        "plt.title('Cumulative Distribution of MSFT Returns, 2014');"
      ]
    },
    {
      "cell_type": "markdown",
      "metadata": {
        "id": "56lbfHCIIgZb"
      },
      "source": [
        "## Scatter plot\n",
        "\n",
        "A scatter plot is useful for visualizing the relationship between two data sets. We use two data sets which have some sort of correspondence, such as the date on which the measurement was taken. Each point represents two corresponding values from the two data sets. However, we don't plot the date that the measurements were taken on."
      ]
    },
    {
      "cell_type": "code",
      "execution_count": null,
      "metadata": {
        "id": "816OwSfrIgZb"
      },
      "outputs": [],
      "source": [
        "plt.scatter(data['MSFT'], data['AAPL'])\n",
        "plt.xlabel('MSFT')\n",
        "plt.ylabel('AAPL')\n",
        "plt.title('Daily Prices in 2014');"
      ]
    },
    {
      "cell_type": "code",
      "execution_count": null,
      "metadata": {
        "id": "BHGrTnV_IgZb"
      },
      "outputs": [],
      "source": [
        "R_msft = data['MSFT'].pct_change()[1:]\n",
        "R_aapl = data['AAPL'].pct_change()[1:]\n",
        "\n",
        "plt.scatter(R_msft, R_aapl)\n",
        "plt.xlabel('MSFT')\n",
        "plt.ylabel('AAPL')\n",
        "plt.title('Daily Returns in 2014');"
      ]
    },
    {
      "cell_type": "markdown",
      "metadata": {
        "id": "QEhgJmF6IgZc"
      },
      "source": [
        "# Line graph\n",
        "\n",
        "A line graph can be used when we want to track the development of the y value as the x value changes. For instance, when we are plotting the price of a stock, showing it as a line graph instead of just plotting the data points makes it easier to follow the price over time. This necessarily involves \"connecting the dots\" between the data points, which can mask out changes that happened between the time we took measurements."
      ]
    },
    {
      "cell_type": "code",
      "execution_count": null,
      "metadata": {
        "id": "JFvFQCj3IgZc"
      },
      "outputs": [],
      "source": [
        "plt.plot(data['MSFT'])\n",
        "plt.plot(data['AAPL'])\n",
        "plt.ylabel('Price')\n",
        "plt.legend(['MSFT', 'AAPL']);"
      ]
    },
    {
      "cell_type": "code",
      "execution_count": null,
      "metadata": {
        "id": "7MosceMUIgZd"
      },
      "outputs": [],
      "source": [
        "# Remove the first element because percent change from nothing to something is NaN\n",
        "R = data['MSFT'].pct_change()[1:]\n",
        "\n",
        "plt.plot(R)\n",
        "plt.ylabel('Return')\n",
        "plt.title('MSFT Returns');"
      ]
    },
    {
      "cell_type": "markdown",
      "metadata": {
        "id": "rQEepLuUIgZd"
      },
      "source": [
        "## Never Assume Conditions Hold\n",
        "\n",
        "Again, whenever using plots to visualize data, do not assume you can test a hypothesis by looking at a graph. Also do not assume that because a distribution or trend used to be true, it is still true. In general much more sophisticated and careful validation is required to test whether models hold. Plots are mainly useful when initially deciding how your models should work."
      ]
    },
    {
      "cell_type": "markdown",
      "metadata": {
        "id": "qohIWRK_IgZd"
      },
      "source": [
        "*This presentation is for informational purposes only and does not constitute an offer to sell, a solicitation to buy, or a recommendation for any security; nor does it constitute an offer to provide investment advisory or other services by Quantopian, Inc. (\"Quantopian\"). Nothing contained herein constitutes investment advice or offers any opinion with respect to the suitability of any security, and any views expressed herein should not be taken as advice to buy, sell, or hold any security or as an endorsement of any security or company.  In preparing the information contained herein, Quantopian, Inc. has not taken into account the investment needs, objectives, and financial circumstances of any particular investor. Any views expressed and data illustrated herein were prepared based upon information, believed to be reliable, available to Quantopian, Inc. at the time of publication. Quantopian makes no guarantees as to their accuracy or completeness. All information is subject to change and may quickly become unreliable for various reasons, including changes in market conditions or economic circumstances.*"
      ]
    }
  ],
  "metadata": {
    "colab": {
      "collapsed_sections": [],
      "name": "LAB1_juan sebastian trujillo mateus_1012458977.ipynb",
      "provenance": []
    },
    "kernelspec": {
      "display_name": "Python 2",
      "language": "python",
      "name": "python2"
    },
    "language_info": {
      "codemirror_mode": {
        "name": "ipython",
        "version": 2
      },
      "file_extension": ".py",
      "mimetype": "text/x-python",
      "name": "python",
      "nbconvert_exporter": "python",
      "pygments_lexer": "ipython2",
      "version": "2.7.12"
    }
  },
  "nbformat": 4,
  "nbformat_minor": 0
}